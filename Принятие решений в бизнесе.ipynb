{
 "cells": [
  {
   "cell_type": "markdown",
   "metadata": {},
   "source": [
    "## Проверка гипотез по увеличению выручки интернет-магазина, А/В-тест"
   ]
  },
  {
   "cell_type": "markdown",
   "metadata": {},
   "source": [
    "### Описание проекта"
   ]
  },
  {
   "cell_type": "markdown",
   "metadata": {},
   "source": [
    "**Заказчик**: крупный интернет-магазин     \n",
    "**Цель**: проверка гипотез для увеличения выручки (приоритизация гипотез, запуск A/B-теста и анализ результатов)\n"
   ]
  },
  {
   "cell_type": "markdown",
   "metadata": {},
   "source": [
    "Описание данных:  \n",
    "\n",
    "ЧАСТЬ 1   \n",
    "\n",
    "**Hypothesis** — краткое описание гипотезы;   \n",
    "**Reach** — охват пользователей по 10-балльной шкале;    \n",
    "**Impact** — влияние на пользователей по 10-балльной шкале;    \n",
    "**Confidence** — уверенность в гипотезе по 10-балльной шкале;    \n",
    "**Efforts** — затраты ресурсов на проверку гипотезы по 10-балльной шкале. Чем больше значение Efforts, тем дороже проверка гипотезы.\n",
    "\n",
    "\n",
    "ЧАСТЬ 2     \n",
    "\n",
    "**transactionId** — идентификатор заказа;    \n",
    "**visitorId** — идентификатор пользователя, совершившего заказ;    \n",
    "**date** — дата, когда был совершён заказ;    \n",
    "**revenue** — выручка заказа;    \n",
    "**group** — группа A/B-теста, в которую попал заказ.    \n",
    "**date** — дата;    \n",
    "**group** — группа A/B-теста;   \n",
    "**visitors** — количество пользователей в указанную дату в указанной группе A/B-теста  \n"
   ]
  },
  {
   "cell_type": "markdown",
   "metadata": {},
   "source": [
    "Импорт библиотек"
   ]
  },
  {
   "cell_type": "code",
   "execution_count": 1,
   "metadata": {},
   "outputs": [],
   "source": [
    "import pandas as pd\n",
    "import datetime as dt\n",
    "import numpy as np\n",
    "import matplotlib.pyplot as plt\n",
    "from pandas.plotting import register_matplotlib_converters\n",
    "import warnings\n",
    "# конвертеры, которые позволяют использовать типы pandas в matplotlib  \n",
    "register_matplotlib_converters()\n",
    "\n",
    "import scipy.stats as stats"
   ]
  },
  {
   "cell_type": "markdown",
   "metadata": {},
   "source": [
    "<div style=\"border-radius: 15px; box-shadow: 2px 2px 4px; border: 1px solid; background:Gainsboro; padding: 20px\">\n",
    "    \n",
    " **ЧАСТЬ 1**\n",
    "</div>    "
   ]
  },
  {
   "cell_type": "markdown",
   "metadata": {},
   "source": [
    "Выгрузка данных для анализа"
   ]
  },
  {
   "cell_type": "code",
   "execution_count": 2,
   "metadata": {},
   "outputs": [
    {
     "data": {
      "text/html": [
       "<div>\n",
       "<style scoped>\n",
       "    .dataframe tbody tr th:only-of-type {\n",
       "        vertical-align: middle;\n",
       "    }\n",
       "\n",
       "    .dataframe tbody tr th {\n",
       "        vertical-align: top;\n",
       "    }\n",
       "\n",
       "    .dataframe thead th {\n",
       "        text-align: right;\n",
       "    }\n",
       "</style>\n",
       "<table border=\"1\" class=\"dataframe\">\n",
       "  <thead>\n",
       "    <tr style=\"text-align: right;\">\n",
       "      <th></th>\n",
       "      <th>Hypothesis</th>\n",
       "      <th>Reach</th>\n",
       "      <th>Impact</th>\n",
       "      <th>Confidence</th>\n",
       "      <th>Efforts</th>\n",
       "    </tr>\n",
       "  </thead>\n",
       "  <tbody>\n",
       "    <tr>\n",
       "      <th>0</th>\n",
       "      <td>Добавить два новых канала привлечения трафика, что позволит привлекать на 30% больше пользователей</td>\n",
       "      <td>3</td>\n",
       "      <td>10</td>\n",
       "      <td>8</td>\n",
       "      <td>6</td>\n",
       "    </tr>\n",
       "    <tr>\n",
       "      <th>1</th>\n",
       "      <td>Запустить собственную службу доставки, что сократит срок доставки заказов</td>\n",
       "      <td>2</td>\n",
       "      <td>5</td>\n",
       "      <td>4</td>\n",
       "      <td>10</td>\n",
       "    </tr>\n",
       "    <tr>\n",
       "      <th>2</th>\n",
       "      <td>Добавить блоки рекомендаций товаров на сайт интернет магазина, чтобы повысить конверсию и средний чек заказа</td>\n",
       "      <td>8</td>\n",
       "      <td>3</td>\n",
       "      <td>7</td>\n",
       "      <td>3</td>\n",
       "    </tr>\n",
       "    <tr>\n",
       "      <th>3</th>\n",
       "      <td>Изменить структура категорий, что увеличит конверсию, т.к. пользователи быстрее найдут нужный товар</td>\n",
       "      <td>8</td>\n",
       "      <td>3</td>\n",
       "      <td>3</td>\n",
       "      <td>8</td>\n",
       "    </tr>\n",
       "    <tr>\n",
       "      <th>4</th>\n",
       "      <td>Изменить цвет фона главной страницы, чтобы увеличить вовлеченность пользователей</td>\n",
       "      <td>3</td>\n",
       "      <td>1</td>\n",
       "      <td>1</td>\n",
       "      <td>1</td>\n",
       "    </tr>\n",
       "    <tr>\n",
       "      <th>5</th>\n",
       "      <td>Добавить страницу отзывов клиентов о магазине, что позволит увеличить количество заказов</td>\n",
       "      <td>3</td>\n",
       "      <td>2</td>\n",
       "      <td>2</td>\n",
       "      <td>3</td>\n",
       "    </tr>\n",
       "    <tr>\n",
       "      <th>6</th>\n",
       "      <td>Показать на главной странице баннеры с актуальными акциями и распродажами, чтобы увеличить конверсию</td>\n",
       "      <td>5</td>\n",
       "      <td>3</td>\n",
       "      <td>8</td>\n",
       "      <td>3</td>\n",
       "    </tr>\n",
       "    <tr>\n",
       "      <th>7</th>\n",
       "      <td>Добавить форму подписки на все основные страницы, чтобы собрать базу клиентов для email-рассылок</td>\n",
       "      <td>10</td>\n",
       "      <td>7</td>\n",
       "      <td>8</td>\n",
       "      <td>5</td>\n",
       "    </tr>\n",
       "    <tr>\n",
       "      <th>8</th>\n",
       "      <td>Запустить акцию, дающую скидку на товар в день рождения</td>\n",
       "      <td>1</td>\n",
       "      <td>9</td>\n",
       "      <td>9</td>\n",
       "      <td>5</td>\n",
       "    </tr>\n",
       "  </tbody>\n",
       "</table>\n",
       "</div>"
      ],
      "text/plain": [
       "                                                                                                     Hypothesis  \\\n",
       "0  Добавить два новых канала привлечения трафика, что позволит привлекать на 30% больше пользователей             \n",
       "1  Запустить собственную службу доставки, что сократит срок доставки заказов                                      \n",
       "2  Добавить блоки рекомендаций товаров на сайт интернет магазина, чтобы повысить конверсию и средний чек заказа   \n",
       "3  Изменить структура категорий, что увеличит конверсию, т.к. пользователи быстрее найдут нужный товар            \n",
       "4  Изменить цвет фона главной страницы, чтобы увеличить вовлеченность пользователей                               \n",
       "5  Добавить страницу отзывов клиентов о магазине, что позволит увеличить количество заказов                       \n",
       "6  Показать на главной странице баннеры с актуальными акциями и распродажами, чтобы увеличить конверсию           \n",
       "7  Добавить форму подписки на все основные страницы, чтобы собрать базу клиентов для email-рассылок               \n",
       "8  Запустить акцию, дающую скидку на товар в день рождения                                                        \n",
       "\n",
       "   Reach  Impact  Confidence  Efforts  \n",
       "0  3      10      8           6        \n",
       "1  2      5       4           10       \n",
       "2  8      3       7           3        \n",
       "3  8      3       3           8        \n",
       "4  3      1       1           1        \n",
       "5  3      2       2           3        \n",
       "6  5      3       8           3        \n",
       "7  10     7       8           5        \n",
       "8  1      9       9           5        "
      ]
     },
     "metadata": {},
     "output_type": "display_data"
    }
   ],
   "source": [
    "data = pd.read_csv('/datasets/hypothesis.csv')\n",
    "pd.options.display.max_colwidth = 1\n",
    "display(data)"
   ]
  },
  {
   "cell_type": "markdown",
   "metadata": {},
   "source": [
    "Приведение названий столбцов к нижнему регистру:"
   ]
  },
  {
   "cell_type": "code",
   "execution_count": 3,
   "metadata": {},
   "outputs": [
    {
     "name": "stdout",
     "output_type": "stream",
     "text": [
      "<class 'pandas.core.frame.DataFrame'>\n",
      "RangeIndex: 9 entries, 0 to 8\n",
      "Data columns (total 5 columns):\n",
      " #   Column      Non-Null Count  Dtype \n",
      "---  ------      --------------  ----- \n",
      " 0   hypothesis  9 non-null      object\n",
      " 1   reach       9 non-null      int64 \n",
      " 2   impact      9 non-null      int64 \n",
      " 3   confidence  9 non-null      int64 \n",
      " 4   efforts     9 non-null      int64 \n",
      "dtypes: int64(4), object(1)\n",
      "memory usage: 488.0+ bytes\n"
     ]
    },
    {
     "data": {
      "text/plain": [
       "None"
      ]
     },
     "metadata": {},
     "output_type": "display_data"
    }
   ],
   "source": [
    "data.columns = map(str.lower, data.columns)\n",
    "display(data.info()) #проверка корректности приведения"
   ]
  },
  {
   "cell_type": "markdown",
   "metadata": {},
   "source": [
    "**Применение фреймворка ICE для приоритизации гипотез, сортировка по убыванию приоритета**"
   ]
  },
  {
   "cell_type": "markdown",
   "metadata": {},
   "source": [
    "**ICE** - один из самых популярных способов приоритизации задач \n",
    "    \n",
    "ICE SCORE = impact * confidence / efforts"
   ]
  },
  {
   "cell_type": "code",
   "execution_count": 4,
   "metadata": {},
   "outputs": [],
   "source": [
    "data['ICE'] = data['impact']*data['confidence']/data['efforts']"
   ]
  },
  {
   "cell_type": "code",
   "execution_count": 5,
   "metadata": {},
   "outputs": [
    {
     "data": {
      "text/html": [
       "<div>\n",
       "<style scoped>\n",
       "    .dataframe tbody tr th:only-of-type {\n",
       "        vertical-align: middle;\n",
       "    }\n",
       "\n",
       "    .dataframe tbody tr th {\n",
       "        vertical-align: top;\n",
       "    }\n",
       "\n",
       "    .dataframe thead th {\n",
       "        text-align: right;\n",
       "    }\n",
       "</style>\n",
       "<table border=\"1\" class=\"dataframe\">\n",
       "  <thead>\n",
       "    <tr style=\"text-align: right;\">\n",
       "      <th></th>\n",
       "      <th>hypothesis</th>\n",
       "      <th>ICE</th>\n",
       "    </tr>\n",
       "  </thead>\n",
       "  <tbody>\n",
       "    <tr>\n",
       "      <th>8</th>\n",
       "      <td>Запустить акцию, дающую скидку на товар в день рождения</td>\n",
       "      <td>16.200000</td>\n",
       "    </tr>\n",
       "    <tr>\n",
       "      <th>0</th>\n",
       "      <td>Добавить два новых канала привлечения трафика, что позволит привлекать на 30% больше пользователей</td>\n",
       "      <td>13.333333</td>\n",
       "    </tr>\n",
       "    <tr>\n",
       "      <th>7</th>\n",
       "      <td>Добавить форму подписки на все основные страницы, чтобы собрать базу клиентов для email-рассылок</td>\n",
       "      <td>11.200000</td>\n",
       "    </tr>\n",
       "    <tr>\n",
       "      <th>6</th>\n",
       "      <td>Показать на главной странице баннеры с актуальными акциями и распродажами, чтобы увеличить конверсию</td>\n",
       "      <td>8.000000</td>\n",
       "    </tr>\n",
       "    <tr>\n",
       "      <th>2</th>\n",
       "      <td>Добавить блоки рекомендаций товаров на сайт интернет магазина, чтобы повысить конверсию и средний чек заказа</td>\n",
       "      <td>7.000000</td>\n",
       "    </tr>\n",
       "    <tr>\n",
       "      <th>1</th>\n",
       "      <td>Запустить собственную службу доставки, что сократит срок доставки заказов</td>\n",
       "      <td>2.000000</td>\n",
       "    </tr>\n",
       "    <tr>\n",
       "      <th>5</th>\n",
       "      <td>Добавить страницу отзывов клиентов о магазине, что позволит увеличить количество заказов</td>\n",
       "      <td>1.333333</td>\n",
       "    </tr>\n",
       "    <tr>\n",
       "      <th>3</th>\n",
       "      <td>Изменить структура категорий, что увеличит конверсию, т.к. пользователи быстрее найдут нужный товар</td>\n",
       "      <td>1.125000</td>\n",
       "    </tr>\n",
       "    <tr>\n",
       "      <th>4</th>\n",
       "      <td>Изменить цвет фона главной страницы, чтобы увеличить вовлеченность пользователей</td>\n",
       "      <td>1.000000</td>\n",
       "    </tr>\n",
       "  </tbody>\n",
       "</table>\n",
       "</div>"
      ],
      "text/plain": [
       "                                                                                                     hypothesis  \\\n",
       "8  Запустить акцию, дающую скидку на товар в день рождения                                                        \n",
       "0  Добавить два новых канала привлечения трафика, что позволит привлекать на 30% больше пользователей             \n",
       "7  Добавить форму подписки на все основные страницы, чтобы собрать базу клиентов для email-рассылок               \n",
       "6  Показать на главной странице баннеры с актуальными акциями и распродажами, чтобы увеличить конверсию           \n",
       "2  Добавить блоки рекомендаций товаров на сайт интернет магазина, чтобы повысить конверсию и средний чек заказа   \n",
       "1  Запустить собственную службу доставки, что сократит срок доставки заказов                                      \n",
       "5  Добавить страницу отзывов клиентов о магазине, что позволит увеличить количество заказов                       \n",
       "3  Изменить структура категорий, что увеличит конверсию, т.к. пользователи быстрее найдут нужный товар            \n",
       "4  Изменить цвет фона главной страницы, чтобы увеличить вовлеченность пользователей                               \n",
       "\n",
       "         ICE  \n",
       "8  16.200000  \n",
       "0  13.333333  \n",
       "7  11.200000  \n",
       "6  8.000000   \n",
       "2  7.000000   \n",
       "1  2.000000   \n",
       "5  1.333333   \n",
       "3  1.125000   \n",
       "4  1.000000   "
      ]
     },
     "metadata": {},
     "output_type": "display_data"
    }
   ],
   "source": [
    "data_temp = data.drop(['reach', 'impact', 'confidence', 'efforts'], axis=1)\n",
    "display(data_temp.sort_values(by='ICE', ascending=False))"
   ]
  },
  {
   "cell_type": "markdown",
   "metadata": {},
   "source": [
    "Наиболее перспективными по параметру ICE являются гипотезы под номерами 8, 0, 7 и 6    \n",
    "Наименее перспективные - под номерами 4, 3 и 5"
   ]
  },
  {
   "cell_type": "markdown",
   "metadata": {},
   "source": [
    "**Применение фреймворка RICE для приоритизации гипотез, сортировка по убыванию приоритета**"
   ]
  },
  {
   "cell_type": "markdown",
   "metadata": {},
   "source": [
    "**RICE** = reach * impact * confidence / efforts"
   ]
  },
  {
   "cell_type": "code",
   "execution_count": 6,
   "metadata": {},
   "outputs": [],
   "source": [
    "data['RICE'] = (data['reach']*data['impact']*data['confidence'])/data['efforts']"
   ]
  },
  {
   "cell_type": "code",
   "execution_count": 7,
   "metadata": {},
   "outputs": [
    {
     "data": {
      "text/html": [
       "<div>\n",
       "<style scoped>\n",
       "    .dataframe tbody tr th:only-of-type {\n",
       "        vertical-align: middle;\n",
       "    }\n",
       "\n",
       "    .dataframe tbody tr th {\n",
       "        vertical-align: top;\n",
       "    }\n",
       "\n",
       "    .dataframe thead th {\n",
       "        text-align: right;\n",
       "    }\n",
       "</style>\n",
       "<table border=\"1\" class=\"dataframe\">\n",
       "  <thead>\n",
       "    <tr style=\"text-align: right;\">\n",
       "      <th></th>\n",
       "      <th>hypothesis</th>\n",
       "      <th>ICE</th>\n",
       "      <th>RICE</th>\n",
       "    </tr>\n",
       "  </thead>\n",
       "  <tbody>\n",
       "    <tr>\n",
       "      <th>7</th>\n",
       "      <td>Добавить форму подписки на все основные страницы, чтобы собрать базу клиентов для email-рассылок</td>\n",
       "      <td>11.200000</td>\n",
       "      <td>112.0</td>\n",
       "    </tr>\n",
       "    <tr>\n",
       "      <th>2</th>\n",
       "      <td>Добавить блоки рекомендаций товаров на сайт интернет магазина, чтобы повысить конверсию и средний чек заказа</td>\n",
       "      <td>7.000000</td>\n",
       "      <td>56.0</td>\n",
       "    </tr>\n",
       "    <tr>\n",
       "      <th>0</th>\n",
       "      <td>Добавить два новых канала привлечения трафика, что позволит привлекать на 30% больше пользователей</td>\n",
       "      <td>13.333333</td>\n",
       "      <td>40.0</td>\n",
       "    </tr>\n",
       "    <tr>\n",
       "      <th>6</th>\n",
       "      <td>Показать на главной странице баннеры с актуальными акциями и распродажами, чтобы увеличить конверсию</td>\n",
       "      <td>8.000000</td>\n",
       "      <td>40.0</td>\n",
       "    </tr>\n",
       "    <tr>\n",
       "      <th>8</th>\n",
       "      <td>Запустить акцию, дающую скидку на товар в день рождения</td>\n",
       "      <td>16.200000</td>\n",
       "      <td>16.2</td>\n",
       "    </tr>\n",
       "    <tr>\n",
       "      <th>3</th>\n",
       "      <td>Изменить структура категорий, что увеличит конверсию, т.к. пользователи быстрее найдут нужный товар</td>\n",
       "      <td>1.125000</td>\n",
       "      <td>9.0</td>\n",
       "    </tr>\n",
       "    <tr>\n",
       "      <th>1</th>\n",
       "      <td>Запустить собственную службу доставки, что сократит срок доставки заказов</td>\n",
       "      <td>2.000000</td>\n",
       "      <td>4.0</td>\n",
       "    </tr>\n",
       "    <tr>\n",
       "      <th>5</th>\n",
       "      <td>Добавить страницу отзывов клиентов о магазине, что позволит увеличить количество заказов</td>\n",
       "      <td>1.333333</td>\n",
       "      <td>4.0</td>\n",
       "    </tr>\n",
       "    <tr>\n",
       "      <th>4</th>\n",
       "      <td>Изменить цвет фона главной страницы, чтобы увеличить вовлеченность пользователей</td>\n",
       "      <td>1.000000</td>\n",
       "      <td>3.0</td>\n",
       "    </tr>\n",
       "  </tbody>\n",
       "</table>\n",
       "</div>"
      ],
      "text/plain": [
       "                                                                                                     hypothesis  \\\n",
       "7  Добавить форму подписки на все основные страницы, чтобы собрать базу клиентов для email-рассылок               \n",
       "2  Добавить блоки рекомендаций товаров на сайт интернет магазина, чтобы повысить конверсию и средний чек заказа   \n",
       "0  Добавить два новых канала привлечения трафика, что позволит привлекать на 30% больше пользователей             \n",
       "6  Показать на главной странице баннеры с актуальными акциями и распродажами, чтобы увеличить конверсию           \n",
       "8  Запустить акцию, дающую скидку на товар в день рождения                                                        \n",
       "3  Изменить структура категорий, что увеличит конверсию, т.к. пользователи быстрее найдут нужный товар            \n",
       "1  Запустить собственную службу доставки, что сократит срок доставки заказов                                      \n",
       "5  Добавить страницу отзывов клиентов о магазине, что позволит увеличить количество заказов                       \n",
       "4  Изменить цвет фона главной страницы, чтобы увеличить вовлеченность пользователей                               \n",
       "\n",
       "         ICE   RICE  \n",
       "7  11.200000  112.0  \n",
       "2  7.000000   56.0   \n",
       "0  13.333333  40.0   \n",
       "6  8.000000   40.0   \n",
       "8  16.200000  16.2   \n",
       "3  1.125000   9.0    \n",
       "1  2.000000   4.0    \n",
       "5  1.333333   4.0    \n",
       "4  1.000000   3.0    "
      ]
     },
     "metadata": {},
     "output_type": "display_data"
    }
   ],
   "source": [
    "data_temp = data.drop(['reach', 'impact', 'confidence', 'efforts'], axis=1)\n",
    "display(data_temp.sort_values(by='RICE', ascending=False))"
   ]
  },
  {
   "cell_type": "markdown",
   "metadata": {},
   "source": [
    "Наиболее перспективными по параметру RICE являются гипотезы под номерами 7, 2, 0 и 6    \n",
    "Наименее перспективные - под номерами 4, 5 и 1"
   ]
  },
  {
   "cell_type": "markdown",
   "metadata": {},
   "source": [
    "Приоритизация гипотез при применении RICE вместо ICE немного изменилась.    \n",
    "В данном контексте важно точно оценивать параметры изучаемого метода и обращать внимание на место гипотез среди остальных, а не на абсолютную оценку.    \n",
    "    \n",
    "Так, наиболее приоритетными можно считать гипотезы под номерами **7**, **0** и **6**, а наименее - **4** и **5**"
   ]
  },
  {
   "cell_type": "markdown",
   "metadata": {},
   "source": [
    "<div style=\"border-radius: 15px; box-shadow: 2px 2px 4px; border: 1px solid; background:Gainsboro; padding: 20px\">\n",
    "\n",
    "**ЧАСТЬ 2**\n",
    "</div>    "
   ]
  },
  {
   "cell_type": "markdown",
   "metadata": {},
   "source": [
    "Выгрузка данных для анализа"
   ]
  },
  {
   "cell_type": "code",
   "execution_count": 8,
   "metadata": {},
   "outputs": [
    {
     "data": {
      "text/html": [
       "<div>\n",
       "<style scoped>\n",
       "    .dataframe tbody tr th:only-of-type {\n",
       "        vertical-align: middle;\n",
       "    }\n",
       "\n",
       "    .dataframe tbody tr th {\n",
       "        vertical-align: top;\n",
       "    }\n",
       "\n",
       "    .dataframe thead th {\n",
       "        text-align: right;\n",
       "    }\n",
       "</style>\n",
       "<table border=\"1\" class=\"dataframe\">\n",
       "  <thead>\n",
       "    <tr style=\"text-align: right;\">\n",
       "      <th></th>\n",
       "      <th>transactionId</th>\n",
       "      <th>visitorId</th>\n",
       "      <th>date</th>\n",
       "      <th>revenue</th>\n",
       "      <th>group</th>\n",
       "    </tr>\n",
       "  </thead>\n",
       "  <tbody>\n",
       "    <tr>\n",
       "      <th>0</th>\n",
       "      <td>3667963787</td>\n",
       "      <td>3312258926</td>\n",
       "      <td>2019-08-15</td>\n",
       "      <td>1650</td>\n",
       "      <td>B</td>\n",
       "    </tr>\n",
       "    <tr>\n",
       "      <th>1</th>\n",
       "      <td>2804400009</td>\n",
       "      <td>3642806036</td>\n",
       "      <td>2019-08-15</td>\n",
       "      <td>730</td>\n",
       "      <td>B</td>\n",
       "    </tr>\n",
       "    <tr>\n",
       "      <th>2</th>\n",
       "      <td>2961555356</td>\n",
       "      <td>4069496402</td>\n",
       "      <td>2019-08-15</td>\n",
       "      <td>400</td>\n",
       "      <td>A</td>\n",
       "    </tr>\n",
       "    <tr>\n",
       "      <th>3</th>\n",
       "      <td>3797467345</td>\n",
       "      <td>1196621759</td>\n",
       "      <td>2019-08-15</td>\n",
       "      <td>9759</td>\n",
       "      <td>B</td>\n",
       "    </tr>\n",
       "    <tr>\n",
       "      <th>4</th>\n",
       "      <td>2282983706</td>\n",
       "      <td>2322279887</td>\n",
       "      <td>2019-08-15</td>\n",
       "      <td>2308</td>\n",
       "      <td>B</td>\n",
       "    </tr>\n",
       "    <tr>\n",
       "      <th>...</th>\n",
       "      <td>...</td>\n",
       "      <td>...</td>\n",
       "      <td>...</td>\n",
       "      <td>...</td>\n",
       "      <td>...</td>\n",
       "    </tr>\n",
       "    <tr>\n",
       "      <th>1192</th>\n",
       "      <td>2662137336</td>\n",
       "      <td>3733762160</td>\n",
       "      <td>2019-08-14</td>\n",
       "      <td>6490</td>\n",
       "      <td>B</td>\n",
       "    </tr>\n",
       "    <tr>\n",
       "      <th>1193</th>\n",
       "      <td>2203539145</td>\n",
       "      <td>370388673</td>\n",
       "      <td>2019-08-14</td>\n",
       "      <td>3190</td>\n",
       "      <td>A</td>\n",
       "    </tr>\n",
       "    <tr>\n",
       "      <th>1194</th>\n",
       "      <td>1807773912</td>\n",
       "      <td>573423106</td>\n",
       "      <td>2019-08-14</td>\n",
       "      <td>10550</td>\n",
       "      <td>A</td>\n",
       "    </tr>\n",
       "    <tr>\n",
       "      <th>1195</th>\n",
       "      <td>1947021204</td>\n",
       "      <td>1614305549</td>\n",
       "      <td>2019-08-14</td>\n",
       "      <td>100</td>\n",
       "      <td>A</td>\n",
       "    </tr>\n",
       "    <tr>\n",
       "      <th>1196</th>\n",
       "      <td>3936777065</td>\n",
       "      <td>2108080724</td>\n",
       "      <td>2019-08-15</td>\n",
       "      <td>202740</td>\n",
       "      <td>B</td>\n",
       "    </tr>\n",
       "  </tbody>\n",
       "</table>\n",
       "<p>1197 rows × 5 columns</p>\n",
       "</div>"
      ],
      "text/plain": [
       "      transactionId   visitorId        date  revenue group\n",
       "0     3667963787     3312258926  2019-08-15  1650     B   \n",
       "1     2804400009     3642806036  2019-08-15  730      B   \n",
       "2     2961555356     4069496402  2019-08-15  400      A   \n",
       "3     3797467345     1196621759  2019-08-15  9759     B   \n",
       "4     2282983706     2322279887  2019-08-15  2308     B   \n",
       "...          ...            ...         ...   ...    ..   \n",
       "1192  2662137336     3733762160  2019-08-14  6490     B   \n",
       "1193  2203539145     370388673   2019-08-14  3190     A   \n",
       "1194  1807773912     573423106   2019-08-14  10550    A   \n",
       "1195  1947021204     1614305549  2019-08-14  100      A   \n",
       "1196  3936777065     2108080724  2019-08-15  202740   B   \n",
       "\n",
       "[1197 rows x 5 columns]"
      ]
     },
     "metadata": {},
     "output_type": "display_data"
    }
   ],
   "source": [
    "orders = pd.read_csv('/datasets/orders.csv')\n",
    "display(orders)"
   ]
  },
  {
   "cell_type": "code",
   "execution_count": 9,
   "metadata": {},
   "outputs": [
    {
     "name": "stdout",
     "output_type": "stream",
     "text": [
      "<class 'pandas.core.frame.DataFrame'>\n",
      "RangeIndex: 1197 entries, 0 to 1196\n",
      "Data columns (total 5 columns):\n",
      " #   Column         Non-Null Count  Dtype \n",
      "---  ------         --------------  ----- \n",
      " 0   transactionId  1197 non-null   int64 \n",
      " 1   visitorId      1197 non-null   int64 \n",
      " 2   date           1197 non-null   object\n",
      " 3   revenue        1197 non-null   int64 \n",
      " 4   group          1197 non-null   object\n",
      "dtypes: int64(3), object(2)\n",
      "memory usage: 46.9+ KB\n"
     ]
    },
    {
     "data": {
      "text/plain": [
       "None"
      ]
     },
     "metadata": {},
     "output_type": "display_data"
    }
   ],
   "source": [
    "display(orders.info())"
   ]
  },
  {
   "cell_type": "markdown",
   "metadata": {},
   "source": [
    "Приведение названий столбцов к нижнему регистру:"
   ]
  },
  {
   "cell_type": "code",
   "execution_count": 10,
   "metadata": {},
   "outputs": [
    {
     "name": "stdout",
     "output_type": "stream",
     "text": [
      "<class 'pandas.core.frame.DataFrame'>\n",
      "RangeIndex: 1197 entries, 0 to 1196\n",
      "Data columns (total 5 columns):\n",
      " #   Column         Non-Null Count  Dtype \n",
      "---  ------         --------------  ----- \n",
      " 0   transactionid  1197 non-null   int64 \n",
      " 1   visitorid      1197 non-null   int64 \n",
      " 2   date           1197 non-null   object\n",
      " 3   revenue        1197 non-null   int64 \n",
      " 4   group          1197 non-null   object\n",
      "dtypes: int64(3), object(2)\n",
      "memory usage: 46.9+ KB\n"
     ]
    },
    {
     "data": {
      "text/plain": [
       "None"
      ]
     },
     "metadata": {},
     "output_type": "display_data"
    }
   ],
   "source": [
    "orders.columns = map(str.lower, orders.columns)\n",
    "display(orders.info()) #проверка корректности приведения"
   ]
  },
  {
   "cell_type": "markdown",
   "metadata": {},
   "source": [
    "Проверка на наличие дубликатов"
   ]
  },
  {
   "cell_type": "code",
   "execution_count": 11,
   "metadata": {},
   "outputs": [
    {
     "data": {
      "text/plain": [
       "166"
      ]
     },
     "execution_count": 11,
     "metadata": {},
     "output_type": "execute_result"
    }
   ],
   "source": [
    "orders['visitorid'].duplicated().sum()"
   ]
  },
  {
   "cell_type": "code",
   "execution_count": 12,
   "metadata": {},
   "outputs": [],
   "source": [
    "#orders['visitorid'] = orders.drop_duplicates() \n",
    "#orders['visitorid'].duplicated().sum()\n",
    "#напрямую дубликаты удалять нельзя, как представляется\n",
    "#Пользователь с одним visitorid мог оказаться в разных группах"
   ]
  },
  {
   "cell_type": "code",
   "execution_count": 13,
   "metadata": {},
   "outputs": [
    {
     "name": "stdout",
     "output_type": "stream",
     "text": [
      "В целом в датасете количество уникальных visitorid:  1031\n",
      "В группе А количество уникальных visitorid: 503\n",
      "В группе В количество уникальных visitorid: 586\n",
      "Результат сложения уникальных идентификаторов в разбивке по группам: 1089\n",
      "Дельта равна 58\n"
     ]
    }
   ],
   "source": [
    "#Пользователь с одним visitorid мог оказаться в разных группах\n",
    "#Идентификация количества уникальных visitorid\n",
    "print('В целом в датасете количество уникальных visitorid: ', len(orders['visitorid'].unique()))\n",
    "\n",
    "#Разделение датасета на группы, проверка уникальных идентификаторов по группам\n",
    "groupA = orders.query('group == \"A\"')\n",
    "print('В группе А количество уникальных visitorid:', len(groupA['visitorid'].unique()))\n",
    "groupB = orders.query('group == \"B\"')\n",
    "print('В группе В количество уникальных visitorid:', len(groupB['visitorid'].unique()))\n",
    "\n",
    "#Сложение уникальных идентификаторов по группам\n",
    "print('Результат сложения уникальных идентификаторов в разбивке по группам:',len(groupA['visitorid'].unique())+len(groupB['visitorid'].unique()))\n",
    "print('Дельта равна',len(groupA['visitorid'].unique())+len(groupB['visitorid'].unique())-len(orders['visitorid'].unique()))\n"
   ]
  },
  {
   "cell_type": "code",
   "execution_count": 14,
   "metadata": {},
   "outputs": [],
   "source": [
    "#попытка сделать правильную очистку\n",
    "no_uniq_visitorid = []\n",
    "for i in groupA['visitorid']:\n",
    "    for j in groupB['visitorid']:\n",
    "        if i == j:\n",
    "            no_uniq_visitorid.append(i)\n",
    "#print(no_uniq_visitorid)\n"
   ]
  },
  {
   "cell_type": "code",
   "execution_count": 15,
   "metadata": {},
   "outputs": [],
   "source": [
    "#no_uniq_visitorid =  orders.query('(visitorid in @groupA['visitorid']) and (visitorid in @groupB['visitorid'])')\n",
    "#print(len(no_uniq_visitorid))\n",
    "orders = orders.query('visitorid not in @no_uniq_visitorid')\n",
    "#print(orders.query('group == \"B\"').count())\n",
    "#print(orders.query('group == \"A\"').count())"
   ]
  },
  {
   "cell_type": "code",
   "execution_count": 16,
   "metadata": {},
   "outputs": [],
   "source": [
    "#Необходимо убрать упомянутые ранее 58 строк\n",
    "#orders = pd.concat([groupA, groupB]).drop_duplicates(subset = 'visitorid').reset_index(drop=True)\n",
    "#print(orders.query('group == \"A\"').count()) #проверка того, что все лишнее удалилось\n",
    "#print(orders.query('group == \"B\"').count()) #проверка того, что все лишнее удалилось"
   ]
  },
  {
   "cell_type": "code",
   "execution_count": 17,
   "metadata": {},
   "outputs": [],
   "source": [
    "orders['date'] = orders['date'].map(\n",
    "    lambda x: dt.datetime.strptime(x, '%Y-%m-%d')\n",
    ")"
   ]
  },
  {
   "cell_type": "code",
   "execution_count": 18,
   "metadata": {},
   "outputs": [
    {
     "data": {
      "text/html": [
       "<div>\n",
       "<style scoped>\n",
       "    .dataframe tbody tr th:only-of-type {\n",
       "        vertical-align: middle;\n",
       "    }\n",
       "\n",
       "    .dataframe tbody tr th {\n",
       "        vertical-align: top;\n",
       "    }\n",
       "\n",
       "    .dataframe thead th {\n",
       "        text-align: right;\n",
       "    }\n",
       "</style>\n",
       "<table border=\"1\" class=\"dataframe\">\n",
       "  <thead>\n",
       "    <tr style=\"text-align: right;\">\n",
       "      <th></th>\n",
       "      <th>date</th>\n",
       "      <th>group</th>\n",
       "      <th>visitors</th>\n",
       "    </tr>\n",
       "  </thead>\n",
       "  <tbody>\n",
       "    <tr>\n",
       "      <th>0</th>\n",
       "      <td>2019-08-01</td>\n",
       "      <td>A</td>\n",
       "      <td>719</td>\n",
       "    </tr>\n",
       "    <tr>\n",
       "      <th>1</th>\n",
       "      <td>2019-08-02</td>\n",
       "      <td>A</td>\n",
       "      <td>619</td>\n",
       "    </tr>\n",
       "    <tr>\n",
       "      <th>2</th>\n",
       "      <td>2019-08-03</td>\n",
       "      <td>A</td>\n",
       "      <td>507</td>\n",
       "    </tr>\n",
       "    <tr>\n",
       "      <th>3</th>\n",
       "      <td>2019-08-04</td>\n",
       "      <td>A</td>\n",
       "      <td>717</td>\n",
       "    </tr>\n",
       "    <tr>\n",
       "      <th>4</th>\n",
       "      <td>2019-08-05</td>\n",
       "      <td>A</td>\n",
       "      <td>756</td>\n",
       "    </tr>\n",
       "    <tr>\n",
       "      <th>...</th>\n",
       "      <td>...</td>\n",
       "      <td>...</td>\n",
       "      <td>...</td>\n",
       "    </tr>\n",
       "    <tr>\n",
       "      <th>57</th>\n",
       "      <td>2019-08-27</td>\n",
       "      <td>B</td>\n",
       "      <td>720</td>\n",
       "    </tr>\n",
       "    <tr>\n",
       "      <th>58</th>\n",
       "      <td>2019-08-28</td>\n",
       "      <td>B</td>\n",
       "      <td>654</td>\n",
       "    </tr>\n",
       "    <tr>\n",
       "      <th>59</th>\n",
       "      <td>2019-08-29</td>\n",
       "      <td>B</td>\n",
       "      <td>531</td>\n",
       "    </tr>\n",
       "    <tr>\n",
       "      <th>60</th>\n",
       "      <td>2019-08-30</td>\n",
       "      <td>B</td>\n",
       "      <td>490</td>\n",
       "    </tr>\n",
       "    <tr>\n",
       "      <th>61</th>\n",
       "      <td>2019-08-31</td>\n",
       "      <td>B</td>\n",
       "      <td>718</td>\n",
       "    </tr>\n",
       "  </tbody>\n",
       "</table>\n",
       "<p>62 rows × 3 columns</p>\n",
       "</div>"
      ],
      "text/plain": [
       "          date group  visitors\n",
       "0   2019-08-01  A     719     \n",
       "1   2019-08-02  A     619     \n",
       "2   2019-08-03  A     507     \n",
       "3   2019-08-04  A     717     \n",
       "4   2019-08-05  A     756     \n",
       "..         ... ..     ...     \n",
       "57  2019-08-27  B     720     \n",
       "58  2019-08-28  B     654     \n",
       "59  2019-08-29  B     531     \n",
       "60  2019-08-30  B     490     \n",
       "61  2019-08-31  B     718     \n",
       "\n",
       "[62 rows x 3 columns]"
      ]
     },
     "metadata": {},
     "output_type": "display_data"
    }
   ],
   "source": [
    "visitors = pd.read_csv('/datasets/visitors.csv')\n",
    "display(visitors)"
   ]
  },
  {
   "cell_type": "code",
   "execution_count": 19,
   "metadata": {},
   "outputs": [
    {
     "name": "stdout",
     "output_type": "stream",
     "text": [
      "<class 'pandas.core.frame.DataFrame'>\n",
      "RangeIndex: 62 entries, 0 to 61\n",
      "Data columns (total 3 columns):\n",
      " #   Column    Non-Null Count  Dtype \n",
      "---  ------    --------------  ----- \n",
      " 0   date      62 non-null     object\n",
      " 1   group     62 non-null     object\n",
      " 2   visitors  62 non-null     int64 \n",
      "dtypes: int64(1), object(2)\n",
      "memory usage: 1.6+ KB\n"
     ]
    },
    {
     "data": {
      "text/plain": [
       "None"
      ]
     },
     "metadata": {},
     "output_type": "display_data"
    }
   ],
   "source": [
    "display(visitors.info())"
   ]
  },
  {
   "cell_type": "code",
   "execution_count": 20,
   "metadata": {},
   "outputs": [],
   "source": [
    "visitors['date'] = visitors['date'].map(\n",
    "    lambda x: dt.datetime.strptime(x, '%Y-%m-%d')\n",
    ")"
   ]
  },
  {
   "cell_type": "markdown",
   "metadata": {},
   "source": [
    "**Кумулятивная выручка по группам**"
   ]
  },
  {
   "cell_type": "code",
   "execution_count": 21,
   "metadata": {},
   "outputs": [],
   "source": [
    "datesGroups = orders[['date', 'group']].drop_duplicates()\n",
    "\n",
    "ordersAggregated = datesGroups.apply(\n",
    "    lambda x: orders[\n",
    "        np.logical_and(\n",
    "            orders['date'] <= x['date'], orders['group'] == x['group']\n",
    "        )\n",
    "    ].agg(\n",
    "        {\n",
    "            'date': 'max',\n",
    "            'group': 'max',\n",
    "            'transactionid': 'nunique',\n",
    "            'visitorid': 'nunique',\n",
    "            'revenue': 'sum',\n",
    "        }\n",
    "    ),\n",
    "    axis=1,\n",
    ").sort_values(by=['date', 'group'])\n",
    "\n",
    "visitorsAggregated = datesGroups.apply(\n",
    "    lambda x: visitors[\n",
    "        np.logical_and(\n",
    "            visitors['date'] <= x['date'], visitors['group'] == x['group']\n",
    "        )\n",
    "    ].agg({'date': 'max', 'group': 'max', 'visitors': 'sum'}),\n",
    "    axis=1,\n",
    ").sort_values(by=['date', 'group'])\n",
    "\n",
    "cumulativeData = ordersAggregated.merge(\n",
    "    visitorsAggregated, left_on=['date', 'group'], right_on=['date', 'group']\n",
    ")\n",
    "cumulativeData.columns = [\n",
    "    'date',\n",
    "    'group',\n",
    "    'orders',\n",
    "    'buyers',\n",
    "    'revenue',\n",
    "    'visitors',\n",
    "]\n",
    "#кумулятивная выручка для группы А\n",
    "cumulativeRevenueA = cumulativeData[cumulativeData['group']=='A'][['date','revenue', 'orders']]\n",
    "#кумулятивная выручка для группы В\n",
    "cumulativeRevenueB = cumulativeData[cumulativeData['group']=='B'][['date','revenue', 'orders']]"
   ]
  },
  {
   "cell_type": "code",
   "execution_count": 22,
   "metadata": {},
   "outputs": [
    {
     "data": {
      "image/png": "[encoded data removed]",
      "text/plain": [
       "<Figure size 432x288 with 1 Axes>"
      ]
     },
     "metadata": {
      "needs_background": "light"
     },
     "output_type": "display_data"
    }
   ],
   "source": [
    "#график для группы А\n",
    "plt.plot(cumulativeRevenueA['date'], cumulativeRevenueA['revenue'], label='A')\n",
    "#график для группы В\n",
    "plt.plot(cumulativeRevenueB['date'], cumulativeRevenueB['revenue'], label='B')\n",
    "plt.title('График кумулятивной выручки в разбивке по группам')\n",
    "plt.xticks(rotation=90)\n",
    "plt.legend() \n",
    "plt.xlabel('Дата')\n",
    "plt.show()"
   ]
  },
  {
   "cell_type": "markdown",
   "metadata": {},
   "source": [
    "Кумулятивная выручка группы В резко возросла с конца августа 2019 года и в целом была выше почти на всем временном промежутке.\n",
    "\n",
    "Показатели по группам были примерно равны 13 августа 2019 года"
   ]
  },
  {
   "cell_type": "markdown",
   "metadata": {},
   "source": [
    "**Кумулятивный средний чек по группам**    "
   ]
  },
  {
   "cell_type": "code",
   "execution_count": 23,
   "metadata": {},
   "outputs": [
    {
     "data": {
      "image/png": "[encoded data removed]",
      "text/plain": [
       "<Figure size 432x288 with 1 Axes>"
      ]
     },
     "metadata": {
      "needs_background": "light"
     },
     "output_type": "display_data"
    }
   ],
   "source": [
    "plt.plot(cumulativeRevenueA['date'], cumulativeRevenueA['revenue']/cumulativeRevenueA['orders'], label='A')\n",
    "plt.plot(cumulativeRevenueB['date'], cumulativeRevenueB['revenue']/cumulativeRevenueB['orders'], label='B')\n",
    "plt.title('График кумулятивного среднего чека в разбивке по группам')\n",
    "plt.xticks(rotation=90)\n",
    "plt.xlabel('Дата')\n",
    "plt.legend() \n",
    "plt.show()"
   ]
  },
  {
   "cell_type": "markdown",
   "metadata": {},
   "source": [
    "Средний чек по группе В выше практически на всем рассматриваемом временном промежутке. Наибольший скачок наблюдался в августе 2019 года "
   ]
  },
  {
   "cell_type": "markdown",
   "metadata": {},
   "source": [
    "**Относительное изменение кумулятивного среднего чека группы В к группе А**     "
   ]
  },
  {
   "cell_type": "code",
   "execution_count": 24,
   "metadata": {},
   "outputs": [
    {
     "data": {
      "image/png": "[encoded data removed]",
      "text/plain": [
       "<Figure size 432x288 with 1 Axes>"
      ]
     },
     "metadata": {
      "needs_background": "light"
     },
     "output_type": "display_data"
    }
   ],
   "source": [
    "mergedCumulativeRevenue = cumulativeRevenueA.merge(cumulativeRevenueB, left_on='date', right_on='date', how='left', suffixes=['A', 'B'])\n",
    "\n",
    "plt.plot(mergedCumulativeRevenue['date'], (mergedCumulativeRevenue['revenueB']/mergedCumulativeRevenue['ordersB'])/(mergedCumulativeRevenue['revenueA']/mergedCumulativeRevenue['ordersA'])-1)\n",
    "plt.title('График изменения кумулятивного среднего чека группы B к группе A')\n",
    "plt.xticks(rotation=90)\n",
    "plt.axhline(y=0, color='black', linestyle='--') \n",
    "plt.xlabel('Дата')\n",
    "plt.show()"
   ]
  },
  {
   "cell_type": "markdown",
   "metadata": {},
   "source": [
    "Исходя из полученного графика можно сделать предположение о том, в какие даты были совершены аномальные заказы"
   ]
  },
  {
   "cell_type": "markdown",
   "metadata": {},
   "source": [
    "**График кумулятивной конверсии по группам**    "
   ]
  },
  {
   "cell_type": "code",
   "execution_count": 25,
   "metadata": {},
   "outputs": [
    {
     "data": {
      "image/png": "[encoded data removed]",
      "text/plain": [
       "<Figure size 432x288 with 1 Axes>"
      ]
     },
     "metadata": {
      "needs_background": "light"
     },
     "output_type": "display_data"
    }
   ],
   "source": [
    "cumulativeData['conversion'] = cumulativeData['orders']/cumulativeData['visitors']\n",
    "cumulativeDataA = cumulativeData[cumulativeData['group']=='A']\n",
    "cumulativeDataB = cumulativeData[cumulativeData['group']=='B']\n",
    "\n",
    "plt.plot(cumulativeDataA['date'], cumulativeDataA['conversion'], label='A')\n",
    "plt.plot(cumulativeDataB['date'], cumulativeDataB['conversion'], label='B')\n",
    "plt.title('График кумулятивной конверсии по группам')\n",
    "plt.xticks(rotation=90)\n",
    "plt.xlabel('Дата')\n",
    "plt.legend()\n",
    "plt.show()"
   ]
  },
  {
   "cell_type": "markdown",
   "metadata": {},
   "source": [
    "Конверсия группы В выше практически на всем рассматриваемом временном промежутке. Однако в первых числах мая сегмент А имел большую конверсию."
   ]
  },
  {
   "cell_type": "markdown",
   "metadata": {},
   "source": [
    "**График относительного изменения кумулятивной конверсии группы B к группе A**    "
   ]
  },
  {
   "cell_type": "code",
   "execution_count": 26,
   "metadata": {},
   "outputs": [
    {
     "data": {
      "image/png": "[encoded data removed]",
      "text/plain": [
       "<Figure size 432x288 with 1 Axes>"
      ]
     },
     "metadata": {
      "needs_background": "light"
     },
     "output_type": "display_data"
    }
   ],
   "source": [
    "mergedCumulativeConversions = cumulativeDataA[['date','conversion']].merge(cumulativeDataB[['date','conversion']], left_on='date', right_on='date', how='left', suffixes=['A', 'B'])\n",
    "\n",
    "plt.plot(mergedCumulativeConversions['date'], mergedCumulativeConversions['conversionB']/mergedCumulativeConversions['conversionA']-1, label=\"Относительный прирост конверсии группы B относительно группы A\")\n",
    "plt.legend()\n",
    "plt.title('График кумулятивной конверсии по группам')\n",
    "plt.xticks(rotation=90)\n",
    "plt.axhline(y=0, color='black', linestyle='--')\n",
    "plt.axhline(y=0.2, color='grey', linestyle='--')\n",
    "plt.xlabel('Дата')\n",
    "plt.show()"
   ]
  },
  {
   "cell_type": "markdown",
   "metadata": {},
   "source": [
    "График относительного различия конверсии между группами подтвердил превосходство группы В по конверсии (в середине августа прирост относительно группы А был 20%)"
   ]
  },
  {
   "cell_type": "markdown",
   "metadata": {},
   "source": [
    "**Точечный график количества заказов по пользователям**    "
   ]
  },
  {
   "cell_type": "code",
   "execution_count": 27,
   "metadata": {},
   "outputs": [
    {
     "name": "stdout",
     "output_type": "stream",
     "text": [
      "       visitors  orders\n",
      "908  3967698036  3     \n",
      "55   249864742   3     \n",
      "478  2108163459  3     \n",
      "687  2988190573  3     \n",
      "890  3908431265  3     \n",
      "138  611059232   3     \n",
      "632  2742574263  3     \n",
      "157  678354126   2     \n",
      "323  1404560065  2     \n",
      "452  1985475298  2     \n"
     ]
    },
    {
     "data": {
      "image/png": "[encoded data removed]",
      "text/plain": [
       "<Figure size 432x288 with 1 Axes>"
      ]
     },
     "metadata": {
      "needs_background": "light"
     },
     "output_type": "display_data"
    }
   ],
   "source": [
    "ordersByUsers = (\n",
    "    orders.groupby('visitorid', as_index=False)\n",
    "    .agg({'transactionid': 'nunique'})\n",
    ")\n",
    "ordersByUsers.columns = ['visitors', 'orders']\n",
    "print(ordersByUsers.sort_values(by='orders', ascending=False).head(10))\n",
    "\n",
    "# Подготовка к построению точечного графика\n",
    "x_values = pd.Series(range(0, len(ordersByUsers)))\n",
    "plt.scatter(x_values, ordersByUsers['orders'])\n",
    "plt.title('Точечный график количества заказов по пользователям')\n",
    "plt.show()"
   ]
  },
  {
   "cell_type": "markdown",
   "metadata": {},
   "source": [
    "**95-й и 99-й перцентили количества заказов на пользователя.**\n",
    "**Выбор границы для определения аномальных пользователей**    "
   ]
  },
  {
   "cell_type": "code",
   "execution_count": 28,
   "metadata": {},
   "outputs": [
    {
     "name": "stdout",
     "output_type": "stream",
     "text": [
      "[1. 2.]\n"
     ]
    }
   ],
   "source": [
    "print(np.percentile(ordersByUsers['orders'], [95, 99]))"
   ]
  },
  {
   "cell_type": "markdown",
   "metadata": {},
   "source": [
    "Не более 5% пользователей совершали более 2 заказов, не более 1% пользователей -  больше 4 заказов"
   ]
  },
  {
   "cell_type": "markdown",
   "metadata": {},
   "source": [
    "**Точечный график стоимостей заказов**"
   ]
  },
  {
   "cell_type": "code",
   "execution_count": 29,
   "metadata": {},
   "outputs": [
    {
     "data": {
      "image/png": "[encoded data removed]",
      "text/plain": [
       "<Figure size 432x288 with 1 Axes>"
      ]
     },
     "metadata": {
      "needs_background": "light"
     },
     "output_type": "display_data"
    }
   ],
   "source": [
    "x_values = pd.Series(range(0, len(orders['revenue'])))\n",
    "plt.scatter(x_values, orders['revenue']) \n",
    "plt.title('Точечный график стоимостей заказов')\n",
    "plt.axis([0, 1050, 0, 150000])\n",
    "plt.show()"
   ]
  },
  {
   "cell_type": "markdown",
   "metadata": {},
   "source": [
    "Большинство покупок было совершено на сумму менее 20 000 рублей"
   ]
  },
  {
   "cell_type": "markdown",
   "metadata": {},
   "source": [
    "**95-й и 99-й перцентили стоимости заказов.**\n",
    "**Выбор границы для определения аномальных заказов**    \n",
    "Посчитайте 95-й и 99-й перцентили стоимости заказов. Выберите границу для определения аномальных заказов."
   ]
  },
  {
   "cell_type": "code",
   "execution_count": 30,
   "metadata": {},
   "outputs": [
    {
     "name": "stdout",
     "output_type": "stream",
     "text": [
      "[26785. 53904.]\n"
     ]
    }
   ],
   "source": [
    "print(np.percentile(orders['revenue'], [95, 99])) "
   ]
  },
  {
   "cell_type": "markdown",
   "metadata": {},
   "source": [
    "<div class=\"alert alert-block alert-info\">\n",
    "  \n",
    "Не более 5% заказов дороже 26 785 рублей и не более 1% дороже 53 904 рублей.\n",
    "    \n",
    "Так, в дальнейшем можем принять за аномальных пользователей тех, кто совершил более 2 заказов или совершил заказ дороже 54 000 рублей.\n",
    "</div>"
   ]
  },
  {
   "cell_type": "markdown",
   "metadata": {},
   "source": [
    "**Cтатистическая значимость различий в среднем количестве заказов между группами по «сырым» данным**    "
   ]
  },
  {
   "cell_type": "code",
   "execution_count": 31,
   "metadata": {},
   "outputs": [],
   "source": [
    "#для группы А\n",
    "ordersByUsersA = (\n",
    "    orders[orders['group']=='A']\n",
    "    .groupby('visitorid', as_index=False)\n",
    "    .agg({'transactionid':'nunique'})\n",
    ")\n",
    "ordersByUsersA.columns = ['visitorid', 'orders']\n",
    "\n",
    "#для группы В\n",
    "ordersByUsersB = (\n",
    "    orders[orders['group']=='B']\n",
    "    .groupby('visitorid', as_index=False)\n",
    "    .agg({'transactionid':'nunique'})\n",
    ")\n",
    "ordersByUsersB.columns = ['visitorid', 'orders']"
   ]
  },
  {
   "cell_type": "markdown",
   "metadata": {},
   "source": [
    "**H0** - Нет различий в среднем количестве заказов между группами\n",
    "\n",
    "**H1** - Есть различия в среднем количестве заказов между группами"
   ]
  },
  {
   "cell_type": "code",
   "execution_count": 32,
   "metadata": {},
   "outputs": [],
   "source": [
    "#Подготовка данных (по примеру из тренажера)\n",
    "visitorsADaily = visitors[visitors['group'] == 'A'][['date', 'visitors']]\n",
    "visitorsADaily.columns = ['date', 'visitorsPerDateA']\n",
    "\n",
    "visitorsACummulative = visitorsADaily.apply(\n",
    "    lambda x: visitorsADaily[visitorsADaily['date'] <= x['date']].agg(\n",
    "        {'date': 'max', 'visitorsPerDateA': 'sum'}\n",
    "    ),\n",
    "    axis=1,\n",
    ")\n",
    "visitorsACummulative.columns = ['date', 'visitorsCummulativeA']\n",
    "\n",
    "visitorsBDaily = visitors[visitors['group'] == 'B'][['date', 'visitors']]\n",
    "visitorsBDaily.columns = ['date', 'visitorsPerDateB']\n",
    "\n",
    "visitorsBCummulative = visitorsBDaily.apply(\n",
    "    lambda x: visitorsBDaily[visitorsBDaily['date'] <= x['date']].agg(\n",
    "        {'date': 'max', 'visitorsPerDateB': 'sum'}\n",
    "    ),\n",
    "    axis=1,\n",
    ")\n",
    "visitorsBCummulative.columns = ['date', 'visitorsCummulativeB']\n",
    "\n",
    "ordersADaily = (\n",
    "    orders[orders['group'] == 'A'][['date', 'transactionid', 'visitorid', 'revenue']]\n",
    "    .groupby('date', as_index=False)\n",
    "    .agg({'transactionid': pd.Series.nunique, 'revenue': 'sum'})\n",
    ")\n",
    "ordersADaily.columns = ['date', 'ordersPerDateA', 'revenuePerDateA']\n",
    "\n",
    "ordersACummulative = ordersADaily.apply(\n",
    "    lambda x: ordersADaily[ordersADaily['date'] <= x['date']].agg(\n",
    "        {'date': 'max', 'ordersPerDateA': 'sum', 'revenuePerDateA': 'sum'}\n",
    "    ),\n",
    "    axis=1,\n",
    ").sort_values(by=['date'])\n",
    "ordersACummulative.columns = [\n",
    "    'date',\n",
    "    'ordersCummulativeA',\n",
    "    'revenueCummulativeA',\n",
    "]\n",
    "\n",
    "ordersBDaily = (\n",
    "    orders[orders['group'] == 'B'][['date', 'transactionid', 'visitorid', 'revenue']]\n",
    "    .groupby('date', as_index=False)\n",
    "    .agg({'transactionid': pd.Series.nunique, 'revenue': 'sum'})\n",
    ")\n",
    "ordersBDaily.columns = ['date', 'ordersPerDateB', 'revenuePerDateB']\n",
    "\n",
    "ordersBCummulative = ordersBDaily.apply(\n",
    "    lambda x: ordersBDaily[ordersBDaily['date'] <= x['date']].agg(\n",
    "        {'date': 'max', 'ordersPerDateB': 'sum', 'revenuePerDateB': 'sum'}\n",
    "    ),\n",
    "    axis=1,\n",
    ").sort_values(by=['date'])\n",
    "ordersBCummulative.columns = [\n",
    "    'date',\n",
    "    'ordersCummulativeB',\n",
    "    'revenueCummulativeB',\n",
    "]\n",
    "\n",
    "data = (\n",
    "    ordersADaily.merge(\n",
    "        ordersBDaily, left_on='date', right_on='date', how='left'\n",
    "    )\n",
    "    .merge(ordersACummulative, left_on='date', right_on='date', how='left')\n",
    "    .merge(ordersBCummulative, left_on='date', right_on='date', how='left')\n",
    "    .merge(visitorsADaily, left_on='date', right_on='date', how='left')\n",
    "    .merge(visitorsBDaily, left_on='date', right_on='date', how='left')\n",
    "    .merge(visitorsACummulative, left_on='date', right_on='date', how='left')\n",
    "    .merge(visitorsBCummulative, left_on='date', right_on='date', how='left')\n",
    ")\n",
    "\n",
    "#print(data.head(5)) "
   ]
  },
  {
   "cell_type": "code",
   "execution_count": 33,
   "metadata": {},
   "outputs": [
    {
     "name": "stdout",
     "output_type": "stream",
     "text": [
      "p-value: 0.011\n",
      "0.160\n"
     ]
    }
   ],
   "source": [
    "sampleA = pd.concat(\n",
    "    [\n",
    "        ordersByUsersA['orders'],\n",
    "        pd.Series(\n",
    "            0,\n",
    "            index=np.arange(\n",
    "                data['visitorsPerDateA'].sum() - len(ordersByUsersA['orders'])\n",
    "            ),\n",
    "            name='orders',\n",
    "        ),\n",
    "    ],\n",
    "    axis=0,\n",
    ")\n",
    "\n",
    "sampleB = pd.concat(\n",
    "    [\n",
    "        ordersByUsersB['orders'],\n",
    "        pd.Series(\n",
    "            0,\n",
    "            index=np.arange(\n",
    "                data['visitorsPerDateB'].sum() - len(ordersByUsersB['orders'])\n",
    "            ),\n",
    "            name='orders',\n",
    "        ),\n",
    "    ],\n",
    "    axis=0,\n",
    ")\n",
    "\n",
    "print('p-value:',\"{0:.3f}\".format(stats.mannwhitneyu(sampleA, sampleB)[1]))\n",
    "\n",
    "print(\"{0:.3f}\".format(sampleB.mean() / sampleA.mean() - 1))\n",
    " \n"
   ]
  },
  {
   "cell_type": "markdown",
   "metadata": {},
   "source": [
    "По «сырым» данным различия в среднем числе заказов групп A и B есть.\n",
    "\n",
    "Первое число — p-value = 0.02 меньше 0.05. Значит, нулевую гипотезу о том, что статистически значимых различий в среднем числе заказов между группами нет, отвергаем."
   ]
  },
  {
   "cell_type": "markdown",
   "metadata": {},
   "source": [
    "<div class=\"alert alert-block alert-info\">\n",
    "\n",
    "    \n",
    "    \n",
    "Новый вывод: \n",
    "    \n",
    "По «сырым» данным различий в среднем числе заказов групп A и B нет.\n",
    "\n",
    "Первое число — p-value = 0.526 больше 0.05. Значит, нулевую гипотезу о том, что статистически значимых различий в среднем числе заказов между группами нет, не отвергаем.\n",
    "</div>\n"
   ]
  },
  {
   "cell_type": "markdown",
   "metadata": {},
   "source": [
    "<div class=\"alert alert-block alert-info\">\n",
    "  \n",
    "\n",
    "\n",
    "По «сырым» данным различия в среднем числе заказов групп A и B есть.\n",
    "\n",
    "Первое число — p-value = 0.01 меньше 0.05. Значит, нулевую гипотезу о том, что статистически значимых различий в среднем числе заказов между группами А и В нет, отвергаем.\n",
    "</div>\n"
   ]
  },
  {
   "cell_type": "markdown",
   "metadata": {},
   "source": [
    "**Статистическая значимость различий в среднем чеке заказа между группами по «сырым» данным**\n"
   ]
  },
  {
   "cell_type": "markdown",
   "metadata": {},
   "source": [
    "**Нулевая гипотеза**: различий в среднем чеке между группами нет    \n",
    "**Альтернативная гипотеза**: различия в среднем чеке между группами есть"
   ]
  },
  {
   "cell_type": "code",
   "execution_count": 34,
   "metadata": {},
   "outputs": [
    {
     "name": "stdout",
     "output_type": "stream",
     "text": [
      "p-value: 0.829\n",
      "0.287\n"
     ]
    }
   ],
   "source": [
    "print('p-value:','{0:.3f}'.format(stats.mannwhitneyu(orders[orders['group']=='A']['revenue'], orders[orders['group']=='B']['revenue'])[1]))\n",
    "print('{0:.3f}'.format(orders[orders['group']=='B']['revenue'].mean()/orders[orders['group']=='A']['revenue'].mean()-1)) \n"
   ]
  },
  {
   "cell_type": "markdown",
   "metadata": {},
   "source": [
    "P-value = 0.829 значительно больше 0.05. Значит, причин отвергать нулевую гипотезу и считать, что в среднем чеке есть различия, нет.     "
   ]
  },
  {
   "cell_type": "markdown",
   "metadata": {},
   "source": [
    "**Статистическая значимость различий в среднем количестве заказов между группами по «очищенным» данным**    "
   ]
  },
  {
   "cell_type": "markdown",
   "metadata": {},
   "source": [
    "Подготовка данных (очистка)"
   ]
  },
  {
   "cell_type": "markdown",
   "metadata": {},
   "source": [
    "Узнаем, сколько всего аномальных пользователей атрибутом shape"
   ]
  },
  {
   "cell_type": "code",
   "execution_count": 35,
   "metadata": {},
   "outputs": [
    {
     "name": "stdout",
     "output_type": "stream",
     "text": [
      "1099    148427295\n",
      "33      249864742\n",
      "36      366673373\n",
      "51      406208401\n",
      "67      522292794\n",
      "Name: visitorid, dtype: int64\n",
      "45\n"
     ]
    }
   ],
   "source": [
    "usersWithManyOrders = pd.concat(\n",
    "    [\n",
    "        ordersByUsersA[ordersByUsersA['orders'] > 1]['visitorid'],\n",
    "        ordersByUsersB[ordersByUsersB['orders'] > 1]['visitorid'],\n",
    "    ],\n",
    "    axis=0,\n",
    ")\n",
    "usersWithExpensiveOrders = orders[orders['revenue'] > 57000]['visitorid']\n",
    "abnormalUsers = (\n",
    "    pd.concat([usersWithManyOrders, usersWithExpensiveOrders], axis=0)\n",
    "    .drop_duplicates()\n",
    "    .sort_values()\n",
    ")\n",
    "print(abnormalUsers.head(5))\n",
    "print(abnormalUsers.shape[0]) "
   ]
  },
  {
   "cell_type": "markdown",
   "metadata": {},
   "source": [
    "Всего 11 аномальных пользователей"
   ]
  },
  {
   "cell_type": "code",
   "execution_count": 36,
   "metadata": {},
   "outputs": [],
   "source": [
    "sampleAFiltered = pd.concat(\n",
    "    [\n",
    "        ordersByUsersA[\n",
    "            np.logical_not(ordersByUsersA['visitorid'].isin(abnormalUsers))\n",
    "        ]['orders'],\n",
    "        pd.Series(\n",
    "            0,\n",
    "            index=np.arange(\n",
    "                data['visitorsPerDateA'].sum() - len(ordersByUsersA['orders'])\n",
    "            ),\n",
    "            name='orders',\n",
    "        ),\n",
    "    ],\n",
    "    axis=0,\n",
    ")\n",
    "\n",
    "sampleBFiltered = pd.concat(\n",
    "    [\n",
    "        ordersByUsersB[\n",
    "            np.logical_not(ordersByUsersB['visitorid'].isin(abnormalUsers))\n",
    "        ]['orders'],\n",
    "        pd.Series(\n",
    "            0,\n",
    "            index=np.arange(\n",
    "                data['visitorsPerDateB'].sum() - len(ordersByUsersB['orders'])\n",
    "            ),\n",
    "            name='orders',\n",
    "        ),\n",
    "    ],\n",
    "    axis=0,\n",
    ") "
   ]
  },
  {
   "cell_type": "markdown",
   "metadata": {},
   "source": [
    "**H0** - Нет различий в среднем количестве заказов между группами (для очищенных данных)\n",
    "\n",
    "**H1** - Есть различия в среднем количестве заказов между группами (для очищенных данных)"
   ]
  },
  {
   "cell_type": "code",
   "execution_count": 37,
   "metadata": {},
   "outputs": [
    {
     "name": "stdout",
     "output_type": "stream",
     "text": [
      "p-value: 0.008\n",
      "0.188\n"
     ]
    }
   ],
   "source": [
    "print('p-value:','{0:.3f}'.format(stats.mannwhitneyu(sampleAFiltered, sampleBFiltered)[1]))\n",
    "print('{0:.3f}'.format(sampleBFiltered.mean()/sampleAFiltered.mean()-1)) "
   ]
  },
  {
   "cell_type": "markdown",
   "metadata": {},
   "source": [
    "Результаты по среднему количеству заказов почти не изменились (p-value по-прежнему менее 0,05)"
   ]
  },
  {
   "cell_type": "markdown",
   "metadata": {},
   "source": [
    "Как и в случае с данными без очистки, p-value меньше 0.05. Значит, нулевую гипотезу о том, что статистически значимых различий в среднем числе заказов для очищенных данных между группами нет, отвергаем."
   ]
  },
  {
   "cell_type": "markdown",
   "metadata": {},
   "source": [
    "**Статистическая значимость различий в среднем чеке заказа между группами по «очищенным» данным**"
   ]
  },
  {
   "cell_type": "markdown",
   "metadata": {},
   "source": [
    "**Нулевая гипотеза**: различий в среднем чеке между группами нет (для очищенных данных)\n",
    "\n",
    "**Альтернативная гипотеза**: различия в среднем чеке между группами есть (для очищенных данных)"
   ]
  },
  {
   "cell_type": "code",
   "execution_count": 38,
   "metadata": {},
   "outputs": [
    {
     "name": "stdout",
     "output_type": "stream",
     "text": [
      "p-value: 0.969\n",
      "0.002\n"
     ]
    }
   ],
   "source": [
    "print('p-value:',\n",
    "    '{0:.3f}'.format(\n",
    "        stats.mannwhitneyu(\n",
    "            orders[\n",
    "                np.logical_and(\n",
    "                    orders['group'] == 'A',\n",
    "                    np.logical_not(orders['visitorid'].isin(abnormalUsers)),\n",
    "                )\n",
    "            ]['revenue'],\n",
    "            orders[\n",
    "                np.logical_and(\n",
    "                    orders['group'] == 'B',\n",
    "                    np.logical_not(orders['visitorid'].isin(abnormalUsers)),\n",
    "                )\n",
    "            ]['revenue'],\n",
    "        )[1]\n",
    "    )\n",
    ")\n",
    "\n",
    "print(\n",
    "    \"{0:.3f}\".format(\n",
    "        orders[\n",
    "            np.logical_and(\n",
    "                orders['group'] == 'B',\n",
    "                np.logical_not(orders['visitorid'].isin(abnormalUsers)),\n",
    "            )\n",
    "        ]['revenue'].mean()\n",
    "        / orders[\n",
    "            np.logical_and(\n",
    "                orders['group'] == 'A',\n",
    "                np.logical_not(orders['visitorid'].isin(abnormalUsers)),\n",
    "            )\n",
    "        ]['revenue'].mean()\n",
    "        - 1\n",
    "    )\n",
    ") \n"
   ]
  },
  {
   "cell_type": "markdown",
   "metadata": {},
   "source": [
    "P-value увеличился с 0.829 до 0.969 (превышает 0,05). Как следствие, причин отвергать нулевую гипотезу и считать, что в среднем чеке для очищенных данных есть различия, нет.\n",
    "Разница между сегментами сократилась с 28% до 2%"
   ]
  },
  {
   "cell_type": "markdown",
   "metadata": {},
   "source": [
    "После удаления выбросов в данных стало меньше шума"
   ]
  },
  {
   "cell_type": "markdown",
   "metadata": {},
   "source": [
    "**ИТОГ**:    \n",
    "\n",
    "Есть статистически значимое различие по среднему количеству заказов между группами и по «сырым», и по данным после фильтрации аномалий (на уровне значимости 5%)\n",
    "\n",
    "Нет статистически значимого различия по среднему чеку между группами ни по «сырым», ни по данным после фильтрации аномалий (на уровне значимости 5%)\n",
    "\n",
    "\n",
    "График различия конверсии между группами, как и график различия среднего чека, сообщает, что результаты группы B лучше группы A\n",
    "\n",
    "\n",
    "Исходя из обнаруженных фактов, тест следует остановить и зафиксировать победу группы В."
   ]
  },
  {
   "cell_type": "markdown",
   "metadata": {},
   "source": [
    "### Вывод\n",
    "\n",
    "<div style=\"border-radius: 15px; box-shadow: 2px 2px 4px; border: 1px solid; background:Gainsboro; padding: 20px\">\n",
    "    \n",
    "В результате проведенного исследования были изучены несколько наборов данных. Была проведена приоритизация гипотез для увеличения выручки (методами RICE и ICE), а также проанализированы результаты A/B-теста.\n",
    "    \n",
    "**В части 1**:\n",
    "    Приоритизация гипотез при применении RICE вместо ICE немного изменилась. Однако все же наиболее приоритетными можно считать гипотезы:\n",
    "    \n",
    "   - Добавить форму подписки на все основные страницы, чтобы собрать базу клиентов для email-рассылок\t\n",
    "   - Запустить акцию, дающую скидку на товар в день рождения\n",
    "   - Показать на главной странице баннеры с актуальными акциями и распродажами, чтобы увеличить конверсию\n",
    "    \n",
    "а наименее приоритетными: \n",
    "   - Изменить цвет фона главной страницы, чтобы увеличить вовлеченность пользователей\t\n",
    "   - Добавить страницу отзывов клиентов о магазине, что позволит увеличить количество заказов\n",
    "    \n",
    "**В части 2**:\n",
    "\n",
    "было обнаружено:\n",
    "    \n",
    "- Есть статистически значимое различие по среднему количеству заказов между группами и по «сырым», и по данным после фильтрации аномалий (на уровне значимости 5%)\n",
    "\n",
    "- Нет статистически значимого различия по среднему чеку между группами ни по «сырым», ни по данным после фильтрации аномалий (на уровне значимости 5%)\n",
    "\n",
    "- График различия конверсии между группами и график различия среднего чека сообщает, что результаты группы B лучше группы A\n",
    "\n",
    "Исходя из обнаруженных фактов, тест следует остановить и зафиксировать победу группы В.\n",
    "    \n",
    "</div>"
   ]
  }
 ],
 "metadata": {
  "ExecuteTimeLog": [
   {
    "duration": 44,
    "start_time": "2022-11-26T07:00:17.294Z"
   },
   {
    "duration": 375,
    "start_time": "2022-11-26T07:00:19.776Z"
   },
   {
    "duration": 79,
    "start_time": "2022-11-26T07:00:21.205Z"
   },
   {
    "duration": 57,
    "start_time": "2022-11-28T14:11:18.931Z"
   },
   {
    "duration": 7,
    "start_time": "2022-11-28T14:16:40.321Z"
   },
   {
    "duration": 433,
    "start_time": "2022-11-28T14:16:44.375Z"
   },
   {
    "duration": 75,
    "start_time": "2022-11-28T14:16:45.831Z"
   },
   {
    "duration": 30,
    "start_time": "2022-11-28T14:16:49.783Z"
   },
   {
    "duration": 814,
    "start_time": "2022-11-28T14:16:55.056Z"
   },
   {
    "duration": 22,
    "start_time": "2022-11-28T14:17:20.007Z"
   },
   {
    "duration": 4,
    "start_time": "2022-11-28T14:17:45.283Z"
   },
   {
    "duration": 13,
    "start_time": "2022-11-28T14:18:15.865Z"
   },
   {
    "duration": 12,
    "start_time": "2022-11-28T14:18:31.095Z"
   },
   {
    "duration": 16,
    "start_time": "2022-11-28T14:18:49.627Z"
   },
   {
    "duration": 14,
    "start_time": "2022-11-28T14:21:04.708Z"
   },
   {
    "duration": 7,
    "start_time": "2022-11-28T14:25:54.723Z"
   },
   {
    "duration": 10,
    "start_time": "2022-11-28T14:37:27.606Z"
   },
   {
    "duration": 3,
    "start_time": "2022-11-28T14:37:31.886Z"
   },
   {
    "duration": 14,
    "start_time": "2022-11-28T14:37:38.064Z"
   },
   {
    "duration": 17,
    "start_time": "2022-11-28T14:38:25.923Z"
   },
   {
    "duration": 7,
    "start_time": "2022-11-28T14:39:13.770Z"
   },
   {
    "duration": 382,
    "start_time": "2022-11-28T15:54:14.678Z"
   },
   {
    "duration": 81,
    "start_time": "2022-11-28T15:54:17.743Z"
   },
   {
    "duration": 12,
    "start_time": "2022-11-28T15:54:20.467Z"
   },
   {
    "duration": 6,
    "start_time": "2022-11-28T15:54:23.346Z"
   },
   {
    "duration": 71,
    "start_time": "2022-11-28T15:54:24.774Z"
   },
   {
    "duration": 5,
    "start_time": "2022-11-28T15:54:36.853Z"
   },
   {
    "duration": 12,
    "start_time": "2022-11-28T15:54:38.348Z"
   },
   {
    "duration": 432,
    "start_time": "2022-11-28T15:57:41.863Z"
   },
   {
    "duration": 3,
    "start_time": "2022-11-28T15:57:42.337Z"
   },
   {
    "duration": 49,
    "start_time": "2022-11-28T15:57:42.343Z"
   },
   {
    "duration": 16,
    "start_time": "2022-11-28T15:57:42.395Z"
   },
   {
    "duration": 7,
    "start_time": "2022-11-28T15:57:42.413Z"
   },
   {
    "duration": 21,
    "start_time": "2022-11-28T15:57:42.423Z"
   },
   {
    "duration": 419,
    "start_time": "2022-11-28T16:24:00.765Z"
   },
   {
    "duration": 37,
    "start_time": "2022-11-28T16:24:01.187Z"
   },
   {
    "duration": 15,
    "start_time": "2022-11-28T16:24:01.225Z"
   },
   {
    "duration": 26,
    "start_time": "2022-11-28T16:24:01.242Z"
   },
   {
    "duration": 16,
    "start_time": "2022-11-28T16:24:01.270Z"
   },
   {
    "duration": 19,
    "start_time": "2022-11-28T16:24:01.288Z"
   },
   {
    "duration": 25,
    "start_time": "2022-11-28T16:24:01.309Z"
   },
   {
    "duration": 10,
    "start_time": "2022-11-28T16:24:12.745Z"
   },
   {
    "duration": 94,
    "start_time": "2022-11-28T17:10:33.352Z"
   },
   {
    "duration": 65,
    "start_time": "2022-11-28T17:11:02.631Z"
   },
   {
    "duration": 11,
    "start_time": "2022-11-28T17:17:15.886Z"
   },
   {
    "duration": 16,
    "start_time": "2022-11-28T17:18:15.124Z"
   },
   {
    "duration": 245,
    "start_time": "2022-11-28T17:18:25.466Z"
   },
   {
    "duration": 397,
    "start_time": "2022-11-28T17:18:49.959Z"
   },
   {
    "duration": 193,
    "start_time": "2022-11-28T17:18:57.253Z"
   },
   {
    "duration": 5,
    "start_time": "2022-11-28T17:19:25.278Z"
   },
   {
    "duration": 195,
    "start_time": "2022-11-28T17:19:31.723Z"
   },
   {
    "duration": 220,
    "start_time": "2022-11-28T17:20:28.581Z"
   },
   {
    "duration": 233,
    "start_time": "2022-11-28T17:22:18.988Z"
   },
   {
    "duration": 77,
    "start_time": "2022-11-28T17:24:07.619Z"
   },
   {
    "duration": 6,
    "start_time": "2022-11-28T17:24:59.271Z"
   },
   {
    "duration": 16,
    "start_time": "2022-11-28T17:25:09.588Z"
   },
   {
    "duration": 183,
    "start_time": "2022-11-28T17:25:16.304Z"
   },
   {
    "duration": 3,
    "start_time": "2022-11-28T17:25:55.750Z"
   },
   {
    "duration": 55,
    "start_time": "2022-11-28T17:25:59.759Z"
   },
   {
    "duration": 12,
    "start_time": "2022-11-28T17:26:02.280Z"
   },
   {
    "duration": 12,
    "start_time": "2022-11-28T17:26:04.195Z"
   },
   {
    "duration": 190,
    "start_time": "2022-11-28T17:26:18.230Z"
   },
   {
    "duration": 618,
    "start_time": "2022-11-28T17:26:32.198Z"
   },
   {
    "duration": 35,
    "start_time": "2022-11-28T17:26:32.818Z"
   },
   {
    "duration": 14,
    "start_time": "2022-11-28T17:26:32.854Z"
   },
   {
    "duration": 11,
    "start_time": "2022-11-28T17:26:32.870Z"
   },
   {
    "duration": 14,
    "start_time": "2022-11-28T17:26:32.883Z"
   },
   {
    "duration": 11,
    "start_time": "2022-11-28T17:26:32.898Z"
   },
   {
    "duration": 15,
    "start_time": "2022-11-28T17:26:32.911Z"
   },
   {
    "duration": 54,
    "start_time": "2022-11-28T17:26:32.928Z"
   },
   {
    "duration": 14,
    "start_time": "2022-11-28T17:26:32.984Z"
   },
   {
    "duration": 8,
    "start_time": "2022-11-28T17:26:33.001Z"
   },
   {
    "duration": 17,
    "start_time": "2022-11-28T17:26:33.011Z"
   },
   {
    "duration": 25,
    "start_time": "2022-11-28T17:26:33.030Z"
   },
   {
    "duration": 11,
    "start_time": "2022-11-28T17:26:33.057Z"
   },
   {
    "duration": 287,
    "start_time": "2022-11-28T17:26:33.070Z"
   },
   {
    "duration": 4,
    "start_time": "2022-11-28T17:26:53.275Z"
   },
   {
    "duration": 9,
    "start_time": "2022-11-28T17:31:07.459Z"
   },
   {
    "duration": 5,
    "start_time": "2022-11-28T17:31:15.042Z"
   },
   {
    "duration": 6,
    "start_time": "2022-11-28T17:31:20.981Z"
   },
   {
    "duration": 12,
    "start_time": "2022-11-28T17:36:42.053Z"
   },
   {
    "duration": 15,
    "start_time": "2022-11-28T17:37:11.293Z"
   },
   {
    "duration": 14,
    "start_time": "2022-11-28T17:37:51.790Z"
   },
   {
    "duration": 3,
    "start_time": "2022-11-28T17:38:50.387Z"
   },
   {
    "duration": 5,
    "start_time": "2022-11-28T17:38:56.916Z"
   },
   {
    "duration": 30,
    "start_time": "2022-11-28T17:39:02.497Z"
   },
   {
    "duration": 8,
    "start_time": "2022-11-28T17:39:19.221Z"
   },
   {
    "duration": 10,
    "start_time": "2022-11-28T17:40:53.084Z"
   },
   {
    "duration": 13,
    "start_time": "2022-11-28T17:41:05.795Z"
   },
   {
    "duration": 13,
    "start_time": "2022-11-28T17:41:22.629Z"
   },
   {
    "duration": 9,
    "start_time": "2022-11-28T17:41:55.004Z"
   },
   {
    "duration": 10,
    "start_time": "2022-11-28T17:43:23.238Z"
   },
   {
    "duration": 9,
    "start_time": "2022-11-28T17:44:53.009Z"
   },
   {
    "duration": 12,
    "start_time": "2022-11-28T17:45:09.820Z"
   },
   {
    "duration": 11,
    "start_time": "2022-11-28T17:46:43.093Z"
   },
   {
    "duration": 10,
    "start_time": "2022-11-28T17:46:52.187Z"
   },
   {
    "duration": 11,
    "start_time": "2022-11-28T17:48:35.905Z"
   },
   {
    "duration": 46,
    "start_time": "2022-11-28T17:49:20.514Z"
   },
   {
    "duration": 11,
    "start_time": "2022-11-28T17:49:38.247Z"
   },
   {
    "duration": 7,
    "start_time": "2022-11-28T17:50:31.266Z"
   },
   {
    "duration": 5,
    "start_time": "2022-11-28T17:50:43.175Z"
   },
   {
    "duration": 14,
    "start_time": "2022-11-28T17:52:48.448Z"
   },
   {
    "duration": 13,
    "start_time": "2022-11-28T17:53:10.175Z"
   },
   {
    "duration": 12,
    "start_time": "2022-11-28T17:53:17.474Z"
   },
   {
    "duration": 68,
    "start_time": "2022-11-28T17:53:52.821Z"
   },
   {
    "duration": 72,
    "start_time": "2022-11-28T17:53:59.944Z"
   },
   {
    "duration": 54,
    "start_time": "2022-11-28T17:54:01.684Z"
   },
   {
    "duration": 64,
    "start_time": "2022-11-28T17:54:03.769Z"
   },
   {
    "duration": 11,
    "start_time": "2022-11-28T17:54:26.075Z"
   },
   {
    "duration": 14,
    "start_time": "2022-11-28T17:54:34.906Z"
   },
   {
    "duration": 5,
    "start_time": "2022-11-28T17:56:53.735Z"
   },
   {
    "duration": 5,
    "start_time": "2022-11-28T17:57:06.661Z"
   },
   {
    "duration": 5,
    "start_time": "2022-11-28T18:15:11.439Z"
   },
   {
    "duration": 4,
    "start_time": "2022-11-28T18:15:13.025Z"
   },
   {
    "duration": 6,
    "start_time": "2022-11-28T18:15:15.053Z"
   },
   {
    "duration": 8,
    "start_time": "2022-11-28T18:15:21.060Z"
   },
   {
    "duration": 12,
    "start_time": "2022-11-28T18:15:29.412Z"
   },
   {
    "duration": 13,
    "start_time": "2022-11-28T18:15:32.258Z"
   },
   {
    "duration": 6,
    "start_time": "2022-11-28T18:17:13.193Z"
   },
   {
    "duration": 5,
    "start_time": "2022-11-28T18:17:14.512Z"
   },
   {
    "duration": 6,
    "start_time": "2022-11-28T18:17:20.502Z"
   },
   {
    "duration": 5,
    "start_time": "2022-11-28T18:17:36.766Z"
   },
   {
    "duration": 171,
    "start_time": "2022-11-28T18:19:15.500Z"
   },
   {
    "duration": 601,
    "start_time": "2022-11-28T18:19:25.791Z"
   },
   {
    "duration": 35,
    "start_time": "2022-11-28T18:19:26.394Z"
   },
   {
    "duration": 13,
    "start_time": "2022-11-28T18:19:26.430Z"
   },
   {
    "duration": 12,
    "start_time": "2022-11-28T18:19:26.445Z"
   },
   {
    "duration": 22,
    "start_time": "2022-11-28T18:19:26.458Z"
   },
   {
    "duration": 9,
    "start_time": "2022-11-28T18:19:26.482Z"
   },
   {
    "duration": 21,
    "start_time": "2022-11-28T18:19:26.493Z"
   },
   {
    "duration": 52,
    "start_time": "2022-11-28T18:19:26.515Z"
   },
   {
    "duration": 12,
    "start_time": "2022-11-28T18:19:26.569Z"
   },
   {
    "duration": 12,
    "start_time": "2022-11-28T18:19:26.583Z"
   },
   {
    "duration": 6,
    "start_time": "2022-11-28T18:19:26.597Z"
   },
   {
    "duration": 13,
    "start_time": "2022-11-28T18:19:26.605Z"
   },
   {
    "duration": 45,
    "start_time": "2022-11-28T18:19:26.620Z"
   },
   {
    "duration": 5,
    "start_time": "2022-11-28T18:19:26.666Z"
   },
   {
    "duration": 22,
    "start_time": "2022-11-28T18:19:26.672Z"
   },
   {
    "duration": 31,
    "start_time": "2022-11-28T18:19:26.696Z"
   },
   {
    "duration": 12,
    "start_time": "2022-11-28T18:19:26.729Z"
   },
   {
    "duration": 11,
    "start_time": "2022-11-28T18:19:26.743Z"
   },
   {
    "duration": 100,
    "start_time": "2022-11-28T18:19:26.756Z"
   },
   {
    "duration": 678,
    "start_time": "2022-11-28T18:26:12.033Z"
   },
   {
    "duration": 546,
    "start_time": "2022-11-28T18:29:03.375Z"
   },
   {
    "duration": 461,
    "start_time": "2022-11-28T18:31:36.387Z"
   },
   {
    "duration": 544,
    "start_time": "2022-11-28T18:42:52.908Z"
   },
   {
    "duration": 570,
    "start_time": "2022-11-28T18:43:14.687Z"
   },
   {
    "duration": 300,
    "start_time": "2022-11-28T19:20:01.460Z"
   },
   {
    "duration": 201,
    "start_time": "2022-11-28T19:20:02.796Z"
   },
   {
    "duration": 195,
    "start_time": "2022-11-28T19:20:16.356Z"
   },
   {
    "duration": 195,
    "start_time": "2022-11-28T19:22:14.190Z"
   },
   {
    "duration": 42,
    "start_time": "2022-11-28T19:31:19.314Z"
   },
   {
    "duration": 613,
    "start_time": "2022-11-29T10:41:52.179Z"
   },
   {
    "duration": 33,
    "start_time": "2022-11-29T10:41:52.793Z"
   },
   {
    "duration": 12,
    "start_time": "2022-11-29T10:41:52.828Z"
   },
   {
    "duration": 5,
    "start_time": "2022-11-29T10:41:52.843Z"
   },
   {
    "duration": 12,
    "start_time": "2022-11-29T10:41:52.849Z"
   },
   {
    "duration": 6,
    "start_time": "2022-11-29T10:41:52.863Z"
   },
   {
    "duration": 12,
    "start_time": "2022-11-29T10:41:52.870Z"
   },
   {
    "duration": 47,
    "start_time": "2022-11-29T10:41:52.884Z"
   },
   {
    "duration": 11,
    "start_time": "2022-11-29T10:41:52.933Z"
   },
   {
    "duration": 13,
    "start_time": "2022-11-29T10:41:52.947Z"
   },
   {
    "duration": 6,
    "start_time": "2022-11-29T10:41:52.962Z"
   },
   {
    "duration": 8,
    "start_time": "2022-11-29T10:41:52.970Z"
   },
   {
    "duration": 12,
    "start_time": "2022-11-29T10:41:52.980Z"
   },
   {
    "duration": 4,
    "start_time": "2022-11-29T10:41:52.994Z"
   },
   {
    "duration": 19,
    "start_time": "2022-11-29T10:41:52.999Z"
   },
   {
    "duration": 40,
    "start_time": "2022-11-29T10:41:53.019Z"
   },
   {
    "duration": 11,
    "start_time": "2022-11-29T10:41:53.061Z"
   },
   {
    "duration": 4,
    "start_time": "2022-11-29T10:41:53.074Z"
   },
   {
    "duration": 308,
    "start_time": "2022-11-29T10:41:53.080Z"
   },
   {
    "duration": 319,
    "start_time": "2022-11-29T10:41:53.390Z"
   },
   {
    "duration": 217,
    "start_time": "2022-11-29T10:41:53.711Z"
   },
   {
    "duration": 326,
    "start_time": "2022-11-29T10:41:53.930Z"
   },
   {
    "duration": 381,
    "start_time": "2022-11-29T10:43:01.095Z"
   },
   {
    "duration": 124,
    "start_time": "2022-11-29T11:12:28.889Z"
   },
   {
    "duration": 7,
    "start_time": "2022-11-29T11:14:13.007Z"
   },
   {
    "duration": 5,
    "start_time": "2022-11-29T11:14:28.148Z"
   },
   {
    "duration": 156,
    "start_time": "2022-11-29T11:15:47.024Z"
   },
   {
    "duration": 4,
    "start_time": "2022-11-29T11:17:15.711Z"
   },
   {
    "duration": 5,
    "start_time": "2022-11-29T11:17:20.538Z"
   },
   {
    "duration": 137,
    "start_time": "2022-11-29T11:23:05.765Z"
   },
   {
    "duration": 125,
    "start_time": "2022-11-29T11:25:40.995Z"
   },
   {
    "duration": 697,
    "start_time": "2022-11-29T12:02:19.237Z"
   },
   {
    "duration": 34,
    "start_time": "2022-11-29T12:02:19.936Z"
   },
   {
    "duration": 12,
    "start_time": "2022-11-29T12:02:19.972Z"
   },
   {
    "duration": 15,
    "start_time": "2022-11-29T12:02:19.994Z"
   },
   {
    "duration": 20,
    "start_time": "2022-11-29T12:02:20.011Z"
   },
   {
    "duration": 14,
    "start_time": "2022-11-29T12:02:20.033Z"
   },
   {
    "duration": 15,
    "start_time": "2022-11-29T12:02:20.049Z"
   },
   {
    "duration": 45,
    "start_time": "2022-11-29T12:02:20.066Z"
   },
   {
    "duration": 14,
    "start_time": "2022-11-29T12:02:20.113Z"
   },
   {
    "duration": 19,
    "start_time": "2022-11-29T12:02:20.129Z"
   },
   {
    "duration": 11,
    "start_time": "2022-11-29T12:02:20.149Z"
   },
   {
    "duration": 13,
    "start_time": "2022-11-29T12:02:20.161Z"
   },
   {
    "duration": 17,
    "start_time": "2022-11-29T12:02:20.176Z"
   },
   {
    "duration": 6,
    "start_time": "2022-11-29T12:02:20.198Z"
   },
   {
    "duration": 16,
    "start_time": "2022-11-29T12:02:20.205Z"
   },
   {
    "duration": 34,
    "start_time": "2022-11-29T12:02:20.222Z"
   },
   {
    "duration": 12,
    "start_time": "2022-11-29T12:02:20.258Z"
   },
   {
    "duration": 15,
    "start_time": "2022-11-29T12:02:20.271Z"
   },
   {
    "duration": 320,
    "start_time": "2022-11-29T12:02:20.288Z"
   },
   {
    "duration": 301,
    "start_time": "2022-11-29T12:02:20.610Z"
   },
   {
    "duration": 209,
    "start_time": "2022-11-29T12:02:20.913Z"
   },
   {
    "duration": 339,
    "start_time": "2022-11-29T12:02:21.123Z"
   },
   {
    "duration": 282,
    "start_time": "2022-11-29T12:02:21.464Z"
   },
   {
    "duration": 144,
    "start_time": "2022-11-29T12:02:21.748Z"
   },
   {
    "duration": 136,
    "start_time": "2022-11-29T12:02:21.893Z"
   },
   {
    "duration": 5,
    "start_time": "2022-11-29T12:02:22.031Z"
   },
   {
    "duration": 23,
    "start_time": "2022-11-29T12:02:22.037Z"
   },
   {
    "duration": 159,
    "start_time": "2022-11-29T12:02:22.061Z"
   },
   {
    "duration": 145,
    "start_time": "2022-11-29T12:02:22.222Z"
   },
   {
    "duration": 249,
    "start_time": "2022-11-29T12:03:19.043Z"
   },
   {
    "duration": 353,
    "start_time": "2022-11-29T12:08:49.951Z"
   },
   {
    "duration": 346,
    "start_time": "2022-11-29T12:09:06.101Z"
   },
   {
    "duration": 147,
    "start_time": "2022-11-29T12:17:24.638Z"
   },
   {
    "duration": 153,
    "start_time": "2022-11-29T12:17:43.334Z"
   },
   {
    "duration": 123,
    "start_time": "2022-11-29T12:18:01.497Z"
   },
   {
    "duration": 211,
    "start_time": "2022-11-29T12:19:07.378Z"
   },
   {
    "duration": 280,
    "start_time": "2022-11-29T12:21:19.264Z"
   },
   {
    "duration": 381,
    "start_time": "2022-11-29T12:21:37.215Z"
   },
   {
    "duration": 233,
    "start_time": "2022-11-29T12:21:46.600Z"
   },
   {
    "duration": 328,
    "start_time": "2022-11-29T12:21:52.705Z"
   },
   {
    "duration": 208,
    "start_time": "2022-11-29T12:21:57.897Z"
   },
   {
    "duration": 240,
    "start_time": "2022-11-29T12:22:03.641Z"
   },
   {
    "duration": 160,
    "start_time": "2022-11-29T12:22:18.683Z"
   },
   {
    "duration": 170,
    "start_time": "2022-11-29T12:24:26.436Z"
   },
   {
    "duration": 729,
    "start_time": "2022-11-29T12:26:09.543Z"
   },
   {
    "duration": 36,
    "start_time": "2022-11-29T12:26:10.274Z"
   },
   {
    "duration": 14,
    "start_time": "2022-11-29T12:26:10.312Z"
   },
   {
    "duration": 10,
    "start_time": "2022-11-29T12:26:10.328Z"
   },
   {
    "duration": 12,
    "start_time": "2022-11-29T12:26:10.339Z"
   },
   {
    "duration": 28,
    "start_time": "2022-11-29T12:26:10.353Z"
   },
   {
    "duration": 17,
    "start_time": "2022-11-29T12:26:10.384Z"
   },
   {
    "duration": 50,
    "start_time": "2022-11-29T12:26:10.402Z"
   },
   {
    "duration": 28,
    "start_time": "2022-11-29T12:26:10.454Z"
   },
   {
    "duration": 18,
    "start_time": "2022-11-29T12:26:10.485Z"
   },
   {
    "duration": 8,
    "start_time": "2022-11-29T12:26:10.505Z"
   },
   {
    "duration": 5,
    "start_time": "2022-11-29T12:26:10.514Z"
   },
   {
    "duration": 16,
    "start_time": "2022-11-29T12:26:10.521Z"
   },
   {
    "duration": 11,
    "start_time": "2022-11-29T12:26:10.539Z"
   },
   {
    "duration": 48,
    "start_time": "2022-11-29T12:26:10.552Z"
   },
   {
    "duration": 22,
    "start_time": "2022-11-29T12:26:10.602Z"
   },
   {
    "duration": 11,
    "start_time": "2022-11-29T12:26:10.626Z"
   },
   {
    "duration": 5,
    "start_time": "2022-11-29T12:26:10.639Z"
   },
   {
    "duration": 362,
    "start_time": "2022-11-29T12:26:10.646Z"
   },
   {
    "duration": 334,
    "start_time": "2022-11-29T12:26:11.010Z"
   },
   {
    "duration": 254,
    "start_time": "2022-11-29T12:26:11.346Z"
   },
   {
    "duration": 313,
    "start_time": "2022-11-29T12:26:11.602Z"
   },
   {
    "duration": 313,
    "start_time": "2022-11-29T12:26:11.917Z"
   },
   {
    "duration": 377,
    "start_time": "2022-11-29T12:26:12.232Z"
   },
   {
    "duration": 181,
    "start_time": "2022-11-29T12:26:12.611Z"
   },
   {
    "duration": 5,
    "start_time": "2022-11-29T12:26:12.794Z"
   },
   {
    "duration": 102,
    "start_time": "2022-11-29T12:26:12.801Z"
   },
   {
    "duration": 0,
    "start_time": "2022-11-29T12:26:12.905Z"
   },
   {
    "duration": 0,
    "start_time": "2022-11-29T12:26:12.906Z"
   },
   {
    "duration": 0,
    "start_time": "2022-11-29T12:26:12.908Z"
   },
   {
    "duration": 30,
    "start_time": "2022-11-29T12:32:28.995Z"
   },
   {
    "duration": 701,
    "start_time": "2022-11-29T12:33:53.806Z"
   },
   {
    "duration": 39,
    "start_time": "2022-11-29T12:33:54.509Z"
   },
   {
    "duration": 18,
    "start_time": "2022-11-29T12:33:54.551Z"
   },
   {
    "duration": 10,
    "start_time": "2022-11-29T12:33:54.572Z"
   },
   {
    "duration": 18,
    "start_time": "2022-11-29T12:33:54.584Z"
   },
   {
    "duration": 14,
    "start_time": "2022-11-29T12:33:54.605Z"
   },
   {
    "duration": 35,
    "start_time": "2022-11-29T12:33:54.622Z"
   },
   {
    "duration": 46,
    "start_time": "2022-11-29T12:33:54.660Z"
   },
   {
    "duration": 13,
    "start_time": "2022-11-29T12:33:54.707Z"
   },
   {
    "duration": 13,
    "start_time": "2022-11-29T12:33:54.722Z"
   },
   {
    "duration": 7,
    "start_time": "2022-11-29T12:33:54.737Z"
   },
   {
    "duration": 10,
    "start_time": "2022-11-29T12:33:54.746Z"
   },
   {
    "duration": 18,
    "start_time": "2022-11-29T12:33:54.758Z"
   },
   {
    "duration": 16,
    "start_time": "2022-11-29T12:33:54.778Z"
   },
   {
    "duration": 12,
    "start_time": "2022-11-29T12:33:54.796Z"
   },
   {
    "duration": 24,
    "start_time": "2022-11-29T12:33:54.810Z"
   },
   {
    "duration": 28,
    "start_time": "2022-11-29T12:33:54.837Z"
   },
   {
    "duration": 7,
    "start_time": "2022-11-29T12:33:54.868Z"
   },
   {
    "duration": 342,
    "start_time": "2022-11-29T12:33:54.878Z"
   },
   {
    "duration": 294,
    "start_time": "2022-11-29T12:33:55.222Z"
   },
   {
    "duration": 217,
    "start_time": "2022-11-29T12:33:55.518Z"
   },
   {
    "duration": 311,
    "start_time": "2022-11-29T12:33:55.737Z"
   },
   {
    "duration": 264,
    "start_time": "2022-11-29T12:33:56.055Z"
   },
   {
    "duration": 360,
    "start_time": "2022-11-29T12:33:56.321Z"
   },
   {
    "duration": 145,
    "start_time": "2022-11-29T12:33:56.682Z"
   },
   {
    "duration": 4,
    "start_time": "2022-11-29T12:33:56.829Z"
   },
   {
    "duration": 57,
    "start_time": "2022-11-29T12:33:56.834Z"
   },
   {
    "duration": 0,
    "start_time": "2022-11-29T12:33:56.893Z"
   },
   {
    "duration": 0,
    "start_time": "2022-11-29T12:33:56.895Z"
   },
   {
    "duration": 0,
    "start_time": "2022-11-29T12:33:56.897Z"
   },
   {
    "duration": 675,
    "start_time": "2022-11-29T12:36:52.919Z"
   },
   {
    "duration": 39,
    "start_time": "2022-11-29T12:36:53.596Z"
   },
   {
    "duration": 19,
    "start_time": "2022-11-29T12:36:53.637Z"
   },
   {
    "duration": 17,
    "start_time": "2022-11-29T12:36:53.658Z"
   },
   {
    "duration": 17,
    "start_time": "2022-11-29T12:36:53.677Z"
   },
   {
    "duration": 18,
    "start_time": "2022-11-29T12:36:53.697Z"
   },
   {
    "duration": 27,
    "start_time": "2022-11-29T12:36:53.717Z"
   },
   {
    "duration": 55,
    "start_time": "2022-11-29T12:36:53.746Z"
   },
   {
    "duration": 12,
    "start_time": "2022-11-29T12:36:53.803Z"
   },
   {
    "duration": 15,
    "start_time": "2022-11-29T12:36:53.818Z"
   },
   {
    "duration": 12,
    "start_time": "2022-11-29T12:36:53.835Z"
   },
   {
    "duration": 5,
    "start_time": "2022-11-29T12:36:53.850Z"
   },
   {
    "duration": 15,
    "start_time": "2022-11-29T12:36:53.857Z"
   },
   {
    "duration": 13,
    "start_time": "2022-11-29T12:36:53.873Z"
   },
   {
    "duration": 35,
    "start_time": "2022-11-29T12:36:53.888Z"
   },
   {
    "duration": 12,
    "start_time": "2022-11-29T12:36:53.925Z"
   },
   {
    "duration": 17,
    "start_time": "2022-11-29T12:36:53.938Z"
   },
   {
    "duration": 295,
    "start_time": "2022-11-29T12:36:53.957Z"
   },
   {
    "duration": 288,
    "start_time": "2022-11-29T12:36:54.254Z"
   },
   {
    "duration": 250,
    "start_time": "2022-11-29T12:36:54.544Z"
   },
   {
    "duration": 378,
    "start_time": "2022-11-29T12:36:54.796Z"
   },
   {
    "duration": 288,
    "start_time": "2022-11-29T12:36:55.175Z"
   },
   {
    "duration": 326,
    "start_time": "2022-11-29T12:36:55.465Z"
   },
   {
    "duration": 145,
    "start_time": "2022-11-29T12:36:55.792Z"
   },
   {
    "duration": 5,
    "start_time": "2022-11-29T12:36:55.938Z"
   },
   {
    "duration": 49,
    "start_time": "2022-11-29T12:36:55.944Z"
   },
   {
    "duration": 0,
    "start_time": "2022-11-29T12:36:55.995Z"
   },
   {
    "duration": 0,
    "start_time": "2022-11-29T12:36:55.996Z"
   },
   {
    "duration": 0,
    "start_time": "2022-11-29T12:36:55.997Z"
   },
   {
    "duration": 152,
    "start_time": "2022-11-29T12:38:48.860Z"
   },
   {
    "duration": 6,
    "start_time": "2022-11-29T12:41:10.829Z"
   },
   {
    "duration": 142,
    "start_time": "2022-11-29T12:44:30.438Z"
   },
   {
    "duration": 142,
    "start_time": "2022-11-29T12:45:48.499Z"
   },
   {
    "duration": 147,
    "start_time": "2022-11-29T12:47:15.526Z"
   },
   {
    "duration": 137,
    "start_time": "2022-11-29T12:47:24.079Z"
   },
   {
    "duration": 150,
    "start_time": "2022-11-29T12:48:16.200Z"
   },
   {
    "duration": 131,
    "start_time": "2022-11-29T12:48:38.974Z"
   },
   {
    "duration": 161,
    "start_time": "2022-11-29T12:48:43.591Z"
   },
   {
    "duration": 4,
    "start_time": "2022-11-29T12:51:45.393Z"
   },
   {
    "duration": 48,
    "start_time": "2022-11-29T13:11:28.041Z"
   },
   {
    "duration": 50,
    "start_time": "2022-11-29T13:11:36.340Z"
   },
   {
    "duration": 83,
    "start_time": "2022-11-29T13:12:46.866Z"
   },
   {
    "duration": 12,
    "start_time": "2022-11-29T13:13:02.804Z"
   },
   {
    "duration": 51,
    "start_time": "2022-11-29T13:14:16.604Z"
   },
   {
    "duration": 4,
    "start_time": "2022-11-29T13:14:20.135Z"
   },
   {
    "duration": 4,
    "start_time": "2022-11-29T13:14:49.950Z"
   },
   {
    "duration": 4,
    "start_time": "2022-11-29T13:15:56.109Z"
   },
   {
    "duration": 5,
    "start_time": "2022-11-29T13:15:59.963Z"
   },
   {
    "duration": 5,
    "start_time": "2022-11-29T13:16:18.025Z"
   },
   {
    "duration": 9,
    "start_time": "2022-11-29T13:18:01.848Z"
   },
   {
    "duration": 61,
    "start_time": "2022-11-29T13:18:56.207Z"
   },
   {
    "duration": 13,
    "start_time": "2022-11-29T13:19:03.598Z"
   },
   {
    "duration": 7,
    "start_time": "2022-11-29T13:19:12.682Z"
   },
   {
    "duration": 7,
    "start_time": "2022-11-29T13:19:31.456Z"
   },
   {
    "duration": 115,
    "start_time": "2022-11-29T13:19:33.673Z"
   },
   {
    "duration": 9,
    "start_time": "2022-11-29T13:19:35.892Z"
   },
   {
    "duration": 5,
    "start_time": "2022-11-29T13:19:38.517Z"
   },
   {
    "duration": 11,
    "start_time": "2022-11-29T13:20:04.668Z"
   },
   {
    "duration": 780,
    "start_time": "2022-11-29T13:45:25.234Z"
   },
   {
    "duration": 31,
    "start_time": "2022-11-29T13:50:15.583Z"
   },
   {
    "duration": 13,
    "start_time": "2022-11-29T13:50:31.495Z"
   },
   {
    "duration": 11,
    "start_time": "2022-11-29T13:50:36.863Z"
   },
   {
    "duration": 1096,
    "start_time": "2022-11-29T13:50:41.556Z"
   },
   {
    "duration": 33,
    "start_time": "2022-11-29T13:50:42.654Z"
   },
   {
    "duration": 12,
    "start_time": "2022-11-29T13:50:42.689Z"
   },
   {
    "duration": 17,
    "start_time": "2022-11-29T13:50:42.703Z"
   },
   {
    "duration": 13,
    "start_time": "2022-11-29T13:50:42.722Z"
   },
   {
    "duration": 10,
    "start_time": "2022-11-29T13:50:42.737Z"
   },
   {
    "duration": 14,
    "start_time": "2022-11-29T13:50:42.749Z"
   },
   {
    "duration": 47,
    "start_time": "2022-11-29T13:50:42.765Z"
   },
   {
    "duration": 11,
    "start_time": "2022-11-29T13:50:42.813Z"
   },
   {
    "duration": 19,
    "start_time": "2022-11-29T13:50:42.826Z"
   },
   {
    "duration": 12,
    "start_time": "2022-11-29T13:50:42.847Z"
   },
   {
    "duration": 11,
    "start_time": "2022-11-29T13:50:42.861Z"
   },
   {
    "duration": 19,
    "start_time": "2022-11-29T13:50:42.874Z"
   },
   {
    "duration": 12,
    "start_time": "2022-11-29T13:50:42.895Z"
   },
   {
    "duration": 28,
    "start_time": "2022-11-29T13:50:42.909Z"
   },
   {
    "duration": 17,
    "start_time": "2022-11-29T13:50:42.938Z"
   },
   {
    "duration": 8,
    "start_time": "2022-11-29T13:50:42.957Z"
   },
   {
    "duration": 301,
    "start_time": "2022-11-29T13:50:42.968Z"
   },
   {
    "duration": 286,
    "start_time": "2022-11-29T13:50:43.271Z"
   },
   {
    "duration": 243,
    "start_time": "2022-11-29T13:50:43.559Z"
   },
   {
    "duration": 308,
    "start_time": "2022-11-29T13:50:43.804Z"
   },
   {
    "duration": 229,
    "start_time": "2022-11-29T13:50:44.113Z"
   },
   {
    "duration": 393,
    "start_time": "2022-11-29T13:50:44.344Z"
   },
   {
    "duration": 158,
    "start_time": "2022-11-29T13:50:44.740Z"
   },
   {
    "duration": 4,
    "start_time": "2022-11-29T13:50:44.900Z"
   },
   {
    "duration": 171,
    "start_time": "2022-11-29T13:50:44.906Z"
   },
   {
    "duration": 7,
    "start_time": "2022-11-29T13:50:45.079Z"
   },
   {
    "duration": 19,
    "start_time": "2022-11-29T13:50:45.090Z"
   },
   {
    "duration": 3,
    "start_time": "2022-11-29T13:50:45.111Z"
   },
   {
    "duration": 15,
    "start_time": "2022-11-29T13:50:45.116Z"
   },
   {
    "duration": 26,
    "start_time": "2022-11-29T13:50:45.132Z"
   },
   {
    "duration": 223,
    "start_time": "2022-11-29T13:50:45.160Z"
   },
   {
    "duration": 0,
    "start_time": "2022-11-29T13:50:45.384Z"
   },
   {
    "duration": 0,
    "start_time": "2022-11-29T13:50:45.386Z"
   },
   {
    "duration": 0,
    "start_time": "2022-11-29T13:50:45.387Z"
   },
   {
    "duration": 0,
    "start_time": "2022-11-29T13:50:45.388Z"
   },
   {
    "duration": 237,
    "start_time": "2022-11-29T13:55:15.743Z"
   },
   {
    "duration": 216,
    "start_time": "2022-11-29T13:55:24.892Z"
   },
   {
    "duration": 27,
    "start_time": "2022-11-29T13:55:29.062Z"
   },
   {
    "duration": 15,
    "start_time": "2022-11-29T13:59:19.507Z"
   },
   {
    "duration": 334,
    "start_time": "2022-11-29T14:12:16.168Z"
   },
   {
    "duration": 226,
    "start_time": "2022-11-29T14:12:43.915Z"
   },
   {
    "duration": 228,
    "start_time": "2022-11-29T14:13:45.914Z"
   },
   {
    "duration": 260,
    "start_time": "2022-11-29T14:15:17.329Z"
   },
   {
    "duration": 1061,
    "start_time": "2022-11-29T14:25:44.890Z"
   },
   {
    "duration": 1195,
    "start_time": "2022-11-29T14:26:02.028Z"
   },
   {
    "duration": 36,
    "start_time": "2022-11-29T14:26:03.225Z"
   },
   {
    "duration": 14,
    "start_time": "2022-11-29T14:26:03.263Z"
   },
   {
    "duration": 7,
    "start_time": "2022-11-29T14:26:03.280Z"
   },
   {
    "duration": 22,
    "start_time": "2022-11-29T14:26:03.289Z"
   },
   {
    "duration": 10,
    "start_time": "2022-11-29T14:26:03.313Z"
   },
   {
    "duration": 30,
    "start_time": "2022-11-29T14:26:03.326Z"
   },
   {
    "duration": 45,
    "start_time": "2022-11-29T14:26:03.358Z"
   },
   {
    "duration": 14,
    "start_time": "2022-11-29T14:26:03.404Z"
   },
   {
    "duration": 15,
    "start_time": "2022-11-29T14:26:03.423Z"
   },
   {
    "duration": 12,
    "start_time": "2022-11-29T14:26:03.439Z"
   },
   {
    "duration": 6,
    "start_time": "2022-11-29T14:26:03.452Z"
   },
   {
    "duration": 20,
    "start_time": "2022-11-29T14:26:03.460Z"
   },
   {
    "duration": 15,
    "start_time": "2022-11-29T14:26:03.482Z"
   },
   {
    "duration": 26,
    "start_time": "2022-11-29T14:26:03.498Z"
   },
   {
    "duration": 13,
    "start_time": "2022-11-29T14:26:03.526Z"
   },
   {
    "duration": 5,
    "start_time": "2022-11-29T14:26:03.555Z"
   },
   {
    "duration": 392,
    "start_time": "2022-11-29T14:26:03.562Z"
   },
   {
    "duration": 285,
    "start_time": "2022-11-29T14:26:03.955Z"
   },
   {
    "duration": 220,
    "start_time": "2022-11-29T14:26:04.241Z"
   },
   {
    "duration": 358,
    "start_time": "2022-11-29T14:26:04.463Z"
   },
   {
    "duration": 252,
    "start_time": "2022-11-29T14:26:04.824Z"
   },
   {
    "duration": 322,
    "start_time": "2022-11-29T14:26:05.078Z"
   },
   {
    "duration": 159,
    "start_time": "2022-11-29T14:26:05.402Z"
   },
   {
    "duration": 5,
    "start_time": "2022-11-29T14:26:05.563Z"
   },
   {
    "duration": 297,
    "start_time": "2022-11-29T14:26:05.570Z"
   },
   {
    "duration": 6,
    "start_time": "2022-11-29T14:26:05.869Z"
   },
   {
    "duration": 16,
    "start_time": "2022-11-29T14:26:05.879Z"
   },
   {
    "duration": 6,
    "start_time": "2022-11-29T14:26:05.897Z"
   },
   {
    "duration": 19,
    "start_time": "2022-11-29T14:26:05.905Z"
   },
   {
    "duration": 16,
    "start_time": "2022-11-29T14:26:05.927Z"
   },
   {
    "duration": 253,
    "start_time": "2022-11-29T14:26:05.945Z"
   },
   {
    "duration": 30,
    "start_time": "2022-11-29T14:26:06.199Z"
   },
   {
    "duration": 26,
    "start_time": "2022-11-29T14:26:06.231Z"
   },
   {
    "duration": 1188,
    "start_time": "2022-11-29T14:26:06.259Z"
   },
   {
    "duration": 818,
    "start_time": "2022-11-29T14:26:39.915Z"
   },
   {
    "duration": 1131,
    "start_time": "2022-11-29T14:27:33.974Z"
   },
   {
    "duration": 1158,
    "start_time": "2022-11-29T14:28:12.323Z"
   },
   {
    "duration": 966,
    "start_time": "2022-11-29T14:28:54.295Z"
   },
   {
    "duration": 11,
    "start_time": "2022-11-29T14:29:37.746Z"
   },
   {
    "duration": 1148,
    "start_time": "2022-11-29T14:29:41.773Z"
   },
   {
    "duration": 36,
    "start_time": "2022-11-29T14:29:42.923Z"
   },
   {
    "duration": 16,
    "start_time": "2022-11-29T14:29:42.961Z"
   },
   {
    "duration": 12,
    "start_time": "2022-11-29T14:29:42.980Z"
   },
   {
    "duration": 14,
    "start_time": "2022-11-29T14:29:42.994Z"
   },
   {
    "duration": 20,
    "start_time": "2022-11-29T14:29:43.009Z"
   },
   {
    "duration": 41,
    "start_time": "2022-11-29T14:29:43.031Z"
   },
   {
    "duration": 56,
    "start_time": "2022-11-29T14:29:43.074Z"
   },
   {
    "duration": 13,
    "start_time": "2022-11-29T14:29:43.131Z"
   },
   {
    "duration": 19,
    "start_time": "2022-11-29T14:29:43.147Z"
   },
   {
    "duration": 5,
    "start_time": "2022-11-29T14:29:43.168Z"
   },
   {
    "duration": 7,
    "start_time": "2022-11-29T14:29:43.175Z"
   },
   {
    "duration": 22,
    "start_time": "2022-11-29T14:29:43.183Z"
   },
   {
    "duration": 24,
    "start_time": "2022-11-29T14:29:43.206Z"
   },
   {
    "duration": 29,
    "start_time": "2022-11-29T14:29:43.232Z"
   },
   {
    "duration": 14,
    "start_time": "2022-11-29T14:29:43.262Z"
   },
   {
    "duration": 26,
    "start_time": "2022-11-29T14:29:43.278Z"
   },
   {
    "duration": 310,
    "start_time": "2022-11-29T14:29:43.306Z"
   },
   {
    "duration": 340,
    "start_time": "2022-11-29T14:29:43.618Z"
   },
   {
    "duration": 219,
    "start_time": "2022-11-29T14:29:43.959Z"
   },
   {
    "duration": 311,
    "start_time": "2022-11-29T14:29:44.179Z"
   },
   {
    "duration": 301,
    "start_time": "2022-11-29T14:29:44.492Z"
   },
   {
    "duration": 340,
    "start_time": "2022-11-29T14:29:44.795Z"
   },
   {
    "duration": 166,
    "start_time": "2022-11-29T14:29:45.136Z"
   },
   {
    "duration": 5,
    "start_time": "2022-11-29T14:29:45.303Z"
   },
   {
    "duration": 155,
    "start_time": "2022-11-29T14:29:45.309Z"
   },
   {
    "duration": 6,
    "start_time": "2022-11-29T14:29:45.466Z"
   },
   {
    "duration": 22,
    "start_time": "2022-11-29T14:29:45.476Z"
   },
   {
    "duration": 22,
    "start_time": "2022-11-29T14:29:45.500Z"
   },
   {
    "duration": 36,
    "start_time": "2022-11-29T14:29:45.524Z"
   },
   {
    "duration": 20,
    "start_time": "2022-11-29T14:29:45.562Z"
   },
   {
    "duration": 241,
    "start_time": "2022-11-29T14:29:45.583Z"
   },
   {
    "duration": 40,
    "start_time": "2022-11-29T14:29:45.825Z"
   },
   {
    "duration": 10,
    "start_time": "2022-11-29T14:29:45.867Z"
   },
   {
    "duration": 948,
    "start_time": "2022-11-29T14:29:45.879Z"
   },
   {
    "duration": 10,
    "start_time": "2022-11-29T14:30:02.910Z"
   },
   {
    "duration": 1024,
    "start_time": "2022-11-29T14:31:13.608Z"
   },
   {
    "duration": 10,
    "start_time": "2022-11-29T14:31:35.967Z"
   },
   {
    "duration": 27,
    "start_time": "2022-11-29T14:31:49.590Z"
   },
   {
    "duration": 14,
    "start_time": "2022-11-29T14:34:11.346Z"
   },
   {
    "duration": 1182,
    "start_time": "2022-11-29T15:20:19.370Z"
   },
   {
    "duration": 44,
    "start_time": "2022-11-29T15:20:20.555Z"
   },
   {
    "duration": 11,
    "start_time": "2022-11-29T15:20:20.603Z"
   },
   {
    "duration": 7,
    "start_time": "2022-11-29T15:20:20.616Z"
   },
   {
    "duration": 13,
    "start_time": "2022-11-29T15:20:20.624Z"
   },
   {
    "duration": 12,
    "start_time": "2022-11-29T15:20:20.639Z"
   },
   {
    "duration": 29,
    "start_time": "2022-11-29T15:20:20.652Z"
   },
   {
    "duration": 54,
    "start_time": "2022-11-29T15:20:20.683Z"
   },
   {
    "duration": 12,
    "start_time": "2022-11-29T15:20:20.741Z"
   },
   {
    "duration": 19,
    "start_time": "2022-11-29T15:20:20.767Z"
   },
   {
    "duration": 7,
    "start_time": "2022-11-29T15:20:20.788Z"
   },
   {
    "duration": 6,
    "start_time": "2022-11-29T15:20:20.797Z"
   },
   {
    "duration": 14,
    "start_time": "2022-11-29T15:20:20.804Z"
   },
   {
    "duration": 13,
    "start_time": "2022-11-29T15:20:20.820Z"
   },
   {
    "duration": 33,
    "start_time": "2022-11-29T15:20:20.835Z"
   },
   {
    "duration": 13,
    "start_time": "2022-11-29T15:20:20.870Z"
   },
   {
    "duration": 10,
    "start_time": "2022-11-29T15:20:20.884Z"
   },
   {
    "duration": 324,
    "start_time": "2022-11-29T15:20:20.895Z"
   },
   {
    "duration": 305,
    "start_time": "2022-11-29T15:20:21.221Z"
   },
   {
    "duration": 216,
    "start_time": "2022-11-29T15:20:21.528Z"
   },
   {
    "duration": 345,
    "start_time": "2022-11-29T15:20:21.746Z"
   },
   {
    "duration": 217,
    "start_time": "2022-11-29T15:20:22.093Z"
   },
   {
    "duration": 359,
    "start_time": "2022-11-29T15:20:22.311Z"
   },
   {
    "duration": 186,
    "start_time": "2022-11-29T15:20:22.673Z"
   },
   {
    "duration": 4,
    "start_time": "2022-11-29T15:20:22.861Z"
   },
   {
    "duration": 183,
    "start_time": "2022-11-29T15:20:22.868Z"
   },
   {
    "duration": 5,
    "start_time": "2022-11-29T15:20:23.054Z"
   },
   {
    "duration": 15,
    "start_time": "2022-11-29T15:20:23.061Z"
   },
   {
    "duration": 236,
    "start_time": "2022-11-29T15:20:23.078Z"
   },
   {
    "duration": 40,
    "start_time": "2022-11-29T15:20:23.316Z"
   },
   {
    "duration": 13,
    "start_time": "2022-11-29T15:20:23.358Z"
   },
   {
    "duration": 12,
    "start_time": "2022-11-29T15:20:23.372Z"
   },
   {
    "duration": 35,
    "start_time": "2022-11-29T15:20:23.386Z"
   },
   {
    "duration": 65,
    "start_time": "2022-11-29T15:20:23.423Z"
   },
   {
    "duration": 16,
    "start_time": "2022-11-29T15:20:23.490Z"
   },
   {
    "duration": 1220,
    "start_time": "2022-11-29T16:53:15.787Z"
   },
   {
    "duration": 76,
    "start_time": "2022-11-29T16:53:17.010Z"
   },
   {
    "duration": 13,
    "start_time": "2022-11-29T16:53:17.087Z"
   },
   {
    "duration": 5,
    "start_time": "2022-11-29T16:53:17.102Z"
   },
   {
    "duration": 11,
    "start_time": "2022-11-29T16:53:17.109Z"
   },
   {
    "duration": 21,
    "start_time": "2022-11-29T16:53:17.122Z"
   },
   {
    "duration": 15,
    "start_time": "2022-11-29T16:53:17.145Z"
   },
   {
    "duration": 79,
    "start_time": "2022-11-29T16:53:17.162Z"
   },
   {
    "duration": 13,
    "start_time": "2022-11-29T16:53:17.243Z"
   },
   {
    "duration": 19,
    "start_time": "2022-11-29T16:53:17.259Z"
   },
   {
    "duration": 9,
    "start_time": "2022-11-29T16:53:17.280Z"
   },
   {
    "duration": 4,
    "start_time": "2022-11-29T16:53:17.291Z"
   },
   {
    "duration": 39,
    "start_time": "2022-11-29T16:53:17.298Z"
   },
   {
    "duration": 13,
    "start_time": "2022-11-29T16:53:17.340Z"
   },
   {
    "duration": 71,
    "start_time": "2022-11-29T16:53:17.354Z"
   },
   {
    "duration": 14,
    "start_time": "2022-11-29T16:53:17.427Z"
   },
   {
    "duration": 8,
    "start_time": "2022-11-29T16:53:17.443Z"
   },
   {
    "duration": 338,
    "start_time": "2022-11-29T16:53:17.453Z"
   },
   {
    "duration": 305,
    "start_time": "2022-11-29T16:53:17.793Z"
   },
   {
    "duration": 229,
    "start_time": "2022-11-29T16:53:18.100Z"
   },
   {
    "duration": 352,
    "start_time": "2022-11-29T16:53:18.331Z"
   },
   {
    "duration": 267,
    "start_time": "2022-11-29T16:53:18.685Z"
   },
   {
    "duration": 353,
    "start_time": "2022-11-29T16:53:18.954Z"
   },
   {
    "duration": 144,
    "start_time": "2022-11-29T16:53:19.310Z"
   },
   {
    "duration": 5,
    "start_time": "2022-11-29T16:53:19.455Z"
   },
   {
    "duration": 151,
    "start_time": "2022-11-29T16:53:19.461Z"
   },
   {
    "duration": 4,
    "start_time": "2022-11-29T16:53:19.614Z"
   },
   {
    "duration": 22,
    "start_time": "2022-11-29T16:53:19.622Z"
   },
   {
    "duration": 251,
    "start_time": "2022-11-29T16:53:19.646Z"
   },
   {
    "duration": 39,
    "start_time": "2022-11-29T16:53:19.899Z"
   },
   {
    "duration": 10,
    "start_time": "2022-11-29T16:53:19.940Z"
   },
   {
    "duration": 9,
    "start_time": "2022-11-29T16:53:19.951Z"
   },
   {
    "duration": 9,
    "start_time": "2022-11-29T16:53:19.962Z"
   },
   {
    "duration": 26,
    "start_time": "2022-11-29T16:53:19.973Z"
   },
   {
    "duration": 43,
    "start_time": "2022-11-29T16:53:20.001Z"
   },
   {
    "duration": 183,
    "start_time": "2022-11-29T16:57:28.300Z"
   },
   {
    "duration": 54,
    "start_time": "2022-11-29T17:28:55.776Z"
   },
   {
    "duration": 42,
    "start_time": "2022-11-29T17:30:07.786Z"
   },
   {
    "duration": 1144,
    "start_time": "2022-11-29T17:30:13.173Z"
   },
   {
    "duration": 70,
    "start_time": "2022-11-29T17:30:14.319Z"
   },
   {
    "duration": 11,
    "start_time": "2022-11-29T17:30:14.390Z"
   },
   {
    "duration": 15,
    "start_time": "2022-11-29T17:30:14.402Z"
   },
   {
    "duration": 10,
    "start_time": "2022-11-29T17:30:14.419Z"
   },
   {
    "duration": 6,
    "start_time": "2022-11-29T17:30:14.430Z"
   },
   {
    "duration": 12,
    "start_time": "2022-11-29T17:30:14.437Z"
   },
   {
    "duration": 93,
    "start_time": "2022-11-29T17:30:14.450Z"
   },
   {
    "duration": 10,
    "start_time": "2022-11-29T17:30:14.544Z"
   },
   {
    "duration": 15,
    "start_time": "2022-11-29T17:30:14.556Z"
   },
   {
    "duration": 5,
    "start_time": "2022-11-29T17:30:14.572Z"
   },
   {
    "duration": 4,
    "start_time": "2022-11-29T17:30:14.579Z"
   },
   {
    "duration": 13,
    "start_time": "2022-11-29T17:30:14.585Z"
   },
   {
    "duration": 16,
    "start_time": "2022-11-29T17:30:14.601Z"
   },
   {
    "duration": 62,
    "start_time": "2022-11-29T17:30:14.619Z"
   },
   {
    "duration": 10,
    "start_time": "2022-11-29T17:30:14.682Z"
   },
   {
    "duration": 6,
    "start_time": "2022-11-29T17:30:14.694Z"
   },
   {
    "duration": 270,
    "start_time": "2022-11-29T17:30:14.701Z"
   },
   {
    "duration": 247,
    "start_time": "2022-11-29T17:30:14.973Z"
   },
   {
    "duration": 193,
    "start_time": "2022-11-29T17:30:15.222Z"
   },
   {
    "duration": 327,
    "start_time": "2022-11-29T17:30:15.417Z"
   },
   {
    "duration": 206,
    "start_time": "2022-11-29T17:30:15.745Z"
   },
   {
    "duration": 297,
    "start_time": "2022-11-29T17:30:15.953Z"
   },
   {
    "duration": 139,
    "start_time": "2022-11-29T17:30:16.252Z"
   },
   {
    "duration": 5,
    "start_time": "2022-11-29T17:30:16.393Z"
   },
   {
    "duration": 149,
    "start_time": "2022-11-29T17:30:16.400Z"
   },
   {
    "duration": 4,
    "start_time": "2022-11-29T17:30:16.550Z"
   },
   {
    "duration": 26,
    "start_time": "2022-11-29T17:30:16.555Z"
   },
   {
    "duration": 201,
    "start_time": "2022-11-29T17:30:16.583Z"
   },
   {
    "duration": 34,
    "start_time": "2022-11-29T17:30:16.785Z"
   },
   {
    "duration": 10,
    "start_time": "2022-11-29T17:30:16.821Z"
   },
   {
    "duration": 14,
    "start_time": "2022-11-29T17:30:16.832Z"
   },
   {
    "duration": 10,
    "start_time": "2022-11-29T17:30:16.847Z"
   },
   {
    "duration": 46,
    "start_time": "2022-11-29T17:30:16.858Z"
   },
   {
    "duration": 16,
    "start_time": "2022-11-29T17:30:16.905Z"
   },
   {
    "duration": 232,
    "start_time": "2022-11-29T17:30:59.531Z"
   },
   {
    "duration": 26,
    "start_time": "2022-11-29T17:32:32.932Z"
   },
   {
    "duration": 48,
    "start_time": "2022-11-29T17:37:50.981Z"
   },
   {
    "duration": 11,
    "start_time": "2022-11-29T17:49:38.970Z"
   },
   {
    "duration": 22,
    "start_time": "2022-11-29T17:49:54.116Z"
   },
   {
    "duration": 13,
    "start_time": "2022-11-29T17:50:06.421Z"
   },
   {
    "duration": 7,
    "start_time": "2022-11-29T17:52:55.106Z"
   },
   {
    "duration": 11,
    "start_time": "2022-11-29T17:53:28.233Z"
   },
   {
    "duration": 14,
    "start_time": "2022-11-29T17:53:43.130Z"
   },
   {
    "duration": 16,
    "start_time": "2022-11-29T17:54:23.717Z"
   },
   {
    "duration": 1038,
    "start_time": "2022-11-29T17:54:30.914Z"
   },
   {
    "duration": 35,
    "start_time": "2022-11-29T17:54:31.954Z"
   },
   {
    "duration": 22,
    "start_time": "2022-11-29T17:54:31.990Z"
   },
   {
    "duration": 45,
    "start_time": "2022-11-29T17:54:32.014Z"
   },
   {
    "duration": 72,
    "start_time": "2022-11-29T17:54:32.061Z"
   },
   {
    "duration": 83,
    "start_time": "2022-11-29T17:54:32.136Z"
   },
   {
    "duration": 47,
    "start_time": "2022-11-29T17:54:32.221Z"
   },
   {
    "duration": 102,
    "start_time": "2022-11-29T17:54:32.270Z"
   },
   {
    "duration": 21,
    "start_time": "2022-11-29T17:54:32.374Z"
   },
   {
    "duration": 84,
    "start_time": "2022-11-29T17:54:32.398Z"
   },
   {
    "duration": 74,
    "start_time": "2022-11-29T17:54:32.484Z"
   },
   {
    "duration": 42,
    "start_time": "2022-11-29T17:54:32.560Z"
   },
   {
    "duration": 48,
    "start_time": "2022-11-29T17:54:32.604Z"
   },
   {
    "duration": 84,
    "start_time": "2022-11-29T17:54:32.653Z"
   },
   {
    "duration": 52,
    "start_time": "2022-11-29T17:54:32.738Z"
   },
   {
    "duration": 60,
    "start_time": "2022-11-29T17:54:32.792Z"
   },
   {
    "duration": 35,
    "start_time": "2022-11-29T17:54:32.853Z"
   },
   {
    "duration": 37,
    "start_time": "2022-11-29T17:54:32.889Z"
   },
   {
    "duration": 316,
    "start_time": "2022-11-29T17:54:32.928Z"
   },
   {
    "duration": 261,
    "start_time": "2022-11-29T17:54:33.246Z"
   },
   {
    "duration": 184,
    "start_time": "2022-11-29T17:54:33.509Z"
   },
   {
    "duration": 291,
    "start_time": "2022-11-29T17:54:33.695Z"
   },
   {
    "duration": 197,
    "start_time": "2022-11-29T17:54:33.987Z"
   },
   {
    "duration": 351,
    "start_time": "2022-11-29T17:54:34.186Z"
   },
   {
    "duration": 134,
    "start_time": "2022-11-29T17:54:34.539Z"
   },
   {
    "duration": 4,
    "start_time": "2022-11-29T17:54:34.675Z"
   },
   {
    "duration": 172,
    "start_time": "2022-11-29T17:54:34.680Z"
   },
   {
    "duration": 4,
    "start_time": "2022-11-29T17:54:34.855Z"
   },
   {
    "duration": 78,
    "start_time": "2022-11-29T17:54:34.860Z"
   },
   {
    "duration": 231,
    "start_time": "2022-11-29T17:54:34.940Z"
   },
   {
    "duration": 26,
    "start_time": "2022-11-29T17:54:35.173Z"
   },
   {
    "duration": 42,
    "start_time": "2022-11-29T17:54:35.200Z"
   },
   {
    "duration": 50,
    "start_time": "2022-11-29T17:54:35.244Z"
   },
   {
    "duration": 28,
    "start_time": "2022-11-29T17:54:35.295Z"
   },
   {
    "duration": 61,
    "start_time": "2022-11-29T17:54:35.325Z"
   },
   {
    "duration": 26,
    "start_time": "2022-11-29T17:54:35.388Z"
   },
   {
    "duration": 47,
    "start_time": "2022-11-30T18:16:23.560Z"
   },
   {
    "duration": 1272,
    "start_time": "2022-11-30T18:16:29.890Z"
   },
   {
    "duration": 80,
    "start_time": "2022-11-30T18:16:31.165Z"
   },
   {
    "duration": 12,
    "start_time": "2022-11-30T18:16:31.247Z"
   },
   {
    "duration": 22,
    "start_time": "2022-11-30T18:16:31.260Z"
   },
   {
    "duration": 10,
    "start_time": "2022-11-30T18:16:31.284Z"
   },
   {
    "duration": 31,
    "start_time": "2022-11-30T18:16:31.295Z"
   },
   {
    "duration": 19,
    "start_time": "2022-11-30T18:16:31.328Z"
   },
   {
    "duration": 105,
    "start_time": "2022-11-30T18:16:31.349Z"
   },
   {
    "duration": 10,
    "start_time": "2022-11-30T18:16:31.455Z"
   },
   {
    "duration": 44,
    "start_time": "2022-11-30T18:16:31.466Z"
   },
   {
    "duration": 54,
    "start_time": "2022-11-30T18:16:31.511Z"
   },
   {
    "duration": 16,
    "start_time": "2022-11-30T18:16:31.567Z"
   },
   {
    "duration": 35,
    "start_time": "2022-11-30T18:16:31.584Z"
   },
   {
    "duration": 14,
    "start_time": "2022-11-30T18:16:31.621Z"
   },
   {
    "duration": 19,
    "start_time": "2022-11-30T18:16:31.637Z"
   },
   {
    "duration": 82,
    "start_time": "2022-11-30T18:16:31.658Z"
   },
   {
    "duration": 10,
    "start_time": "2022-11-30T18:16:31.741Z"
   },
   {
    "duration": 7,
    "start_time": "2022-11-30T18:16:31.753Z"
   },
   {
    "duration": 260,
    "start_time": "2022-11-30T18:16:31.762Z"
   },
   {
    "duration": 243,
    "start_time": "2022-11-30T18:16:32.024Z"
   },
   {
    "duration": 199,
    "start_time": "2022-11-30T18:16:32.268Z"
   },
   {
    "duration": 340,
    "start_time": "2022-11-30T18:16:32.471Z"
   },
   {
    "duration": 179,
    "start_time": "2022-11-30T18:16:32.813Z"
   },
   {
    "duration": 314,
    "start_time": "2022-11-30T18:16:32.994Z"
   },
   {
    "duration": 128,
    "start_time": "2022-11-30T18:16:33.310Z"
   },
   {
    "duration": 5,
    "start_time": "2022-11-30T18:16:33.440Z"
   },
   {
    "duration": 137,
    "start_time": "2022-11-30T18:16:33.447Z"
   },
   {
    "duration": 13,
    "start_time": "2022-11-30T18:16:33.586Z"
   },
   {
    "duration": 14,
    "start_time": "2022-11-30T18:16:33.601Z"
   },
   {
    "duration": 212,
    "start_time": "2022-11-30T18:16:33.616Z"
   },
   {
    "duration": 26,
    "start_time": "2022-11-30T18:16:33.830Z"
   },
   {
    "duration": 9,
    "start_time": "2022-11-30T18:16:33.857Z"
   },
   {
    "duration": 9,
    "start_time": "2022-11-30T18:16:33.868Z"
   },
   {
    "duration": 6,
    "start_time": "2022-11-30T18:16:33.897Z"
   },
   {
    "duration": 30,
    "start_time": "2022-11-30T18:16:33.905Z"
   },
   {
    "duration": 15,
    "start_time": "2022-11-30T18:16:33.936Z"
   },
   {
    "duration": 171,
    "start_time": "2022-11-30T18:16:58.399Z"
   },
   {
    "duration": 387,
    "start_time": "2022-11-30T18:17:04.467Z"
   },
   {
    "duration": 114,
    "start_time": "2022-11-30T18:18:18.204Z"
   },
   {
    "duration": 8,
    "start_time": "2022-11-30T18:27:26.964Z"
   },
   {
    "duration": 8,
    "start_time": "2022-11-30T18:27:37.544Z"
   },
   {
    "duration": 24,
    "start_time": "2022-11-30T18:27:38.775Z"
   },
   {
    "duration": 1034,
    "start_time": "2022-11-30T18:31:54.712Z"
   },
   {
    "duration": 34,
    "start_time": "2022-11-30T18:31:55.748Z"
   },
   {
    "duration": 11,
    "start_time": "2022-11-30T18:31:55.783Z"
   },
   {
    "duration": 8,
    "start_time": "2022-11-30T18:31:55.796Z"
   },
   {
    "duration": 11,
    "start_time": "2022-11-30T18:31:55.805Z"
   },
   {
    "duration": 6,
    "start_time": "2022-11-30T18:31:55.817Z"
   },
   {
    "duration": 12,
    "start_time": "2022-11-30T18:31:55.824Z"
   },
   {
    "duration": 48,
    "start_time": "2022-11-30T18:31:55.837Z"
   },
   {
    "duration": 11,
    "start_time": "2022-11-30T18:31:55.887Z"
   },
   {
    "duration": 13,
    "start_time": "2022-11-30T18:31:55.901Z"
   },
   {
    "duration": 9,
    "start_time": "2022-11-30T18:31:55.915Z"
   },
   {
    "duration": 9,
    "start_time": "2022-11-30T18:31:55.926Z"
   },
   {
    "duration": 15,
    "start_time": "2022-11-30T18:31:55.936Z"
   },
   {
    "duration": 16,
    "start_time": "2022-11-30T18:31:55.953Z"
   },
   {
    "duration": 37,
    "start_time": "2022-11-30T18:31:55.971Z"
   },
   {
    "duration": 25,
    "start_time": "2022-11-30T18:31:56.010Z"
   },
   {
    "duration": 12,
    "start_time": "2022-11-30T18:31:56.037Z"
   },
   {
    "duration": 7,
    "start_time": "2022-11-30T18:31:56.050Z"
   },
   {
    "duration": 274,
    "start_time": "2022-11-30T18:31:56.059Z"
   },
   {
    "duration": 247,
    "start_time": "2022-11-30T18:31:56.335Z"
   },
   {
    "duration": 183,
    "start_time": "2022-11-30T18:31:56.584Z"
   },
   {
    "duration": 328,
    "start_time": "2022-11-30T18:31:56.769Z"
   },
   {
    "duration": 188,
    "start_time": "2022-11-30T18:31:57.099Z"
   },
   {
    "duration": 336,
    "start_time": "2022-11-30T18:31:57.297Z"
   },
   {
    "duration": 124,
    "start_time": "2022-11-30T18:31:57.635Z"
   },
   {
    "duration": 4,
    "start_time": "2022-11-30T18:31:57.761Z"
   },
   {
    "duration": 137,
    "start_time": "2022-11-30T18:31:57.766Z"
   },
   {
    "duration": 4,
    "start_time": "2022-11-30T18:31:57.905Z"
   },
   {
    "duration": 13,
    "start_time": "2022-11-30T18:31:57.910Z"
   },
   {
    "duration": 219,
    "start_time": "2022-11-30T18:31:57.924Z"
   },
   {
    "duration": 25,
    "start_time": "2022-11-30T18:31:58.145Z"
   },
   {
    "duration": 9,
    "start_time": "2022-11-30T18:31:58.172Z"
   },
   {
    "duration": 21,
    "start_time": "2022-11-30T18:31:58.183Z"
   },
   {
    "duration": 8,
    "start_time": "2022-11-30T18:31:58.205Z"
   },
   {
    "duration": 26,
    "start_time": "2022-11-30T18:31:58.214Z"
   },
   {
    "duration": 12,
    "start_time": "2022-11-30T18:31:58.242Z"
   },
   {
    "duration": 38,
    "start_time": "2022-11-30T18:33:42.810Z"
   },
   {
    "duration": 118,
    "start_time": "2022-11-30T18:34:29.451Z"
   },
   {
    "duration": 208,
    "start_time": "2022-11-30T18:34:32.998Z"
   },
   {
    "duration": 120,
    "start_time": "2022-11-30T18:34:37.202Z"
   },
   {
    "duration": 52,
    "start_time": "2022-11-30T18:35:34.619Z"
   },
   {
    "duration": 1068,
    "start_time": "2022-11-30T18:38:59.199Z"
   },
   {
    "duration": 35,
    "start_time": "2022-11-30T18:39:00.269Z"
   },
   {
    "duration": 12,
    "start_time": "2022-11-30T18:39:00.306Z"
   },
   {
    "duration": 7,
    "start_time": "2022-11-30T18:39:00.320Z"
   },
   {
    "duration": 18,
    "start_time": "2022-11-30T18:39:00.328Z"
   },
   {
    "duration": 14,
    "start_time": "2022-11-30T18:39:00.347Z"
   },
   {
    "duration": 12,
    "start_time": "2022-11-30T18:39:00.363Z"
   },
   {
    "duration": 60,
    "start_time": "2022-11-30T18:39:00.376Z"
   },
   {
    "duration": 12,
    "start_time": "2022-11-30T18:39:00.438Z"
   },
   {
    "duration": 16,
    "start_time": "2022-11-30T18:39:00.452Z"
   },
   {
    "duration": 24,
    "start_time": "2022-11-30T18:39:00.469Z"
   },
   {
    "duration": 28,
    "start_time": "2022-11-30T18:39:00.495Z"
   },
   {
    "duration": 19,
    "start_time": "2022-11-30T18:39:00.524Z"
   },
   {
    "duration": 25,
    "start_time": "2022-11-30T18:39:00.545Z"
   },
   {
    "duration": 26,
    "start_time": "2022-11-30T18:39:00.572Z"
   },
   {
    "duration": 39,
    "start_time": "2022-11-30T18:39:00.599Z"
   },
   {
    "duration": 12,
    "start_time": "2022-11-30T18:39:00.639Z"
   },
   {
    "duration": 8,
    "start_time": "2022-11-30T18:39:00.653Z"
   },
   {
    "duration": 286,
    "start_time": "2022-11-30T18:39:00.662Z"
   },
   {
    "duration": 256,
    "start_time": "2022-11-30T18:39:00.950Z"
   },
   {
    "duration": 199,
    "start_time": "2022-11-30T18:39:01.208Z"
   },
   {
    "duration": 270,
    "start_time": "2022-11-30T18:39:01.410Z"
   },
   {
    "duration": 197,
    "start_time": "2022-11-30T18:39:01.682Z"
   },
   {
    "duration": 335,
    "start_time": "2022-11-30T18:39:01.881Z"
   },
   {
    "duration": 123,
    "start_time": "2022-11-30T18:39:02.218Z"
   },
   {
    "duration": 4,
    "start_time": "2022-11-30T18:39:02.343Z"
   },
   {
    "duration": 137,
    "start_time": "2022-11-30T18:39:02.348Z"
   },
   {
    "duration": 10,
    "start_time": "2022-11-30T18:39:02.488Z"
   },
   {
    "duration": 20,
    "start_time": "2022-11-30T18:39:02.500Z"
   },
   {
    "duration": 196,
    "start_time": "2022-11-30T18:39:02.522Z"
   },
   {
    "duration": 25,
    "start_time": "2022-11-30T18:39:02.719Z"
   },
   {
    "duration": 8,
    "start_time": "2022-11-30T18:39:02.746Z"
   },
   {
    "duration": 11,
    "start_time": "2022-11-30T18:39:02.756Z"
   },
   {
    "duration": 16,
    "start_time": "2022-11-30T18:39:02.769Z"
   },
   {
    "duration": 34,
    "start_time": "2022-11-30T18:39:02.797Z"
   },
   {
    "duration": 12,
    "start_time": "2022-11-30T18:39:02.832Z"
   },
   {
    "duration": 1157,
    "start_time": "2022-12-01T09:22:47.029Z"
   },
   {
    "duration": 99,
    "start_time": "2022-12-01T09:22:48.188Z"
   },
   {
    "duration": 12,
    "start_time": "2022-12-01T09:22:48.288Z"
   },
   {
    "duration": 7,
    "start_time": "2022-12-01T09:22:48.303Z"
   },
   {
    "duration": 11,
    "start_time": "2022-12-01T09:22:48.311Z"
   },
   {
    "duration": 6,
    "start_time": "2022-12-01T09:22:48.323Z"
   },
   {
    "duration": 12,
    "start_time": "2022-12-01T09:22:48.331Z"
   },
   {
    "duration": 91,
    "start_time": "2022-12-01T09:22:48.345Z"
   },
   {
    "duration": 12,
    "start_time": "2022-12-01T09:22:48.437Z"
   },
   {
    "duration": 18,
    "start_time": "2022-12-01T09:22:48.451Z"
   },
   {
    "duration": 18,
    "start_time": "2022-12-01T09:22:48.470Z"
   },
   {
    "duration": 7,
    "start_time": "2022-12-01T09:22:48.489Z"
   },
   {
    "duration": 18,
    "start_time": "2022-12-01T09:22:48.497Z"
   },
   {
    "duration": 15,
    "start_time": "2022-12-01T09:22:48.522Z"
   },
   {
    "duration": 13,
    "start_time": "2022-12-01T09:22:48.539Z"
   },
   {
    "duration": 78,
    "start_time": "2022-12-01T09:22:48.553Z"
   },
   {
    "duration": 11,
    "start_time": "2022-12-01T09:22:48.633Z"
   },
   {
    "duration": 6,
    "start_time": "2022-12-01T09:22:48.646Z"
   },
   {
    "duration": 300,
    "start_time": "2022-12-01T09:22:48.654Z"
   },
   {
    "duration": 322,
    "start_time": "2022-12-01T09:22:48.956Z"
   },
   {
    "duration": 214,
    "start_time": "2022-12-01T09:22:49.280Z"
   },
   {
    "duration": 306,
    "start_time": "2022-12-01T09:22:49.496Z"
   },
   {
    "duration": 206,
    "start_time": "2022-12-01T09:22:49.804Z"
   },
   {
    "duration": 341,
    "start_time": "2022-12-01T09:22:50.012Z"
   },
   {
    "duration": 140,
    "start_time": "2022-12-01T09:22:50.355Z"
   },
   {
    "duration": 5,
    "start_time": "2022-12-01T09:22:50.496Z"
   },
   {
    "duration": 143,
    "start_time": "2022-12-01T09:22:50.502Z"
   },
   {
    "duration": 4,
    "start_time": "2022-12-01T09:22:50.648Z"
   },
   {
    "duration": 15,
    "start_time": "2022-12-01T09:22:50.653Z"
   },
   {
    "duration": 262,
    "start_time": "2022-12-01T09:22:50.670Z"
   },
   {
    "duration": 26,
    "start_time": "2022-12-01T09:22:50.934Z"
   },
   {
    "duration": 12,
    "start_time": "2022-12-01T09:22:50.961Z"
   },
   {
    "duration": 16,
    "start_time": "2022-12-01T09:22:50.974Z"
   },
   {
    "duration": 37,
    "start_time": "2022-12-01T09:22:50.992Z"
   },
   {
    "duration": 33,
    "start_time": "2022-12-01T09:22:51.031Z"
   },
   {
    "duration": 15,
    "start_time": "2022-12-01T09:22:51.066Z"
   },
   {
    "duration": 102,
    "start_time": "2022-12-01T09:25:23.415Z"
   },
   {
    "duration": 9,
    "start_time": "2022-12-01T09:25:31.907Z"
   },
   {
    "duration": 1144,
    "start_time": "2022-12-01T09:28:42.233Z"
   },
   {
    "duration": 36,
    "start_time": "2022-12-01T09:28:43.380Z"
   },
   {
    "duration": 13,
    "start_time": "2022-12-01T09:28:43.420Z"
   },
   {
    "duration": 27,
    "start_time": "2022-12-01T09:28:43.435Z"
   },
   {
    "duration": 24,
    "start_time": "2022-12-01T09:28:43.463Z"
   },
   {
    "duration": 27,
    "start_time": "2022-12-01T09:28:43.489Z"
   },
   {
    "duration": 24,
    "start_time": "2022-12-01T09:28:43.518Z"
   },
   {
    "duration": 60,
    "start_time": "2022-12-01T09:28:43.544Z"
   },
   {
    "duration": 12,
    "start_time": "2022-12-01T09:28:43.607Z"
   },
   {
    "duration": 27,
    "start_time": "2022-12-01T09:28:43.622Z"
   },
   {
    "duration": 8,
    "start_time": "2022-12-01T09:28:43.652Z"
   },
   {
    "duration": 29,
    "start_time": "2022-12-01T09:28:43.663Z"
   },
   {
    "duration": 32,
    "start_time": "2022-12-01T09:28:43.695Z"
   },
   {
    "duration": 111,
    "start_time": "2022-12-01T09:28:43.728Z"
   },
   {
    "duration": 0,
    "start_time": "2022-12-01T09:28:43.841Z"
   },
   {
    "duration": 0,
    "start_time": "2022-12-01T09:28:43.842Z"
   },
   {
    "duration": 0,
    "start_time": "2022-12-01T09:28:43.844Z"
   },
   {
    "duration": 0,
    "start_time": "2022-12-01T09:28:43.846Z"
   },
   {
    "duration": 0,
    "start_time": "2022-12-01T09:28:43.847Z"
   },
   {
    "duration": 0,
    "start_time": "2022-12-01T09:28:43.850Z"
   },
   {
    "duration": 0,
    "start_time": "2022-12-01T09:28:43.852Z"
   },
   {
    "duration": 0,
    "start_time": "2022-12-01T09:28:43.854Z"
   },
   {
    "duration": 0,
    "start_time": "2022-12-01T09:28:43.856Z"
   },
   {
    "duration": 0,
    "start_time": "2022-12-01T09:28:43.858Z"
   },
   {
    "duration": 0,
    "start_time": "2022-12-01T09:28:43.860Z"
   },
   {
    "duration": 0,
    "start_time": "2022-12-01T09:28:43.862Z"
   },
   {
    "duration": 0,
    "start_time": "2022-12-01T09:28:43.864Z"
   },
   {
    "duration": 0,
    "start_time": "2022-12-01T09:28:43.867Z"
   },
   {
    "duration": 0,
    "start_time": "2022-12-01T09:28:43.869Z"
   },
   {
    "duration": 0,
    "start_time": "2022-12-01T09:28:43.870Z"
   },
   {
    "duration": 0,
    "start_time": "2022-12-01T09:28:43.872Z"
   },
   {
    "duration": 0,
    "start_time": "2022-12-01T09:28:43.921Z"
   },
   {
    "duration": 0,
    "start_time": "2022-12-01T09:28:43.923Z"
   },
   {
    "duration": 0,
    "start_time": "2022-12-01T09:28:43.925Z"
   },
   {
    "duration": 0,
    "start_time": "2022-12-01T09:28:43.927Z"
   },
   {
    "duration": 0,
    "start_time": "2022-12-01T09:28:43.929Z"
   },
   {
    "duration": 0,
    "start_time": "2022-12-01T09:28:43.931Z"
   },
   {
    "duration": 8,
    "start_time": "2022-12-01T09:28:57.896Z"
   },
   {
    "duration": 1151,
    "start_time": "2022-12-01T09:29:02.350Z"
   },
   {
    "duration": 39,
    "start_time": "2022-12-01T09:29:03.503Z"
   },
   {
    "duration": 14,
    "start_time": "2022-12-01T09:29:03.543Z"
   },
   {
    "duration": 8,
    "start_time": "2022-12-01T09:29:03.559Z"
   },
   {
    "duration": 13,
    "start_time": "2022-12-01T09:29:03.568Z"
   },
   {
    "duration": 5,
    "start_time": "2022-12-01T09:29:03.583Z"
   },
   {
    "duration": 13,
    "start_time": "2022-12-01T09:29:03.590Z"
   },
   {
    "duration": 46,
    "start_time": "2022-12-01T09:29:03.621Z"
   },
   {
    "duration": 13,
    "start_time": "2022-12-01T09:29:03.669Z"
   },
   {
    "duration": 15,
    "start_time": "2022-12-01T09:29:03.685Z"
   },
   {
    "duration": 7,
    "start_time": "2022-12-01T09:29:03.702Z"
   },
   {
    "duration": 6,
    "start_time": "2022-12-01T09:29:03.711Z"
   },
   {
    "duration": 13,
    "start_time": "2022-12-01T09:29:03.719Z"
   },
   {
    "duration": 9,
    "start_time": "2022-12-01T09:29:03.734Z"
   },
   {
    "duration": 13,
    "start_time": "2022-12-01T09:29:03.744Z"
   },
   {
    "duration": 11,
    "start_time": "2022-12-01T09:29:03.759Z"
   },
   {
    "duration": 51,
    "start_time": "2022-12-01T09:29:03.773Z"
   },
   {
    "duration": 21,
    "start_time": "2022-12-01T09:29:03.827Z"
   },
   {
    "duration": 6,
    "start_time": "2022-12-01T09:29:03.852Z"
   },
   {
    "duration": 370,
    "start_time": "2022-12-01T09:29:03.860Z"
   },
   {
    "duration": 304,
    "start_time": "2022-12-01T09:29:04.232Z"
   },
   {
    "duration": 212,
    "start_time": "2022-12-01T09:29:04.538Z"
   },
   {
    "duration": 279,
    "start_time": "2022-12-01T09:29:04.752Z"
   },
   {
    "duration": 210,
    "start_time": "2022-12-01T09:29:05.032Z"
   },
   {
    "duration": 312,
    "start_time": "2022-12-01T09:29:05.244Z"
   },
   {
    "duration": 160,
    "start_time": "2022-12-01T09:29:05.557Z"
   },
   {
    "duration": 4,
    "start_time": "2022-12-01T09:29:05.722Z"
   },
   {
    "duration": 162,
    "start_time": "2022-12-01T09:29:05.729Z"
   },
   {
    "duration": 5,
    "start_time": "2022-12-01T09:29:05.894Z"
   },
   {
    "duration": 29,
    "start_time": "2022-12-01T09:29:05.900Z"
   },
   {
    "duration": 241,
    "start_time": "2022-12-01T09:29:05.931Z"
   },
   {
    "duration": 29,
    "start_time": "2022-12-01T09:29:06.174Z"
   },
   {
    "duration": 24,
    "start_time": "2022-12-01T09:29:06.205Z"
   },
   {
    "duration": 13,
    "start_time": "2022-12-01T09:29:06.230Z"
   },
   {
    "duration": 39,
    "start_time": "2022-12-01T09:29:06.245Z"
   },
   {
    "duration": 45,
    "start_time": "2022-12-01T09:29:06.285Z"
   },
   {
    "duration": 14,
    "start_time": "2022-12-01T09:29:06.332Z"
   },
   {
    "duration": 1190,
    "start_time": "2022-12-01T09:30:01.593Z"
   },
   {
    "duration": 37,
    "start_time": "2022-12-01T09:30:02.785Z"
   },
   {
    "duration": 13,
    "start_time": "2022-12-01T09:30:02.824Z"
   },
   {
    "duration": 17,
    "start_time": "2022-12-01T09:30:02.841Z"
   },
   {
    "duration": 23,
    "start_time": "2022-12-01T09:30:02.861Z"
   },
   {
    "duration": 14,
    "start_time": "2022-12-01T09:30:02.886Z"
   },
   {
    "duration": 25,
    "start_time": "2022-12-01T09:30:02.903Z"
   },
   {
    "duration": 78,
    "start_time": "2022-12-01T09:30:02.931Z"
   },
   {
    "duration": 14,
    "start_time": "2022-12-01T09:30:03.012Z"
   },
   {
    "duration": 21,
    "start_time": "2022-12-01T09:30:03.028Z"
   },
   {
    "duration": 19,
    "start_time": "2022-12-01T09:30:03.051Z"
   },
   {
    "duration": 19,
    "start_time": "2022-12-01T09:30:03.072Z"
   },
   {
    "duration": 26,
    "start_time": "2022-12-01T09:30:03.092Z"
   },
   {
    "duration": 32,
    "start_time": "2022-12-01T09:30:03.120Z"
   },
   {
    "duration": 25,
    "start_time": "2022-12-01T09:30:03.153Z"
   },
   {
    "duration": 44,
    "start_time": "2022-12-01T09:30:03.180Z"
   },
   {
    "duration": 13,
    "start_time": "2022-12-01T09:30:03.225Z"
   },
   {
    "duration": 26,
    "start_time": "2022-12-01T09:30:03.240Z"
   },
   {
    "duration": 293,
    "start_time": "2022-12-01T09:30:03.268Z"
   },
   {
    "duration": 315,
    "start_time": "2022-12-01T09:30:03.563Z"
   },
   {
    "duration": 224,
    "start_time": "2022-12-01T09:30:03.880Z"
   },
   {
    "duration": 324,
    "start_time": "2022-12-01T09:30:04.106Z"
   },
   {
    "duration": 208,
    "start_time": "2022-12-01T09:30:04.432Z"
   },
   {
    "duration": 332,
    "start_time": "2022-12-01T09:30:04.642Z"
   },
   {
    "duration": 140,
    "start_time": "2022-12-01T09:30:04.976Z"
   },
   {
    "duration": 4,
    "start_time": "2022-12-01T09:30:05.121Z"
   },
   {
    "duration": 157,
    "start_time": "2022-12-01T09:30:05.127Z"
   },
   {
    "duration": 4,
    "start_time": "2022-12-01T09:30:05.287Z"
   },
   {
    "duration": 32,
    "start_time": "2022-12-01T09:30:05.293Z"
   },
   {
    "duration": 231,
    "start_time": "2022-12-01T09:30:05.327Z"
   },
   {
    "duration": 27,
    "start_time": "2022-12-01T09:30:05.560Z"
   },
   {
    "duration": 33,
    "start_time": "2022-12-01T09:30:05.589Z"
   },
   {
    "duration": 10,
    "start_time": "2022-12-01T09:30:05.624Z"
   },
   {
    "duration": 14,
    "start_time": "2022-12-01T09:30:05.635Z"
   },
   {
    "duration": 39,
    "start_time": "2022-12-01T09:30:05.651Z"
   },
   {
    "duration": 32,
    "start_time": "2022-12-01T09:30:05.691Z"
   },
   {
    "duration": 49,
    "start_time": "2022-12-01T20:22:52.170Z"
   },
   {
    "duration": 1239,
    "start_time": "2022-12-01T20:22:57.271Z"
   },
   {
    "duration": 81,
    "start_time": "2022-12-01T20:22:58.511Z"
   },
   {
    "duration": 13,
    "start_time": "2022-12-01T20:22:58.594Z"
   },
   {
    "duration": 13,
    "start_time": "2022-12-01T20:22:58.610Z"
   },
   {
    "duration": 34,
    "start_time": "2022-12-01T20:22:58.625Z"
   },
   {
    "duration": 20,
    "start_time": "2022-12-01T20:22:58.661Z"
   },
   {
    "duration": 37,
    "start_time": "2022-12-01T20:22:58.683Z"
   },
   {
    "duration": 130,
    "start_time": "2022-12-01T20:22:58.722Z"
   },
   {
    "duration": 12,
    "start_time": "2022-12-01T20:22:58.854Z"
   },
   {
    "duration": 98,
    "start_time": "2022-12-01T20:22:58.870Z"
   },
   {
    "duration": 24,
    "start_time": "2022-12-01T20:22:58.969Z"
   },
   {
    "duration": 6,
    "start_time": "2022-12-01T20:22:58.995Z"
   },
   {
    "duration": 19,
    "start_time": "2022-12-01T20:22:59.004Z"
   },
   {
    "duration": 38,
    "start_time": "2022-12-01T20:22:59.024Z"
   },
   {
    "duration": 0,
    "start_time": "2022-12-01T20:22:59.064Z"
   },
   {
    "duration": 0,
    "start_time": "2022-12-01T20:22:59.065Z"
   },
   {
    "duration": 0,
    "start_time": "2022-12-01T20:22:59.066Z"
   },
   {
    "duration": 0,
    "start_time": "2022-12-01T20:22:59.067Z"
   },
   {
    "duration": 0,
    "start_time": "2022-12-01T20:22:59.068Z"
   },
   {
    "duration": 0,
    "start_time": "2022-12-01T20:22:59.069Z"
   },
   {
    "duration": 0,
    "start_time": "2022-12-01T20:22:59.070Z"
   },
   {
    "duration": 0,
    "start_time": "2022-12-01T20:22:59.071Z"
   },
   {
    "duration": 0,
    "start_time": "2022-12-01T20:22:59.072Z"
   },
   {
    "duration": 0,
    "start_time": "2022-12-01T20:22:59.072Z"
   },
   {
    "duration": 0,
    "start_time": "2022-12-01T20:22:59.073Z"
   },
   {
    "duration": 0,
    "start_time": "2022-12-01T20:22:59.075Z"
   },
   {
    "duration": 0,
    "start_time": "2022-12-01T20:22:59.076Z"
   },
   {
    "duration": 0,
    "start_time": "2022-12-01T20:22:59.077Z"
   },
   {
    "duration": 0,
    "start_time": "2022-12-01T20:22:59.077Z"
   },
   {
    "duration": 0,
    "start_time": "2022-12-01T20:22:59.078Z"
   },
   {
    "duration": 0,
    "start_time": "2022-12-01T20:22:59.080Z"
   },
   {
    "duration": 0,
    "start_time": "2022-12-01T20:22:59.081Z"
   },
   {
    "duration": 0,
    "start_time": "2022-12-01T20:22:59.082Z"
   },
   {
    "duration": 0,
    "start_time": "2022-12-01T20:22:59.083Z"
   },
   {
    "duration": 0,
    "start_time": "2022-12-01T20:22:59.084Z"
   },
   {
    "duration": 0,
    "start_time": "2022-12-01T20:22:59.085Z"
   },
   {
    "duration": 0,
    "start_time": "2022-12-01T20:22:59.086Z"
   },
   {
    "duration": 22,
    "start_time": "2022-12-01T20:23:55.747Z"
   },
   {
    "duration": 53,
    "start_time": "2022-12-01T20:28:50.526Z"
   },
   {
    "duration": 28,
    "start_time": "2022-12-01T20:28:54.921Z"
   },
   {
    "duration": 31,
    "start_time": "2022-12-01T20:29:55.506Z"
   },
   {
    "duration": 51,
    "start_time": "2022-12-01T20:33:18.536Z"
   },
   {
    "duration": 45,
    "start_time": "2022-12-01T20:33:28.520Z"
   },
   {
    "duration": 49,
    "start_time": "2022-12-01T20:33:33.463Z"
   },
   {
    "duration": 43,
    "start_time": "2022-12-01T20:33:43.550Z"
   },
   {
    "duration": 64,
    "start_time": "2022-12-01T20:33:50.606Z"
   },
   {
    "duration": 51,
    "start_time": "2022-12-01T20:34:11.542Z"
   },
   {
    "duration": 46,
    "start_time": "2022-12-01T20:34:23.631Z"
   },
   {
    "duration": 47,
    "start_time": "2022-12-01T20:34:30.354Z"
   },
   {
    "duration": 48,
    "start_time": "2022-12-01T20:36:40.037Z"
   },
   {
    "duration": 77,
    "start_time": "2022-12-01T20:36:51.364Z"
   },
   {
    "duration": 69,
    "start_time": "2022-12-01T20:37:26.628Z"
   },
   {
    "duration": 98,
    "start_time": "2022-12-01T20:37:49.897Z"
   },
   {
    "duration": 11,
    "start_time": "2022-12-01T20:44:09.544Z"
   },
   {
    "duration": 32,
    "start_time": "2022-12-01T20:44:39.964Z"
   },
   {
    "duration": 13,
    "start_time": "2022-12-01T20:44:55.936Z"
   },
   {
    "duration": 29,
    "start_time": "2022-12-01T20:45:00.073Z"
   },
   {
    "duration": 31,
    "start_time": "2022-12-01T20:45:04.615Z"
   },
   {
    "duration": 29,
    "start_time": "2022-12-01T20:45:13.004Z"
   },
   {
    "duration": 512,
    "start_time": "2022-12-01T20:45:22.576Z"
   },
   {
    "duration": 7,
    "start_time": "2022-12-01T20:46:05.444Z"
   },
   {
    "duration": 17,
    "start_time": "2022-12-01T20:46:37.743Z"
   },
   {
    "duration": 18,
    "start_time": "2022-12-01T20:48:27.765Z"
   },
   {
    "duration": 1025,
    "start_time": "2022-12-01T20:48:37.154Z"
   },
   {
    "duration": 34,
    "start_time": "2022-12-01T20:48:38.181Z"
   },
   {
    "duration": 12,
    "start_time": "2022-12-01T20:48:38.217Z"
   },
   {
    "duration": 10,
    "start_time": "2022-12-01T20:48:38.231Z"
   },
   {
    "duration": 16,
    "start_time": "2022-12-01T20:48:38.243Z"
   },
   {
    "duration": 11,
    "start_time": "2022-12-01T20:48:38.261Z"
   },
   {
    "duration": 16,
    "start_time": "2022-12-01T20:48:38.273Z"
   },
   {
    "duration": 54,
    "start_time": "2022-12-01T20:48:38.291Z"
   },
   {
    "duration": 11,
    "start_time": "2022-12-01T20:48:38.346Z"
   },
   {
    "duration": 14,
    "start_time": "2022-12-01T20:48:38.359Z"
   },
   {
    "duration": 13,
    "start_time": "2022-12-01T20:48:38.374Z"
   },
   {
    "duration": 8,
    "start_time": "2022-12-01T20:48:38.388Z"
   },
   {
    "duration": 18,
    "start_time": "2022-12-01T20:48:38.398Z"
   },
   {
    "duration": 20,
    "start_time": "2022-12-01T20:48:38.417Z"
   },
   {
    "duration": 27,
    "start_time": "2022-12-01T20:48:38.438Z"
   },
   {
    "duration": 19,
    "start_time": "2022-12-01T20:48:38.467Z"
   },
   {
    "duration": 74,
    "start_time": "2022-12-01T20:48:38.488Z"
   },
   {
    "duration": 10,
    "start_time": "2022-12-01T20:48:38.564Z"
   },
   {
    "duration": 14,
    "start_time": "2022-12-01T20:48:38.576Z"
   },
   {
    "duration": 299,
    "start_time": "2022-12-01T20:48:38.591Z"
   },
   {
    "duration": 274,
    "start_time": "2022-12-01T20:48:38.892Z"
   },
   {
    "duration": 210,
    "start_time": "2022-12-01T20:48:39.168Z"
   },
   {
    "duration": 262,
    "start_time": "2022-12-01T20:48:39.380Z"
   },
   {
    "duration": 188,
    "start_time": "2022-12-01T20:48:39.644Z"
   },
   {
    "duration": 318,
    "start_time": "2022-12-01T20:48:39.835Z"
   },
   {
    "duration": 127,
    "start_time": "2022-12-01T20:48:40.155Z"
   },
   {
    "duration": 4,
    "start_time": "2022-12-01T20:48:40.284Z"
   },
   {
    "duration": 145,
    "start_time": "2022-12-01T20:48:40.290Z"
   },
   {
    "duration": 4,
    "start_time": "2022-12-01T20:48:40.437Z"
   },
   {
    "duration": 15,
    "start_time": "2022-12-01T20:48:40.442Z"
   },
   {
    "duration": 219,
    "start_time": "2022-12-01T20:48:40.459Z"
   },
   {
    "duration": 26,
    "start_time": "2022-12-01T20:48:40.680Z"
   },
   {
    "duration": 10,
    "start_time": "2022-12-01T20:48:40.708Z"
   },
   {
    "duration": 30,
    "start_time": "2022-12-01T20:48:40.719Z"
   },
   {
    "duration": 13,
    "start_time": "2022-12-01T20:48:40.751Z"
   },
   {
    "duration": 50,
    "start_time": "2022-12-01T20:48:40.766Z"
   },
   {
    "duration": 13,
    "start_time": "2022-12-01T20:48:40.817Z"
   },
   {
    "duration": 1112,
    "start_time": "2022-12-01T20:49:03.580Z"
   },
   {
    "duration": 36,
    "start_time": "2022-12-01T20:49:04.694Z"
   },
   {
    "duration": 13,
    "start_time": "2022-12-01T20:49:04.731Z"
   },
   {
    "duration": 20,
    "start_time": "2022-12-01T20:49:04.745Z"
   },
   {
    "duration": 21,
    "start_time": "2022-12-01T20:49:04.768Z"
   },
   {
    "duration": 44,
    "start_time": "2022-12-01T20:49:04.790Z"
   },
   {
    "duration": 45,
    "start_time": "2022-12-01T20:49:04.835Z"
   },
   {
    "duration": 75,
    "start_time": "2022-12-01T20:49:04.881Z"
   },
   {
    "duration": 11,
    "start_time": "2022-12-01T20:49:04.958Z"
   },
   {
    "duration": 27,
    "start_time": "2022-12-01T20:49:04.971Z"
   },
   {
    "duration": 27,
    "start_time": "2022-12-01T20:49:05.000Z"
   },
   {
    "duration": 33,
    "start_time": "2022-12-01T20:49:05.029Z"
   },
   {
    "duration": 42,
    "start_time": "2022-12-01T20:49:05.064Z"
   },
   {
    "duration": 40,
    "start_time": "2022-12-01T20:49:05.109Z"
   },
   {
    "duration": 19,
    "start_time": "2022-12-01T20:49:05.151Z"
   },
   {
    "duration": 31,
    "start_time": "2022-12-01T20:49:05.171Z"
   },
   {
    "duration": 53,
    "start_time": "2022-12-01T20:49:05.204Z"
   },
   {
    "duration": 38,
    "start_time": "2022-12-01T20:49:05.259Z"
   },
   {
    "duration": 28,
    "start_time": "2022-12-01T20:49:05.299Z"
   },
   {
    "duration": 312,
    "start_time": "2022-12-01T20:49:05.329Z"
   },
   {
    "duration": 281,
    "start_time": "2022-12-01T20:49:05.643Z"
   },
   {
    "duration": 199,
    "start_time": "2022-12-01T20:49:05.925Z"
   },
   {
    "duration": 298,
    "start_time": "2022-12-01T20:49:06.126Z"
   },
   {
    "duration": 238,
    "start_time": "2022-12-01T20:49:06.425Z"
   },
   {
    "duration": 301,
    "start_time": "2022-12-01T20:49:06.664Z"
   },
   {
    "duration": 139,
    "start_time": "2022-12-01T20:49:06.966Z"
   },
   {
    "duration": 4,
    "start_time": "2022-12-01T20:49:07.106Z"
   },
   {
    "duration": 149,
    "start_time": "2022-12-01T20:49:07.112Z"
   },
   {
    "duration": 4,
    "start_time": "2022-12-01T20:49:07.263Z"
   },
   {
    "duration": 41,
    "start_time": "2022-12-01T20:49:07.269Z"
   },
   {
    "duration": 220,
    "start_time": "2022-12-01T20:49:07.312Z"
   },
   {
    "duration": 27,
    "start_time": "2022-12-01T20:49:07.535Z"
   },
   {
    "duration": 19,
    "start_time": "2022-12-01T20:49:07.563Z"
   },
   {
    "duration": 26,
    "start_time": "2022-12-01T20:49:07.584Z"
   },
   {
    "duration": 39,
    "start_time": "2022-12-01T20:49:07.612Z"
   },
   {
    "duration": 44,
    "start_time": "2022-12-01T20:49:07.653Z"
   },
   {
    "duration": 18,
    "start_time": "2022-12-01T20:49:07.699Z"
   },
   {
    "duration": 19,
    "start_time": "2022-12-01T20:53:13.017Z"
   },
   {
    "duration": 11,
    "start_time": "2022-12-01T20:54:37.397Z"
   },
   {
    "duration": 49,
    "start_time": "2022-12-01T20:55:35.377Z"
   },
   {
    "duration": 5,
    "start_time": "2022-12-01T20:56:22.058Z"
   },
   {
    "duration": 6,
    "start_time": "2022-12-01T21:01:36.799Z"
   },
   {
    "duration": 102,
    "start_time": "2022-12-01T21:02:00.118Z"
   },
   {
    "duration": 65,
    "start_time": "2022-12-01T21:02:02.983Z"
   },
   {
    "duration": 49,
    "start_time": "2022-12-01T21:02:34.597Z"
   },
   {
    "duration": 50,
    "start_time": "2022-12-01T21:02:41.835Z"
   },
   {
    "duration": 49,
    "start_time": "2022-12-01T21:02:45.726Z"
   },
   {
    "duration": 52,
    "start_time": "2022-12-01T21:02:49.559Z"
   },
   {
    "duration": 6,
    "start_time": "2022-12-01T21:04:36.271Z"
   },
   {
    "duration": 1112,
    "start_time": "2022-12-01T21:04:42.097Z"
   },
   {
    "duration": 36,
    "start_time": "2022-12-01T21:04:43.212Z"
   },
   {
    "duration": 12,
    "start_time": "2022-12-01T21:04:43.249Z"
   },
   {
    "duration": 12,
    "start_time": "2022-12-01T21:04:43.263Z"
   },
   {
    "duration": 10,
    "start_time": "2022-12-01T21:04:43.276Z"
   },
   {
    "duration": 11,
    "start_time": "2022-12-01T21:04:43.287Z"
   },
   {
    "duration": 16,
    "start_time": "2022-12-01T21:04:43.300Z"
   },
   {
    "duration": 54,
    "start_time": "2022-12-01T21:04:43.318Z"
   },
   {
    "duration": 11,
    "start_time": "2022-12-01T21:04:43.374Z"
   },
   {
    "duration": 16,
    "start_time": "2022-12-01T21:04:43.388Z"
   },
   {
    "duration": 5,
    "start_time": "2022-12-01T21:04:43.406Z"
   },
   {
    "duration": 5,
    "start_time": "2022-12-01T21:04:43.412Z"
   },
   {
    "duration": 26,
    "start_time": "2022-12-01T21:04:43.418Z"
   },
   {
    "duration": 47,
    "start_time": "2022-12-01T21:04:43.446Z"
   },
   {
    "duration": 124,
    "start_time": "2022-12-01T21:04:43.495Z"
   },
   {
    "duration": 0,
    "start_time": "2022-12-01T21:04:43.622Z"
   },
   {
    "duration": 0,
    "start_time": "2022-12-01T21:04:43.623Z"
   },
   {
    "duration": 0,
    "start_time": "2022-12-01T21:04:43.624Z"
   },
   {
    "duration": 0,
    "start_time": "2022-12-01T21:04:43.635Z"
   },
   {
    "duration": 0,
    "start_time": "2022-12-01T21:04:43.636Z"
   },
   {
    "duration": 0,
    "start_time": "2022-12-01T21:04:43.638Z"
   },
   {
    "duration": 0,
    "start_time": "2022-12-01T21:04:43.638Z"
   },
   {
    "duration": 0,
    "start_time": "2022-12-01T21:04:43.640Z"
   },
   {
    "duration": 0,
    "start_time": "2022-12-01T21:04:43.640Z"
   },
   {
    "duration": 0,
    "start_time": "2022-12-01T21:04:43.642Z"
   },
   {
    "duration": 0,
    "start_time": "2022-12-01T21:04:43.643Z"
   },
   {
    "duration": 0,
    "start_time": "2022-12-01T21:04:43.644Z"
   },
   {
    "duration": 0,
    "start_time": "2022-12-01T21:04:43.645Z"
   },
   {
    "duration": 1,
    "start_time": "2022-12-01T21:04:43.645Z"
   },
   {
    "duration": 0,
    "start_time": "2022-12-01T21:04:43.647Z"
   },
   {
    "duration": 0,
    "start_time": "2022-12-01T21:04:43.648Z"
   },
   {
    "duration": 0,
    "start_time": "2022-12-01T21:04:43.649Z"
   },
   {
    "duration": 0,
    "start_time": "2022-12-01T21:04:43.650Z"
   },
   {
    "duration": 0,
    "start_time": "2022-12-01T21:04:43.651Z"
   },
   {
    "duration": 0,
    "start_time": "2022-12-01T21:04:43.652Z"
   },
   {
    "duration": 0,
    "start_time": "2022-12-01T21:04:43.653Z"
   },
   {
    "duration": 0,
    "start_time": "2022-12-01T21:04:43.654Z"
   },
   {
    "duration": 0,
    "start_time": "2022-12-01T21:04:43.655Z"
   },
   {
    "duration": 1151,
    "start_time": "2022-12-01T21:05:16.518Z"
   },
   {
    "duration": 39,
    "start_time": "2022-12-01T21:05:17.671Z"
   },
   {
    "duration": 14,
    "start_time": "2022-12-01T21:05:17.712Z"
   },
   {
    "duration": 30,
    "start_time": "2022-12-01T21:05:17.729Z"
   },
   {
    "duration": 24,
    "start_time": "2022-12-01T21:05:17.761Z"
   },
   {
    "duration": 7,
    "start_time": "2022-12-01T21:05:17.786Z"
   },
   {
    "duration": 13,
    "start_time": "2022-12-01T21:05:17.794Z"
   },
   {
    "duration": 48,
    "start_time": "2022-12-01T21:05:17.808Z"
   },
   {
    "duration": 11,
    "start_time": "2022-12-01T21:05:17.858Z"
   },
   {
    "duration": 10,
    "start_time": "2022-12-01T21:05:17.871Z"
   },
   {
    "duration": 4,
    "start_time": "2022-12-01T21:05:17.882Z"
   },
   {
    "duration": 7,
    "start_time": "2022-12-01T21:05:17.888Z"
   },
   {
    "duration": 19,
    "start_time": "2022-12-01T21:05:17.897Z"
   },
   {
    "duration": 58,
    "start_time": "2022-12-01T21:05:17.917Z"
   },
   {
    "duration": 5,
    "start_time": "2022-12-01T21:05:17.976Z"
   },
   {
    "duration": 8,
    "start_time": "2022-12-01T21:05:17.982Z"
   },
   {
    "duration": 24,
    "start_time": "2022-12-01T21:05:17.992Z"
   },
   {
    "duration": 23,
    "start_time": "2022-12-01T21:05:18.018Z"
   },
   {
    "duration": 11,
    "start_time": "2022-12-01T21:05:18.042Z"
   },
   {
    "duration": 6,
    "start_time": "2022-12-01T21:05:18.054Z"
   },
   {
    "duration": 274,
    "start_time": "2022-12-01T21:05:18.061Z"
   },
   {
    "duration": 244,
    "start_time": "2022-12-01T21:05:18.337Z"
   },
   {
    "duration": 206,
    "start_time": "2022-12-01T21:05:18.582Z"
   },
   {
    "duration": 327,
    "start_time": "2022-12-01T21:05:18.790Z"
   },
   {
    "duration": 216,
    "start_time": "2022-12-01T21:05:19.119Z"
   },
   {
    "duration": 308,
    "start_time": "2022-12-01T21:05:19.337Z"
   },
   {
    "duration": 139,
    "start_time": "2022-12-01T21:05:19.646Z"
   },
   {
    "duration": 4,
    "start_time": "2022-12-01T21:05:19.788Z"
   },
   {
    "duration": 144,
    "start_time": "2022-12-01T21:05:19.794Z"
   },
   {
    "duration": 3,
    "start_time": "2022-12-01T21:05:19.940Z"
   },
   {
    "duration": 13,
    "start_time": "2022-12-01T21:05:19.945Z"
   },
   {
    "duration": 236,
    "start_time": "2022-12-01T21:05:19.960Z"
   },
   {
    "duration": 28,
    "start_time": "2022-12-01T21:05:20.198Z"
   },
   {
    "duration": 10,
    "start_time": "2022-12-01T21:05:20.234Z"
   },
   {
    "duration": 9,
    "start_time": "2022-12-01T21:05:20.245Z"
   },
   {
    "duration": 10,
    "start_time": "2022-12-01T21:05:20.255Z"
   },
   {
    "duration": 29,
    "start_time": "2022-12-01T21:05:20.266Z"
   },
   {
    "duration": 38,
    "start_time": "2022-12-01T21:05:20.297Z"
   },
   {
    "duration": 14,
    "start_time": "2022-12-01T21:06:46.145Z"
   },
   {
    "duration": 1153,
    "start_time": "2022-12-01T21:08:42.145Z"
   },
   {
    "duration": 35,
    "start_time": "2022-12-01T21:08:43.300Z"
   },
   {
    "duration": 12,
    "start_time": "2022-12-01T21:08:43.337Z"
   },
   {
    "duration": 13,
    "start_time": "2022-12-01T21:08:43.351Z"
   },
   {
    "duration": 11,
    "start_time": "2022-12-01T21:08:43.366Z"
   },
   {
    "duration": 19,
    "start_time": "2022-12-01T21:08:43.378Z"
   },
   {
    "duration": 18,
    "start_time": "2022-12-01T21:08:43.399Z"
   },
   {
    "duration": 52,
    "start_time": "2022-12-01T21:08:43.419Z"
   },
   {
    "duration": 11,
    "start_time": "2022-12-01T21:08:43.473Z"
   },
   {
    "duration": 27,
    "start_time": "2022-12-01T21:08:43.487Z"
   },
   {
    "duration": 15,
    "start_time": "2022-12-01T21:08:43.516Z"
   },
   {
    "duration": 11,
    "start_time": "2022-12-01T21:08:43.533Z"
   },
   {
    "duration": 16,
    "start_time": "2022-12-01T21:08:43.546Z"
   },
   {
    "duration": 55,
    "start_time": "2022-12-01T21:08:43.564Z"
   },
   {
    "duration": 5,
    "start_time": "2022-12-01T21:08:43.621Z"
   },
   {
    "duration": 4,
    "start_time": "2022-12-01T21:08:43.628Z"
   },
   {
    "duration": 16,
    "start_time": "2022-12-01T21:08:43.634Z"
   },
   {
    "duration": 29,
    "start_time": "2022-12-01T21:08:43.652Z"
   },
   {
    "duration": 11,
    "start_time": "2022-12-01T21:08:43.682Z"
   },
   {
    "duration": 7,
    "start_time": "2022-12-01T21:08:43.694Z"
   },
   {
    "duration": 276,
    "start_time": "2022-12-01T21:08:43.703Z"
   },
   {
    "duration": 257,
    "start_time": "2022-12-01T21:08:43.981Z"
   },
   {
    "duration": 186,
    "start_time": "2022-12-01T21:08:44.239Z"
   },
   {
    "duration": 276,
    "start_time": "2022-12-01T21:08:44.426Z"
   },
   {
    "duration": 193,
    "start_time": "2022-12-01T21:08:44.704Z"
   },
   {
    "duration": 321,
    "start_time": "2022-12-01T21:08:44.899Z"
   },
   {
    "duration": 147,
    "start_time": "2022-12-01T21:08:45.222Z"
   },
   {
    "duration": 3,
    "start_time": "2022-12-01T21:08:45.372Z"
   },
   {
    "duration": 142,
    "start_time": "2022-12-01T21:08:45.377Z"
   },
   {
    "duration": 4,
    "start_time": "2022-12-01T21:08:45.520Z"
   },
   {
    "duration": 16,
    "start_time": "2022-12-01T21:08:45.526Z"
   },
   {
    "duration": 214,
    "start_time": "2022-12-01T21:08:45.543Z"
   },
   {
    "duration": 28,
    "start_time": "2022-12-01T21:08:45.759Z"
   },
   {
    "duration": 12,
    "start_time": "2022-12-01T21:08:45.789Z"
   },
   {
    "duration": 33,
    "start_time": "2022-12-01T21:08:45.803Z"
   },
   {
    "duration": 24,
    "start_time": "2022-12-01T21:08:45.838Z"
   },
   {
    "duration": 27,
    "start_time": "2022-12-01T21:08:45.864Z"
   },
   {
    "duration": 13,
    "start_time": "2022-12-01T21:08:45.893Z"
   },
   {
    "duration": 46,
    "start_time": "2022-12-01T21:09:29.202Z"
   },
   {
    "duration": 44,
    "start_time": "2022-12-01T21:19:35.904Z"
   },
   {
    "duration": 1118,
    "start_time": "2022-12-01T21:19:51.385Z"
   },
   {
    "duration": 40,
    "start_time": "2022-12-01T21:19:52.506Z"
   },
   {
    "duration": 13,
    "start_time": "2022-12-01T21:19:52.548Z"
   },
   {
    "duration": 15,
    "start_time": "2022-12-01T21:19:52.563Z"
   },
   {
    "duration": 38,
    "start_time": "2022-12-01T21:19:52.580Z"
   },
   {
    "duration": 13,
    "start_time": "2022-12-01T21:19:52.619Z"
   },
   {
    "duration": 16,
    "start_time": "2022-12-01T21:19:52.634Z"
   },
   {
    "duration": 67,
    "start_time": "2022-12-01T21:19:52.652Z"
   },
   {
    "duration": 10,
    "start_time": "2022-12-01T21:19:52.721Z"
   },
   {
    "duration": 25,
    "start_time": "2022-12-01T21:19:52.732Z"
   },
   {
    "duration": 22,
    "start_time": "2022-12-01T21:19:52.759Z"
   },
   {
    "duration": 27,
    "start_time": "2022-12-01T21:19:52.782Z"
   },
   {
    "duration": 17,
    "start_time": "2022-12-01T21:19:52.810Z"
   },
   {
    "duration": 78,
    "start_time": "2022-12-01T21:19:52.830Z"
   },
   {
    "duration": 5,
    "start_time": "2022-12-01T21:19:52.910Z"
   },
   {
    "duration": 26,
    "start_time": "2022-12-01T21:19:52.916Z"
   },
   {
    "duration": 44,
    "start_time": "2022-12-01T21:19:52.944Z"
   },
   {
    "duration": 33,
    "start_time": "2022-12-01T21:19:52.989Z"
   },
   {
    "duration": 10,
    "start_time": "2022-12-01T21:19:53.023Z"
   },
   {
    "duration": 18,
    "start_time": "2022-12-01T21:19:53.035Z"
   },
   {
    "duration": 289,
    "start_time": "2022-12-01T21:19:53.055Z"
   },
   {
    "duration": 269,
    "start_time": "2022-12-01T21:19:53.346Z"
   },
   {
    "duration": 192,
    "start_time": "2022-12-01T21:19:53.617Z"
   },
   {
    "duration": 297,
    "start_time": "2022-12-01T21:19:53.811Z"
   },
   {
    "duration": 199,
    "start_time": "2022-12-01T21:19:54.110Z"
   },
   {
    "duration": 324,
    "start_time": "2022-12-01T21:19:54.311Z"
   },
   {
    "duration": 142,
    "start_time": "2022-12-01T21:19:54.637Z"
   },
   {
    "duration": 4,
    "start_time": "2022-12-01T21:19:54.781Z"
   },
   {
    "duration": 155,
    "start_time": "2022-12-01T21:19:54.787Z"
   },
   {
    "duration": 5,
    "start_time": "2022-12-01T21:19:54.944Z"
   },
   {
    "duration": 47,
    "start_time": "2022-12-01T21:19:54.951Z"
   },
   {
    "duration": 213,
    "start_time": "2022-12-01T21:19:55.000Z"
   },
   {
    "duration": 38,
    "start_time": "2022-12-01T21:19:55.215Z"
   },
   {
    "duration": 11,
    "start_time": "2022-12-01T21:19:55.254Z"
   },
   {
    "duration": 29,
    "start_time": "2022-12-01T21:19:55.266Z"
   },
   {
    "duration": 27,
    "start_time": "2022-12-01T21:19:55.297Z"
   },
   {
    "duration": 37,
    "start_time": "2022-12-01T21:19:55.326Z"
   },
   {
    "duration": 19,
    "start_time": "2022-12-01T21:19:55.365Z"
   },
   {
    "duration": 1078,
    "start_time": "2022-12-02T11:35:13.777Z"
   },
   {
    "duration": 86,
    "start_time": "2022-12-02T11:35:14.857Z"
   },
   {
    "duration": 11,
    "start_time": "2022-12-02T11:35:14.944Z"
   },
   {
    "duration": 6,
    "start_time": "2022-12-02T11:35:14.957Z"
   },
   {
    "duration": 12,
    "start_time": "2022-12-02T11:35:14.964Z"
   },
   {
    "duration": 11,
    "start_time": "2022-12-02T11:35:14.978Z"
   },
   {
    "duration": 13,
    "start_time": "2022-12-02T11:35:14.991Z"
   },
   {
    "duration": 107,
    "start_time": "2022-12-02T11:35:15.006Z"
   },
   {
    "duration": 12,
    "start_time": "2022-12-02T11:35:15.114Z"
   },
   {
    "duration": 17,
    "start_time": "2022-12-02T11:35:15.128Z"
   },
   {
    "duration": 7,
    "start_time": "2022-12-02T11:35:15.146Z"
   },
   {
    "duration": 4,
    "start_time": "2022-12-02T11:35:15.155Z"
   },
   {
    "duration": 17,
    "start_time": "2022-12-02T11:35:15.161Z"
   },
   {
    "duration": 63,
    "start_time": "2022-12-02T11:35:15.180Z"
   },
   {
    "duration": 4,
    "start_time": "2022-12-02T11:35:15.245Z"
   },
   {
    "duration": 7,
    "start_time": "2022-12-02T11:35:15.251Z"
   },
   {
    "duration": 14,
    "start_time": "2022-12-02T11:35:15.260Z"
   },
   {
    "duration": 82,
    "start_time": "2022-12-02T11:35:15.276Z"
   },
   {
    "duration": 11,
    "start_time": "2022-12-02T11:35:15.360Z"
   },
   {
    "duration": 10,
    "start_time": "2022-12-02T11:35:15.372Z"
   },
   {
    "duration": 274,
    "start_time": "2022-12-02T11:35:15.384Z"
   },
   {
    "duration": 257,
    "start_time": "2022-12-02T11:35:15.660Z"
   },
   {
    "duration": 181,
    "start_time": "2022-12-02T11:35:15.918Z"
   },
   {
    "duration": 293,
    "start_time": "2022-12-02T11:35:16.103Z"
   },
   {
    "duration": 182,
    "start_time": "2022-12-02T11:35:16.404Z"
   },
   {
    "duration": 303,
    "start_time": "2022-12-02T11:35:16.588Z"
   },
   {
    "duration": 140,
    "start_time": "2022-12-02T11:35:16.893Z"
   },
   {
    "duration": 4,
    "start_time": "2022-12-02T11:35:17.036Z"
   },
   {
    "duration": 124,
    "start_time": "2022-12-02T11:35:17.041Z"
   },
   {
    "duration": 4,
    "start_time": "2022-12-02T11:35:17.166Z"
   },
   {
    "duration": 16,
    "start_time": "2022-12-02T11:35:17.171Z"
   },
   {
    "duration": 208,
    "start_time": "2022-12-02T11:35:17.189Z"
   },
   {
    "duration": 40,
    "start_time": "2022-12-02T11:35:17.399Z"
   },
   {
    "duration": 12,
    "start_time": "2022-12-02T11:35:17.441Z"
   },
   {
    "duration": 13,
    "start_time": "2022-12-02T11:35:17.455Z"
   },
   {
    "duration": 12,
    "start_time": "2022-12-02T11:35:17.470Z"
   },
   {
    "duration": 49,
    "start_time": "2022-12-02T11:35:17.484Z"
   },
   {
    "duration": 16,
    "start_time": "2022-12-02T11:35:17.535Z"
   }
  ],
  "kernelspec": {
   "display_name": "Python 3 (ipykernel)",
   "language": "python",
   "name": "python3"
  },
  "language_info": {
   "codemirror_mode": {
    "name": "ipython",
    "version": 3
   },
   "file_extension": ".py",
   "mimetype": "text/x-python",
   "name": "python",
   "nbconvert_exporter": "python",
   "pygments_lexer": "ipython3",
   "version": "3.9.12"
  },
  "toc": {
   "base_numbering": 1,
   "nav_menu": {},
   "number_sections": true,
   "sideBar": true,
   "skip_h1_title": true,
   "title_cell": "Table of Contents",
   "title_sidebar": "Contents",
   "toc_cell": false,
   "toc_position": {},
   "toc_section_display": true,
   "toc_window_display": true
  }
 },
 "nbformat": 4,
 "nbformat_minor": 2
}
