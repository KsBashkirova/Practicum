{
 "cells": [
  {
   "cell_type": "markdown",
   "metadata": {},
   "source": [
    "# Исследование объявлений о продаже квартир\n",
    "\n",
    "В вашем распоряжении данные сервиса Яндекс.Недвижимость — архив объявлений о продаже квартир в Санкт-Петербурге и соседних населённых пунктов за несколько лет. Нужно научиться определять рыночную стоимость объектов недвижимости. Ваша задача — установить параметры. Это позволит построить автоматизированную систему: она отследит аномалии и мошенническую деятельность. \n",
    "\n",
    "По каждой квартире на продажу доступны два вида данных. Первые вписаны пользователем, вторые — получены автоматически на основе картографических данных. Например, расстояние до центра, аэропорта, ближайшего парка и водоёма. "
   ]
  },
  {
   "cell_type": "markdown",
   "metadata": {},
   "source": [
    "### Откройте файл с данными и изучите общую информацию. "
   ]
  },
  {
   "cell_type": "code",
   "execution_count": 1,
   "metadata": {},
   "outputs": [],
   "source": [
    "import pandas as pd #импорт библиотеки"
   ]
  },
  {
   "cell_type": "code",
   "execution_count": 2,
   "metadata": {},
   "outputs": [
    {
     "data": {
      "text/html": [
       "<div>\n",
       "<style scoped>\n",
       "    .dataframe tbody tr th:only-of-type {\n",
       "        vertical-align: middle;\n",
       "    }\n",
       "\n",
       "    .dataframe tbody tr th {\n",
       "        vertical-align: top;\n",
       "    }\n",
       "\n",
       "    .dataframe thead th {\n",
       "        text-align: right;\n",
       "    }\n",
       "</style>\n",
       "<table border=\"1\" class=\"dataframe\">\n",
       "  <thead>\n",
       "    <tr style=\"text-align: right;\">\n",
       "      <th></th>\n",
       "      <th>total_images</th>\n",
       "      <th>last_price</th>\n",
       "      <th>total_area</th>\n",
       "      <th>first_day_exposition</th>\n",
       "      <th>rooms</th>\n",
       "      <th>ceiling_height</th>\n",
       "      <th>floors_total</th>\n",
       "      <th>living_area</th>\n",
       "      <th>floor</th>\n",
       "      <th>is_apartment</th>\n",
       "      <th>studio</th>\n",
       "      <th>open_plan</th>\n",
       "      <th>kitchen_area</th>\n",
       "      <th>balcony</th>\n",
       "      <th>locality_name</th>\n",
       "      <th>airports_nearest</th>\n",
       "      <th>cityCenters_nearest</th>\n",
       "      <th>parks_around3000</th>\n",
       "      <th>parks_nearest</th>\n",
       "      <th>ponds_around3000</th>\n",
       "      <th>ponds_nearest</th>\n",
       "      <th>days_exposition</th>\n",
       "    </tr>\n",
       "  </thead>\n",
       "  <tbody>\n",
       "    <tr>\n",
       "      <th>0</th>\n",
       "      <td>20</td>\n",
       "      <td>13000000.0</td>\n",
       "      <td>108.00</td>\n",
       "      <td>2019-03-07T00:00:00</td>\n",
       "      <td>3</td>\n",
       "      <td>2.70</td>\n",
       "      <td>16.0</td>\n",
       "      <td>51.00</td>\n",
       "      <td>8</td>\n",
       "      <td>NaN</td>\n",
       "      <td>False</td>\n",
       "      <td>False</td>\n",
       "      <td>25.00</td>\n",
       "      <td>NaN</td>\n",
       "      <td>Санкт-Петербург</td>\n",
       "      <td>18863.0</td>\n",
       "      <td>16028.0</td>\n",
       "      <td>1.0</td>\n",
       "      <td>482.0</td>\n",
       "      <td>2.0</td>\n",
       "      <td>755.0</td>\n",
       "      <td>NaN</td>\n",
       "    </tr>\n",
       "    <tr>\n",
       "      <th>1</th>\n",
       "      <td>7</td>\n",
       "      <td>3350000.0</td>\n",
       "      <td>40.40</td>\n",
       "      <td>2018-12-04T00:00:00</td>\n",
       "      <td>1</td>\n",
       "      <td>NaN</td>\n",
       "      <td>11.0</td>\n",
       "      <td>18.60</td>\n",
       "      <td>1</td>\n",
       "      <td>NaN</td>\n",
       "      <td>False</td>\n",
       "      <td>False</td>\n",
       "      <td>11.00</td>\n",
       "      <td>2.0</td>\n",
       "      <td>посёлок Шушары</td>\n",
       "      <td>12817.0</td>\n",
       "      <td>18603.0</td>\n",
       "      <td>0.0</td>\n",
       "      <td>NaN</td>\n",
       "      <td>0.0</td>\n",
       "      <td>NaN</td>\n",
       "      <td>81.0</td>\n",
       "    </tr>\n",
       "    <tr>\n",
       "      <th>2</th>\n",
       "      <td>10</td>\n",
       "      <td>5196000.0</td>\n",
       "      <td>56.00</td>\n",
       "      <td>2015-08-20T00:00:00</td>\n",
       "      <td>2</td>\n",
       "      <td>NaN</td>\n",
       "      <td>5.0</td>\n",
       "      <td>34.30</td>\n",
       "      <td>4</td>\n",
       "      <td>NaN</td>\n",
       "      <td>False</td>\n",
       "      <td>False</td>\n",
       "      <td>8.30</td>\n",
       "      <td>0.0</td>\n",
       "      <td>Санкт-Петербург</td>\n",
       "      <td>21741.0</td>\n",
       "      <td>13933.0</td>\n",
       "      <td>1.0</td>\n",
       "      <td>90.0</td>\n",
       "      <td>2.0</td>\n",
       "      <td>574.0</td>\n",
       "      <td>558.0</td>\n",
       "    </tr>\n",
       "    <tr>\n",
       "      <th>3</th>\n",
       "      <td>0</td>\n",
       "      <td>64900000.0</td>\n",
       "      <td>159.00</td>\n",
       "      <td>2015-07-24T00:00:00</td>\n",
       "      <td>3</td>\n",
       "      <td>NaN</td>\n",
       "      <td>14.0</td>\n",
       "      <td>NaN</td>\n",
       "      <td>9</td>\n",
       "      <td>NaN</td>\n",
       "      <td>False</td>\n",
       "      <td>False</td>\n",
       "      <td>NaN</td>\n",
       "      <td>0.0</td>\n",
       "      <td>Санкт-Петербург</td>\n",
       "      <td>28098.0</td>\n",
       "      <td>6800.0</td>\n",
       "      <td>2.0</td>\n",
       "      <td>84.0</td>\n",
       "      <td>3.0</td>\n",
       "      <td>234.0</td>\n",
       "      <td>424.0</td>\n",
       "    </tr>\n",
       "    <tr>\n",
       "      <th>4</th>\n",
       "      <td>2</td>\n",
       "      <td>10000000.0</td>\n",
       "      <td>100.00</td>\n",
       "      <td>2018-06-19T00:00:00</td>\n",
       "      <td>2</td>\n",
       "      <td>3.03</td>\n",
       "      <td>14.0</td>\n",
       "      <td>32.00</td>\n",
       "      <td>13</td>\n",
       "      <td>NaN</td>\n",
       "      <td>False</td>\n",
       "      <td>False</td>\n",
       "      <td>41.00</td>\n",
       "      <td>NaN</td>\n",
       "      <td>Санкт-Петербург</td>\n",
       "      <td>31856.0</td>\n",
       "      <td>8098.0</td>\n",
       "      <td>2.0</td>\n",
       "      <td>112.0</td>\n",
       "      <td>1.0</td>\n",
       "      <td>48.0</td>\n",
       "      <td>121.0</td>\n",
       "    </tr>\n",
       "    <tr>\n",
       "      <th>5</th>\n",
       "      <td>10</td>\n",
       "      <td>2890000.0</td>\n",
       "      <td>30.40</td>\n",
       "      <td>2018-09-10T00:00:00</td>\n",
       "      <td>1</td>\n",
       "      <td>NaN</td>\n",
       "      <td>12.0</td>\n",
       "      <td>14.40</td>\n",
       "      <td>5</td>\n",
       "      <td>NaN</td>\n",
       "      <td>False</td>\n",
       "      <td>False</td>\n",
       "      <td>9.10</td>\n",
       "      <td>NaN</td>\n",
       "      <td>городской посёлок Янино-1</td>\n",
       "      <td>NaN</td>\n",
       "      <td>NaN</td>\n",
       "      <td>NaN</td>\n",
       "      <td>NaN</td>\n",
       "      <td>NaN</td>\n",
       "      <td>NaN</td>\n",
       "      <td>55.0</td>\n",
       "    </tr>\n",
       "    <tr>\n",
       "      <th>6</th>\n",
       "      <td>6</td>\n",
       "      <td>3700000.0</td>\n",
       "      <td>37.30</td>\n",
       "      <td>2017-11-02T00:00:00</td>\n",
       "      <td>1</td>\n",
       "      <td>NaN</td>\n",
       "      <td>26.0</td>\n",
       "      <td>10.60</td>\n",
       "      <td>6</td>\n",
       "      <td>NaN</td>\n",
       "      <td>False</td>\n",
       "      <td>False</td>\n",
       "      <td>14.40</td>\n",
       "      <td>1.0</td>\n",
       "      <td>посёлок Парголово</td>\n",
       "      <td>52996.0</td>\n",
       "      <td>19143.0</td>\n",
       "      <td>0.0</td>\n",
       "      <td>NaN</td>\n",
       "      <td>0.0</td>\n",
       "      <td>NaN</td>\n",
       "      <td>155.0</td>\n",
       "    </tr>\n",
       "    <tr>\n",
       "      <th>7</th>\n",
       "      <td>5</td>\n",
       "      <td>7915000.0</td>\n",
       "      <td>71.60</td>\n",
       "      <td>2019-04-18T00:00:00</td>\n",
       "      <td>2</td>\n",
       "      <td>NaN</td>\n",
       "      <td>24.0</td>\n",
       "      <td>NaN</td>\n",
       "      <td>22</td>\n",
       "      <td>NaN</td>\n",
       "      <td>False</td>\n",
       "      <td>False</td>\n",
       "      <td>18.90</td>\n",
       "      <td>2.0</td>\n",
       "      <td>Санкт-Петербург</td>\n",
       "      <td>23982.0</td>\n",
       "      <td>11634.0</td>\n",
       "      <td>0.0</td>\n",
       "      <td>NaN</td>\n",
       "      <td>0.0</td>\n",
       "      <td>NaN</td>\n",
       "      <td>NaN</td>\n",
       "    </tr>\n",
       "    <tr>\n",
       "      <th>8</th>\n",
       "      <td>20</td>\n",
       "      <td>2900000.0</td>\n",
       "      <td>33.16</td>\n",
       "      <td>2018-05-23T00:00:00</td>\n",
       "      <td>1</td>\n",
       "      <td>NaN</td>\n",
       "      <td>27.0</td>\n",
       "      <td>15.43</td>\n",
       "      <td>26</td>\n",
       "      <td>NaN</td>\n",
       "      <td>False</td>\n",
       "      <td>False</td>\n",
       "      <td>8.81</td>\n",
       "      <td>NaN</td>\n",
       "      <td>посёлок Мурино</td>\n",
       "      <td>NaN</td>\n",
       "      <td>NaN</td>\n",
       "      <td>NaN</td>\n",
       "      <td>NaN</td>\n",
       "      <td>NaN</td>\n",
       "      <td>NaN</td>\n",
       "      <td>189.0</td>\n",
       "    </tr>\n",
       "    <tr>\n",
       "      <th>9</th>\n",
       "      <td>18</td>\n",
       "      <td>5400000.0</td>\n",
       "      <td>61.00</td>\n",
       "      <td>2017-02-26T00:00:00</td>\n",
       "      <td>3</td>\n",
       "      <td>2.50</td>\n",
       "      <td>9.0</td>\n",
       "      <td>43.60</td>\n",
       "      <td>7</td>\n",
       "      <td>NaN</td>\n",
       "      <td>False</td>\n",
       "      <td>False</td>\n",
       "      <td>6.50</td>\n",
       "      <td>2.0</td>\n",
       "      <td>Санкт-Петербург</td>\n",
       "      <td>50898.0</td>\n",
       "      <td>15008.0</td>\n",
       "      <td>0.0</td>\n",
       "      <td>NaN</td>\n",
       "      <td>0.0</td>\n",
       "      <td>NaN</td>\n",
       "      <td>289.0</td>\n",
       "    </tr>\n",
       "  </tbody>\n",
       "</table>\n",
       "</div>"
      ],
      "text/plain": [
       "   total_images  last_price  total_area first_day_exposition  rooms  \\\n",
       "0            20  13000000.0      108.00  2019-03-07T00:00:00      3   \n",
       "1             7   3350000.0       40.40  2018-12-04T00:00:00      1   \n",
       "2            10   5196000.0       56.00  2015-08-20T00:00:00      2   \n",
       "3             0  64900000.0      159.00  2015-07-24T00:00:00      3   \n",
       "4             2  10000000.0      100.00  2018-06-19T00:00:00      2   \n",
       "5            10   2890000.0       30.40  2018-09-10T00:00:00      1   \n",
       "6             6   3700000.0       37.30  2017-11-02T00:00:00      1   \n",
       "7             5   7915000.0       71.60  2019-04-18T00:00:00      2   \n",
       "8            20   2900000.0       33.16  2018-05-23T00:00:00      1   \n",
       "9            18   5400000.0       61.00  2017-02-26T00:00:00      3   \n",
       "\n",
       "   ceiling_height  floors_total  living_area  floor is_apartment  studio  \\\n",
       "0            2.70          16.0        51.00      8          NaN   False   \n",
       "1             NaN          11.0        18.60      1          NaN   False   \n",
       "2             NaN           5.0        34.30      4          NaN   False   \n",
       "3             NaN          14.0          NaN      9          NaN   False   \n",
       "4            3.03          14.0        32.00     13          NaN   False   \n",
       "5             NaN          12.0        14.40      5          NaN   False   \n",
       "6             NaN          26.0        10.60      6          NaN   False   \n",
       "7             NaN          24.0          NaN     22          NaN   False   \n",
       "8             NaN          27.0        15.43     26          NaN   False   \n",
       "9            2.50           9.0        43.60      7          NaN   False   \n",
       "\n",
       "   open_plan  kitchen_area  balcony              locality_name  \\\n",
       "0      False         25.00      NaN            Санкт-Петербург   \n",
       "1      False         11.00      2.0             посёлок Шушары   \n",
       "2      False          8.30      0.0            Санкт-Петербург   \n",
       "3      False           NaN      0.0            Санкт-Петербург   \n",
       "4      False         41.00      NaN            Санкт-Петербург   \n",
       "5      False          9.10      NaN  городской посёлок Янино-1   \n",
       "6      False         14.40      1.0          посёлок Парголово   \n",
       "7      False         18.90      2.0            Санкт-Петербург   \n",
       "8      False          8.81      NaN             посёлок Мурино   \n",
       "9      False          6.50      2.0            Санкт-Петербург   \n",
       "\n",
       "   airports_nearest  cityCenters_nearest  parks_around3000  parks_nearest  \\\n",
       "0           18863.0              16028.0               1.0          482.0   \n",
       "1           12817.0              18603.0               0.0            NaN   \n",
       "2           21741.0              13933.0               1.0           90.0   \n",
       "3           28098.0               6800.0               2.0           84.0   \n",
       "4           31856.0               8098.0               2.0          112.0   \n",
       "5               NaN                  NaN               NaN            NaN   \n",
       "6           52996.0              19143.0               0.0            NaN   \n",
       "7           23982.0              11634.0               0.0            NaN   \n",
       "8               NaN                  NaN               NaN            NaN   \n",
       "9           50898.0              15008.0               0.0            NaN   \n",
       "\n",
       "   ponds_around3000  ponds_nearest  days_exposition  \n",
       "0               2.0          755.0              NaN  \n",
       "1               0.0            NaN             81.0  \n",
       "2               2.0          574.0            558.0  \n",
       "3               3.0          234.0            424.0  \n",
       "4               1.0           48.0            121.0  \n",
       "5               NaN            NaN             55.0  \n",
       "6               0.0            NaN            155.0  \n",
       "7               0.0            NaN              NaN  \n",
       "8               NaN            NaN            189.0  \n",
       "9               0.0            NaN            289.0  "
      ]
     },
     "metadata": {},
     "output_type": "display_data"
    },
    {
     "name": "stdout",
     "output_type": "stream",
     "text": [
      "<class 'pandas.core.frame.DataFrame'>\n",
      "RangeIndex: 23699 entries, 0 to 23698\n",
      "Data columns (total 22 columns):\n",
      " #   Column                Non-Null Count  Dtype  \n",
      "---  ------                --------------  -----  \n",
      " 0   total_images          23699 non-null  int64  \n",
      " 1   last_price            23699 non-null  float64\n",
      " 2   total_area            23699 non-null  float64\n",
      " 3   first_day_exposition  23699 non-null  object \n",
      " 4   rooms                 23699 non-null  int64  \n",
      " 5   ceiling_height        14504 non-null  float64\n",
      " 6   floors_total          23613 non-null  float64\n",
      " 7   living_area           21796 non-null  float64\n",
      " 8   floor                 23699 non-null  int64  \n",
      " 9   is_apartment          2775 non-null   object \n",
      " 10  studio                23699 non-null  bool   \n",
      " 11  open_plan             23699 non-null  bool   \n",
      " 12  kitchen_area          21421 non-null  float64\n",
      " 13  balcony               12180 non-null  float64\n",
      " 14  locality_name         23650 non-null  object \n",
      " 15  airports_nearest      18157 non-null  float64\n",
      " 16  cityCenters_nearest   18180 non-null  float64\n",
      " 17  parks_around3000      18181 non-null  float64\n",
      " 18  parks_nearest         8079 non-null   float64\n",
      " 19  ponds_around3000      18181 non-null  float64\n",
      " 20  ponds_nearest         9110 non-null   float64\n",
      " 21  days_exposition       20518 non-null  float64\n",
      "dtypes: bool(2), float64(14), int64(3), object(3)\n",
      "memory usage: 3.7+ MB\n"
     ]
    }
   ],
   "source": [
    "data = pd.read_csv('/datasets/real_estate_data.csv', sep='\\t')\n",
    "#для изучения данных\n",
    "\n",
    "pd.set_option('display.max_columns', 50) #вывод всех столбцов\n",
    "display(data.head(10)) #первые 10 строк датасета\n",
    "data.info() #общая информация"
   ]
  },
  {
   "cell_type": "code",
   "execution_count": 3,
   "metadata": {
    "scrolled": true
   },
   "outputs": [
    {
     "data": {
      "image/png": "[encoded data removed]",
      "text/plain": [
       "<Figure size 1080x1440 with 20 Axes>"
      ]
     },
     "metadata": {
      "needs_background": "light"
     },
     "output_type": "display_data"
    }
   ],
   "source": [
    "data.hist(figsize=(15, 20)) #построение гистрограмм\n",
    "None"
   ]
  },
  {
   "cell_type": "code",
   "execution_count": 4,
   "metadata": {},
   "outputs": [
    {
     "data": {
      "image/png": "[encoded data removed]",
      "text/plain": [
       "<Figure size 1080x1440 with 20 Axes>"
      ]
     },
     "metadata": {
      "needs_background": "light"
     },
     "output_type": "display_data"
    }
   ],
   "source": [
    "# Код ревьюера\n",
    "\n",
    "data.hist(figsize=(15, 20))\n",
    "None"
   ]
  },
  {
   "cell_type": "markdown",
   "metadata": {},
   "source": [
    "### Предобработка данных"
   ]
  },
  {
   "cell_type": "markdown",
   "metadata": {},
   "source": [
    "* **Идентификация переменных с пропущенными значениями, устранение при необходимости**\n"
   ]
  },
  {
   "cell_type": "code",
   "execution_count": 5,
   "metadata": {
    "scrolled": true
   },
   "outputs": [
    {
     "name": "stdout",
     "output_type": "stream",
     "text": [
      "total_images                0\n",
      "last_price                  0\n",
      "total_area                  0\n",
      "first_day_exposition        0\n",
      "rooms                       0\n",
      "ceiling_height           9195\n",
      "floors_total               86\n",
      "living_area              1903\n",
      "floor                       0\n",
      "is_apartment            20924\n",
      "studio                      0\n",
      "open_plan                   0\n",
      "kitchen_area             2278\n",
      "balcony                 11519\n",
      "locality_name              49\n",
      "airports_nearest         5542\n",
      "cityCenters_nearest      5519\n",
      "parks_around3000         5518\n",
      "parks_nearest           15620\n",
      "ponds_around3000         5518\n",
      "ponds_nearest           14589\n",
      "days_exposition          3181\n",
      "dtype: int64\n"
     ]
    }
   ],
   "source": [
    "print(data.isna().sum())"
   ]
  },
  {
   "cell_type": "markdown",
   "metadata": {},
   "source": [
    "  Переменная        |    Возможная причина пропусков\n",
    "-------------       |  -------------\n",
    "**floors_total**        |  возможно, ошибка переноса данных. Пропусков этой переменной достаточно мало - данными можно попробовать пренебречь\n",
    "**living_area, kitchen_area, ceiling_height**  |  заполняется вручную, не всегда владельцы могут указать\n",
    "**is_apartment**    |  бинарная переменная, 0 не является пропуском\n",
    "**balcony**         |  0 не является пропуском, в квартире может не быть балкона\n",
    "**locality_name**       |  пропусков мало. Возможно, забыли указать - восстановить проблематично\n",
    "airports_nearest, cityCenters_nearest, parks_around3000,  parks_nearest,  ponds_around3000, ponds_nearest|  картографические данные, возможна ошибка выгрузки - восстановить проблематично\n",
    "**days_exposition**     | объявление могло быть размещено менее суток (покупатель нашелся быстро, востребованные характеристики) \n",
    "\n",
    "**жирным шрифтом** выделены переменные, которые нуждаются в обработке"
   ]
  },
  {
   "cell_type": "code",
   "execution_count": 6,
   "metadata": {},
   "outputs": [
    {
     "name": "stdout",
     "output_type": "stream",
     "text": [
      "11519\n",
      "0\n"
     ]
    }
   ],
   "source": [
    "#устранение пропусков\n",
    "#в случае с количеством балконов NaN можно заменить на 0 == в квартире нет ни одного балкона\n",
    "print(data['balcony'].isna().sum()) #количество пропусков\n",
    "data['balcony'] = data['balcony'].fillna('0') #замена \n",
    "print(data['balcony'].isna().sum()) #количество пропусков после замены - проверка"
   ]
  },
  {
   "cell_type": "code",
   "execution_count": 7,
   "metadata": {},
   "outputs": [
    {
     "name": "stdout",
     "output_type": "stream",
     "text": [
      "20924\n",
      "0\n"
     ]
    }
   ],
   "source": [
    "#аналогично для переменной is_apartment: NaN можно интерпретировать как False == объект не является апартаментами\n",
    "print(data['is_apartment'].isna().sum())\n",
    "data['is_apartment'] = data['is_apartment'].fillna('False') #замена \n",
    "print(data['is_apartment'].isna().sum())"
   ]
  },
  {
   "cell_type": "code",
   "execution_count": 8,
   "metadata": {},
   "outputs": [
    {
     "name": "stdout",
     "output_type": "stream",
     "text": [
      "3181\n",
      "0\n"
     ]
    }
   ],
   "source": [
    "#аналогично для переменной days_exposition: NaN можно интерпретировать как 0 == с момента публикации до снятия объявление прошло менее суток\n",
    "print(data['days_exposition'].isna().sum())\n",
    "#print(sorted(data[data['days_exposition'].isna()]['first_day_exposition'].unique())) #дни размещения объявлений, когда переменная days_exposition была пропущена\n",
    "#пропуски в переменной days_exposition наблюдаются среди объявлений, размещенных в разные дни, месяцы и годы\n",
    "#как следствие, можно предположить, что описанные выше предположения верны\n",
    "data['days_exposition'] = data['days_exposition'].fillna('0') #замена \n",
    "print(data['days_exposition'].isna().sum())"
   ]
  },
  {
   "cell_type": "code",
   "execution_count": 9,
   "metadata": {},
   "outputs": [
    {
     "name": "stdout",
     "output_type": "stream",
     "text": [
      "0\n"
     ]
    }
   ],
   "source": [
    "#Там, где пропущены значения жилой площади, можно попробовать заменить пропуски медианным значением площади в зависимости от количества комнат. \n",
    "#В градостроительстве существуют стандартизированные планировочные решения. Можно опираться на типичную характеристику группы\n",
    "#Как следствие, можно предположить, что заданному числу комнат соответствует определенный диапазон площади \n",
    "#За исключением более редких случаев, учесть которые не представляется возможным\n",
    "median_living_area = data.groupby('rooms')['living_area'].transform('median') #расчет медианного значения жилой площади в зависимости от количества комнат\n",
    "#print(median_living_area)\n",
    "data['living_area'] = data['living_area'].fillna(median_living_area) #замена пропусков медианным значением\n",
    "\n",
    "print(data['living_area'].isna().sum()) #доказательство того, что пропуски устранены"
   ]
  },
  {
   "cell_type": "code",
   "execution_count": 10,
   "metadata": {},
   "outputs": [
    {
     "name": "stdout",
     "output_type": "stream",
     "text": [
      "1.634671499360034\n",
      "0\n"
     ]
    }
   ],
   "source": [
    "#В случае с переменной kitchen_area описанные выше рассуждения представляются не вполне подходящими\n",
    "#Поиск корректирующего коэффициента\n",
    "cutted = data.query('kitchen_area.isna()')['total_area'].mean()/data.query('~kitchen_area.isna()')['living_area'].mean()\n",
    "print(cutted)\n",
    "data['kitchen_area'] = data['kitchen_area'].fillna(data['total_area']/cutted) #замена пропусков площади кухни\n",
    "#print(data)\n",
    "\n",
    "print(data['kitchen_area'].isna().sum()) #доказательство того, что пропуски устранены"
   ]
  },
  {
   "cell_type": "code",
   "execution_count": 11,
   "metadata": {},
   "outputs": [
    {
     "name": "stdout",
     "output_type": "stream",
     "text": [
      "count    14504.000000\n",
      "mean         2.771499\n",
      "std          1.261056\n",
      "min          1.000000\n",
      "25%          2.520000\n",
      "50%          2.650000\n",
      "75%          2.800000\n",
      "max        100.000000\n",
      "Name: ceiling_height, dtype: float64\n",
      "0\n"
     ]
    }
   ],
   "source": [
    "#переменная ceiling_height в целом не очень вариативна, поэтому можно попробовать заменить пропуски медианным значением (из-за наличия аномально высокого максимума среднее не используется)\n",
    "print(data['ceiling_height'].describe()) # потолки высотой 100 метров (и 1 метр) кажутся аномалией, медиана = 2.65 - в пределах нормы\n",
    "data['ceiling_height'] = data['ceiling_height'].fillna(data['ceiling_height'].median())\n",
    "\n",
    "print(data['ceiling_height'].isna().sum()) #доказательство того, что пропуски устранены"
   ]
  },
  {
   "cell_type": "code",
   "execution_count": 12,
   "metadata": {},
   "outputs": [],
   "source": [
    "data = data.query('(~floors_total.isna()) and ~(locality_name.isna())')"
   ]
  },
  {
   "cell_type": "code",
   "execution_count": 13,
   "metadata": {},
   "outputs": [
    {
     "name": "stdout",
     "output_type": "stream",
     "text": [
      "total_images                0\n",
      "last_price                  0\n",
      "total_area                  0\n",
      "first_day_exposition        0\n",
      "rooms                       0\n",
      "ceiling_height              0\n",
      "floors_total                0\n",
      "living_area                 0\n",
      "floor                       0\n",
      "is_apartment                0\n",
      "studio                      0\n",
      "open_plan                   0\n",
      "kitchen_area                0\n",
      "balcony                     0\n",
      "locality_name               0\n",
      "airports_nearest         5524\n",
      "cityCenters_nearest      5501\n",
      "parks_around3000         5500\n",
      "parks_nearest           15535\n",
      "ponds_around3000         5500\n",
      "ponds_nearest           14529\n",
      "days_exposition             0\n",
      "dtype: int64\n"
     ]
    }
   ],
   "source": [
    "print(data.isna().sum())"
   ]
  },
  {
   "cell_type": "markdown",
   "metadata": {},
   "source": [
    "* **Изучение типов данных, замена при необходимости**"
   ]
  },
  {
   "cell_type": "code",
   "execution_count": 14,
   "metadata": {},
   "outputs": [
    {
     "name": "stdout",
     "output_type": "stream",
     "text": [
      "<class 'pandas.core.frame.DataFrame'>\n",
      "Int64Index: 23565 entries, 0 to 23698\n",
      "Data columns (total 22 columns):\n",
      " #   Column                Non-Null Count  Dtype  \n",
      "---  ------                --------------  -----  \n",
      " 0   total_images          23565 non-null  int64  \n",
      " 1   last_price            23565 non-null  float64\n",
      " 2   total_area            23565 non-null  float64\n",
      " 3   first_day_exposition  23565 non-null  object \n",
      " 4   rooms                 23565 non-null  int64  \n",
      " 5   ceiling_height        23565 non-null  float64\n",
      " 6   floors_total          23565 non-null  float64\n",
      " 7   living_area           23565 non-null  float64\n",
      " 8   floor                 23565 non-null  int64  \n",
      " 9   is_apartment          23565 non-null  object \n",
      " 10  studio                23565 non-null  bool   \n",
      " 11  open_plan             23565 non-null  bool   \n",
      " 12  kitchen_area          23565 non-null  float64\n",
      " 13  balcony               23565 non-null  object \n",
      " 14  locality_name         23565 non-null  object \n",
      " 15  airports_nearest      18041 non-null  float64\n",
      " 16  cityCenters_nearest   18064 non-null  float64\n",
      " 17  parks_around3000      18065 non-null  float64\n",
      " 18  parks_nearest         8030 non-null   float64\n",
      " 19  ponds_around3000      18065 non-null  float64\n",
      " 20  ponds_nearest         9036 non-null   float64\n",
      " 21  days_exposition       23565 non-null  object \n",
      "dtypes: bool(2), float64(12), int64(3), object(5)\n",
      "memory usage: 3.8+ MB\n"
     ]
    }
   ],
   "source": [
    "data.info()"
   ]
  },
  {
   "cell_type": "markdown",
   "metadata": {},
   "source": [
    "* переменная days_exposition должна быть преобразована в целочисленную - количество дней не может быть дробным (оставлять в виде строки некорректно)\n",
    "___\n",
    "* переменная balcony должна быть преобразована в целочисленную - количество балконов не может быть дробным (оставлять в виде строки некорректно)\n",
    "___\n",
    "* переменная first_day_exposition должна быть преобразована в более читабельный вид - формат даты\n",
    "___\n",
    "* переменная floors_total должна быть преобразована в целочисленную - количество этажей не может быть дробным"
   ]
  },
  {
   "cell_type": "code",
   "execution_count": 15,
   "metadata": {},
   "outputs": [],
   "source": [
    "data['days_exposition'] = data['days_exposition'].astype('int')\n",
    "data['balcony'] = data['balcony'].astype('int')\n",
    "data['floors_total'] = data['floors_total'].astype('int')\n",
    "data['first_day_exposition']= pd.to_datetime(data['first_day_exposition'], format='%Y-%m-%d')"
   ]
  },
  {
   "cell_type": "markdown",
   "metadata": {},
   "source": [
    "* Поиск уникальных значений, очистка от неявных дубликатов"
   ]
  },
  {
   "cell_type": "code",
   "execution_count": 16,
   "metadata": {},
   "outputs": [
    {
     "data": {
      "text/plain": [
       "0                  Санкт-Петербург\n",
       "1                   посёлок Шушары\n",
       "5        городской посёлок Янино-1\n",
       "6                посёлок Парголово\n",
       "8                   посёлок Мурино\n",
       "                   ...            \n",
       "22938               деревня Нижняя\n",
       "23048    коттеджный посёлок Лесное\n",
       "23354            деревня Тихковицы\n",
       "23411       деревня Борисова Грива\n",
       "23683         посёлок Дзержинского\n",
       "Name: locality_name, Length: 329, dtype: object"
      ]
     },
     "execution_count": 16,
     "metadata": {},
     "output_type": "execute_result"
    }
   ],
   "source": [
    "data['locality_name'] = data['locality_name'].str.replace(\"поселок\", \"посёлок\") #корректировка названия населенного пункта\n",
    "data['locality_name'] = data['locality_name'].str.replace(\"посёлок городского типа\", \"посёлок\") #корректировка названия населенного пункта\n",
    "data['locality_name'].drop_duplicates() #удаление дубликатов\n",
    "#display(data['locality_name'].value_counts())\n",
    "#display(sorted(data['locality_name'].unique()))\n"
   ]
  },
  {
   "cell_type": "markdown",
   "metadata": {},
   "source": [
    "* **Очистка от аномалий**\n",
    "___\n",
    "Переменная 'ceiling_height' нуждается в обработке - присутствуют аномальные значения\n"
   ]
  },
  {
   "cell_type": "code",
   "execution_count": 17,
   "metadata": {},
   "outputs": [
    {
     "name": "stdout",
     "output_type": "stream",
     "text": [
      "[1.0, 1.2, 1.75, 2.0, 2.2, 2.25, 2.3, 2.34, 2.4, 2.45, 2.46, 2.47, 2.48, 2.49, 2.5, 2.51, 2.52, 2.53, 2.54, 2.55, 2.56, 2.57, 2.58, 2.59, 2.6, 2.61, 2.62, 2.63, 2.64, 2.65, 2.66, 2.67, 2.68, 2.69, 2.7, 2.71, 2.72, 2.73, 2.74, 2.75, 2.76, 2.77, 2.78, 2.79, 2.8, 2.81, 2.82, 2.83, 2.84, 2.85, 2.86, 2.87, 2.88, 2.89, 2.9, 2.91, 2.92, 2.93, 2.94, 2.95, 2.96, 2.97, 2.98, 2.99, 3.0, 3.01, 3.02, 3.03, 3.04, 3.05, 3.06, 3.07, 3.08, 3.09, 3.1, 3.11, 3.12, 3.13, 3.14, 3.15, 3.16, 3.17, 3.18, 3.2, 3.21, 3.22, 3.23, 3.24, 3.25, 3.26, 3.27, 3.28, 3.29, 3.3, 3.31, 3.32, 3.33, 3.34, 3.35, 3.36, 3.37, 3.38, 3.39, 3.4, 3.42, 3.43, 3.44, 3.45, 3.46, 3.47, 3.48, 3.49, 3.5, 3.51, 3.52, 3.53, 3.54, 3.55, 3.56, 3.57, 3.58, 3.59, 3.6, 3.62, 3.63, 3.65, 3.66, 3.67, 3.68, 3.69, 3.7, 3.75, 3.76, 3.78, 3.8, 3.82, 3.83, 3.84, 3.85, 3.86, 3.87, 3.88, 3.9, 3.93, 3.95, 3.98, 4.0, 4.06, 4.1, 4.14, 4.15, 4.19, 4.2, 4.25, 4.3, 4.37, 4.4, 4.45, 4.5, 4.65, 4.7, 4.8, 4.9, 5.0, 5.2, 5.3, 5.5, 5.6, 5.8, 6.0, 8.0, 8.3, 10.3, 14.0, 20.0, 22.6, 24.0, 25.0, 26.0, 27.0, 27.5, 32.0, 100.0]\n"
     ]
    }
   ],
   "source": [
    "#Переменная ceiling_height\n",
    "print(sorted(data['ceiling_height'].unique())) #идентификация уникальных значений переменной"
   ]
  },
  {
   "cell_type": "code",
   "execution_count": 18,
   "metadata": {},
   "outputs": [],
   "source": [
    "def categorize_height(row):\n",
    "    value = row['ceiling_height']\n",
    "    \n",
    "    if 0<=value<2.5:\n",
    "        return('неправдоподобно малая величина')\n",
    "    if 2.5<=value<=5.0: #потолки в целом могут быть высокими\n",
    "        return(value)\n",
    "    if value==25 or value==26 or value==27 or value==27.5 or value==32.0:\n",
    "        return(value/10)\n",
    "    else:\n",
    "        return('неправдоподобно большая величина')\n",
    "    \n",
    "data['height_category'] = data.apply(categorize_height, axis=1) #применение функции к датасету\n",
    "data = data.query('height_category!=\"неправдоподобно большая величина\"')\n",
    "data = data.query('height_category!=\"неправдоподобно малая величина\"')"
   ]
  },
  {
   "cell_type": "code",
   "execution_count": 19,
   "metadata": {},
   "outputs": [
    {
     "name": "stdout",
     "output_type": "stream",
     "text": [
      "[2.5, 2.51, 2.52, 2.53, 2.54, 2.55, 2.56, 2.57, 2.58, 2.59, 2.6, 2.61, 2.62, 2.63, 2.64, 2.65, 2.66, 2.67, 2.68, 2.69, 2.7, 2.71, 2.72, 2.73, 2.74, 2.75, 2.76, 2.77, 2.78, 2.79, 2.8, 2.81, 2.82, 2.83, 2.84, 2.85, 2.86, 2.87, 2.88, 2.89, 2.9, 2.91, 2.92, 2.93, 2.94, 2.95, 2.96, 2.97, 2.98, 2.99, 3.0, 3.01, 3.02, 3.03, 3.04, 3.05, 3.06, 3.07, 3.08, 3.09, 3.1, 3.11, 3.12, 3.13, 3.14, 3.15, 3.16, 3.17, 3.18, 3.2, 3.21, 3.22, 3.23, 3.24, 3.25, 3.26, 3.27, 3.28, 3.29, 3.3, 3.31, 3.32, 3.33, 3.34, 3.35, 3.36, 3.37, 3.38, 3.39, 3.4, 3.42, 3.43, 3.44, 3.45, 3.46, 3.47, 3.48, 3.49, 3.5, 3.51, 3.52, 3.53, 3.54, 3.55, 3.56, 3.57, 3.58, 3.59, 3.6, 3.62, 3.63, 3.65, 3.66, 3.67, 3.68, 3.69, 3.7, 3.75, 3.76, 3.78, 3.8, 3.82, 3.83, 3.84, 3.85, 3.86, 3.87, 3.88, 3.9, 3.93, 3.95, 3.98, 4.0, 4.06, 4.1, 4.14, 4.15, 4.19, 4.2, 4.25, 4.3, 4.37, 4.4, 4.45, 4.5, 4.65, 4.7, 4.8, 4.9, 5.0]\n"
     ]
    }
   ],
   "source": [
    "print(sorted(data['height_category'].unique())) #проверка того, что все аномальные значения устранены"
   ]
  },
  {
   "cell_type": "markdown",
   "metadata": {},
   "source": [
    "Переменная, обозначающая количество комнат в квартире, нуждается в обработке (Фигурируют аномально высокие значения)"
   ]
  },
  {
   "cell_type": "code",
   "execution_count": 20,
   "metadata": {},
   "outputs": [
    {
     "name": "stdout",
     "output_type": "stream",
     "text": [
      "[0, 1, 2, 3, 4, 5, 6, 7, 8, 9, 10, 11, 12, 14, 15, 16, 19]\n",
      "193\n",
      "23475\n",
      "Потери от очистки неправдоподобных значений = 0.8 (менее 1 процента -> можно отбросить)\n"
     ]
    }
   ],
   "source": [
    "# Переменная 'rooms':\n",
    "print(sorted(data['rooms'].unique()))\n",
    "#6 комнат, как предполагается, является максимальным порогом (объединение двух квартир по 3 компаны, например)\n",
    "#0 комнат - неоднозначная характеристика (может не быть изолированных комнат, если квартира является студией)\n",
    "print(data[data['rooms']>=6]['rooms'].count()) #проверка количества неправдоподобных значений (если не очень много, можно убрать)\n",
    "print(data['rooms'].count()) #вывод общего количества наблюдений по столбцу\n",
    "\n",
    "share = round((data[data['rooms']>=6]['rooms'].count())/(data['rooms'].count())*100,1)#расчет доли наблюдений, которые планируется отбросить\n",
    "print(f'Потери от очистки неправдоподобных значений = {share} (менее 1 процента -> можно отбросить)')\n",
    "data = data.query('rooms<=6') #очистка от неправдоподобно высоких значений\n"
   ]
  },
  {
   "cell_type": "code",
   "execution_count": 21,
   "metadata": {},
   "outputs": [
    {
     "name": "stdout",
     "output_type": "stream",
     "text": [
      "count    23385.000000\n",
      "mean        59.479495\n",
      "std         31.871422\n",
      "min         12.000000\n",
      "25%         40.000000\n",
      "50%         52.000000\n",
      "75%         69.200000\n",
      "max        507.000000\n",
      "Name: total_area, dtype: float64\n"
     ]
    }
   ],
   "source": [
    "# Переменная 'total_area':\n",
    "#квартиры в целом могут быть очень большими и совсем маленькими, избавляться от них,как представляется, не вполне правильно\n",
    "print(data['total_area'].describe())\n",
    "#display(sorted(data['total_area'].unique()))"
   ]
  },
  {
   "cell_type": "code",
   "execution_count": 22,
   "metadata": {},
   "outputs": [
    {
     "data": {
      "text/plain": [
       "count    23385.000000\n",
       "mean        33.788080\n",
       "std         19.533103\n",
       "min          2.000000\n",
       "25%         18.400000\n",
       "50%         30.200000\n",
       "75%         42.500000\n",
       "max        301.500000\n",
       "Name: living_area, dtype: float64"
      ]
     },
     "metadata": {},
     "output_type": "display_data"
    }
   ],
   "source": [
    "# Переменная 'living_area':\n",
    "display(data['living_area'].describe())\n",
    "data[data['living_area']<10]['living_area'].count() #меньше 10 метров жилой площади представляется нереалистичным значением\n",
    "data = data.query('living_area > 10') #очистка от нереалистичных значений"
   ]
  },
  {
   "cell_type": "code",
   "execution_count": 23,
   "metadata": {},
   "outputs": [
    {
     "data": {
      "text/plain": [
       "count    23329.000000\n",
       "mean        12.702709\n",
       "std         11.146729\n",
       "min          1.300000\n",
       "25%          7.300000\n",
       "50%         10.000000\n",
       "75%         13.300000\n",
       "max        305.871853\n",
       "Name: kitchen_area, dtype: float64"
      ]
     },
     "metadata": {},
     "output_type": "display_data"
    },
    {
     "name": "stdout",
     "output_type": "stream",
     "text": [
      "1415\n"
     ]
    }
   ],
   "source": [
    "# Переменная 'kitchen_area':\n",
    "display(data['kitchen_area'].describe())\n",
    "#площадь кухни > 40 м кажется не вполне реалистичной\n",
    "#площадь кухни < 5 м кажется не вполне реалистичной\n",
    "print(data[data['kitchen_area']<5]['kitchen_area'].count()+ data[data['kitchen_area']>30]['kitchen_area'].count())\n",
    "\n",
    "data = data.query('5 < kitchen_area < 40')"
   ]
  },
  {
   "cell_type": "code",
   "execution_count": 24,
   "metadata": {},
   "outputs": [
    {
     "data": {
      "text/plain": [
       "count    22212.000000\n",
       "mean        10.815955\n",
       "std          6.607304\n",
       "min          1.000000\n",
       "25%          5.000000\n",
       "50%          9.000000\n",
       "75%         16.000000\n",
       "max         60.000000\n",
       "Name: floors_total, dtype: float64"
      ]
     },
     "metadata": {},
     "output_type": "display_data"
    },
    {
     "name": "stdout",
     "output_type": "stream",
     "text": [
      "2\n"
     ]
    }
   ],
   "source": [
    "# Переменная 'floors_total':\n",
    "display(data['floors_total'].describe())\n",
    "#сложно представить себе дома в Санкт-Петербурге, превышающие 40 этажей\n",
    "print(data[data['floors_total']>40]['floors_total'].count())\n",
    "data = data.query('floors_total < 40')"
   ]
  },
  {
   "cell_type": "markdown",
   "metadata": {},
   "source": [
    "### Посчитайте и добавьте в таблицу новые столбцы"
   ]
  },
  {
   "cell_type": "code",
   "execution_count": 25,
   "metadata": {},
   "outputs": [],
   "source": [
    "data['price_per_m'] = data['last_price']/data['total_area'] #создание нового столбца с ценой за квадратный метр\n",
    "data['weekday_exposition'] = data['first_day_exposition'].dt.weekday #создание нового столбца с днем недели публикации\n",
    "data['month_exposition'] = data['first_day_exposition'].dt.month # создание нового столбца с месяцем публикации\n",
    "data['year_exposition'] = data['first_day_exposition'].dt.year # создание нового столбца с годом публикации\n",
    "#display(data)"
   ]
  },
  {
   "cell_type": "code",
   "execution_count": 26,
   "metadata": {},
   "outputs": [],
   "source": [
    "def categorize_floor(row):\n",
    "    value1 = row['floor']\n",
    "    value2 = row['floors_total']\n",
    "    \n",
    "    if value1==1:\n",
    "        return('первый')\n",
    "    if value1==value2:\n",
    "        return('последний')\n",
    "    else:\n",
    "        return('другой')\n",
    "    \n",
    "#создание переменной, обозначающей тип этажа квартиры\n",
    "data['floor_category'] = data.apply(categorize_floor, axis=1) #применение функции к датасету\n",
    "#display(data)"
   ]
  },
  {
   "cell_type": "code",
   "execution_count": 27,
   "metadata": {},
   "outputs": [
    {
     "data": {
      "text/html": [
       "<div>\n",
       "<style scoped>\n",
       "    .dataframe tbody tr th:only-of-type {\n",
       "        vertical-align: middle;\n",
       "    }\n",
       "\n",
       "    .dataframe tbody tr th {\n",
       "        vertical-align: top;\n",
       "    }\n",
       "\n",
       "    .dataframe thead th {\n",
       "        text-align: right;\n",
       "    }\n",
       "</style>\n",
       "<table border=\"1\" class=\"dataframe\">\n",
       "  <thead>\n",
       "    <tr style=\"text-align: right;\">\n",
       "      <th></th>\n",
       "      <th>total_images</th>\n",
       "      <th>last_price</th>\n",
       "      <th>total_area</th>\n",
       "      <th>first_day_exposition</th>\n",
       "      <th>rooms</th>\n",
       "      <th>ceiling_height</th>\n",
       "      <th>floors_total</th>\n",
       "      <th>living_area</th>\n",
       "      <th>floor</th>\n",
       "      <th>is_apartment</th>\n",
       "      <th>studio</th>\n",
       "      <th>open_plan</th>\n",
       "      <th>kitchen_area</th>\n",
       "      <th>balcony</th>\n",
       "      <th>locality_name</th>\n",
       "      <th>airports_nearest</th>\n",
       "      <th>cityCenters_nearest</th>\n",
       "      <th>parks_around3000</th>\n",
       "      <th>parks_nearest</th>\n",
       "      <th>ponds_around3000</th>\n",
       "      <th>ponds_nearest</th>\n",
       "      <th>days_exposition</th>\n",
       "      <th>height_category</th>\n",
       "      <th>price_per_m</th>\n",
       "      <th>weekday_exposition</th>\n",
       "      <th>month_exposition</th>\n",
       "      <th>year_exposition</th>\n",
       "      <th>floor_category</th>\n",
       "      <th>distance_km</th>\n",
       "    </tr>\n",
       "  </thead>\n",
       "  <tbody>\n",
       "    <tr>\n",
       "      <th>0</th>\n",
       "      <td>20</td>\n",
       "      <td>13000000.0</td>\n",
       "      <td>108.00</td>\n",
       "      <td>2019-03-07</td>\n",
       "      <td>3</td>\n",
       "      <td>2.70</td>\n",
       "      <td>16</td>\n",
       "      <td>51.0</td>\n",
       "      <td>8</td>\n",
       "      <td>False</td>\n",
       "      <td>False</td>\n",
       "      <td>False</td>\n",
       "      <td>25.000000</td>\n",
       "      <td>0</td>\n",
       "      <td>Санкт-Петербург</td>\n",
       "      <td>18863.0</td>\n",
       "      <td>16028.0</td>\n",
       "      <td>1.0</td>\n",
       "      <td>482.0</td>\n",
       "      <td>2.0</td>\n",
       "      <td>755.0</td>\n",
       "      <td>0</td>\n",
       "      <td>2.7</td>\n",
       "      <td>120370.370370</td>\n",
       "      <td>3</td>\n",
       "      <td>3</td>\n",
       "      <td>2019</td>\n",
       "      <td>другой</td>\n",
       "      <td>16.0</td>\n",
       "    </tr>\n",
       "    <tr>\n",
       "      <th>1</th>\n",
       "      <td>7</td>\n",
       "      <td>3350000.0</td>\n",
       "      <td>40.40</td>\n",
       "      <td>2018-12-04</td>\n",
       "      <td>1</td>\n",
       "      <td>2.65</td>\n",
       "      <td>11</td>\n",
       "      <td>18.6</td>\n",
       "      <td>1</td>\n",
       "      <td>False</td>\n",
       "      <td>False</td>\n",
       "      <td>False</td>\n",
       "      <td>11.000000</td>\n",
       "      <td>2</td>\n",
       "      <td>посёлок Шушары</td>\n",
       "      <td>12817.0</td>\n",
       "      <td>18603.0</td>\n",
       "      <td>0.0</td>\n",
       "      <td>NaN</td>\n",
       "      <td>0.0</td>\n",
       "      <td>NaN</td>\n",
       "      <td>81</td>\n",
       "      <td>2.65</td>\n",
       "      <td>82920.792079</td>\n",
       "      <td>1</td>\n",
       "      <td>12</td>\n",
       "      <td>2018</td>\n",
       "      <td>первый</td>\n",
       "      <td>19.0</td>\n",
       "    </tr>\n",
       "    <tr>\n",
       "      <th>2</th>\n",
       "      <td>10</td>\n",
       "      <td>5196000.0</td>\n",
       "      <td>56.00</td>\n",
       "      <td>2015-08-20</td>\n",
       "      <td>2</td>\n",
       "      <td>2.65</td>\n",
       "      <td>5</td>\n",
       "      <td>34.3</td>\n",
       "      <td>4</td>\n",
       "      <td>False</td>\n",
       "      <td>False</td>\n",
       "      <td>False</td>\n",
       "      <td>8.300000</td>\n",
       "      <td>0</td>\n",
       "      <td>Санкт-Петербург</td>\n",
       "      <td>21741.0</td>\n",
       "      <td>13933.0</td>\n",
       "      <td>1.0</td>\n",
       "      <td>90.0</td>\n",
       "      <td>2.0</td>\n",
       "      <td>574.0</td>\n",
       "      <td>558</td>\n",
       "      <td>2.65</td>\n",
       "      <td>92785.714286</td>\n",
       "      <td>3</td>\n",
       "      <td>8</td>\n",
       "      <td>2015</td>\n",
       "      <td>другой</td>\n",
       "      <td>14.0</td>\n",
       "    </tr>\n",
       "    <tr>\n",
       "      <th>5</th>\n",
       "      <td>10</td>\n",
       "      <td>2890000.0</td>\n",
       "      <td>30.40</td>\n",
       "      <td>2018-09-10</td>\n",
       "      <td>1</td>\n",
       "      <td>2.65</td>\n",
       "      <td>12</td>\n",
       "      <td>14.4</td>\n",
       "      <td>5</td>\n",
       "      <td>False</td>\n",
       "      <td>False</td>\n",
       "      <td>False</td>\n",
       "      <td>9.100000</td>\n",
       "      <td>0</td>\n",
       "      <td>городской посёлок Янино-1</td>\n",
       "      <td>NaN</td>\n",
       "      <td>NaN</td>\n",
       "      <td>NaN</td>\n",
       "      <td>NaN</td>\n",
       "      <td>NaN</td>\n",
       "      <td>NaN</td>\n",
       "      <td>55</td>\n",
       "      <td>2.65</td>\n",
       "      <td>95065.789474</td>\n",
       "      <td>0</td>\n",
       "      <td>9</td>\n",
       "      <td>2018</td>\n",
       "      <td>другой</td>\n",
       "      <td>NaN</td>\n",
       "    </tr>\n",
       "    <tr>\n",
       "      <th>6</th>\n",
       "      <td>6</td>\n",
       "      <td>3700000.0</td>\n",
       "      <td>37.30</td>\n",
       "      <td>2017-11-02</td>\n",
       "      <td>1</td>\n",
       "      <td>2.65</td>\n",
       "      <td>26</td>\n",
       "      <td>10.6</td>\n",
       "      <td>6</td>\n",
       "      <td>False</td>\n",
       "      <td>False</td>\n",
       "      <td>False</td>\n",
       "      <td>14.400000</td>\n",
       "      <td>1</td>\n",
       "      <td>посёлок Парголово</td>\n",
       "      <td>52996.0</td>\n",
       "      <td>19143.0</td>\n",
       "      <td>0.0</td>\n",
       "      <td>NaN</td>\n",
       "      <td>0.0</td>\n",
       "      <td>NaN</td>\n",
       "      <td>155</td>\n",
       "      <td>2.65</td>\n",
       "      <td>99195.710456</td>\n",
       "      <td>3</td>\n",
       "      <td>11</td>\n",
       "      <td>2017</td>\n",
       "      <td>другой</td>\n",
       "      <td>19.0</td>\n",
       "    </tr>\n",
       "    <tr>\n",
       "      <th>...</th>\n",
       "      <td>...</td>\n",
       "      <td>...</td>\n",
       "      <td>...</td>\n",
       "      <td>...</td>\n",
       "      <td>...</td>\n",
       "      <td>...</td>\n",
       "      <td>...</td>\n",
       "      <td>...</td>\n",
       "      <td>...</td>\n",
       "      <td>...</td>\n",
       "      <td>...</td>\n",
       "      <td>...</td>\n",
       "      <td>...</td>\n",
       "      <td>...</td>\n",
       "      <td>...</td>\n",
       "      <td>...</td>\n",
       "      <td>...</td>\n",
       "      <td>...</td>\n",
       "      <td>...</td>\n",
       "      <td>...</td>\n",
       "      <td>...</td>\n",
       "      <td>...</td>\n",
       "      <td>...</td>\n",
       "      <td>...</td>\n",
       "      <td>...</td>\n",
       "      <td>...</td>\n",
       "      <td>...</td>\n",
       "      <td>...</td>\n",
       "      <td>...</td>\n",
       "    </tr>\n",
       "    <tr>\n",
       "      <th>23694</th>\n",
       "      <td>9</td>\n",
       "      <td>9700000.0</td>\n",
       "      <td>133.81</td>\n",
       "      <td>2017-03-21</td>\n",
       "      <td>3</td>\n",
       "      <td>3.70</td>\n",
       "      <td>5</td>\n",
       "      <td>73.3</td>\n",
       "      <td>3</td>\n",
       "      <td>False</td>\n",
       "      <td>False</td>\n",
       "      <td>False</td>\n",
       "      <td>13.830000</td>\n",
       "      <td>0</td>\n",
       "      <td>Санкт-Петербург</td>\n",
       "      <td>24665.0</td>\n",
       "      <td>4232.0</td>\n",
       "      <td>1.0</td>\n",
       "      <td>796.0</td>\n",
       "      <td>3.0</td>\n",
       "      <td>381.0</td>\n",
       "      <td>0</td>\n",
       "      <td>3.7</td>\n",
       "      <td>72490.845228</td>\n",
       "      <td>1</td>\n",
       "      <td>3</td>\n",
       "      <td>2017</td>\n",
       "      <td>другой</td>\n",
       "      <td>4.0</td>\n",
       "    </tr>\n",
       "    <tr>\n",
       "      <th>23695</th>\n",
       "      <td>14</td>\n",
       "      <td>3100000.0</td>\n",
       "      <td>59.00</td>\n",
       "      <td>2018-01-15</td>\n",
       "      <td>3</td>\n",
       "      <td>2.65</td>\n",
       "      <td>5</td>\n",
       "      <td>38.0</td>\n",
       "      <td>4</td>\n",
       "      <td>False</td>\n",
       "      <td>False</td>\n",
       "      <td>False</td>\n",
       "      <td>8.500000</td>\n",
       "      <td>0</td>\n",
       "      <td>Тосно</td>\n",
       "      <td>NaN</td>\n",
       "      <td>NaN</td>\n",
       "      <td>NaN</td>\n",
       "      <td>NaN</td>\n",
       "      <td>NaN</td>\n",
       "      <td>NaN</td>\n",
       "      <td>45</td>\n",
       "      <td>2.65</td>\n",
       "      <td>52542.372881</td>\n",
       "      <td>0</td>\n",
       "      <td>1</td>\n",
       "      <td>2018</td>\n",
       "      <td>другой</td>\n",
       "      <td>NaN</td>\n",
       "    </tr>\n",
       "    <tr>\n",
       "      <th>23696</th>\n",
       "      <td>18</td>\n",
       "      <td>2500000.0</td>\n",
       "      <td>56.70</td>\n",
       "      <td>2018-02-11</td>\n",
       "      <td>2</td>\n",
       "      <td>2.65</td>\n",
       "      <td>3</td>\n",
       "      <td>29.7</td>\n",
       "      <td>1</td>\n",
       "      <td>False</td>\n",
       "      <td>False</td>\n",
       "      <td>False</td>\n",
       "      <td>34.685868</td>\n",
       "      <td>0</td>\n",
       "      <td>село Рождествено</td>\n",
       "      <td>NaN</td>\n",
       "      <td>NaN</td>\n",
       "      <td>NaN</td>\n",
       "      <td>NaN</td>\n",
       "      <td>NaN</td>\n",
       "      <td>NaN</td>\n",
       "      <td>0</td>\n",
       "      <td>2.65</td>\n",
       "      <td>44091.710758</td>\n",
       "      <td>6</td>\n",
       "      <td>2</td>\n",
       "      <td>2018</td>\n",
       "      <td>первый</td>\n",
       "      <td>NaN</td>\n",
       "    </tr>\n",
       "    <tr>\n",
       "      <th>23697</th>\n",
       "      <td>13</td>\n",
       "      <td>11475000.0</td>\n",
       "      <td>76.75</td>\n",
       "      <td>2017-03-28</td>\n",
       "      <td>2</td>\n",
       "      <td>3.00</td>\n",
       "      <td>17</td>\n",
       "      <td>30.5</td>\n",
       "      <td>12</td>\n",
       "      <td>False</td>\n",
       "      <td>False</td>\n",
       "      <td>False</td>\n",
       "      <td>23.300000</td>\n",
       "      <td>2</td>\n",
       "      <td>Санкт-Петербург</td>\n",
       "      <td>39140.0</td>\n",
       "      <td>10364.0</td>\n",
       "      <td>2.0</td>\n",
       "      <td>173.0</td>\n",
       "      <td>3.0</td>\n",
       "      <td>196.0</td>\n",
       "      <td>602</td>\n",
       "      <td>3.0</td>\n",
       "      <td>149511.400651</td>\n",
       "      <td>1</td>\n",
       "      <td>3</td>\n",
       "      <td>2017</td>\n",
       "      <td>другой</td>\n",
       "      <td>10.0</td>\n",
       "    </tr>\n",
       "    <tr>\n",
       "      <th>23698</th>\n",
       "      <td>4</td>\n",
       "      <td>1350000.0</td>\n",
       "      <td>32.30</td>\n",
       "      <td>2017-07-21</td>\n",
       "      <td>1</td>\n",
       "      <td>2.50</td>\n",
       "      <td>5</td>\n",
       "      <td>12.3</td>\n",
       "      <td>1</td>\n",
       "      <td>False</td>\n",
       "      <td>False</td>\n",
       "      <td>False</td>\n",
       "      <td>9.000000</td>\n",
       "      <td>0</td>\n",
       "      <td>посёлок Новый Учхоз</td>\n",
       "      <td>NaN</td>\n",
       "      <td>NaN</td>\n",
       "      <td>NaN</td>\n",
       "      <td>NaN</td>\n",
       "      <td>NaN</td>\n",
       "      <td>NaN</td>\n",
       "      <td>0</td>\n",
       "      <td>2.5</td>\n",
       "      <td>41795.665635</td>\n",
       "      <td>4</td>\n",
       "      <td>7</td>\n",
       "      <td>2017</td>\n",
       "      <td>первый</td>\n",
       "      <td>NaN</td>\n",
       "    </tr>\n",
       "  </tbody>\n",
       "</table>\n",
       "<p>22210 rows × 29 columns</p>\n",
       "</div>"
      ],
      "text/plain": [
       "       total_images  last_price  total_area first_day_exposition  rooms  \\\n",
       "0                20  13000000.0      108.00           2019-03-07      3   \n",
       "1                 7   3350000.0       40.40           2018-12-04      1   \n",
       "2                10   5196000.0       56.00           2015-08-20      2   \n",
       "5                10   2890000.0       30.40           2018-09-10      1   \n",
       "6                 6   3700000.0       37.30           2017-11-02      1   \n",
       "...             ...         ...         ...                  ...    ...   \n",
       "23694             9   9700000.0      133.81           2017-03-21      3   \n",
       "23695            14   3100000.0       59.00           2018-01-15      3   \n",
       "23696            18   2500000.0       56.70           2018-02-11      2   \n",
       "23697            13  11475000.0       76.75           2017-03-28      2   \n",
       "23698             4   1350000.0       32.30           2017-07-21      1   \n",
       "\n",
       "       ceiling_height  floors_total  living_area  floor is_apartment  studio  \\\n",
       "0                2.70            16         51.0      8        False   False   \n",
       "1                2.65            11         18.6      1        False   False   \n",
       "2                2.65             5         34.3      4        False   False   \n",
       "5                2.65            12         14.4      5        False   False   \n",
       "6                2.65            26         10.6      6        False   False   \n",
       "...               ...           ...          ...    ...          ...     ...   \n",
       "23694            3.70             5         73.3      3        False   False   \n",
       "23695            2.65             5         38.0      4        False   False   \n",
       "23696            2.65             3         29.7      1        False   False   \n",
       "23697            3.00            17         30.5     12        False   False   \n",
       "23698            2.50             5         12.3      1        False   False   \n",
       "\n",
       "       open_plan  kitchen_area  balcony              locality_name  \\\n",
       "0          False     25.000000        0            Санкт-Петербург   \n",
       "1          False     11.000000        2             посёлок Шушары   \n",
       "2          False      8.300000        0            Санкт-Петербург   \n",
       "5          False      9.100000        0  городской посёлок Янино-1   \n",
       "6          False     14.400000        1          посёлок Парголово   \n",
       "...          ...           ...      ...                        ...   \n",
       "23694      False     13.830000        0            Санкт-Петербург   \n",
       "23695      False      8.500000        0                      Тосно   \n",
       "23696      False     34.685868        0           село Рождествено   \n",
       "23697      False     23.300000        2            Санкт-Петербург   \n",
       "23698      False      9.000000        0        посёлок Новый Учхоз   \n",
       "\n",
       "       airports_nearest  cityCenters_nearest  parks_around3000  parks_nearest  \\\n",
       "0               18863.0              16028.0               1.0          482.0   \n",
       "1               12817.0              18603.0               0.0            NaN   \n",
       "2               21741.0              13933.0               1.0           90.0   \n",
       "5                   NaN                  NaN               NaN            NaN   \n",
       "6               52996.0              19143.0               0.0            NaN   \n",
       "...                 ...                  ...               ...            ...   \n",
       "23694           24665.0               4232.0               1.0          796.0   \n",
       "23695               NaN                  NaN               NaN            NaN   \n",
       "23696               NaN                  NaN               NaN            NaN   \n",
       "23697           39140.0              10364.0               2.0          173.0   \n",
       "23698               NaN                  NaN               NaN            NaN   \n",
       "\n",
       "       ponds_around3000  ponds_nearest  days_exposition height_category  \\\n",
       "0                   2.0          755.0                0             2.7   \n",
       "1                   0.0            NaN               81            2.65   \n",
       "2                   2.0          574.0              558            2.65   \n",
       "5                   NaN            NaN               55            2.65   \n",
       "6                   0.0            NaN              155            2.65   \n",
       "...                 ...            ...              ...             ...   \n",
       "23694               3.0          381.0                0             3.7   \n",
       "23695               NaN            NaN               45            2.65   \n",
       "23696               NaN            NaN                0            2.65   \n",
       "23697               3.0          196.0              602             3.0   \n",
       "23698               NaN            NaN                0             2.5   \n",
       "\n",
       "         price_per_m  weekday_exposition  month_exposition  year_exposition  \\\n",
       "0      120370.370370                   3                 3             2019   \n",
       "1       82920.792079                   1                12             2018   \n",
       "2       92785.714286                   3                 8             2015   \n",
       "5       95065.789474                   0                 9             2018   \n",
       "6       99195.710456                   3                11             2017   \n",
       "...              ...                 ...               ...              ...   \n",
       "23694   72490.845228                   1                 3             2017   \n",
       "23695   52542.372881                   0                 1             2018   \n",
       "23696   44091.710758                   6                 2             2018   \n",
       "23697  149511.400651                   1                 3             2017   \n",
       "23698   41795.665635                   4                 7             2017   \n",
       "\n",
       "      floor_category  distance_km  \n",
       "0             другой         16.0  \n",
       "1             первый         19.0  \n",
       "2             другой         14.0  \n",
       "5             другой          NaN  \n",
       "6             другой         19.0  \n",
       "...              ...          ...  \n",
       "23694         другой          4.0  \n",
       "23695         другой          NaN  \n",
       "23696         первый          NaN  \n",
       "23697         другой         10.0  \n",
       "23698         первый          NaN  \n",
       "\n",
       "[22210 rows x 29 columns]"
      ]
     },
     "metadata": {},
     "output_type": "display_data"
    }
   ],
   "source": [
    "#создание переменной, обозначающей расстояние до центра города в километрах\n",
    "data['distance_km'] = round(data['cityCenters_nearest']/1000)\n",
    "display(data)\n"
   ]
  },
  {
   "cell_type": "markdown",
   "metadata": {},
   "source": [
    "### Проведите исследовательский анализ данных"
   ]
  },
  {
   "cell_type": "markdown",
   "metadata": {},
   "source": [
    "* **Пункт 4.1**"
   ]
  },
  {
   "cell_type": "code",
   "execution_count": 28,
   "metadata": {},
   "outputs": [
    {
     "data": {
      "text/html": [
       "<div>\n",
       "<style scoped>\n",
       "    .dataframe tbody tr th:only-of-type {\n",
       "        vertical-align: middle;\n",
       "    }\n",
       "\n",
       "    .dataframe tbody tr th {\n",
       "        vertical-align: top;\n",
       "    }\n",
       "\n",
       "    .dataframe thead th {\n",
       "        text-align: right;\n",
       "    }\n",
       "</style>\n",
       "<table border=\"1\" class=\"dataframe\">\n",
       "  <thead>\n",
       "    <tr style=\"text-align: right;\">\n",
       "      <th></th>\n",
       "      <th>total_area</th>\n",
       "    </tr>\n",
       "  </thead>\n",
       "  <tbody>\n",
       "    <tr>\n",
       "      <th>count</th>\n",
       "      <td>22210.000000</td>\n",
       "    </tr>\n",
       "    <tr>\n",
       "      <th>mean</th>\n",
       "      <td>58.227867</td>\n",
       "    </tr>\n",
       "    <tr>\n",
       "      <th>std</th>\n",
       "      <td>28.638937</td>\n",
       "    </tr>\n",
       "    <tr>\n",
       "      <th>min</th>\n",
       "      <td>13.000000</td>\n",
       "    </tr>\n",
       "    <tr>\n",
       "      <th>25%</th>\n",
       "      <td>40.000000</td>\n",
       "    </tr>\n",
       "    <tr>\n",
       "      <th>50%</th>\n",
       "      <td>51.300000</td>\n",
       "    </tr>\n",
       "    <tr>\n",
       "      <th>75%</th>\n",
       "      <td>67.800000</td>\n",
       "    </tr>\n",
       "    <tr>\n",
       "      <th>max</th>\n",
       "      <td>441.980000</td>\n",
       "    </tr>\n",
       "  </tbody>\n",
       "</table>\n",
       "</div>"
      ],
      "text/plain": [
       "         total_area\n",
       "count  22210.000000\n",
       "mean      58.227867\n",
       "std       28.638937\n",
       "min       13.000000\n",
       "25%       40.000000\n",
       "50%       51.300000\n",
       "75%       67.800000\n",
       "max      441.980000"
      ]
     },
     "execution_count": 28,
     "metadata": {},
     "output_type": "execute_result"
    },
    {
     "data": {
      "image/png": "[encoded data removed]",
      "text/plain": [
       "<Figure size 1080x360 with 1 Axes>"
      ]
     },
     "metadata": {
      "needs_background": "light"
     },
     "output_type": "display_data"
    }
   ],
   "source": [
    "#переменная 'total_area':\n",
    "\n",
    "data['total_area'].hist(figsize=(15, 5), bins = 50, color='skyblue',width=5)\n",
    "pd.DataFrame(data['total_area'].describe())"
   ]
  },
  {
   "cell_type": "markdown",
   "metadata": {},
   "source": [
    "Общая площадь объектов, представленных в выборке, колеблется в диапазоне от 13 до 442 кв. м. Площадь большей части квартир не превышает 100 кв.м. "
   ]
  },
  {
   "cell_type": "code",
   "execution_count": 29,
   "metadata": {},
   "outputs": [
    {
     "data": {
      "text/html": [
       "<div>\n",
       "<style scoped>\n",
       "    .dataframe tbody tr th:only-of-type {\n",
       "        vertical-align: middle;\n",
       "    }\n",
       "\n",
       "    .dataframe tbody tr th {\n",
       "        vertical-align: top;\n",
       "    }\n",
       "\n",
       "    .dataframe thead th {\n",
       "        text-align: right;\n",
       "    }\n",
       "</style>\n",
       "<table border=\"1\" class=\"dataframe\">\n",
       "  <thead>\n",
       "    <tr style=\"text-align: right;\">\n",
       "      <th></th>\n",
       "      <th>living_area</th>\n",
       "    </tr>\n",
       "  </thead>\n",
       "  <tbody>\n",
       "    <tr>\n",
       "      <th>count</th>\n",
       "      <td>22210.000000</td>\n",
       "    </tr>\n",
       "    <tr>\n",
       "      <th>mean</th>\n",
       "      <td>33.276426</td>\n",
       "    </tr>\n",
       "    <tr>\n",
       "      <th>std</th>\n",
       "      <td>18.483041</td>\n",
       "    </tr>\n",
       "    <tr>\n",
       "      <th>min</th>\n",
       "      <td>10.080000</td>\n",
       "    </tr>\n",
       "    <tr>\n",
       "      <th>25%</th>\n",
       "      <td>18.200000</td>\n",
       "    </tr>\n",
       "    <tr>\n",
       "      <th>50%</th>\n",
       "      <td>30.000000</td>\n",
       "    </tr>\n",
       "    <tr>\n",
       "      <th>75%</th>\n",
       "      <td>42.000000</td>\n",
       "    </tr>\n",
       "    <tr>\n",
       "      <th>max</th>\n",
       "      <td>250.000000</td>\n",
       "    </tr>\n",
       "  </tbody>\n",
       "</table>\n",
       "</div>"
      ],
      "text/plain": [
       "        living_area\n",
       "count  22210.000000\n",
       "mean      33.276426\n",
       "std       18.483041\n",
       "min       10.080000\n",
       "25%       18.200000\n",
       "50%       30.000000\n",
       "75%       42.000000\n",
       "max      250.000000"
      ]
     },
     "execution_count": 29,
     "metadata": {},
     "output_type": "execute_result"
    },
    {
     "data": {
      "image/png": "[encoded data removed]",
      "text/plain": [
       "<Figure size 1080x360 with 1 Axes>"
      ]
     },
     "metadata": {
      "needs_background": "light"
     },
     "output_type": "display_data"
    }
   ],
   "source": [
    "#переменная 'living_area':\n",
    "\n",
    "data['living_area'].hist(figsize=(15, 5), bins = 50, color='darkblue',width=3)\n",
    "pd.DataFrame(data['living_area'].describe())\n",
    "#data['living_area'].value_counts()"
   ]
  },
  {
   "cell_type": "markdown",
   "metadata": {},
   "source": [
    "Жилая площадь объектов, представленных в выборке, колеблется в диапазоне от 10 до 250 кв. м. Жилая площадь большей части квартир не превышает 50 кв.м. \n",
    "Квартир с жилой площадью ~18 м.кв. и ~30 кв.м. больше, чем остальных"
   ]
  },
  {
   "cell_type": "code",
   "execution_count": 30,
   "metadata": {},
   "outputs": [
    {
     "data": {
      "text/html": [
       "<div>\n",
       "<style scoped>\n",
       "    .dataframe tbody tr th:only-of-type {\n",
       "        vertical-align: middle;\n",
       "    }\n",
       "\n",
       "    .dataframe tbody tr th {\n",
       "        vertical-align: top;\n",
       "    }\n",
       "\n",
       "    .dataframe thead th {\n",
       "        text-align: right;\n",
       "    }\n",
       "</style>\n",
       "<table border=\"1\" class=\"dataframe\">\n",
       "  <thead>\n",
       "    <tr style=\"text-align: right;\">\n",
       "      <th></th>\n",
       "      <th>kitchen_area</th>\n",
       "    </tr>\n",
       "  </thead>\n",
       "  <tbody>\n",
       "    <tr>\n",
       "      <th>count</th>\n",
       "      <td>22210.000000</td>\n",
       "    </tr>\n",
       "    <tr>\n",
       "      <th>mean</th>\n",
       "      <td>11.487183</td>\n",
       "    </tr>\n",
       "    <tr>\n",
       "      <th>std</th>\n",
       "      <td>6.313018</td>\n",
       "    </tr>\n",
       "    <tr>\n",
       "      <th>min</th>\n",
       "      <td>5.040000</td>\n",
       "    </tr>\n",
       "    <tr>\n",
       "      <th>25%</th>\n",
       "      <td>7.500000</td>\n",
       "    </tr>\n",
       "    <tr>\n",
       "      <th>50%</th>\n",
       "      <td>9.900000</td>\n",
       "    </tr>\n",
       "    <tr>\n",
       "      <th>75%</th>\n",
       "      <td>13.000000</td>\n",
       "    </tr>\n",
       "    <tr>\n",
       "      <th>max</th>\n",
       "      <td>39.900000</td>\n",
       "    </tr>\n",
       "  </tbody>\n",
       "</table>\n",
       "</div>"
      ],
      "text/plain": [
       "       kitchen_area\n",
       "count  22210.000000\n",
       "mean      11.487183\n",
       "std        6.313018\n",
       "min        5.040000\n",
       "25%        7.500000\n",
       "50%        9.900000\n",
       "75%       13.000000\n",
       "max       39.900000"
      ]
     },
     "execution_count": 30,
     "metadata": {},
     "output_type": "execute_result"
    },
    {
     "data": {
      "image/png": "[encoded data removed]",
      "text/plain": [
       "<Figure size 1080x360 with 1 Axes>"
      ]
     },
     "metadata": {
      "needs_background": "light"
     },
     "output_type": "display_data"
    }
   ],
   "source": [
    "#переменная 'kitchen_area':\n",
    "\n",
    "data['kitchen_area'].hist(figsize=(15, 5), bins = 100, color='blue',width=0.2)\n",
    "pd.DataFrame(data['kitchen_area'].describe())\n",
    "#data['kitchen_area'].value_counts()"
   ]
  },
  {
   "cell_type": "markdown",
   "metadata": {},
   "source": [
    "Площадь кухни объектов, представленных в выборке, колеблется в диапазоне от 5 до 40 кв. м. Площадь кухни большей части квартир не превышает 15 кв.м. \n",
    "Чаще всего в квартирах из выборки площадь кухни = 6, 10, 8, 9 и 7 кв. метров."
   ]
  },
  {
   "cell_type": "code",
   "execution_count": 31,
   "metadata": {},
   "outputs": [
    {
     "data": {
      "text/html": [
       "<div>\n",
       "<style scoped>\n",
       "    .dataframe tbody tr th:only-of-type {\n",
       "        vertical-align: middle;\n",
       "    }\n",
       "\n",
       "    .dataframe tbody tr th {\n",
       "        vertical-align: top;\n",
       "    }\n",
       "\n",
       "    .dataframe thead th {\n",
       "        text-align: right;\n",
       "    }\n",
       "</style>\n",
       "<table border=\"1\" class=\"dataframe\">\n",
       "  <thead>\n",
       "    <tr style=\"text-align: right;\">\n",
       "      <th></th>\n",
       "      <th>last_price</th>\n",
       "    </tr>\n",
       "  </thead>\n",
       "  <tbody>\n",
       "    <tr>\n",
       "      <th>count</th>\n",
       "      <td>22210.000000</td>\n",
       "    </tr>\n",
       "    <tr>\n",
       "      <th>mean</th>\n",
       "      <td>6.056245</td>\n",
       "    </tr>\n",
       "    <tr>\n",
       "      <th>std</th>\n",
       "      <td>7.202548</td>\n",
       "    </tr>\n",
       "    <tr>\n",
       "      <th>min</th>\n",
       "      <td>0.430000</td>\n",
       "    </tr>\n",
       "    <tr>\n",
       "      <th>25%</th>\n",
       "      <td>3.430000</td>\n",
       "    </tr>\n",
       "    <tr>\n",
       "      <th>50%</th>\n",
       "      <td>4.600000</td>\n",
       "    </tr>\n",
       "    <tr>\n",
       "      <th>75%</th>\n",
       "      <td>6.600000</td>\n",
       "    </tr>\n",
       "    <tr>\n",
       "      <th>max</th>\n",
       "      <td>401.300000</td>\n",
       "    </tr>\n",
       "  </tbody>\n",
       "</table>\n",
       "</div>"
      ],
      "text/plain": [
       "         last_price\n",
       "count  22210.000000\n",
       "mean       6.056245\n",
       "std        7.202548\n",
       "min        0.430000\n",
       "25%        3.430000\n",
       "50%        4.600000\n",
       "75%        6.600000\n",
       "max      401.300000"
      ]
     },
     "execution_count": 31,
     "metadata": {},
     "output_type": "execute_result"
    },
    {
     "data": {
      "image/png": "[encoded data removed]",
      "text/plain": [
       "<Figure size 1080x360 with 1 Axes>"
      ]
     },
     "metadata": {
      "needs_background": "light"
     },
     "output_type": "display_data"
    }
   ],
   "source": [
    "#переменная 'last_price':\n",
    "(data['last_price']/1000000).hist(figsize=(15, 5), range = (0,402), bins = 100, color='red',width=3) #перевод в млн. рублей для удобства\n",
    "pd.DataFrame(data['last_price']/1000000).describe()\n",
    "#(data['last_price']/1000000).value_counts()"
   ]
  },
  {
   "cell_type": "code",
   "execution_count": 32,
   "metadata": {},
   "outputs": [
    {
     "data": {
      "text/plain": [
       "<AxesSubplot:>"
      ]
     },
     "execution_count": 32,
     "metadata": {},
     "output_type": "execute_result"
    },
    {
     "data": {
      "image/png": "[encoded data removed]",
      "text/plain": [
       "<Figure size 1080x360 with 1 Axes>"
      ]
     },
     "metadata": {
      "needs_background": "light"
     },
     "output_type": "display_data"
    }
   ],
   "source": [
    "(data['last_price']/1000000).hist(figsize=(15, 5), range = (0,20), bins = 100, color='pink',width=0.09) #укрупненная гистограмма для большей наглядности"
   ]
  },
  {
   "cell_type": "markdown",
   "metadata": {},
   "source": [
    "Цена объектов, представленных в выборке, колеблется в диапазоне от 430 тыс. до 401 млн. рублей. Цена большей части квартир не превышает 20 млн. рублей \n",
    "Чаще всего цена квартир из выборки = 4-4,5 млн. рублей"
   ]
  },
  {
   "cell_type": "code",
   "execution_count": 33,
   "metadata": {},
   "outputs": [
    {
     "data": {
      "text/html": [
       "<div>\n",
       "<style scoped>\n",
       "    .dataframe tbody tr th:only-of-type {\n",
       "        vertical-align: middle;\n",
       "    }\n",
       "\n",
       "    .dataframe tbody tr th {\n",
       "        vertical-align: top;\n",
       "    }\n",
       "\n",
       "    .dataframe thead th {\n",
       "        text-align: right;\n",
       "    }\n",
       "</style>\n",
       "<table border=\"1\" class=\"dataframe\">\n",
       "  <thead>\n",
       "    <tr style=\"text-align: right;\">\n",
       "      <th></th>\n",
       "      <th>rooms</th>\n",
       "    </tr>\n",
       "  </thead>\n",
       "  <tbody>\n",
       "    <tr>\n",
       "      <th>count</th>\n",
       "      <td>22210.000000</td>\n",
       "    </tr>\n",
       "    <tr>\n",
       "      <th>mean</th>\n",
       "      <td>2.020576</td>\n",
       "    </tr>\n",
       "    <tr>\n",
       "      <th>std</th>\n",
       "      <td>0.991785</td>\n",
       "    </tr>\n",
       "    <tr>\n",
       "      <th>min</th>\n",
       "      <td>0.000000</td>\n",
       "    </tr>\n",
       "    <tr>\n",
       "      <th>25%</th>\n",
       "      <td>1.000000</td>\n",
       "    </tr>\n",
       "    <tr>\n",
       "      <th>50%</th>\n",
       "      <td>2.000000</td>\n",
       "    </tr>\n",
       "    <tr>\n",
       "      <th>75%</th>\n",
       "      <td>3.000000</td>\n",
       "    </tr>\n",
       "    <tr>\n",
       "      <th>max</th>\n",
       "      <td>6.000000</td>\n",
       "    </tr>\n",
       "  </tbody>\n",
       "</table>\n",
       "</div>"
      ],
      "text/plain": [
       "              rooms\n",
       "count  22210.000000\n",
       "mean       2.020576\n",
       "std        0.991785\n",
       "min        0.000000\n",
       "25%        1.000000\n",
       "50%        2.000000\n",
       "75%        3.000000\n",
       "max        6.000000"
      ]
     },
     "execution_count": 33,
     "metadata": {},
     "output_type": "execute_result"
    },
    {
     "data": {
      "image/png": "[encoded data removed]",
      "text/plain": [
       "<Figure size 1080x360 with 1 Axes>"
      ]
     },
     "metadata": {
      "needs_background": "light"
     },
     "output_type": "display_data"
    }
   ],
   "source": [
    "#переменная 'rooms':\n",
    "\n",
    "data['rooms'].hist(figsize=(15, 5), bins = 7, color='purple',width=0.7)\n",
    "pd.DataFrame(data['rooms']).describe()\n",
    "#data['rooms'].value_counts()"
   ]
  },
  {
   "cell_type": "markdown",
   "metadata": {},
   "source": [
    "Количество комнат объектов из выборки колеблется от 0 (планировка без изолированных комнат) до 6. Чаще всего в выборке встречаются однокомнатные квартиры, немного реже - двухкомнатные. Реже всего встречаются объекты с 6 комнатами."
   ]
  },
  {
   "cell_type": "code",
   "execution_count": 34,
   "metadata": {},
   "outputs": [
    {
     "data": {
      "text/html": [
       "<div>\n",
       "<style scoped>\n",
       "    .dataframe tbody tr th:only-of-type {\n",
       "        vertical-align: middle;\n",
       "    }\n",
       "\n",
       "    .dataframe tbody tr th {\n",
       "        vertical-align: top;\n",
       "    }\n",
       "\n",
       "    .dataframe thead th {\n",
       "        text-align: right;\n",
       "    }\n",
       "</style>\n",
       "<table border=\"1\" class=\"dataframe\">\n",
       "  <thead>\n",
       "    <tr style=\"text-align: right;\">\n",
       "      <th></th>\n",
       "      <th>height_category</th>\n",
       "    </tr>\n",
       "  </thead>\n",
       "  <tbody>\n",
       "    <tr>\n",
       "      <th>count</th>\n",
       "      <td>22210.00</td>\n",
       "    </tr>\n",
       "    <tr>\n",
       "      <th>unique</th>\n",
       "      <td>145.00</td>\n",
       "    </tr>\n",
       "    <tr>\n",
       "      <th>top</th>\n",
       "      <td>2.65</td>\n",
       "    </tr>\n",
       "    <tr>\n",
       "      <th>freq</th>\n",
       "      <td>9176.00</td>\n",
       "    </tr>\n",
       "  </tbody>\n",
       "</table>\n",
       "</div>"
      ],
      "text/plain": [
       "        height_category\n",
       "count          22210.00\n",
       "unique           145.00\n",
       "top                2.65\n",
       "freq            9176.00"
      ]
     },
     "execution_count": 34,
     "metadata": {},
     "output_type": "execute_result"
    },
    {
     "data": {
      "image/png": "[encoded data removed]",
      "text/plain": [
       "<Figure size 1080x360 with 1 Axes>"
      ]
     },
     "metadata": {
      "needs_background": "light"
     },
     "output_type": "display_data"
    }
   ],
   "source": [
    "#переменная 'height_category':\n",
    "\n",
    "data['height_category'].hist(figsize=(15, 5), bins = 100, color='red',width=0.03)\n",
    "pd.DataFrame(data['height_category']).describe()\n",
    "#data['height_category'].value_counts()"
   ]
  },
  {
   "cell_type": "markdown",
   "metadata": {},
   "source": [
    "Чаще всего объекты из выборки характеризуются высотой потолков от 2.5 до 2.65 метров"
   ]
  },
  {
   "cell_type": "code",
   "execution_count": 35,
   "metadata": {},
   "outputs": [
    {
     "data": {
      "text/html": [
       "<div>\n",
       "<style scoped>\n",
       "    .dataframe tbody tr th:only-of-type {\n",
       "        vertical-align: middle;\n",
       "    }\n",
       "\n",
       "    .dataframe tbody tr th {\n",
       "        vertical-align: top;\n",
       "    }\n",
       "\n",
       "    .dataframe thead th {\n",
       "        text-align: right;\n",
       "    }\n",
       "</style>\n",
       "<table border=\"1\" class=\"dataframe\">\n",
       "  <thead>\n",
       "    <tr style=\"text-align: right;\">\n",
       "      <th></th>\n",
       "      <th>floor</th>\n",
       "    </tr>\n",
       "  </thead>\n",
       "  <tbody>\n",
       "    <tr>\n",
       "      <th>count</th>\n",
       "      <td>22210.000000</td>\n",
       "    </tr>\n",
       "    <tr>\n",
       "      <th>mean</th>\n",
       "      <td>5.937281</td>\n",
       "    </tr>\n",
       "    <tr>\n",
       "      <th>std</th>\n",
       "      <td>4.900283</td>\n",
       "    </tr>\n",
       "    <tr>\n",
       "      <th>min</th>\n",
       "      <td>1.000000</td>\n",
       "    </tr>\n",
       "    <tr>\n",
       "      <th>25%</th>\n",
       "      <td>2.000000</td>\n",
       "    </tr>\n",
       "    <tr>\n",
       "      <th>50%</th>\n",
       "      <td>4.000000</td>\n",
       "    </tr>\n",
       "    <tr>\n",
       "      <th>75%</th>\n",
       "      <td>8.000000</td>\n",
       "    </tr>\n",
       "    <tr>\n",
       "      <th>max</th>\n",
       "      <td>33.000000</td>\n",
       "    </tr>\n",
       "  </tbody>\n",
       "</table>\n",
       "</div>"
      ],
      "text/plain": [
       "              floor\n",
       "count  22210.000000\n",
       "mean       5.937281\n",
       "std        4.900283\n",
       "min        1.000000\n",
       "25%        2.000000\n",
       "50%        4.000000\n",
       "75%        8.000000\n",
       "max       33.000000"
      ]
     },
     "execution_count": 35,
     "metadata": {},
     "output_type": "execute_result"
    },
    {
     "data": {
      "image/png": "[encoded data removed]",
      "text/plain": [
       "<Figure size 1080x360 with 1 Axes>"
      ]
     },
     "metadata": {
      "needs_background": "light"
     },
     "output_type": "display_data"
    }
   ],
   "source": [
    "#переменная 'floor':\n",
    "\n",
    "data['floor'].hist(figsize=(15, 5), bins = 34, color='green',width=0.5)\n",
    "pd.DataFrame(data['floor']).describe()\n",
    "#data['floor'].value_counts()"
   ]
  },
  {
   "cell_type": "markdown",
   "metadata": {},
   "source": [
    "Объекты из выборки расположены на разных этажах (от 1 до 33). Чаще всего в продаже можно было увидеть квартиры на 2 этаже (наибольшая концентрация наблюдалась в диапазоне от 1 до 5 этажа), реже всего - на 28 - 33 этажах."
   ]
  },
  {
   "cell_type": "code",
   "execution_count": 36,
   "metadata": {},
   "outputs": [
    {
     "data": {
      "text/plain": [
       "другой       16445\n",
       "последний     3062\n",
       "первый        2703\n",
       "Name: floor_category, dtype: int64"
      ]
     },
     "execution_count": 36,
     "metadata": {},
     "output_type": "execute_result"
    },
    {
     "data": {
      "image/png": "[encoded data removed]",
      "text/plain": [
       "<Figure size 576x216 with 1 Axes>"
      ]
     },
     "metadata": {
      "needs_background": "light"
     },
     "output_type": "display_data"
    }
   ],
   "source": [
    "#переменная 'floor_category':\n",
    "\n",
    "data['floor_category'].hist(figsize=(8, 3), bins = 3, color='lightgreen',width=0.5)\n",
    "pd.DataFrame(data['floor_category']).describe()\n",
    "data['floor_category'].value_counts()"
   ]
  },
  {
   "cell_type": "markdown",
   "metadata": {},
   "source": [
    "Первые и последние этажи встречаются реже (по сравнению с остальными)"
   ]
  },
  {
   "cell_type": "code",
   "execution_count": 37,
   "metadata": {},
   "outputs": [
    {
     "data": {
      "text/html": [
       "<div>\n",
       "<style scoped>\n",
       "    .dataframe tbody tr th:only-of-type {\n",
       "        vertical-align: middle;\n",
       "    }\n",
       "\n",
       "    .dataframe tbody tr th {\n",
       "        vertical-align: top;\n",
       "    }\n",
       "\n",
       "    .dataframe thead th {\n",
       "        text-align: right;\n",
       "    }\n",
       "</style>\n",
       "<table border=\"1\" class=\"dataframe\">\n",
       "  <thead>\n",
       "    <tr style=\"text-align: right;\">\n",
       "      <th></th>\n",
       "      <th>floors_total</th>\n",
       "    </tr>\n",
       "  </thead>\n",
       "  <tbody>\n",
       "    <tr>\n",
       "      <th>count</th>\n",
       "      <td>22210.000000</td>\n",
       "    </tr>\n",
       "    <tr>\n",
       "      <th>mean</th>\n",
       "      <td>10.811887</td>\n",
       "    </tr>\n",
       "    <tr>\n",
       "      <th>std</th>\n",
       "      <td>6.593564</td>\n",
       "    </tr>\n",
       "    <tr>\n",
       "      <th>min</th>\n",
       "      <td>1.000000</td>\n",
       "    </tr>\n",
       "    <tr>\n",
       "      <th>25%</th>\n",
       "      <td>5.000000</td>\n",
       "    </tr>\n",
       "    <tr>\n",
       "      <th>50%</th>\n",
       "      <td>9.000000</td>\n",
       "    </tr>\n",
       "    <tr>\n",
       "      <th>75%</th>\n",
       "      <td>16.000000</td>\n",
       "    </tr>\n",
       "    <tr>\n",
       "      <th>max</th>\n",
       "      <td>36.000000</td>\n",
       "    </tr>\n",
       "  </tbody>\n",
       "</table>\n",
       "</div>"
      ],
      "text/plain": [
       "       floors_total\n",
       "count  22210.000000\n",
       "mean      10.811887\n",
       "std        6.593564\n",
       "min        1.000000\n",
       "25%        5.000000\n",
       "50%        9.000000\n",
       "75%       16.000000\n",
       "max       36.000000"
      ]
     },
     "execution_count": 37,
     "metadata": {},
     "output_type": "execute_result"
    },
    {
     "data": {
      "image/png": "[encoded data removed]",
      "text/plain": [
       "<Figure size 1080x360 with 1 Axes>"
      ]
     },
     "metadata": {
      "needs_background": "light"
     },
     "output_type": "display_data"
    }
   ],
   "source": [
    "#переменная 'floors_total':\n",
    "\n",
    "data['floors_total'].hist(figsize=(15, 5), bins = 100, color='darkgreen',width=1)\n",
    "pd.DataFrame(data['floors_total']).describe()\n",
    "#data['floors_total'].value_counts()"
   ]
  },
  {
   "cell_type": "markdown",
   "metadata": {},
   "source": [
    "Этажность домов варьируется от 1 до 36 этажей. Чаще всего выставлялись квартиры в пятиэтажных домах, немного реже - в девятиэтажных. 34-36 этажей встречались крайне редко."
   ]
  },
  {
   "cell_type": "code",
   "execution_count": 38,
   "metadata": {},
   "outputs": [
    {
     "data": {
      "text/html": [
       "<div>\n",
       "<style scoped>\n",
       "    .dataframe tbody tr th:only-of-type {\n",
       "        vertical-align: middle;\n",
       "    }\n",
       "\n",
       "    .dataframe tbody tr th {\n",
       "        vertical-align: top;\n",
       "    }\n",
       "\n",
       "    .dataframe thead th {\n",
       "        text-align: right;\n",
       "    }\n",
       "</style>\n",
       "<table border=\"1\" class=\"dataframe\">\n",
       "  <thead>\n",
       "    <tr style=\"text-align: right;\">\n",
       "      <th></th>\n",
       "      <th>cityCenters_nearest</th>\n",
       "    </tr>\n",
       "  </thead>\n",
       "  <tbody>\n",
       "    <tr>\n",
       "      <th>count</th>\n",
       "      <td>17010.000000</td>\n",
       "    </tr>\n",
       "    <tr>\n",
       "      <th>mean</th>\n",
       "      <td>14.253315</td>\n",
       "    </tr>\n",
       "    <tr>\n",
       "      <th>std</th>\n",
       "      <td>8.460520</td>\n",
       "    </tr>\n",
       "    <tr>\n",
       "      <th>min</th>\n",
       "      <td>0.181000</td>\n",
       "    </tr>\n",
       "    <tr>\n",
       "      <th>25%</th>\n",
       "      <td>9.550250</td>\n",
       "    </tr>\n",
       "    <tr>\n",
       "      <th>50%</th>\n",
       "      <td>13.177500</td>\n",
       "    </tr>\n",
       "    <tr>\n",
       "      <th>75%</th>\n",
       "      <td>16.293000</td>\n",
       "    </tr>\n",
       "    <tr>\n",
       "      <th>max</th>\n",
       "      <td>65.968000</td>\n",
       "    </tr>\n",
       "  </tbody>\n",
       "</table>\n",
       "</div>"
      ],
      "text/plain": [
       "       cityCenters_nearest\n",
       "count         17010.000000\n",
       "mean             14.253315\n",
       "std               8.460520\n",
       "min               0.181000\n",
       "25%               9.550250\n",
       "50%              13.177500\n",
       "75%              16.293000\n",
       "max              65.968000"
      ]
     },
     "execution_count": 38,
     "metadata": {},
     "output_type": "execute_result"
    },
    {
     "data": {
      "image/png": "[encoded data removed]",
      "text/plain": [
       "<Figure size 1080x360 with 1 Axes>"
      ]
     },
     "metadata": {
      "needs_background": "light"
     },
     "output_type": "display_data"
    }
   ],
   "source": [
    "#переменная 'cityCenters_nearest':\n",
    "\n",
    "(data['cityCenters_nearest']/1000).hist(figsize=(15, 5), bins = 100, color='darkred',width=0.5) #перевод в км.\n",
    "pd.DataFrame(data['cityCenters_nearest']/1000).describe()\n",
    "#(data['cityCenters_nearest']/1000).value_counts()"
   ]
  },
  {
   "cell_type": "markdown",
   "metadata": {},
   "source": [
    "Расстояние до центра города варьируется от 0.2 до 66 км. (Это вполне логично, в выборке большое количество пригородных объектов)"
   ]
  },
  {
   "cell_type": "code",
   "execution_count": 39,
   "metadata": {},
   "outputs": [
    {
     "data": {
      "text/html": [
       "<div>\n",
       "<style scoped>\n",
       "    .dataframe tbody tr th:only-of-type {\n",
       "        vertical-align: middle;\n",
       "    }\n",
       "\n",
       "    .dataframe tbody tr th {\n",
       "        vertical-align: top;\n",
       "    }\n",
       "\n",
       "    .dataframe thead th {\n",
       "        text-align: right;\n",
       "    }\n",
       "</style>\n",
       "<table border=\"1\" class=\"dataframe\">\n",
       "  <thead>\n",
       "    <tr style=\"text-align: right;\">\n",
       "      <th></th>\n",
       "      <th>airports_nearest</th>\n",
       "    </tr>\n",
       "  </thead>\n",
       "  <tbody>\n",
       "    <tr>\n",
       "      <th>count</th>\n",
       "      <td>16990.000000</td>\n",
       "    </tr>\n",
       "    <tr>\n",
       "      <th>mean</th>\n",
       "      <td>28.845927</td>\n",
       "    </tr>\n",
       "    <tr>\n",
       "      <th>std</th>\n",
       "      <td>12.663182</td>\n",
       "    </tr>\n",
       "    <tr>\n",
       "      <th>min</th>\n",
       "      <td>0.000000</td>\n",
       "    </tr>\n",
       "    <tr>\n",
       "      <th>25%</th>\n",
       "      <td>18.500000</td>\n",
       "    </tr>\n",
       "    <tr>\n",
       "      <th>50%</th>\n",
       "      <td>26.885500</td>\n",
       "    </tr>\n",
       "    <tr>\n",
       "      <th>75%</th>\n",
       "      <td>37.407000</td>\n",
       "    </tr>\n",
       "    <tr>\n",
       "      <th>max</th>\n",
       "      <td>84.869000</td>\n",
       "    </tr>\n",
       "  </tbody>\n",
       "</table>\n",
       "</div>"
      ],
      "text/plain": [
       "       airports_nearest\n",
       "count      16990.000000\n",
       "mean          28.845927\n",
       "std           12.663182\n",
       "min            0.000000\n",
       "25%           18.500000\n",
       "50%           26.885500\n",
       "75%           37.407000\n",
       "max           84.869000"
      ]
     },
     "execution_count": 39,
     "metadata": {},
     "output_type": "execute_result"
    },
    {
     "data": {
      "image/png": "[encoded data removed]",
      "text/plain": [
       "<Figure size 864x288 with 1 Axes>"
      ]
     },
     "metadata": {
      "needs_background": "light"
     },
     "output_type": "display_data"
    }
   ],
   "source": [
    "#переменная 'airports_nearest':\n",
    "\n",
    "(data['airports_nearest']/1000).hist(figsize=(12, 4), bins = 100, color='orange',width=0.7) #перевод в км.\n",
    "pd.DataFrame(data['airports_nearest']/1000).describe()\n",
    "#(data['airports_nearest']/1000).value_counts()"
   ]
  },
  {
   "cell_type": "markdown",
   "metadata": {},
   "source": [
    "Расстояние до ближайшего аэропорта варьируется от 0 до 85 км."
   ]
  },
  {
   "cell_type": "code",
   "execution_count": 40,
   "metadata": {},
   "outputs": [
    {
     "data": {
      "text/plain": [
       "0.441    64\n",
       "0.392    40\n",
       "0.456    40\n",
       "0.173    37\n",
       "2.102    29\n",
       "         ..\n",
       "0.938     1\n",
       "0.932     1\n",
       "0.973     1\n",
       "1.074     1\n",
       "1.722     1\n",
       "Name: parks_nearest, Length: 980, dtype: int64"
      ]
     },
     "execution_count": 40,
     "metadata": {},
     "output_type": "execute_result"
    },
    {
     "data": {
      "image/png": "[encoded data removed]",
      "text/plain": [
       "<Figure size 1080x360 with 1 Axes>"
      ]
     },
     "metadata": {
      "needs_background": "light"
     },
     "output_type": "display_data"
    }
   ],
   "source": [
    "#переменная 'parks_nearest':\n",
    "\n",
    "(data['parks_nearest']/1000).hist(figsize=(15, 5), bins = 100, color='orange',width=0.02) #перевод в км.\n",
    "pd.DataFrame(data['parks_nearest']/1000).describe()\n",
    "(data['parks_nearest']/1000).value_counts()"
   ]
  },
  {
   "cell_type": "markdown",
   "metadata": {},
   "source": [
    "Чаще всего парк расположен не ближе 441 метров и не дальше 2 км."
   ]
  },
  {
   "cell_type": "code",
   "execution_count": 41,
   "metadata": {},
   "outputs": [
    {
     "data": {
      "text/plain": [
       "<AxesSubplot:>"
      ]
     },
     "execution_count": 41,
     "metadata": {},
     "output_type": "execute_result"
    },
    {
     "data": {
      "image/png": "[encoded data removed]",
      "text/plain": [
       "<Figure size 1080x360 with 1 Axes>"
      ]
     },
     "metadata": {
      "needs_background": "light"
     },
     "output_type": "display_data"
    }
   ],
   "source": [
    "#weekday_exposition\n",
    "data['weekday_exposition'].hist(figsize=(15, 5), bins = 6, color='blue',width=0.7, alpha = 0.4)\n",
    "\n",
    "\n",
    "#month_exposition\n",
    "data['month_exposition'].hist(figsize=(15, 5), bins = 12, color='black',width=0.7, alpha = 0.4)"
   ]
  },
  {
   "cell_type": "markdown",
   "metadata": {},
   "source": [
    "**День:** Чаще всего объявления о продаже выставлялись в четверг и вторник, реже всего - в воскресенье.\n",
    "___\n",
    "**Месяц:** Чаще всего объявления о продаже выставлялись в феврале и марте, реже всего - в январе и мае."
   ]
  },
  {
   "cell_type": "markdown",
   "metadata": {},
   "source": [
    "* **Пункт 4.2**"
   ]
  },
  {
   "cell_type": "code",
   "execution_count": 42,
   "metadata": {
    "scrolled": true
   },
   "outputs": [
    {
     "name": "stdout",
     "output_type": "stream",
     "text": [
      "       days_exposition\n",
      "count     22210.000000\n",
      "mean        155.940882\n",
      "std         212.422070\n",
      "min           0.000000\n",
      "25%          22.000000\n",
      "50%          73.000000\n",
      "75%         198.000000\n",
      "max        1580.000000\n",
      "\n",
      "0       2945\n",
      "45       835\n",
      "60       467\n",
      "7        218\n",
      "30       201\n",
      "        ... \n",
      "1112       1\n",
      "1080       1\n",
      "1064       1\n",
      "1032       1\n",
      "1391       1\n",
      "Name: days_exposition, Length: 1121, dtype: int64\n"
     ]
    },
    {
     "data": {
      "image/png": "[encoded data removed]",
      "text/plain": [
       "<Figure size 1080x360 with 1 Axes>"
      ]
     },
     "metadata": {
      "needs_background": "light"
     },
     "output_type": "display_data"
    }
   ],
   "source": [
    "#days_exposition\n",
    "data['days_exposition'].hist(figsize=(15, 5), bins = 100, color='blue',width=5, alpha = 1)\n",
    "print(pd.DataFrame(data['days_exposition']).describe())\n",
    "print()\n",
    "print(data['days_exposition'].value_counts())"
   ]
  },
  {
   "cell_type": "markdown",
   "metadata": {},
   "source": [
    "Наибольшее количеcтво объявлений было размещено менее суток. Возможно, они были очень востребованными и претендентов на покупку было много. (Или совсем новые объявления - на момент выгрузки данных они были размещены менее суток)\n",
    "___\n",
    "В среднем объявления активны в течение 156 дней.\n",
    "\n",
    "Медиана = 73 дня (выглядит более правдоподобно, без искажения за счет наличия слишком больших значений)\n",
    "___\n",
    "Однако были объявления, которые были размещены более 3 лет - крайне невостребованные (возможно, не очень неблагоприятное для покупателей сочетание характеристик)\n",
    "___\n",
    "Быстрыми продажами кажутся продажи, осуществленные менее чем за 3 недели\n",
    "Необычно долгие продажи - 800 дней и более."
   ]
  },
  {
   "cell_type": "markdown",
   "metadata": {},
   "source": [
    "* **Пункт 4.3**"
   ]
  },
  {
   "cell_type": "code",
   "execution_count": 43,
   "metadata": {},
   "outputs": [],
   "source": [
    "#влияние на стоимость объекта\n",
    "#Цена в зависимости от общей площади\n",
    "dependence_total_area = data.pivot_table(index = 'total_area', values = 'last_price', aggfunc = 'median')\n",
    "dependence_total_area.columns = ['median_price'] \n",
    "#display(dependence_total_area)"
   ]
  },
  {
   "cell_type": "code",
   "execution_count": 44,
   "metadata": {
    "scrolled": true
   },
   "outputs": [],
   "source": [
    "#Исправленная версия\n",
    "\n",
    "dependence_ta = data.pivot_table(index='total_area', values='last_price', aggfunc = 'mean')\n",
    "dependence_ta = dependence_ta.reset_index()\n",
    "\n",
    "#display(dependence_ta)"
   ]
  },
  {
   "cell_type": "code",
   "execution_count": 45,
   "metadata": {},
   "outputs": [],
   "source": [
    "import matplotlib.pyplot as plt #импорт библиотек\n",
    "import seaborn as sb"
   ]
  },
  {
   "cell_type": "code",
   "execution_count": 46,
   "metadata": {},
   "outputs": [
    {
     "data": {
      "image/png": "[encoded data removed]",
      "text/plain": [
       "<Figure size 432x288 with 1 Axes>"
      ]
     },
     "metadata": {
      "needs_background": "light"
     },
     "output_type": "display_data"
    },
    {
     "data": {
      "text/html": [
       "<div>\n",
       "<style scoped>\n",
       "    .dataframe tbody tr th:only-of-type {\n",
       "        vertical-align: middle;\n",
       "    }\n",
       "\n",
       "    .dataframe tbody tr th {\n",
       "        vertical-align: top;\n",
       "    }\n",
       "\n",
       "    .dataframe thead th {\n",
       "        text-align: right;\n",
       "    }\n",
       "</style>\n",
       "<table border=\"1\" class=\"dataframe\">\n",
       "  <thead>\n",
       "    <tr style=\"text-align: right;\">\n",
       "      <th></th>\n",
       "      <th>total_area</th>\n",
       "      <th>last_price</th>\n",
       "    </tr>\n",
       "  </thead>\n",
       "  <tbody>\n",
       "    <tr>\n",
       "      <th>total_area</th>\n",
       "      <td>1.0000</td>\n",
       "      <td>0.6722</td>\n",
       "    </tr>\n",
       "    <tr>\n",
       "      <th>last_price</th>\n",
       "      <td>0.6722</td>\n",
       "      <td>1.0000</td>\n",
       "    </tr>\n",
       "  </tbody>\n",
       "</table>\n",
       "</div>"
      ],
      "text/plain": [
       "            total_area  last_price\n",
       "total_area      1.0000      0.6722\n",
       "last_price      0.6722      1.0000"
      ]
     },
     "metadata": {},
     "output_type": "display_data"
    }
   ],
   "source": [
    "sb.scatterplot(data = dependence_ta, x = 'total_area', y = 'last_price', alpha = 0.4) #построение графика\n",
    "sb.set(rc={'figure.figsize':(8,4)})\n",
    "plt.show() \n",
    "display(dependence_ta.corr()) #вывод корреляционной матрицы\n",
    "#print(dependence_ta['total_area'].corr(dependence_ta['last_price'])) #альтернативный способ расчета корреляции"
   ]
  },
  {
   "cell_type": "markdown",
   "metadata": {},
   "source": [
    "За исключением некоторых выбросов, можно наблюдать положительный тренд: С увеличением общей площади объекта в среднем при прочих равных увеличивается цена продажи.\n",
    "\n",
    "Коэффициент корреляции = 0.67, что говорит о положительной зависимости стоимости объекта от общей площади."
   ]
  },
  {
   "cell_type": "code",
   "execution_count": 47,
   "metadata": {},
   "outputs": [],
   "source": [
    "#Цена в зависимости от жилой площади\n",
    "data['last_price_mln'] = data['last_price']/1000000\n",
    "dependence_living_area = data.pivot_table(index = 'living_area', values = 'last_price_mln', aggfunc = 'mean')\n",
    "dependence_living_area.columns = ['mean_price'] \n",
    "#display(dependence_living_area)"
   ]
  },
  {
   "cell_type": "code",
   "execution_count": 48,
   "metadata": {},
   "outputs": [],
   "source": [
    "#data.pivot_table(index='living_area', values='last_price', aggfunc = 'mean').plot(color = 'darkblue')"
   ]
  },
  {
   "cell_type": "code",
   "execution_count": 49,
   "metadata": {},
   "outputs": [],
   "source": [
    "#Исправленная версия\n",
    "dependence_la = data.pivot_table(index='living_area', values='last_price_mln', aggfunc = 'mean').reset_index()\n",
    "#display(dependence_la)"
   ]
  },
  {
   "cell_type": "code",
   "execution_count": 50,
   "metadata": {},
   "outputs": [
    {
     "data": {
      "image/png": "[encoded data removed]",
      "text/plain": [
       "<Figure size 576x288 with 1 Axes>"
      ]
     },
     "metadata": {},
     "output_type": "display_data"
    },
    {
     "data": {
      "text/plain": [
       "<AxesSubplot:>"
      ]
     },
     "execution_count": 50,
     "metadata": {},
     "output_type": "execute_result"
    },
    {
     "data": {
      "image/png": "[encoded data removed]",
      "text/plain": [
       "<Figure size 576x288 with 2 Axes>"
      ]
     },
     "metadata": {},
     "output_type": "display_data"
    }
   ],
   "source": [
    "sb.scatterplot(data = dependence_la, x = 'living_area', y = 'last_price_mln', alpha = 0.4) #построение графика\n",
    "sb.set(rc={'figure.figsize':(8,4)})\n",
    "plt.show() \n",
    "#print(dependence_la['last_price_mln'].corr(dependence_la['living_area'])) #не сработало\n",
    "sb.heatmap(dependence_la.corr(), annot = True, cmap = 'Blues_r')"
   ]
  },
  {
   "cell_type": "markdown",
   "metadata": {},
   "source": [
    "Ситуация аналогична описанной выше (с жилой площадью).\n",
    "\n",
    "Наблюдается положительный тренд: чем выше жилая площадь, тем выше цена (в среднем при прочих равных). Коэффициент корреляции = 0.63 -> положительная связь"
   ]
  },
  {
   "cell_type": "code",
   "execution_count": 51,
   "metadata": {},
   "outputs": [],
   "source": [
    "#Старая версия\n",
    "\n",
    "#Цена в зависимости от площади кухни\n",
    "dependence_kitchen_area = data.pivot_table(index = 'kitchen_area', values = 'last_price_mln', aggfunc = 'mean')\n",
    "dependence_kitchen_area.columns = ['mean_price'] \n",
    "#display(dependence_kitchen_area)"
   ]
  },
  {
   "cell_type": "code",
   "execution_count": 66,
   "metadata": {
    "scrolled": true
   },
   "outputs": [],
   "source": [
    "#data.pivot_table(index='kitchen_area', values='last_price_mln', aggfunc = 'mean').plot(color = 'darkred')"
   ]
  },
  {
   "cell_type": "code",
   "execution_count": 53,
   "metadata": {},
   "outputs": [],
   "source": [
    "#Исправленная версия\n",
    "dependence_ka = data.pivot_table(index='kitchen_area', values='last_price_mln', aggfunc = 'mean').reset_index()\n",
    "#display(dependence_ka)"
   ]
  },
  {
   "cell_type": "code",
   "execution_count": 54,
   "metadata": {},
   "outputs": [
    {
     "data": {
      "image/png": "[encoded data removed]",
      "text/plain": [
       "<Figure size 576x288 with 1 Axes>"
      ]
     },
     "metadata": {},
     "output_type": "display_data"
    },
    {
     "data": {
      "text/plain": [
       "<AxesSubplot:>"
      ]
     },
     "execution_count": 54,
     "metadata": {},
     "output_type": "execute_result"
    },
    {
     "data": {
      "image/png": "[encoded data removed]",
      "text/plain": [
       "<Figure size 576x288 with 2 Axes>"
      ]
     },
     "metadata": {},
     "output_type": "display_data"
    }
   ],
   "source": [
    "sb.scatterplot(data = dependence_ka, x = 'kitchen_area', y = 'last_price_mln', alpha = 0.4) #построение графика\n",
    "sb.set(rc={'figure.figsize':(8,4)})\n",
    "plt.show() \n",
    "#print(dependence_ka['last_price_mln'].corr(dependence_ka['kitchen_area']))\n",
    "sb.heatmap(dependence_ka.corr(), annot = True, cmap = 'Reds_r')"
   ]
  },
  {
   "cell_type": "markdown",
   "metadata": {},
   "source": [
    "При относительно невысоком значении площади от 5 до 15 кв.м. можно увидеть участок с положительным трендом. Далее больше похоже на случайное блуждание. Цена кухни оказывает не столь существенное влияние на стоимость квартры\n",
    "___\n",
    "Коэффициент корреляции очень маленький = 0.26. Можно предположить, что устойчивой связи нет"
   ]
  },
  {
   "cell_type": "code",
   "execution_count": 55,
   "metadata": {},
   "outputs": [
    {
     "data": {
      "text/html": [
       "<div>\n",
       "<style scoped>\n",
       "    .dataframe tbody tr th:only-of-type {\n",
       "        vertical-align: middle;\n",
       "    }\n",
       "\n",
       "    .dataframe tbody tr th {\n",
       "        vertical-align: top;\n",
       "    }\n",
       "\n",
       "    .dataframe thead th {\n",
       "        text-align: right;\n",
       "    }\n",
       "</style>\n",
       "<table border=\"1\" class=\"dataframe\">\n",
       "  <thead>\n",
       "    <tr style=\"text-align: right;\">\n",
       "      <th></th>\n",
       "      <th>mean_price</th>\n",
       "    </tr>\n",
       "    <tr>\n",
       "      <th>rooms</th>\n",
       "      <th></th>\n",
       "    </tr>\n",
       "  </thead>\n",
       "  <tbody>\n",
       "    <tr>\n",
       "      <th>0</th>\n",
       "      <td>2.879528</td>\n",
       "    </tr>\n",
       "    <tr>\n",
       "      <th>1</th>\n",
       "      <td>3.834023</td>\n",
       "    </tr>\n",
       "    <tr>\n",
       "      <th>2</th>\n",
       "      <td>5.520002</td>\n",
       "    </tr>\n",
       "    <tr>\n",
       "      <th>3</th>\n",
       "      <td>7.772455</td>\n",
       "    </tr>\n",
       "    <tr>\n",
       "      <th>4</th>\n",
       "      <td>12.608367</td>\n",
       "    </tr>\n",
       "    <tr>\n",
       "      <th>5</th>\n",
       "      <td>20.629591</td>\n",
       "    </tr>\n",
       "    <tr>\n",
       "      <th>6</th>\n",
       "      <td>28.068220</td>\n",
       "    </tr>\n",
       "  </tbody>\n",
       "</table>\n",
       "</div>"
      ],
      "text/plain": [
       "       mean_price\n",
       "rooms            \n",
       "0        2.879528\n",
       "1        3.834023\n",
       "2        5.520002\n",
       "3        7.772455\n",
       "4       12.608367\n",
       "5       20.629591\n",
       "6       28.068220"
      ]
     },
     "metadata": {},
     "output_type": "display_data"
    }
   ],
   "source": [
    "#Цена в зависимости от количества комнат\n",
    "\n",
    "dependence_rooms = data.pivot_table(index = 'rooms', values = 'last_price_mln', aggfunc = 'mean')\n",
    "dependence_rooms.columns = ['mean_price'] \n",
    "display(dependence_rooms)"
   ]
  },
  {
   "cell_type": "code",
   "execution_count": 56,
   "metadata": {},
   "outputs": [
    {
     "data": {
      "text/plain": [
       "<AxesSubplot:xlabel='rooms'>"
      ]
     },
     "execution_count": 56,
     "metadata": {},
     "output_type": "execute_result"
    },
    {
     "data": {
      "image/png": "[encoded data removed]",
      "text/plain": [
       "<Figure size 576x288 with 1 Axes>"
      ]
     },
     "metadata": {},
     "output_type": "display_data"
    }
   ],
   "source": [
    "data.pivot_table(index='rooms', values='last_price_mln', aggfunc = 'mean').plot(color = 'darkred')"
   ]
  },
  {
   "cell_type": "markdown",
   "metadata": {},
   "source": [
    "Количество комнат очевидно оказывает положительное влияние на стоимость жилья. Наибольший прирост стоимости объекта от дополнительной комнаты наблюдается при рассмотрении квартир с 4-6 комнатами."
   ]
  },
  {
   "cell_type": "code",
   "execution_count": 57,
   "metadata": {},
   "outputs": [
    {
     "data": {
      "text/html": [
       "<div>\n",
       "<style scoped>\n",
       "    .dataframe tbody tr th:only-of-type {\n",
       "        vertical-align: middle;\n",
       "    }\n",
       "\n",
       "    .dataframe tbody tr th {\n",
       "        vertical-align: top;\n",
       "    }\n",
       "\n",
       "    .dataframe thead th {\n",
       "        text-align: right;\n",
       "    }\n",
       "</style>\n",
       "<table border=\"1\" class=\"dataframe\">\n",
       "  <thead>\n",
       "    <tr style=\"text-align: right;\">\n",
       "      <th></th>\n",
       "      <th>mean_price</th>\n",
       "    </tr>\n",
       "    <tr>\n",
       "      <th>floor_category</th>\n",
       "      <th></th>\n",
       "    </tr>\n",
       "  </thead>\n",
       "  <tbody>\n",
       "    <tr>\n",
       "      <th>другой</th>\n",
       "      <td>6.270360</td>\n",
       "    </tr>\n",
       "    <tr>\n",
       "      <th>первый</th>\n",
       "      <td>4.582062</td>\n",
       "    </tr>\n",
       "    <tr>\n",
       "      <th>последний</th>\n",
       "      <td>6.207650</td>\n",
       "    </tr>\n",
       "  </tbody>\n",
       "</table>\n",
       "</div>"
      ],
      "text/plain": [
       "                mean_price\n",
       "floor_category            \n",
       "другой            6.270360\n",
       "первый            4.582062\n",
       "последний         6.207650"
      ]
     },
     "metadata": {},
     "output_type": "display_data"
    }
   ],
   "source": [
    "#Цена в зависимости от этажа квартиры\n",
    "\n",
    "dependence_floor_category = data.pivot_table(index = 'floor_category', values = 'last_price_mln', aggfunc = ['mean'])\n",
    "dependence_floor_category.columns = ['mean_price'] \n",
    "display(dependence_floor_category)"
   ]
  },
  {
   "cell_type": "code",
   "execution_count": 58,
   "metadata": {},
   "outputs": [
    {
     "data": {
      "text/plain": [
       "<AxesSubplot:title={'center':'dependence_floor_category'}, xlabel='floor_category'>"
      ]
     },
     "execution_count": 58,
     "metadata": {},
     "output_type": "execute_result"
    },
    {
     "data": {
      "image/png": "[encoded data removed]",
      "text/plain": [
       "<Figure size 576x288 with 1 Axes>"
      ]
     },
     "metadata": {},
     "output_type": "display_data"
    }
   ],
   "source": [
    "data.pivot_table(index = 'floor_category', values = 'last_price_mln', aggfunc = ['mean']).plot(kind = 'bar', color = 'pink', title = 'dependence_floor_category', grid=True, legend = False)"
   ]
  },
  {
   "cell_type": "markdown",
   "metadata": {},
   "source": [
    "Стоимость квартир на первых этажах меньше, чем на остальных"
   ]
  },
  {
   "cell_type": "code",
   "execution_count": 59,
   "metadata": {},
   "outputs": [
    {
     "data": {
      "text/html": [
       "<div>\n",
       "<style scoped>\n",
       "    .dataframe tbody tr th:only-of-type {\n",
       "        vertical-align: middle;\n",
       "    }\n",
       "\n",
       "    .dataframe tbody tr th {\n",
       "        vertical-align: top;\n",
       "    }\n",
       "\n",
       "    .dataframe thead th {\n",
       "        text-align: right;\n",
       "    }\n",
       "</style>\n",
       "<table border=\"1\" class=\"dataframe\">\n",
       "  <thead>\n",
       "    <tr style=\"text-align: right;\">\n",
       "      <th></th>\n",
       "      <th>mean_price</th>\n",
       "    </tr>\n",
       "    <tr>\n",
       "      <th>weekday_exposition</th>\n",
       "      <th></th>\n",
       "    </tr>\n",
       "  </thead>\n",
       "  <tbody>\n",
       "    <tr>\n",
       "      <th>0</th>\n",
       "      <td>6.140262</td>\n",
       "    </tr>\n",
       "    <tr>\n",
       "      <th>1</th>\n",
       "      <td>6.032802</td>\n",
       "    </tr>\n",
       "    <tr>\n",
       "      <th>2</th>\n",
       "      <td>5.999337</td>\n",
       "    </tr>\n",
       "    <tr>\n",
       "      <th>3</th>\n",
       "      <td>6.328016</td>\n",
       "    </tr>\n",
       "    <tr>\n",
       "      <th>4</th>\n",
       "      <td>5.923073</td>\n",
       "    </tr>\n",
       "    <tr>\n",
       "      <th>5</th>\n",
       "      <td>5.938598</td>\n",
       "    </tr>\n",
       "    <tr>\n",
       "      <th>6</th>\n",
       "      <td>5.826557</td>\n",
       "    </tr>\n",
       "  </tbody>\n",
       "</table>\n",
       "</div>"
      ],
      "text/plain": [
       "                    mean_price\n",
       "weekday_exposition            \n",
       "0                     6.140262\n",
       "1                     6.032802\n",
       "2                     5.999337\n",
       "3                     6.328016\n",
       "4                     5.923073\n",
       "5                     5.938598\n",
       "6                     5.826557"
      ]
     },
     "metadata": {},
     "output_type": "display_data"
    },
    {
     "data": {
      "text/html": [
       "<div>\n",
       "<style scoped>\n",
       "    .dataframe tbody tr th:only-of-type {\n",
       "        vertical-align: middle;\n",
       "    }\n",
       "\n",
       "    .dataframe tbody tr th {\n",
       "        vertical-align: top;\n",
       "    }\n",
       "\n",
       "    .dataframe thead th {\n",
       "        text-align: right;\n",
       "    }\n",
       "</style>\n",
       "<table border=\"1\" class=\"dataframe\">\n",
       "  <thead>\n",
       "    <tr style=\"text-align: right;\">\n",
       "      <th></th>\n",
       "      <th>mean_price</th>\n",
       "    </tr>\n",
       "    <tr>\n",
       "      <th>month_exposition</th>\n",
       "      <th></th>\n",
       "    </tr>\n",
       "  </thead>\n",
       "  <tbody>\n",
       "    <tr>\n",
       "      <th>1</th>\n",
       "      <td>5.986497</td>\n",
       "    </tr>\n",
       "    <tr>\n",
       "      <th>2</th>\n",
       "      <td>6.146074</td>\n",
       "    </tr>\n",
       "    <tr>\n",
       "      <th>3</th>\n",
       "      <td>5.982187</td>\n",
       "    </tr>\n",
       "    <tr>\n",
       "      <th>4</th>\n",
       "      <td>6.068117</td>\n",
       "    </tr>\n",
       "    <tr>\n",
       "      <th>5</th>\n",
       "      <td>6.030529</td>\n",
       "    </tr>\n",
       "    <tr>\n",
       "      <th>6</th>\n",
       "      <td>6.027199</td>\n",
       "    </tr>\n",
       "    <tr>\n",
       "      <th>7</th>\n",
       "      <td>5.900000</td>\n",
       "    </tr>\n",
       "    <tr>\n",
       "      <th>8</th>\n",
       "      <td>6.191884</td>\n",
       "    </tr>\n",
       "    <tr>\n",
       "      <th>9</th>\n",
       "      <td>6.211541</td>\n",
       "    </tr>\n",
       "    <tr>\n",
       "      <th>10</th>\n",
       "      <td>5.831806</td>\n",
       "    </tr>\n",
       "    <tr>\n",
       "      <th>11</th>\n",
       "      <td>6.148802</td>\n",
       "    </tr>\n",
       "    <tr>\n",
       "      <th>12</th>\n",
       "      <td>6.107444</td>\n",
       "    </tr>\n",
       "  </tbody>\n",
       "</table>\n",
       "</div>"
      ],
      "text/plain": [
       "                  mean_price\n",
       "month_exposition            \n",
       "1                   5.986497\n",
       "2                   6.146074\n",
       "3                   5.982187\n",
       "4                   6.068117\n",
       "5                   6.030529\n",
       "6                   6.027199\n",
       "7                   5.900000\n",
       "8                   6.191884\n",
       "9                   6.211541\n",
       "10                  5.831806\n",
       "11                  6.148802\n",
       "12                  6.107444"
      ]
     },
     "metadata": {},
     "output_type": "display_data"
    },
    {
     "data": {
      "text/html": [
       "<div>\n",
       "<style scoped>\n",
       "    .dataframe tbody tr th:only-of-type {\n",
       "        vertical-align: middle;\n",
       "    }\n",
       "\n",
       "    .dataframe tbody tr th {\n",
       "        vertical-align: top;\n",
       "    }\n",
       "\n",
       "    .dataframe thead th {\n",
       "        text-align: right;\n",
       "    }\n",
       "</style>\n",
       "<table border=\"1\" class=\"dataframe\">\n",
       "  <thead>\n",
       "    <tr style=\"text-align: right;\">\n",
       "      <th></th>\n",
       "      <th>mean_price</th>\n",
       "    </tr>\n",
       "    <tr>\n",
       "      <th>year_exposition</th>\n",
       "      <th></th>\n",
       "    </tr>\n",
       "  </thead>\n",
       "  <tbody>\n",
       "    <tr>\n",
       "      <th>2014</th>\n",
       "      <td>11.283386</td>\n",
       "    </tr>\n",
       "    <tr>\n",
       "      <th>2015</th>\n",
       "      <td>7.593751</td>\n",
       "    </tr>\n",
       "    <tr>\n",
       "      <th>2016</th>\n",
       "      <td>6.381557</td>\n",
       "    </tr>\n",
       "    <tr>\n",
       "      <th>2017</th>\n",
       "      <td>5.936460</td>\n",
       "    </tr>\n",
       "    <tr>\n",
       "      <th>2018</th>\n",
       "      <td>5.676353</td>\n",
       "    </tr>\n",
       "    <tr>\n",
       "      <th>2019</th>\n",
       "      <td>6.355831</td>\n",
       "    </tr>\n",
       "  </tbody>\n",
       "</table>\n",
       "</div>"
      ],
      "text/plain": [
       "                 mean_price\n",
       "year_exposition            \n",
       "2014              11.283386\n",
       "2015               7.593751\n",
       "2016               6.381557\n",
       "2017               5.936460\n",
       "2018               5.676353\n",
       "2019               6.355831"
      ]
     },
     "metadata": {},
     "output_type": "display_data"
    }
   ],
   "source": [
    "#weekday_exposition, month_exposition, year_exposition\n",
    "\n",
    "dependence_weekday_exposition = data.pivot_table(index = 'weekday_exposition', values = 'last_price_mln', aggfunc = ['mean'])\n",
    "dependence_weekday_exposition.columns = ['mean_price'] \n",
    "display(dependence_weekday_exposition)\n",
    "\n",
    "dependence_month_exposition = data.pivot_table(index = 'month_exposition', values = 'last_price_mln', aggfunc = ['mean'])\n",
    "dependence_month_exposition.columns = ['mean_price'] \n",
    "display(dependence_month_exposition)\n",
    "\n",
    "dependence_year_exposition = data.pivot_table(index = 'year_exposition', values = 'last_price_mln', aggfunc = ['mean'])\n",
    "dependence_year_exposition.columns = ['mean_price'] \n",
    "display(dependence_year_exposition)\n"
   ]
  },
  {
   "cell_type": "code",
   "execution_count": 60,
   "metadata": {},
   "outputs": [
    {
     "data": {
      "text/plain": [
       "<AxesSubplot:title={'center':'dependence_year_exposition'}, xlabel='year_exposition'>"
      ]
     },
     "execution_count": 60,
     "metadata": {},
     "output_type": "execute_result"
    },
    {
     "data": {
      "image/png": "[encoded data removed]",
      "text/plain": [
       "<Figure size 576x288 with 1 Axes>"
      ]
     },
     "metadata": {},
     "output_type": "display_data"
    },
    {
     "data": {
      "image/png": "[encoded data removed]",
      "text/plain": [
       "<Figure size 576x288 with 1 Axes>"
      ]
     },
     "metadata": {},
     "output_type": "display_data"
    },
    {
     "data": {
      "image/png": "[encoded data removed]",
      "text/plain": [
       "<Figure size 576x288 with 1 Axes>"
      ]
     },
     "metadata": {},
     "output_type": "display_data"
    }
   ],
   "source": [
    "data.pivot_table(index = 'weekday_exposition', values = 'last_price_mln', aggfunc = ['mean']).plot(kind = 'bar', color = 'lightblue', title = 'dependence_weekday_exposition', grid=True, legend = False, alpha = 0.6)\n",
    "\n",
    "data.pivot_table(index = 'month_exposition', values = 'last_price_mln', aggfunc = ['mean']).plot(kind = 'bar', color = 'red', title = 'dependence_month_exposition', grid=True, legend = False, alpha = 0.5)\n",
    "\n",
    "data.pivot_table(index = 'year_exposition', values = 'last_price_mln', aggfunc = ['mean']).plot(kind = 'bar', color = 'lightgreen', title = 'dependence_year_exposition', grid=True, legend = False, alpha = 0.6)\n"
   ]
  },
  {
   "cell_type": "markdown",
   "metadata": {},
   "source": [
    "* Средняя цена продажи квартир, выставленных в четверг наибольшая, а в воскресенье - наименьшая.\n",
    "\n",
    "* Максимальная средняя цена продажи квартир наблюдалась в августе, минимальная - в октябре.\n",
    "\n",
    "* С 2014 по 2018 год средняя цена продажи снижалась, в 2019 году наблюдался небольшой прирост стоимости. "
   ]
  },
  {
   "cell_type": "markdown",
   "metadata": {},
   "source": [
    "* **Пункт 4.4**"
   ]
  },
  {
   "cell_type": "code",
   "execution_count": 61,
   "metadata": {
    "scrolled": true
   },
   "outputs": [
    {
     "name": "stdout",
     "output_type": "stream",
     "text": [
      "                   count\n",
      "Санкт-Петербург    14753\n",
      "посёлок Мурино       531\n",
      "посёлок Шушары       422\n",
      "Всеволожск           385\n",
      "Колпино              324\n",
      "Пушкин               322\n",
      "посёлок Парголово    319\n",
      "деревня Кудрово      294\n",
      "Гатчина              279\n",
      "Выборг               211\n",
      "\n",
      "                     price_per_m\n",
      "locality_name                   \n",
      "Всеволожск          69039.321300\n",
      "Выборг              58367.483329\n",
      "Гатчина             69187.192173\n",
      "Колпино             75372.039100\n",
      "Пушкин             103607.244592\n",
      "Санкт-Петербург    113061.570584\n",
      "деревня Кудрово     92483.481937\n",
      "посёлок Мурино      85477.217156\n",
      "посёлок Парголово   90519.484010\n",
      "посёлок Шушары      78920.254178\n"
     ]
    },
    {
     "data": {
      "text/plain": [
       "<AxesSubplot:title={'center':'Средняя цена за квадратный метр по 10 населенным пунктам с наибольшим числом объявлений'}, xlabel='locality_name'>"
      ]
     },
     "execution_count": 61,
     "metadata": {},
     "output_type": "execute_result"
    },
    {
     "data": {
      "image/png": "[encoded data removed]",
      "text/plain": [
       "<Figure size 576x288 with 1 Axes>"
      ]
     },
     "metadata": {},
     "output_type": "display_data"
    }
   ],
   "source": [
    "loc_data = pd.DataFrame(data['locality_name'].value_counts().head(10))\n",
    "loc_data.columns = ['count']\n",
    "print(loc_data) #10 населенных пунктов с наибольшим числом объявлений\n",
    "print() #пустая строка для красоты\n",
    "#список локаций из loc_data\n",
    "col = ['Санкт-Петербург', 'посёлок Мурино', 'посёлок Шушары', 'Всеволожск', 'Колпино', 'Пушкин', 'посёлок Парголово', 'деревня Кудрово', 'Гатчина', 'Выборг']\n",
    "\n",
    "location_data = data.query('locality_name in @col') #данные по 10 населенным пунктам с наибольшим числом объявлений\n",
    "location_data = location_data.pivot_table(index = 'locality_name', values = 'price_per_m', aggfunc = 'mean') #свод\n",
    "print(location_data)\n",
    "\n",
    "location_data.plot(kind = 'bar', color = 'blue', title = 'Средняя цена за квадратный метр по 10 населенным пунктам с наибольшим числом объявлений', grid=True, legend = False, alpha = 0.6)"
   ]
  },
  {
   "cell_type": "markdown",
   "metadata": {},
   "source": [
    "В Санкт-Петербурге самая большая цена за квадратный метр жилья. В Выборге - самая маленькая (среди 10 населенных пунктов с наибольшим количеством объявлений)"
   ]
  },
  {
   "cell_type": "code",
   "execution_count": 62,
   "metadata": {},
   "outputs": [
    {
     "name": "stdout",
     "output_type": "stream",
     "text": [
      "               0\n",
      "22200   658436.2\n",
      "22201   660000.0\n",
      "22202   719298.2\n",
      "22203   721519.0\n",
      "22204   848484.8\n",
      "22205   848484.8\n",
      "22206   857542.9\n",
      "22207   995983.9\n",
      "22208  1000748.1\n",
      "22209  1542604.8\n",
      "\n",
      "Населенные пункты с минимальной стоимостью за кв/м\n",
      "                          locality_name\n",
      "price_per_m                            \n",
      "7963.0            посёлок станции Свирь\n",
      "9615.4                           Сланцы\n",
      "10185.2                          Сланцы\n",
      "10368.7              деревня Старополье\n",
      "10507.2                         Гатчина\n",
      "10561.8                          Сланцы\n",
      "10714.3      городской посёлок Будогощь\n",
      "10769.2                          Сланцы\n",
      "10897.4                         Гатчина\n",
      "10925.9                          Сланцы\n",
      "\n",
      "Населенные пункты с максимальной стоимостью за кв/м\n",
      "               locality_name\n",
      "price_per_m                 \n",
      "658436.2     Санкт-Петербург\n",
      "660000.0     Санкт-Петербург\n",
      "719298.2     Санкт-Петербург\n",
      "721519.0     Санкт-Петербург\n",
      "848484.8     Санкт-Петербург\n",
      "857542.9     Санкт-Петербург\n",
      "995983.9     Санкт-Петербург\n",
      "1000748.1    Санкт-Петербург\n",
      "1542604.8    Санкт-Петербург\n"
     ]
    }
   ],
   "source": [
    "data['price_per_m']=round(data['price_per_m'], 1) #для удобства\n",
    "min_price = pd.DataFrame(sorted(data['price_per_m'])).head(10) # минимальные цены\n",
    "#print(min_price)\n",
    "\n",
    "max_price = pd.DataFrame(sorted(data['price_per_m'])).tail(10) # максимальные цены\n",
    "print(max_price)\n",
    "\n",
    "col_min = [7963.0, 9615.4, 10185.2, 10368.7, 10507.2, 10561.8, 10714.3, 10769.2, 10897.4, 10925.9]\n",
    "col_max = [658436.2, 660000.0, 719298.2, 721519.0, 848484.8, 857542.9, 995983.9, 1000748.1, 1542604.8]\n",
    "\n",
    "min_price_data = data.query('price_per_m in @col_min') #данные по 10 позициям с минимальными ценами за кв/м\n",
    "min_price_data = min_price_data.pivot_table(index = 'price_per_m', values = 'locality_name', aggfunc = 'first')\n",
    "print('')\n",
    "print('Населенные пункты с минимальной стоимостью за кв/м')\n",
    "print(min_price_data)\n",
    "\n",
    "max_price_data = data.query('price_per_m in @col_max') #данные по 10 позициям с минимальными ценами за кв/м\n",
    "max_price_data = max_price_data.pivot_table(index = 'price_per_m', values = 'locality_name', aggfunc = 'first')\n",
    "print('')\n",
    "print('Населенные пункты с максимальной стоимостью за кв/м')\n",
    "print(max_price_data)"
   ]
  },
  {
   "cell_type": "code",
   "execution_count": 63,
   "metadata": {},
   "outputs": [
    {
     "data": {
      "text/html": [
       "<div>\n",
       "<style scoped>\n",
       "    .dataframe tbody tr th:only-of-type {\n",
       "        vertical-align: middle;\n",
       "    }\n",
       "\n",
       "    .dataframe tbody tr th {\n",
       "        vertical-align: top;\n",
       "    }\n",
       "\n",
       "    .dataframe thead th {\n",
       "        text-align: right;\n",
       "    }\n",
       "</style>\n",
       "<table border=\"1\" class=\"dataframe\">\n",
       "  <thead>\n",
       "    <tr style=\"text-align: right;\">\n",
       "      <th></th>\n",
       "      <th>locality_name</th>\n",
       "    </tr>\n",
       "    <tr>\n",
       "      <th>price_per_m</th>\n",
       "      <th></th>\n",
       "    </tr>\n",
       "  </thead>\n",
       "  <tbody>\n",
       "    <tr>\n",
       "      <th>7963.0</th>\n",
       "      <td>посёлок станции Свирь</td>\n",
       "    </tr>\n",
       "    <tr>\n",
       "      <th>9615.4</th>\n",
       "      <td>Сланцы</td>\n",
       "    </tr>\n",
       "    <tr>\n",
       "      <th>10185.2</th>\n",
       "      <td>Сланцы</td>\n",
       "    </tr>\n",
       "    <tr>\n",
       "      <th>10368.7</th>\n",
       "      <td>деревня Старополье</td>\n",
       "    </tr>\n",
       "    <tr>\n",
       "      <th>10507.2</th>\n",
       "      <td>Гатчина</td>\n",
       "    </tr>\n",
       "  </tbody>\n",
       "</table>\n",
       "</div>"
      ],
      "text/plain": [
       "                     locality_name\n",
       "price_per_m                       \n",
       "7963.0       посёлок станции Свирь\n",
       "9615.4                      Сланцы\n",
       "10185.2                     Сланцы\n",
       "10368.7         деревня Старополье\n",
       "10507.2                    Гатчина"
      ]
     },
     "metadata": {},
     "output_type": "display_data"
    },
    {
     "data": {
      "text/html": [
       "<div>\n",
       "<style scoped>\n",
       "    .dataframe tbody tr th:only-of-type {\n",
       "        vertical-align: middle;\n",
       "    }\n",
       "\n",
       "    .dataframe tbody tr th {\n",
       "        vertical-align: top;\n",
       "    }\n",
       "\n",
       "    .dataframe thead th {\n",
       "        text-align: right;\n",
       "    }\n",
       "</style>\n",
       "<table border=\"1\" class=\"dataframe\">\n",
       "  <thead>\n",
       "    <tr style=\"text-align: right;\">\n",
       "      <th></th>\n",
       "      <th>locality_name</th>\n",
       "    </tr>\n",
       "    <tr>\n",
       "      <th>price_per_m</th>\n",
       "      <th></th>\n",
       "    </tr>\n",
       "  </thead>\n",
       "  <tbody>\n",
       "    <tr>\n",
       "      <th>848484.8</th>\n",
       "      <td>Санкт-Петербург</td>\n",
       "    </tr>\n",
       "    <tr>\n",
       "      <th>857542.9</th>\n",
       "      <td>Санкт-Петербург</td>\n",
       "    </tr>\n",
       "    <tr>\n",
       "      <th>995983.9</th>\n",
       "      <td>Санкт-Петербург</td>\n",
       "    </tr>\n",
       "    <tr>\n",
       "      <th>1000748.1</th>\n",
       "      <td>Санкт-Петербург</td>\n",
       "    </tr>\n",
       "    <tr>\n",
       "      <th>1542604.8</th>\n",
       "      <td>Санкт-Петербург</td>\n",
       "    </tr>\n",
       "  </tbody>\n",
       "</table>\n",
       "</div>"
      ],
      "text/plain": [
       "               locality_name\n",
       "price_per_m                 \n",
       "848484.8     Санкт-Петербург\n",
       "857542.9     Санкт-Петербург\n",
       "995983.9     Санкт-Петербург\n",
       "1000748.1    Санкт-Петербург\n",
       "1542604.8    Санкт-Петербург"
      ]
     },
     "metadata": {},
     "output_type": "display_data"
    }
   ],
   "source": [
    "#Более короткий способ\n",
    "\n",
    "final_for_price = data.pivot_table(index = 'price_per_m', values = 'locality_name', aggfunc = 'first')\n",
    "display(final_for_price.head(5))\n",
    "display(final_for_price.tail(5))"
   ]
  },
  {
   "cell_type": "markdown",
   "metadata": {},
   "source": [
    "**Максимальная цена за кв/м** в Санкт-Петербурге\n",
    "\n",
    "**Минимальная цена за кв/м в** следующих населенных пунктах: \"Сланцы\", \"Гатчина\", \"городской посёлок Будогощь\",\"деревня Старополье\", \"посёлок станции Свирь\""
   ]
  },
  {
   "cell_type": "markdown",
   "metadata": {},
   "source": [
    "* **Пункт 4.5**"
   ]
  },
  {
   "cell_type": "code",
   "execution_count": 64,
   "metadata": {},
   "outputs": [
    {
     "data": {
      "text/html": [
       "<div>\n",
       "<style scoped>\n",
       "    .dataframe tbody tr th:only-of-type {\n",
       "        vertical-align: middle;\n",
       "    }\n",
       "\n",
       "    .dataframe tbody tr th {\n",
       "        vertical-align: top;\n",
       "    }\n",
       "\n",
       "    .dataframe thead th {\n",
       "        text-align: right;\n",
       "    }\n",
       "</style>\n",
       "<table border=\"1\" class=\"dataframe\">\n",
       "  <thead>\n",
       "    <tr style=\"text-align: right;\">\n",
       "      <th></th>\n",
       "      <th>mean_price</th>\n",
       "      <th>delta</th>\n",
       "    </tr>\n",
       "    <tr>\n",
       "      <th>distance_km</th>\n",
       "      <th></th>\n",
       "      <th></th>\n",
       "    </tr>\n",
       "  </thead>\n",
       "  <tbody>\n",
       "    <tr>\n",
       "      <th>0.0</th>\n",
       "      <td>27.675316</td>\n",
       "      <td>0.00</td>\n",
       "    </tr>\n",
       "    <tr>\n",
       "      <th>1.0</th>\n",
       "      <td>17.858305</td>\n",
       "      <td>-9.82</td>\n",
       "    </tr>\n",
       "    <tr>\n",
       "      <th>2.0</th>\n",
       "      <td>17.291673</td>\n",
       "      <td>-0.57</td>\n",
       "    </tr>\n",
       "    <tr>\n",
       "      <th>3.0</th>\n",
       "      <td>10.210547</td>\n",
       "      <td>-7.08</td>\n",
       "    </tr>\n",
       "    <tr>\n",
       "      <th>4.0</th>\n",
       "      <td>11.246484</td>\n",
       "      <td>1.04</td>\n",
       "    </tr>\n",
       "    <tr>\n",
       "      <th>5.0</th>\n",
       "      <td>11.643508</td>\n",
       "      <td>0.40</td>\n",
       "    </tr>\n",
       "    <tr>\n",
       "      <th>6.0</th>\n",
       "      <td>12.958636</td>\n",
       "      <td>1.32</td>\n",
       "    </tr>\n",
       "    <tr>\n",
       "      <th>7.0</th>\n",
       "      <td>12.949797</td>\n",
       "      <td>-0.01</td>\n",
       "    </tr>\n",
       "    <tr>\n",
       "      <th>8.0</th>\n",
       "      <td>9.062315</td>\n",
       "      <td>-3.89</td>\n",
       "    </tr>\n",
       "    <tr>\n",
       "      <th>9.0</th>\n",
       "      <td>6.880743</td>\n",
       "      <td>-2.18</td>\n",
       "    </tr>\n",
       "    <tr>\n",
       "      <th>10.0</th>\n",
       "      <td>6.318315</td>\n",
       "      <td>-0.56</td>\n",
       "    </tr>\n",
       "    <tr>\n",
       "      <th>11.0</th>\n",
       "      <td>6.087796</td>\n",
       "      <td>-0.23</td>\n",
       "    </tr>\n",
       "    <tr>\n",
       "      <th>12.0</th>\n",
       "      <td>5.801184</td>\n",
       "      <td>-0.29</td>\n",
       "    </tr>\n",
       "    <tr>\n",
       "      <th>13.0</th>\n",
       "      <td>5.983006</td>\n",
       "      <td>0.18</td>\n",
       "    </tr>\n",
       "    <tr>\n",
       "      <th>14.0</th>\n",
       "      <td>5.501904</td>\n",
       "      <td>-0.48</td>\n",
       "    </tr>\n",
       "    <tr>\n",
       "      <th>15.0</th>\n",
       "      <td>5.667686</td>\n",
       "      <td>0.17</td>\n",
       "    </tr>\n",
       "    <tr>\n",
       "      <th>16.0</th>\n",
       "      <td>5.273334</td>\n",
       "      <td>-0.39</td>\n",
       "    </tr>\n",
       "    <tr>\n",
       "      <th>17.0</th>\n",
       "      <td>5.171699</td>\n",
       "      <td>-0.10</td>\n",
       "    </tr>\n",
       "    <tr>\n",
       "      <th>18.0</th>\n",
       "      <td>5.104279</td>\n",
       "      <td>-0.07</td>\n",
       "    </tr>\n",
       "    <tr>\n",
       "      <th>19.0</th>\n",
       "      <td>5.020130</td>\n",
       "      <td>-0.08</td>\n",
       "    </tr>\n",
       "    <tr>\n",
       "      <th>20.0</th>\n",
       "      <td>5.990037</td>\n",
       "      <td>0.97</td>\n",
       "    </tr>\n",
       "    <tr>\n",
       "      <th>21.0</th>\n",
       "      <td>5.294650</td>\n",
       "      <td>-0.70</td>\n",
       "    </tr>\n",
       "    <tr>\n",
       "      <th>22.0</th>\n",
       "      <td>5.380943</td>\n",
       "      <td>0.09</td>\n",
       "    </tr>\n",
       "    <tr>\n",
       "      <th>23.0</th>\n",
       "      <td>4.743679</td>\n",
       "      <td>-0.64</td>\n",
       "    </tr>\n",
       "    <tr>\n",
       "      <th>24.0</th>\n",
       "      <td>3.878607</td>\n",
       "      <td>-0.87</td>\n",
       "    </tr>\n",
       "    <tr>\n",
       "      <th>25.0</th>\n",
       "      <td>4.069405</td>\n",
       "      <td>0.19</td>\n",
       "    </tr>\n",
       "    <tr>\n",
       "      <th>26.0</th>\n",
       "      <td>4.142486</td>\n",
       "      <td>0.07</td>\n",
       "    </tr>\n",
       "    <tr>\n",
       "      <th>27.0</th>\n",
       "      <td>8.300000</td>\n",
       "      <td>4.16</td>\n",
       "    </tr>\n",
       "    <tr>\n",
       "      <th>28.0</th>\n",
       "      <td>5.026429</td>\n",
       "      <td>-3.27</td>\n",
       "    </tr>\n",
       "    <tr>\n",
       "      <th>29.0</th>\n",
       "      <td>4.236667</td>\n",
       "      <td>-0.79</td>\n",
       "    </tr>\n",
       "  </tbody>\n",
       "</table>\n",
       "</div>"
      ],
      "text/plain": [
       "             mean_price  delta\n",
       "distance_km                   \n",
       "0.0           27.675316   0.00\n",
       "1.0           17.858305  -9.82\n",
       "2.0           17.291673  -0.57\n",
       "3.0           10.210547  -7.08\n",
       "4.0           11.246484   1.04\n",
       "5.0           11.643508   0.40\n",
       "6.0           12.958636   1.32\n",
       "7.0           12.949797  -0.01\n",
       "8.0            9.062315  -3.89\n",
       "9.0            6.880743  -2.18\n",
       "10.0           6.318315  -0.56\n",
       "11.0           6.087796  -0.23\n",
       "12.0           5.801184  -0.29\n",
       "13.0           5.983006   0.18\n",
       "14.0           5.501904  -0.48\n",
       "15.0           5.667686   0.17\n",
       "16.0           5.273334  -0.39\n",
       "17.0           5.171699  -0.10\n",
       "18.0           5.104279  -0.07\n",
       "19.0           5.020130  -0.08\n",
       "20.0           5.990037   0.97\n",
       "21.0           5.294650  -0.70\n",
       "22.0           5.380943   0.09\n",
       "23.0           4.743679  -0.64\n",
       "24.0           3.878607  -0.87\n",
       "25.0           4.069405   0.19\n",
       "26.0           4.142486   0.07\n",
       "27.0           8.300000   4.16\n",
       "28.0           5.026429  -3.27\n",
       "29.0           4.236667  -0.79"
      ]
     },
     "metadata": {},
     "output_type": "display_data"
    }
   ],
   "source": [
    "#в отношении расстояния до центра города\n",
    "data['last_price_mln'] = data['last_price']/1000000 #перевод метров в километры во избежание большого количества нулей\n",
    "spb = data[data['locality_name']=='Санкт-Петербург'] #фильтр по СПБ\n",
    "spb1=spb.pivot_table(index = 'distance_km', values = 'last_price_mln', aggfunc = 'mean') #сводная таблица\n",
    "spb1['delta'] = round(spb1['last_price_mln'].diff().fillna(0), 2) #расчет дельты\n",
    "spb1.columns = ['mean_price', 'delta']\n",
    "display(spb1)"
   ]
  },
  {
   "cell_type": "code",
   "execution_count": 65,
   "metadata": {
    "scrolled": true
   },
   "outputs": [
    {
     "data": {
      "text/plain": [
       "<AxesSubplot:xlabel='distance_km'>"
      ]
     },
     "execution_count": 65,
     "metadata": {},
     "output_type": "execute_result"
    },
    {
     "data": {
      "image/png": "[encoded data removed]",
      "text/plain": [
       "<Figure size 864x360 with 1 Axes>"
      ]
     },
     "metadata": {},
     "output_type": "display_data"
    }
   ],
   "source": [
    "data.query('locality_name ==\"Санкт-Петербург\"').pivot_table(index='distance_km', values='last_price_mln', aggfunc = 'mean').plot(grid=True,kind = 'bar', figsize=(12, 5), color = 'purple', alpha = 0.8)\n",
    "#строка длинная, перенос не сработал\n"
   ]
  },
  {
   "cell_type": "markdown",
   "metadata": {},
   "source": [
    "С увеличением расстояния до центра города цена в среднем снижается (за исключением некоторых выбросов - например, 27 км. Возможно, там расположен элитный поселок и пр.)"
   ]
  },
  {
   "cell_type": "markdown",
   "metadata": {},
   "source": [
    "### Общий вывод"
   ]
  },
  {
   "cell_type": "markdown",
   "metadata": {},
   "source": [
    "В результате проведенного исследования был детально изучен архив объявлений о продаже квартир в Санкт-Петербурге и соседних населённых пунктах за период с 2014 по 2019 год из сервиса Яндекс.Недвижимость. \n",
    "\n",
    "* В центре исследования были основные характеристики объектов недвижимости (общая/жилая площадь, цена, количество комнат, отдаленность от основных социально-значимых точек и пр.)\n",
    "\n",
    "* Была осуществлена предобработка данных: идентифицированы и (где возможно) заменены/очищены пропущенные значения, скорректированы типы данных (где было необходимо) и удалены неявные дубликаты и аномалии.\n",
    "\n",
    "* Кроме того, в исходный датасет были добавлены необходимые для исследовательского анализа расчетные столбцы.\n",
    "\n",
    "* Выделены ключевые характеристики (максимальное, минимальное, среднее значение, медиана) каждой задействованной в анализе переменной. Для удобства восприятия приведены визуализации.\n",
    "\n",
    "Так, профиль наиболее часто встречающейся квартиры выглядит следующим образом: \n",
    " * Общая площадь не превышает 100 кв.м.\n",
    " * Жилая площадь не превышает 50 кв.м. (Квартир с жилой площадью ~18 м.кв. и ~30 кв.м. больше, чем остальных)\n",
    " * Площадь кухни не превышает 15 кв.м. (Чаще всего в квартирах из выборки площадь кухни = 6, 10, 8, 9 и 7 кв. метров.)\n",
    "\n",
    "* Цена не превышает 20 млн. рублей (Чаще всего цена квартир из выборки = 4-4,5 млн. рублей)\n",
    "* Количество комнат: 1 или 2\n",
    "* Высота потолков: от 2.5 до 2.65 метров\n",
    "* Этаж: от 2 до 5\n",
    "\n",
    "* *объявление о продаже выставлялось в четверг или вторник, в феврале или марте\n",
    "\n",
    "\n",
    "С содержательной точки зрения было получено, что такие переменные, как общая площадь, жилая площадь, количество комнат, оказывают положительное влияние на цену продажи (прирост каждого из данных показателей на единицу выражается в  увеличении цены квартиры).\n",
    "\n",
    "* Квартиры на первых этажах, как видится, менее востребованы. \n",
    "\n",
    "Низкий спрос выражается низкой цене (относительно квартир, расположенных на других этажах)\n",
    "* Отдаленность от центра также является важным фактором.\n",
    "\n",
    "Чем дальше от центра расположен объект, находящийся в продаже, тем в среднем и при прочих равных ниже его цена (тут также можно увидеть \"дорогие\" районы, расположенные не очень близко к центру)\n",
    "\n",
    "\n",
    "* Медианное значение активности объявления о продаже - 73 дня; \n",
    "\n",
    "Объявления, закрытые менее чем за 3 недели, можно считать \"быстрой продажей\".\n",
    "\n",
    "* Средние цены за квадратный метр недвижимости в крупных населенных пунктах выше, чем в малых. \n",
    "\n",
    "В Санкт-Петербурге наибольшая цена за квадратный метр жилья среди всех рассматриваемых в рамках проводимого анализа населенных пунктов. Наименьшая цена - в населенных пунктах \"Сланцы\", \"Гатчина\", \"городской посёлок Будогощь\",\"деревня Старополье\", \"посёлок станции Свирь\"\n"
   ]
  },
  {
   "cell_type": "markdown",
   "metadata": {},
   "source": [
    "### Исправленный вывод\n",
    "\n",
    "<div style=\"border-radius: 15px; box-shadow: 2px 2px 4px; border: 1px solid; background:Gainsboro; padding: 20px\">\n",
    "    \n",
    "В результате проведенного исследования был детально изучен архив объявлений о продаже квартир в Санкт-Петербурге и соседних населённых пунктах за период с 2014 по 2019 год из сервиса Яндекс.Недвижимость. \n",
    "\n",
    "В центре исследования были основные характеристики объектов недвижимости (общая/жилая площадь, цена, количество комнат, отдаленность от основных социально-значимых точек, количество балконов и пр.)\n",
    "\n",
    "**Предобработка данных**\n",
    "    \n",
    "*В первую очередь были идентифицированы и (где возможно) заменены/очищены пропущенные значения, скорректированы типы данных (где было необходимо) и удалены неявные дубликаты и аномалии:*\n",
    "    \n",
    "- пропуски в переменных **\"balcony\"**, **\"is_apartment\"** и **\"days_exposition\"** (число балконов, апартаменты (булев тип), сколько дней было размещено объявление соответственно) были заменены на 0 по смыслу;\n",
    "    \n",
    "- пропуски в переменной **\"living_area\"** (жилая площадь) были заменены медианным значением площади в зависимости от количества комнат;\n",
    "    \n",
    "- пропуски в переменной **\"kitchen_area\"** (площадь кухни) были заменены при помощи корректирующего коэффициента (в виде отношения среднего значения общей площади объектов с пропуском \"kitchen_area\" к среднему значению жилой площади объектов без пропуска);\n",
    "    \n",
    "- пропуски в переменной **\"ceiling_height\"** (высота потолков) были заменены медианным значением;\n",
    "    \n",
    "- строки, в которых пропущены значения переменных **\"floors_total\"** (общее число этажей в доме) и **\"locality_name\"** (название населенного пункта) восстановлению не подлежали и были удалены (малое число наблюдений);\n",
    "    \n",
    "- переменные **days_exposition** (число дней \"активности\" объявления), **balcony** и **floors_total** были преобразованы в целочисленный вид;\n",
    "    \n",
    "- переменная **first_day_exposition** (дата публикации) была преобразована в более читабельный вид;\n",
    "    \n",
    "- в исходный датасет были добавлены необходимые для исследовательского анализа расчетные столбцы:\n",
    "    \n",
    "    * **price_per_m** - цена за квадратный метр\n",
    "    * **weekday_exposition** - день недели публикации объявления\n",
    "    * **month_exposition** - месяц публикации объявления\n",
    "    * **year_exposition** - год публикации объявления\n",
    "    * **distance_km** - расстояние до центра в км\n",
    "    \n",
    "- в переменной **\"locality_name\"** (название населенного пункта) были устранены неявные дубликаты;\n",
    "    \n",
    "- в переменных **\"ceiling_height\"** (высота потолков), **\"living_area\"**(жилая площадь), **\"kitchen_area\"**(площадь кухни), **\"floors_total\"** (общее количество этажей) и **\"rooms\"**(количество комнат)были устранены аномально высокие и аномально низкие значения;\n",
    "\n",
    "**Исследовательский анализ данных**  \n",
    "\n",
    "*Выделены ключевые характеристики (максимальное, минимальное, среднее значение, медиана) каждой задействованной в анализе переменной. Для удобства восприятия приведены визуализации.*\n",
    "    \n",
    "- Общая площадь объектов, представленных в выборке, колеблется в диапазоне от 13 до 442 кв. м. Площадь большей части квартир не превышает 100 кв.м.\n",
    "- Жилая площадь объектов, представленных в выборке, колеблется в диапазоне от 10 до 250 кв. м. Жилая площадь большей части квартир не превышает 50 кв.м. Квартир с жилой площадью ~18 м.кв. и ~30 кв.м. больше, чем остальных;\n",
    "- Площадь кухни объектов, представленных в выборке, колеблется в диапазоне от 5 до 40 кв. м. Площадь кухни большей части квартир не превышает 15 кв.м. \n",
    "Чаще всего в квартирах из выборки площадь кухни = 6, 10, 8, 9 и 7 кв. метров.\n",
    "- Цена объектов, представленных в выборке, колеблется в диапазоне от 430 тыс. до 401 млн. рублей. Цена большей части квартир не превышает 20 млн. рублей \n",
    "Чаще всего цена квартир из выборки = 4-4,5 млн. рублей\n",
    "- Количество комнат объектов из выборки колеблется от 0 (планировка без изолированных комнат) до 6. Чаще всего в выборке встречаются однокомнатные квартиры, немного реже - двухкомнатные. Реже всего встречаются объекты с 6 комнатами.\n",
    "- Чаще всего объекты из выборки характеризуются высотой потолков от 2.5 до 2.65 метров\n",
    "- Объекты из выборки расположены на разных этажах (от 1 до 33). Чаще всего в продаже можно было увидеть квартиры на 2 этаже (наибольшая концентрация наблюдалась в диапазоне от 1 до 5 этажа), реже всего - на 28 - 33 этажах.\n",
    "- Первые и последние этажи встречаются реже (по сравнению с остальными)\n",
    "- Этажность домов варьируется от 1 до 36 этажей. Чаще всего выставлялись квартиры в пятиэтажных домах, немного реже - в девятиэтажных. 34-36 этажей встречались крайне редко.\n",
    "- Расстояние до центра города варьируется от 0.2 до 66 км. (Это вполне логично, в выборке большое количество пригородных объектов)\n",
    "- Расстояние до ближайшего аэропорта варьируется от 0 до 85 км.\n",
    "- Чаще всего парк расположен не ближе 441 метров и не дальше 2 км.\n",
    "- Чаще всего объявления о продаже выставлялись в четверг и вторник, реже всего - в воскресенье.\n",
    "- Чаще всего объявления о продаже выставлялись в феврале и марте, реже всего - в январе и мае.\n",
    "- Наибольшее количеcтво объявлений было размещено менее суток. Возможно, они были очень востребованными и претендентов на покупку было много. (Или совсем новые объявления - на момент выгрузки данных они были размещены менее суток)\n",
    "-Медианное значение активности объявления о продаже - 73 дня\n",
    "-Объявления, закрытые менее чем за 3 недели, можно считать \"быстрой продажей\"\n",
    "    \n",
    "    \n",
    "В результате построения гистограмм, диаграмм рассеяния, а также проведения корреляционного анализа было получено, что такие переменные, как **общая площадь**, **жилая площадь**, **количество комнат** и **расположение объекта** оказывают положительное влияние на цену продажи (прирост каждого из данных показателей на единицу выражается в  увеличении цены квартиры).  \n",
    "\n",
    "Таким образом, рыночная стоимость недвижимости зависит от ряда параметров, таких как **локация**, **этаж**, **количество комнат**, **общая и жилая площадь**. Данный вывод может быть использован для построения автоматизированной системы для своевременной идентификации аномалий и мошенничества.\n",
    "\n",
    "</div>"
   ]
  },
  {
   "cell_type": "markdown",
   "metadata": {},
   "source": [
    "**Чек-лист готовности проекта**\n",
    "\n",
    "Поставьте 'x' в выполненных пунктах. Далее нажмите Shift+Enter."
   ]
  },
  {
   "cell_type": "markdown",
   "metadata": {},
   "source": [
    "- [x]  открыт файл\n",
    "- [x]  файлы изучены (выведены первые строки, метод `info()`, гистограммы и т.д.)\n",
    "- [x]  определены пропущенные значения\n",
    "- [x]  заполнены пропущенные значения там, где это возможно\n",
    "- [x]  есть пояснение, какие пропущенные значения обнаружены\n",
    "- [x]  изменены типы данных\n",
    "- [x]  есть пояснение, в каких столбцах изменены типы и почему\n",
    "- [x]  устранены неявные дубликаты в названиях населённых пунктов\n",
    "- [x]  устранены редкие и выбивающиеся значения (аномалии) во всех столбцах\n",
    "- [x]  посчитано и добавлено в таблицу: цена одного квадратного метра\n",
    "- [x]  посчитано и добавлено в таблицу: день публикации объявления (0 - понедельник, 1 - вторник и т.д.)\n",
    "- [x]  посчитано и добавлено в таблицу: месяц публикации объявления\n",
    "- [x]  посчитано и добавлено в таблицу: год публикации объявления\n",
    "- [x]  посчитано и добавлено в таблицу: тип этажа квартиры (значения — «первый», «последний», «другой»)\n",
    "- [x]  посчитано и добавлено в таблицу: расстояние в км до центра города\n",
    "- [x]  изучены и описаны следующие параметры:\n",
    "        - общая площадь;\n",
    "        - жилая площадь;\n",
    "        - площадь кухни;\n",
    "        - цена объекта;\n",
    "        - количество комнат;\n",
    "        - высота потолков;\n",
    "        - этаж квартиры;\n",
    "        - тип этажа квартиры («первый», «последний», «другой»);\n",
    "        - общее количество этажей в доме;\n",
    "        - расстояние до центра города в метрах;\n",
    "        - расстояние до ближайшего аэропорта;\n",
    "        - расстояние до ближайшего парка;\n",
    "        - день и месяц публикации объявления\n",
    "- [x]  построены гистограммы для каждого параметра\n",
    "- [x]  выполнено задание: \"Изучите, как быстро продавались квартиры (столбец days_exposition). Этот параметр показывает, сколько дней «висело» каждое объявление.\n",
    "    - Постройте гистограмму.\n",
    "    - Посчитайте среднее и медиану.\n",
    "    - В ячейке типа markdown опишите, сколько обычно занимает продажа. Какие продажи можно считать быстрыми, а какие — необычно долгими?\"\n",
    "- [x]  выполнено задание: \"Какие факторы больше всего влияют на общую (полную) стоимость объекта? Постройте графики, которые покажут зависимость цены от указанных ниже параметров. Для подготовки данных перед визуализацией вы можете использовать сводные таблицы.\"\n",
    "        - общей площади;\n",
    "        - жилой площади;\n",
    "        - площади кухни;\n",
    "        - количество комнат;\n",
    "        - типа этажа, на котором расположена квартира (первый, последний, другой);\n",
    "        - даты размещения (день недели, месяц, год);\n",
    "- [x]  выполнено задание: \"Посчитайте среднюю цену одного квадратного метра в 10 населённых пунктах с наибольшим числом объявлений. Выделите населённые пункты с самой высокой и низкой стоимостью квадратного метра. Эти данные можно найти по имени в столбце `locality_name`.\"\n",
    "- [x]  выполнено задание: \"Ранее вы посчитали расстояние до центра в километрах. Теперь выделите квартиры в Санкт-Петербурге с помощью столбца `locality_name` и вычислите среднюю цену каждого километра. Опишите, как стоимость объектов зависит от расстояния до центра города.\"\n",
    "- [x]  в каждом этапе есть промежуточные выводы\n",
    "- [x]  есть общий вывод"
   ]
  }
 ],
 "metadata": {
  "ExecuteTimeLog": [
   {
    "duration": 783,
    "start_time": "2022-08-28T12:16:56.566Z"
   },
   {
    "duration": 64,
    "start_time": "2022-08-28T12:18:10.760Z"
   },
   {
    "duration": 110,
    "start_time": "2022-08-28T12:18:35.069Z"
   },
   {
    "duration": 66,
    "start_time": "2022-08-28T12:18:45.946Z"
   },
   {
    "duration": 93,
    "start_time": "2022-08-28T12:18:57.094Z"
   },
   {
    "duration": 97,
    "start_time": "2022-08-28T12:19:26.782Z"
   },
   {
    "duration": 121,
    "start_time": "2022-08-28T12:19:57.014Z"
   },
   {
    "duration": 99,
    "start_time": "2022-08-28T12:20:34.981Z"
   },
   {
    "duration": 137,
    "start_time": "2022-08-28T12:21:40.034Z"
   },
   {
    "duration": 118,
    "start_time": "2022-08-28T12:33:31.810Z"
   },
   {
    "duration": 122,
    "start_time": "2022-08-28T12:33:39.259Z"
   },
   {
    "duration": 117,
    "start_time": "2022-08-28T12:34:33.228Z"
   },
   {
    "duration": 2171,
    "start_time": "2022-08-28T12:35:52.447Z"
   },
   {
    "duration": 2,
    "start_time": "2022-08-28T12:48:26.311Z"
   },
   {
    "duration": 11,
    "start_time": "2022-08-28T13:32:43.965Z"
   },
   {
    "duration": 17,
    "start_time": "2022-08-28T13:33:07.962Z"
   },
   {
    "duration": 15,
    "start_time": "2022-08-28T13:33:43.330Z"
   },
   {
    "duration": 7,
    "start_time": "2022-08-28T13:34:13.478Z"
   },
   {
    "duration": 54,
    "start_time": "2022-08-28T13:36:08.843Z"
   },
   {
    "duration": 69,
    "start_time": "2022-08-28T13:36:24.426Z"
   },
   {
    "duration": 4,
    "start_time": "2022-08-28T13:36:43.196Z"
   },
   {
    "duration": 6,
    "start_time": "2022-08-28T13:36:55.829Z"
   },
   {
    "duration": 11,
    "start_time": "2022-08-28T13:38:03.060Z"
   },
   {
    "duration": 15,
    "start_time": "2022-08-28T13:38:36.695Z"
   },
   {
    "duration": 14,
    "start_time": "2022-08-28T13:38:43.923Z"
   },
   {
    "duration": 12,
    "start_time": "2022-08-28T13:38:59.930Z"
   },
   {
    "duration": 7,
    "start_time": "2022-08-28T13:39:02.644Z"
   },
   {
    "duration": 10,
    "start_time": "2022-08-28T13:40:12.732Z"
   },
   {
    "duration": 49,
    "start_time": "2022-08-28T16:28:35.725Z"
   },
   {
    "duration": 6,
    "start_time": "2022-08-28T16:28:45.279Z"
   },
   {
    "duration": 726,
    "start_time": "2022-08-28T16:28:55.000Z"
   },
   {
    "duration": 2036,
    "start_time": "2022-08-28T16:28:55.727Z"
   },
   {
    "duration": 8,
    "start_time": "2022-08-28T16:28:57.764Z"
   },
   {
    "duration": 4,
    "start_time": "2022-08-28T16:28:57.773Z"
   },
   {
    "duration": 7,
    "start_time": "2022-08-28T16:28:57.779Z"
   },
   {
    "duration": 85,
    "start_time": "2022-08-28T16:30:12.674Z"
   },
   {
    "duration": 6,
    "start_time": "2022-08-28T16:30:31.365Z"
   },
   {
    "duration": 920,
    "start_time": "2022-08-28T16:30:39.454Z"
   },
   {
    "duration": 4,
    "start_time": "2022-08-28T16:31:01.529Z"
   },
   {
    "duration": 9,
    "start_time": "2022-08-28T16:31:31.482Z"
   },
   {
    "duration": 7,
    "start_time": "2022-08-28T16:31:34.458Z"
   },
   {
    "duration": 9,
    "start_time": "2022-08-28T16:42:11.885Z"
   },
   {
    "duration": 530,
    "start_time": "2022-08-28T16:42:24.583Z"
   },
   {
    "duration": 1909,
    "start_time": "2022-08-28T16:42:25.114Z"
   },
   {
    "duration": 8,
    "start_time": "2022-08-28T16:42:27.024Z"
   },
   {
    "duration": 14,
    "start_time": "2022-08-28T16:42:27.034Z"
   },
   {
    "duration": 133,
    "start_time": "2022-08-28T16:44:28.334Z"
   },
   {
    "duration": 4,
    "start_time": "2022-08-28T16:45:25.997Z"
   },
   {
    "duration": 9,
    "start_time": "2022-08-28T16:58:04.351Z"
   },
   {
    "duration": 9,
    "start_time": "2022-08-28T16:58:26.735Z"
   },
   {
    "duration": 9,
    "start_time": "2022-08-28T16:58:42.826Z"
   },
   {
    "duration": 8,
    "start_time": "2022-08-28T16:58:52.283Z"
   },
   {
    "duration": 492,
    "start_time": "2022-08-28T16:58:58.172Z"
   },
   {
    "duration": 2007,
    "start_time": "2022-08-28T16:58:58.666Z"
   },
   {
    "duration": 7,
    "start_time": "2022-08-28T16:59:00.675Z"
   },
   {
    "duration": 10,
    "start_time": "2022-08-28T16:59:00.684Z"
   },
   {
    "duration": 13,
    "start_time": "2022-08-28T16:59:00.695Z"
   },
   {
    "duration": 46,
    "start_time": "2022-08-28T17:12:44.932Z"
   },
   {
    "duration": 43,
    "start_time": "2022-08-28T17:35:23.296Z"
   },
   {
    "duration": 6,
    "start_time": "2022-08-28T17:45:46.043Z"
   },
   {
    "duration": 96,
    "start_time": "2022-08-28T17:49:11.806Z"
   },
   {
    "duration": 10,
    "start_time": "2022-08-28T17:49:30.827Z"
   },
   {
    "duration": 20,
    "start_time": "2022-08-28T17:49:41.554Z"
   },
   {
    "duration": 11,
    "start_time": "2022-08-28T17:51:39.055Z"
   },
   {
    "duration": 16,
    "start_time": "2022-08-28T17:53:53.452Z"
   },
   {
    "duration": 28,
    "start_time": "2022-08-28T17:54:02.242Z"
   },
   {
    "duration": 33,
    "start_time": "2022-08-28T17:54:59.731Z"
   },
   {
    "duration": 18,
    "start_time": "2022-08-28T17:57:37.510Z"
   },
   {
    "duration": 544,
    "start_time": "2022-08-28T17:57:47.023Z"
   },
   {
    "duration": 1998,
    "start_time": "2022-08-28T17:57:47.569Z"
   },
   {
    "duration": 9,
    "start_time": "2022-08-28T17:57:49.569Z"
   },
   {
    "duration": 11,
    "start_time": "2022-08-28T17:57:49.580Z"
   },
   {
    "duration": 7,
    "start_time": "2022-08-28T17:57:49.594Z"
   },
   {
    "duration": 12,
    "start_time": "2022-08-28T17:57:49.603Z"
   },
   {
    "duration": 31,
    "start_time": "2022-08-28T17:57:49.617Z"
   },
   {
    "duration": 5,
    "start_time": "2022-08-28T17:57:49.650Z"
   },
   {
    "duration": 76,
    "start_time": "2022-08-28T17:59:22.850Z"
   },
   {
    "duration": 8,
    "start_time": "2022-08-28T18:00:10.817Z"
   },
   {
    "duration": 9,
    "start_time": "2022-08-28T18:01:54.638Z"
   },
   {
    "duration": 224,
    "start_time": "2022-08-28T18:05:18.125Z"
   },
   {
    "duration": 670,
    "start_time": "2022-08-28T18:06:38.125Z"
   },
   {
    "duration": 13,
    "start_time": "2022-08-28T18:07:04.704Z"
   },
   {
    "duration": 8,
    "start_time": "2022-08-28T18:09:28.629Z"
   },
   {
    "duration": 12,
    "start_time": "2022-08-28T18:10:26.080Z"
   },
   {
    "duration": 9,
    "start_time": "2022-08-28T18:11:50.602Z"
   },
   {
    "duration": 539,
    "start_time": "2022-08-28T18:12:08.209Z"
   },
   {
    "duration": 2017,
    "start_time": "2022-08-28T18:12:08.750Z"
   },
   {
    "duration": 9,
    "start_time": "2022-08-28T18:12:10.769Z"
   },
   {
    "duration": 11,
    "start_time": "2022-08-28T18:12:10.781Z"
   },
   {
    "duration": 8,
    "start_time": "2022-08-28T18:12:10.794Z"
   },
   {
    "duration": 9,
    "start_time": "2022-08-28T18:12:10.803Z"
   },
   {
    "duration": 37,
    "start_time": "2022-08-28T18:12:10.813Z"
   },
   {
    "duration": 9,
    "start_time": "2022-08-28T18:12:10.851Z"
   },
   {
    "duration": 10,
    "start_time": "2022-08-28T18:12:24.524Z"
   },
   {
    "duration": 7,
    "start_time": "2022-08-28T18:14:29.862Z"
   },
   {
    "duration": 9,
    "start_time": "2022-08-28T18:19:13.469Z"
   },
   {
    "duration": 10,
    "start_time": "2022-08-28T18:20:59.834Z"
   },
   {
    "duration": 540,
    "start_time": "2022-08-28T18:21:10.506Z"
   },
   {
    "duration": 2043,
    "start_time": "2022-08-28T18:21:11.048Z"
   },
   {
    "duration": 8,
    "start_time": "2022-08-28T18:21:13.092Z"
   },
   {
    "duration": 30,
    "start_time": "2022-08-28T18:21:13.101Z"
   },
   {
    "duration": 15,
    "start_time": "2022-08-28T18:21:13.133Z"
   },
   {
    "duration": 9,
    "start_time": "2022-08-28T18:21:13.150Z"
   },
   {
    "duration": 6,
    "start_time": "2022-08-28T18:21:13.160Z"
   },
   {
    "duration": 24,
    "start_time": "2022-08-28T18:21:13.167Z"
   },
   {
    "duration": 10,
    "start_time": "2022-08-28T18:21:13.192Z"
   },
   {
    "duration": 19,
    "start_time": "2022-08-28T18:21:13.203Z"
   },
   {
    "duration": 8,
    "start_time": "2022-08-28T18:21:40.728Z"
   },
   {
    "duration": 500,
    "start_time": "2022-08-28T18:21:46.259Z"
   },
   {
    "duration": 1986,
    "start_time": "2022-08-28T18:21:46.761Z"
   },
   {
    "duration": 8,
    "start_time": "2022-08-28T18:21:48.748Z"
   },
   {
    "duration": 12,
    "start_time": "2022-08-28T18:21:48.758Z"
   },
   {
    "duration": 7,
    "start_time": "2022-08-28T18:21:48.771Z"
   },
   {
    "duration": 13,
    "start_time": "2022-08-28T18:21:48.779Z"
   },
   {
    "duration": 5,
    "start_time": "2022-08-28T18:21:48.794Z"
   },
   {
    "duration": 28,
    "start_time": "2022-08-28T18:21:48.800Z"
   },
   {
    "duration": 10,
    "start_time": "2022-08-28T18:21:48.829Z"
   },
   {
    "duration": 8,
    "start_time": "2022-08-28T18:21:48.841Z"
   },
   {
    "duration": 15,
    "start_time": "2022-08-28T18:24:57.974Z"
   },
   {
    "duration": 5,
    "start_time": "2022-08-28T18:44:40.092Z"
   },
   {
    "duration": 6,
    "start_time": "2022-08-28T18:45:13.322Z"
   },
   {
    "duration": 79,
    "start_time": "2022-08-28T18:52:53.262Z"
   },
   {
    "duration": 13,
    "start_time": "2022-08-28T18:54:15.463Z"
   },
   {
    "duration": 5,
    "start_time": "2022-08-28T18:54:25.457Z"
   },
   {
    "duration": 10,
    "start_time": "2022-08-28T18:59:47.833Z"
   },
   {
    "duration": 31,
    "start_time": "2022-08-28T19:07:20.814Z"
   },
   {
    "duration": 27,
    "start_time": "2022-08-28T19:07:59.224Z"
   },
   {
    "duration": 27,
    "start_time": "2022-08-28T19:08:11.346Z"
   },
   {
    "duration": 15,
    "start_time": "2022-08-28T19:08:36.708Z"
   },
   {
    "duration": 11,
    "start_time": "2022-08-28T19:57:40.183Z"
   },
   {
    "duration": 9,
    "start_time": "2022-08-28T20:04:15.260Z"
   },
   {
    "duration": 8,
    "start_time": "2022-08-28T20:04:26.445Z"
   },
   {
    "duration": 11,
    "start_time": "2022-08-28T20:05:24.594Z"
   },
   {
    "duration": 9,
    "start_time": "2022-08-28T20:06:05.058Z"
   },
   {
    "duration": 8,
    "start_time": "2022-08-28T20:08:29.352Z"
   },
   {
    "duration": 11,
    "start_time": "2022-08-28T20:09:47.110Z"
   },
   {
    "duration": 19,
    "start_time": "2022-08-28T20:09:51.275Z"
   },
   {
    "duration": 61,
    "start_time": "2022-08-28T20:10:47.274Z"
   },
   {
    "duration": 18,
    "start_time": "2022-08-28T20:11:26.707Z"
   },
   {
    "duration": 13,
    "start_time": "2022-08-28T20:11:34.059Z"
   },
   {
    "duration": 8,
    "start_time": "2022-08-28T20:15:36.038Z"
   },
   {
    "duration": 9,
    "start_time": "2022-08-28T20:15:40.030Z"
   },
   {
    "duration": 12,
    "start_time": "2022-08-28T20:15:49.733Z"
   },
   {
    "duration": 6,
    "start_time": "2022-08-28T20:15:59.138Z"
   },
   {
    "duration": 8,
    "start_time": "2022-08-28T20:16:24.578Z"
   },
   {
    "duration": 42,
    "start_time": "2022-08-28T20:16:40.057Z"
   },
   {
    "duration": 9,
    "start_time": "2022-08-28T20:16:46.038Z"
   },
   {
    "duration": 8,
    "start_time": "2022-08-28T20:16:59.139Z"
   },
   {
    "duration": 10,
    "start_time": "2022-08-28T20:17:07.045Z"
   },
   {
    "duration": 9,
    "start_time": "2022-08-28T20:17:28.699Z"
   },
   {
    "duration": 13,
    "start_time": "2022-08-28T20:17:32.663Z"
   },
   {
    "duration": 9,
    "start_time": "2022-08-28T20:18:19.450Z"
   },
   {
    "duration": 41,
    "start_time": "2022-08-29T07:49:54.791Z"
   },
   {
    "duration": 6,
    "start_time": "2022-08-29T07:50:13.909Z"
   },
   {
    "duration": 592,
    "start_time": "2022-08-29T07:51:12.706Z"
   },
   {
    "duration": 2304,
    "start_time": "2022-08-29T07:51:13.300Z"
   },
   {
    "duration": 9,
    "start_time": "2022-08-29T07:51:15.606Z"
   },
   {
    "duration": 11,
    "start_time": "2022-08-29T07:51:15.617Z"
   },
   {
    "duration": 8,
    "start_time": "2022-08-29T07:51:15.629Z"
   },
   {
    "duration": 11,
    "start_time": "2022-08-29T07:51:15.639Z"
   },
   {
    "duration": 7,
    "start_time": "2022-08-29T07:51:15.652Z"
   },
   {
    "duration": 55,
    "start_time": "2022-08-29T07:51:15.660Z"
   },
   {
    "duration": 11,
    "start_time": "2022-08-29T07:51:15.716Z"
   },
   {
    "duration": 11,
    "start_time": "2022-08-29T07:51:15.729Z"
   },
   {
    "duration": 13,
    "start_time": "2022-08-29T07:51:15.741Z"
   },
   {
    "duration": 20,
    "start_time": "2022-08-29T07:51:15.755Z"
   },
   {
    "duration": 32,
    "start_time": "2022-08-29T07:51:15.776Z"
   },
   {
    "duration": 5,
    "start_time": "2022-08-29T07:51:15.809Z"
   },
   {
    "duration": 5,
    "start_time": "2022-08-29T07:56:17.551Z"
   },
   {
    "duration": 5,
    "start_time": "2022-08-29T07:56:27.108Z"
   },
   {
    "duration": 4,
    "start_time": "2022-08-29T07:56:49.845Z"
   },
   {
    "duration": 80,
    "start_time": "2022-08-29T08:00:33.258Z"
   },
   {
    "duration": 9,
    "start_time": "2022-08-29T08:02:14.682Z"
   },
   {
    "duration": 9,
    "start_time": "2022-08-29T08:02:21.806Z"
   },
   {
    "duration": 6,
    "start_time": "2022-08-29T08:02:27.127Z"
   },
   {
    "duration": 20,
    "start_time": "2022-08-29T08:03:49.533Z"
   },
   {
    "duration": 26,
    "start_time": "2022-08-29T08:04:48.859Z"
   },
   {
    "duration": 47,
    "start_time": "2022-08-29T08:05:56.493Z"
   },
   {
    "duration": 20,
    "start_time": "2022-08-29T08:10:05.256Z"
   },
   {
    "duration": 22,
    "start_time": "2022-08-29T08:13:07.103Z"
   },
   {
    "duration": 6,
    "start_time": "2022-08-29T08:13:20.021Z"
   },
   {
    "duration": 488,
    "start_time": "2022-08-29T08:13:25.344Z"
   },
   {
    "duration": 2110,
    "start_time": "2022-08-29T08:13:25.834Z"
   },
   {
    "duration": 9,
    "start_time": "2022-08-29T08:13:27.946Z"
   },
   {
    "duration": 11,
    "start_time": "2022-08-29T08:13:27.956Z"
   },
   {
    "duration": 7,
    "start_time": "2022-08-29T08:13:27.969Z"
   },
   {
    "duration": 14,
    "start_time": "2022-08-29T08:13:27.977Z"
   },
   {
    "duration": 18,
    "start_time": "2022-08-29T08:13:27.993Z"
   },
   {
    "duration": 22,
    "start_time": "2022-08-29T08:13:28.012Z"
   },
   {
    "duration": 14,
    "start_time": "2022-08-29T08:13:28.035Z"
   },
   {
    "duration": 12,
    "start_time": "2022-08-29T08:13:28.050Z"
   },
   {
    "duration": 8,
    "start_time": "2022-08-29T08:13:28.064Z"
   },
   {
    "duration": 45,
    "start_time": "2022-08-29T08:13:28.073Z"
   },
   {
    "duration": 15,
    "start_time": "2022-08-29T08:13:28.119Z"
   },
   {
    "duration": 5,
    "start_time": "2022-08-29T08:13:28.136Z"
   },
   {
    "duration": 6,
    "start_time": "2022-08-29T08:13:35.253Z"
   },
   {
    "duration": 112,
    "start_time": "2022-08-29T08:13:44.113Z"
   },
   {
    "duration": 12,
    "start_time": "2022-08-29T08:13:51.273Z"
   },
   {
    "duration": 495,
    "start_time": "2022-08-29T08:13:58.227Z"
   },
   {
    "duration": 2088,
    "start_time": "2022-08-29T08:13:58.724Z"
   },
   {
    "duration": 8,
    "start_time": "2022-08-29T08:14:00.814Z"
   },
   {
    "duration": 12,
    "start_time": "2022-08-29T08:14:00.824Z"
   },
   {
    "duration": 16,
    "start_time": "2022-08-29T08:14:00.838Z"
   },
   {
    "duration": 17,
    "start_time": "2022-08-29T08:14:00.855Z"
   },
   {
    "duration": 8,
    "start_time": "2022-08-29T08:14:00.874Z"
   },
   {
    "duration": 29,
    "start_time": "2022-08-29T08:14:00.884Z"
   },
   {
    "duration": 10,
    "start_time": "2022-08-29T08:14:00.915Z"
   },
   {
    "duration": 16,
    "start_time": "2022-08-29T08:14:00.926Z"
   },
   {
    "duration": 26,
    "start_time": "2022-08-29T08:14:00.943Z"
   },
   {
    "duration": 14,
    "start_time": "2022-08-29T08:14:00.970Z"
   },
   {
    "duration": 31,
    "start_time": "2022-08-29T08:14:00.986Z"
   },
   {
    "duration": 78,
    "start_time": "2022-08-29T08:14:01.019Z"
   },
   {
    "duration": 6,
    "start_time": "2022-08-29T08:17:36.613Z"
   },
   {
    "duration": 1239,
    "start_time": "2022-08-29T08:38:46.051Z"
   },
   {
    "duration": 2068,
    "start_time": "2022-08-29T08:40:01.849Z"
   },
   {
    "duration": 1802,
    "start_time": "2022-08-29T08:41:11.942Z"
   },
   {
    "duration": 4,
    "start_time": "2022-08-29T08:43:41.023Z"
   },
   {
    "duration": 9,
    "start_time": "2022-08-29T08:54:46.540Z"
   },
   {
    "duration": 8,
    "start_time": "2022-08-29T08:55:03.037Z"
   },
   {
    "duration": 515,
    "start_time": "2022-08-29T08:56:21.675Z"
   },
   {
    "duration": 1896,
    "start_time": "2022-08-29T08:56:22.192Z"
   },
   {
    "duration": 9,
    "start_time": "2022-08-29T08:56:24.090Z"
   },
   {
    "duration": 11,
    "start_time": "2022-08-29T08:56:24.101Z"
   },
   {
    "duration": 7,
    "start_time": "2022-08-29T08:56:24.114Z"
   },
   {
    "duration": 9,
    "start_time": "2022-08-29T08:56:24.123Z"
   },
   {
    "duration": 7,
    "start_time": "2022-08-29T08:56:24.133Z"
   },
   {
    "duration": 16,
    "start_time": "2022-08-29T08:56:24.141Z"
   },
   {
    "duration": 9,
    "start_time": "2022-08-29T08:56:24.159Z"
   },
   {
    "duration": 41,
    "start_time": "2022-08-29T08:56:24.170Z"
   },
   {
    "duration": 8,
    "start_time": "2022-08-29T08:56:24.212Z"
   },
   {
    "duration": 16,
    "start_time": "2022-08-29T08:56:24.221Z"
   },
   {
    "duration": 13,
    "start_time": "2022-08-29T08:56:24.238Z"
   },
   {
    "duration": 8,
    "start_time": "2022-08-29T08:56:24.253Z"
   },
   {
    "duration": 9,
    "start_time": "2022-08-29T08:59:04.451Z"
   },
   {
    "duration": 9,
    "start_time": "2022-08-29T09:01:59.193Z"
   },
   {
    "duration": 10,
    "start_time": "2022-08-29T09:17:35.015Z"
   },
   {
    "duration": 601,
    "start_time": "2022-08-29T10:48:15.314Z"
   },
   {
    "duration": 2351,
    "start_time": "2022-08-29T10:48:15.918Z"
   },
   {
    "duration": 8,
    "start_time": "2022-08-29T10:48:18.271Z"
   },
   {
    "duration": 10,
    "start_time": "2022-08-29T10:48:18.281Z"
   },
   {
    "duration": 7,
    "start_time": "2022-08-29T10:48:18.293Z"
   },
   {
    "duration": 12,
    "start_time": "2022-08-29T10:48:18.302Z"
   },
   {
    "duration": 7,
    "start_time": "2022-08-29T10:48:18.315Z"
   },
   {
    "duration": 29,
    "start_time": "2022-08-29T10:48:18.323Z"
   },
   {
    "duration": 10,
    "start_time": "2022-08-29T10:48:18.353Z"
   },
   {
    "duration": 12,
    "start_time": "2022-08-29T10:48:18.365Z"
   },
   {
    "duration": 10,
    "start_time": "2022-08-29T10:48:18.378Z"
   },
   {
    "duration": 47,
    "start_time": "2022-08-29T10:48:18.389Z"
   },
   {
    "duration": 15,
    "start_time": "2022-08-29T10:48:18.437Z"
   },
   {
    "duration": 10,
    "start_time": "2022-08-29T10:48:18.453Z"
   },
   {
    "duration": 103,
    "start_time": "2022-08-29T10:48:18.464Z"
   },
   {
    "duration": 7,
    "start_time": "2022-08-29T10:48:52.022Z"
   },
   {
    "duration": 8,
    "start_time": "2022-08-29T10:50:41.967Z"
   },
   {
    "duration": 65,
    "start_time": "2022-08-29T10:51:26.234Z"
   },
   {
    "duration": 8,
    "start_time": "2022-08-29T10:51:38.794Z"
   },
   {
    "duration": 9,
    "start_time": "2022-08-29T10:51:54.624Z"
   },
   {
    "duration": 12,
    "start_time": "2022-08-29T10:52:11.527Z"
   },
   {
    "duration": 10,
    "start_time": "2022-08-29T10:52:18.679Z"
   },
   {
    "duration": 10,
    "start_time": "2022-08-29T10:53:15.265Z"
   },
   {
    "duration": 10,
    "start_time": "2022-08-29T10:53:30.094Z"
   },
   {
    "duration": 503,
    "start_time": "2022-08-29T10:53:39.857Z"
   },
   {
    "duration": 1987,
    "start_time": "2022-08-29T10:53:40.362Z"
   },
   {
    "duration": 11,
    "start_time": "2022-08-29T10:53:42.351Z"
   },
   {
    "duration": 13,
    "start_time": "2022-08-29T10:53:42.365Z"
   },
   {
    "duration": 10,
    "start_time": "2022-08-29T10:53:42.381Z"
   },
   {
    "duration": 19,
    "start_time": "2022-08-29T10:53:42.393Z"
   },
   {
    "duration": 8,
    "start_time": "2022-08-29T10:53:42.414Z"
   },
   {
    "duration": 24,
    "start_time": "2022-08-29T10:53:42.424Z"
   },
   {
    "duration": 12,
    "start_time": "2022-08-29T10:53:42.449Z"
   },
   {
    "duration": 11,
    "start_time": "2022-08-29T10:53:42.464Z"
   },
   {
    "duration": 10,
    "start_time": "2022-08-29T10:53:42.476Z"
   },
   {
    "duration": 46,
    "start_time": "2022-08-29T10:53:42.487Z"
   },
   {
    "duration": 15,
    "start_time": "2022-08-29T10:53:42.534Z"
   },
   {
    "duration": 16,
    "start_time": "2022-08-29T10:53:42.551Z"
   },
   {
    "duration": 14,
    "start_time": "2022-08-29T10:53:42.569Z"
   },
   {
    "duration": 9,
    "start_time": "2022-08-29T10:54:20.855Z"
   },
   {
    "duration": 11,
    "start_time": "2022-08-29T10:54:44.604Z"
   },
   {
    "duration": 10,
    "start_time": "2022-08-29T10:55:52.494Z"
   },
   {
    "duration": 11,
    "start_time": "2022-08-29T10:56:49.656Z"
   },
   {
    "duration": 12,
    "start_time": "2022-08-29T10:57:01.082Z"
   },
   {
    "duration": 12,
    "start_time": "2022-08-29T10:58:41.032Z"
   },
   {
    "duration": 10,
    "start_time": "2022-08-29T10:58:44.749Z"
   },
   {
    "duration": 539,
    "start_time": "2022-08-29T10:58:55.511Z"
   },
   {
    "duration": 2182,
    "start_time": "2022-08-29T10:58:56.052Z"
   },
   {
    "duration": 11,
    "start_time": "2022-08-29T10:58:58.236Z"
   },
   {
    "duration": 16,
    "start_time": "2022-08-29T10:58:58.250Z"
   },
   {
    "duration": 10,
    "start_time": "2022-08-29T10:58:58.268Z"
   },
   {
    "duration": 13,
    "start_time": "2022-08-29T10:58:58.280Z"
   },
   {
    "duration": 44,
    "start_time": "2022-08-29T10:58:58.295Z"
   },
   {
    "duration": 21,
    "start_time": "2022-08-29T10:58:58.341Z"
   },
   {
    "duration": 15,
    "start_time": "2022-08-29T10:58:58.364Z"
   },
   {
    "duration": 13,
    "start_time": "2022-08-29T10:58:58.382Z"
   },
   {
    "duration": 34,
    "start_time": "2022-08-29T10:58:58.397Z"
   },
   {
    "duration": 22,
    "start_time": "2022-08-29T10:58:58.433Z"
   },
   {
    "duration": 19,
    "start_time": "2022-08-29T10:58:58.457Z"
   },
   {
    "duration": 12,
    "start_time": "2022-08-29T10:58:58.478Z"
   },
   {
    "duration": 470,
    "start_time": "2022-08-29T11:59:57.974Z"
   },
   {
    "duration": 1952,
    "start_time": "2022-08-29T11:59:58.446Z"
   },
   {
    "duration": 8,
    "start_time": "2022-08-29T12:00:00.399Z"
   },
   {
    "duration": 33,
    "start_time": "2022-08-29T12:00:00.409Z"
   },
   {
    "duration": 19,
    "start_time": "2022-08-29T12:00:00.445Z"
   },
   {
    "duration": 14,
    "start_time": "2022-08-29T12:00:00.466Z"
   },
   {
    "duration": 7,
    "start_time": "2022-08-29T12:00:00.481Z"
   },
   {
    "duration": 24,
    "start_time": "2022-08-29T12:00:00.489Z"
   },
   {
    "duration": 20,
    "start_time": "2022-08-29T12:00:00.515Z"
   },
   {
    "duration": 13,
    "start_time": "2022-08-29T12:00:00.537Z"
   },
   {
    "duration": 12,
    "start_time": "2022-08-29T12:00:00.551Z"
   },
   {
    "duration": 14,
    "start_time": "2022-08-29T12:00:00.565Z"
   },
   {
    "duration": 13,
    "start_time": "2022-08-29T12:00:00.581Z"
   },
   {
    "duration": 35,
    "start_time": "2022-08-29T12:00:00.596Z"
   },
   {
    "duration": 5,
    "start_time": "2022-08-29T12:07:10.789Z"
   },
   {
    "duration": 75,
    "start_time": "2022-08-29T12:13:28.964Z"
   },
   {
    "duration": 6,
    "start_time": "2022-08-29T12:13:34.922Z"
   },
   {
    "duration": 5,
    "start_time": "2022-08-29T12:14:56.984Z"
   },
   {
    "duration": 11,
    "start_time": "2022-08-29T12:16:10.306Z"
   },
   {
    "duration": 5,
    "start_time": "2022-08-29T12:16:34.801Z"
   },
   {
    "duration": 6,
    "start_time": "2022-08-29T12:16:55.224Z"
   },
   {
    "duration": 65,
    "start_time": "2022-08-29T12:17:31.496Z"
   },
   {
    "duration": 5,
    "start_time": "2022-08-29T12:17:36.756Z"
   },
   {
    "duration": 6,
    "start_time": "2022-08-29T12:18:02.858Z"
   },
   {
    "duration": 10,
    "start_time": "2022-08-29T12:19:38.837Z"
   },
   {
    "duration": 21,
    "start_time": "2022-08-29T12:19:51.530Z"
   },
   {
    "duration": 10,
    "start_time": "2022-08-29T12:20:19.862Z"
   },
   {
    "duration": 499,
    "start_time": "2022-08-29T12:20:27.037Z"
   },
   {
    "duration": 2015,
    "start_time": "2022-08-29T12:20:27.538Z"
   },
   {
    "duration": 7,
    "start_time": "2022-08-29T12:20:29.555Z"
   },
   {
    "duration": 9,
    "start_time": "2022-08-29T12:20:29.564Z"
   },
   {
    "duration": 7,
    "start_time": "2022-08-29T12:20:29.575Z"
   },
   {
    "duration": 11,
    "start_time": "2022-08-29T12:20:29.583Z"
   },
   {
    "duration": 6,
    "start_time": "2022-08-29T12:20:29.595Z"
   },
   {
    "duration": 19,
    "start_time": "2022-08-29T12:20:29.602Z"
   },
   {
    "duration": 10,
    "start_time": "2022-08-29T12:20:29.630Z"
   },
   {
    "duration": 9,
    "start_time": "2022-08-29T12:20:29.641Z"
   },
   {
    "duration": 7,
    "start_time": "2022-08-29T12:20:29.652Z"
   },
   {
    "duration": 17,
    "start_time": "2022-08-29T12:20:29.660Z"
   },
   {
    "duration": 12,
    "start_time": "2022-08-29T12:20:29.679Z"
   },
   {
    "duration": 7,
    "start_time": "2022-08-29T12:20:29.694Z"
   },
   {
    "duration": 36,
    "start_time": "2022-08-29T12:20:29.703Z"
   },
   {
    "duration": 36,
    "start_time": "2022-08-29T12:20:29.740Z"
   },
   {
    "duration": 6,
    "start_time": "2022-08-29T12:21:17.138Z"
   },
   {
    "duration": 11,
    "start_time": "2022-08-29T12:21:44.062Z"
   },
   {
    "duration": 11,
    "start_time": "2022-08-29T12:22:40.036Z"
   },
   {
    "duration": 508,
    "start_time": "2022-08-29T12:22:48.679Z"
   },
   {
    "duration": 1989,
    "start_time": "2022-08-29T12:22:49.189Z"
   },
   {
    "duration": 10,
    "start_time": "2022-08-29T12:22:51.179Z"
   },
   {
    "duration": 10,
    "start_time": "2022-08-29T12:22:51.191Z"
   },
   {
    "duration": 9,
    "start_time": "2022-08-29T12:22:51.203Z"
   },
   {
    "duration": 10,
    "start_time": "2022-08-29T12:22:51.214Z"
   },
   {
    "duration": 9,
    "start_time": "2022-08-29T12:22:51.225Z"
   },
   {
    "duration": 20,
    "start_time": "2022-08-29T12:22:51.236Z"
   },
   {
    "duration": 11,
    "start_time": "2022-08-29T12:22:51.258Z"
   },
   {
    "duration": 11,
    "start_time": "2022-08-29T12:22:51.271Z"
   },
   {
    "duration": 16,
    "start_time": "2022-08-29T12:22:51.283Z"
   },
   {
    "duration": 49,
    "start_time": "2022-08-29T12:22:51.301Z"
   },
   {
    "duration": 17,
    "start_time": "2022-08-29T12:22:51.351Z"
   },
   {
    "duration": 11,
    "start_time": "2022-08-29T12:22:51.370Z"
   },
   {
    "duration": 14,
    "start_time": "2022-08-29T12:22:51.383Z"
   },
   {
    "duration": 33,
    "start_time": "2022-08-29T12:22:51.398Z"
   },
   {
    "duration": 70,
    "start_time": "2022-08-29T12:25:32.862Z"
   },
   {
    "duration": 25,
    "start_time": "2022-08-29T12:28:53.036Z"
   },
   {
    "duration": 11,
    "start_time": "2022-08-29T12:29:25.994Z"
   },
   {
    "duration": 506,
    "start_time": "2022-08-29T12:29:31.584Z"
   },
   {
    "duration": 2017,
    "start_time": "2022-08-29T12:29:32.092Z"
   },
   {
    "duration": 7,
    "start_time": "2022-08-29T12:29:34.111Z"
   },
   {
    "duration": 11,
    "start_time": "2022-08-29T12:29:34.119Z"
   },
   {
    "duration": 7,
    "start_time": "2022-08-29T12:29:34.131Z"
   },
   {
    "duration": 11,
    "start_time": "2022-08-29T12:29:34.139Z"
   },
   {
    "duration": 6,
    "start_time": "2022-08-29T12:29:34.152Z"
   },
   {
    "duration": 20,
    "start_time": "2022-08-29T12:29:34.159Z"
   },
   {
    "duration": 10,
    "start_time": "2022-08-29T12:29:34.180Z"
   },
   {
    "duration": 47,
    "start_time": "2022-08-29T12:29:34.191Z"
   },
   {
    "duration": 8,
    "start_time": "2022-08-29T12:29:34.239Z"
   },
   {
    "duration": 14,
    "start_time": "2022-08-29T12:29:34.249Z"
   },
   {
    "duration": 13,
    "start_time": "2022-08-29T12:29:34.265Z"
   },
   {
    "duration": 8,
    "start_time": "2022-08-29T12:29:34.280Z"
   },
   {
    "duration": 48,
    "start_time": "2022-08-29T12:29:34.290Z"
   },
   {
    "duration": 75,
    "start_time": "2022-08-29T12:29:34.339Z"
   },
   {
    "duration": 0,
    "start_time": "2022-08-29T12:29:34.416Z"
   },
   {
    "duration": 12,
    "start_time": "2022-08-29T12:35:46.442Z"
   },
   {
    "duration": 76,
    "start_time": "2022-08-29T12:38:44.172Z"
   },
   {
    "duration": 206,
    "start_time": "2022-08-29T12:38:55.292Z"
   },
   {
    "duration": 216,
    "start_time": "2022-08-29T12:39:12.320Z"
   },
   {
    "duration": 262,
    "start_time": "2022-08-29T12:39:33.183Z"
   },
   {
    "duration": 4,
    "start_time": "2022-08-29T12:40:13.647Z"
   },
   {
    "duration": 189,
    "start_time": "2022-08-29T12:40:15.917Z"
   },
   {
    "duration": 563,
    "start_time": "2022-08-29T12:40:22.931Z"
   },
   {
    "duration": 2109,
    "start_time": "2022-08-29T12:40:23.496Z"
   },
   {
    "duration": 8,
    "start_time": "2022-08-29T12:40:25.607Z"
   },
   {
    "duration": 17,
    "start_time": "2022-08-29T12:40:25.616Z"
   },
   {
    "duration": 9,
    "start_time": "2022-08-29T12:40:25.635Z"
   },
   {
    "duration": 13,
    "start_time": "2022-08-29T12:40:25.646Z"
   },
   {
    "duration": 7,
    "start_time": "2022-08-29T12:40:25.661Z"
   },
   {
    "duration": 27,
    "start_time": "2022-08-29T12:40:25.670Z"
   },
   {
    "duration": 10,
    "start_time": "2022-08-29T12:40:25.699Z"
   },
   {
    "duration": 30,
    "start_time": "2022-08-29T12:40:25.711Z"
   },
   {
    "duration": 9,
    "start_time": "2022-08-29T12:40:25.743Z"
   },
   {
    "duration": 17,
    "start_time": "2022-08-29T12:40:25.753Z"
   },
   {
    "duration": 15,
    "start_time": "2022-08-29T12:40:25.772Z"
   },
   {
    "duration": 10,
    "start_time": "2022-08-29T12:40:25.790Z"
   },
   {
    "duration": 4,
    "start_time": "2022-08-29T12:40:25.833Z"
   },
   {
    "duration": 211,
    "start_time": "2022-08-29T12:40:25.839Z"
   },
   {
    "duration": 4,
    "start_time": "2022-08-29T12:40:26.052Z"
   },
   {
    "duration": 12,
    "start_time": "2022-08-29T12:40:26.058Z"
   },
   {
    "duration": 74,
    "start_time": "2022-08-29T12:42:46.239Z"
   },
   {
    "duration": 78,
    "start_time": "2022-08-29T12:42:56.458Z"
   },
   {
    "duration": 98,
    "start_time": "2022-08-29T12:43:16.309Z"
   },
   {
    "duration": 221,
    "start_time": "2022-08-29T12:43:35.533Z"
   },
   {
    "duration": 84,
    "start_time": "2022-08-29T12:43:55.136Z"
   },
   {
    "duration": 220,
    "start_time": "2022-08-29T12:44:18.875Z"
   },
   {
    "duration": 107,
    "start_time": "2022-08-29T12:44:32.536Z"
   },
   {
    "duration": 539,
    "start_time": "2022-08-29T12:44:51.470Z"
   },
   {
    "duration": 296,
    "start_time": "2022-08-29T12:45:08.252Z"
   },
   {
    "duration": 1113,
    "start_time": "2022-08-29T12:45:21.980Z"
   },
   {
    "duration": 208,
    "start_time": "2022-08-29T12:45:29.480Z"
   },
   {
    "duration": 87,
    "start_time": "2022-08-29T12:45:44.224Z"
   },
   {
    "duration": 82,
    "start_time": "2022-08-29T12:45:52.403Z"
   },
   {
    "duration": 74,
    "start_time": "2022-08-29T12:46:39.170Z"
   },
   {
    "duration": 82,
    "start_time": "2022-08-29T12:46:43.995Z"
   },
   {
    "duration": 136,
    "start_time": "2022-08-29T12:46:49.860Z"
   },
   {
    "duration": 267,
    "start_time": "2022-08-29T12:46:59.630Z"
   },
   {
    "duration": 252,
    "start_time": "2022-08-29T12:47:06.953Z"
   },
   {
    "duration": 201,
    "start_time": "2022-08-29T12:47:21.328Z"
   },
   {
    "duration": 190,
    "start_time": "2022-08-29T12:47:35.158Z"
   },
   {
    "duration": 192,
    "start_time": "2022-08-29T12:47:55.762Z"
   },
   {
    "duration": 514,
    "start_time": "2022-08-29T12:48:00.360Z"
   },
   {
    "duration": 2022,
    "start_time": "2022-08-29T12:48:00.875Z"
   },
   {
    "duration": 8,
    "start_time": "2022-08-29T12:48:02.899Z"
   },
   {
    "duration": 15,
    "start_time": "2022-08-29T12:48:02.908Z"
   },
   {
    "duration": 7,
    "start_time": "2022-08-29T12:48:02.926Z"
   },
   {
    "duration": 15,
    "start_time": "2022-08-29T12:48:02.935Z"
   },
   {
    "duration": 8,
    "start_time": "2022-08-29T12:48:02.952Z"
   },
   {
    "duration": 27,
    "start_time": "2022-08-29T12:48:02.962Z"
   },
   {
    "duration": 13,
    "start_time": "2022-08-29T12:48:02.991Z"
   },
   {
    "duration": 38,
    "start_time": "2022-08-29T12:48:03.006Z"
   },
   {
    "duration": 13,
    "start_time": "2022-08-29T12:48:03.046Z"
   },
   {
    "duration": 15,
    "start_time": "2022-08-29T12:48:03.061Z"
   },
   {
    "duration": 14,
    "start_time": "2022-08-29T12:48:03.077Z"
   },
   {
    "duration": 38,
    "start_time": "2022-08-29T12:48:03.093Z"
   },
   {
    "duration": 4,
    "start_time": "2022-08-29T12:48:03.133Z"
   },
   {
    "duration": 268,
    "start_time": "2022-08-29T12:48:03.139Z"
   },
   {
    "duration": 0,
    "start_time": "2022-08-29T12:48:03.409Z"
   },
   {
    "duration": 0,
    "start_time": "2022-08-29T12:48:03.410Z"
   },
   {
    "duration": 200,
    "start_time": "2022-08-29T12:48:26.148Z"
   },
   {
    "duration": 255,
    "start_time": "2022-08-29T12:48:34.516Z"
   },
   {
    "duration": 496,
    "start_time": "2022-08-29T12:48:39.547Z"
   },
   {
    "duration": 2062,
    "start_time": "2022-08-29T12:48:40.044Z"
   },
   {
    "duration": 8,
    "start_time": "2022-08-29T12:48:42.107Z"
   },
   {
    "duration": 11,
    "start_time": "2022-08-29T12:48:42.117Z"
   },
   {
    "duration": 9,
    "start_time": "2022-08-29T12:48:42.131Z"
   },
   {
    "duration": 10,
    "start_time": "2022-08-29T12:48:42.142Z"
   },
   {
    "duration": 7,
    "start_time": "2022-08-29T12:48:42.154Z"
   },
   {
    "duration": 20,
    "start_time": "2022-08-29T12:48:42.162Z"
   },
   {
    "duration": 11,
    "start_time": "2022-08-29T12:48:42.183Z"
   },
   {
    "duration": 12,
    "start_time": "2022-08-29T12:48:42.230Z"
   },
   {
    "duration": 9,
    "start_time": "2022-08-29T12:48:42.244Z"
   },
   {
    "duration": 15,
    "start_time": "2022-08-29T12:48:42.254Z"
   },
   {
    "duration": 13,
    "start_time": "2022-08-29T12:48:42.270Z"
   },
   {
    "duration": 8,
    "start_time": "2022-08-29T12:48:42.285Z"
   },
   {
    "duration": 6,
    "start_time": "2022-08-29T12:48:42.294Z"
   },
   {
    "duration": 270,
    "start_time": "2022-08-29T12:48:42.331Z"
   },
   {
    "duration": 0,
    "start_time": "2022-08-29T12:48:42.602Z"
   },
   {
    "duration": 0,
    "start_time": "2022-08-29T12:48:42.603Z"
   },
   {
    "duration": 188,
    "start_time": "2022-08-29T12:48:51.443Z"
   },
   {
    "duration": 260,
    "start_time": "2022-08-29T12:49:03.129Z"
   },
   {
    "duration": 255,
    "start_time": "2022-08-29T12:49:17.592Z"
   },
   {
    "duration": 196,
    "start_time": "2022-08-29T12:49:36.040Z"
   },
   {
    "duration": 257,
    "start_time": "2022-08-29T12:50:13.416Z"
   },
   {
    "duration": 333,
    "start_time": "2022-08-29T12:50:27.342Z"
   },
   {
    "duration": 233,
    "start_time": "2022-08-29T12:50:38.852Z"
   },
   {
    "duration": 319,
    "start_time": "2022-08-29T12:50:48.426Z"
   },
   {
    "duration": 322,
    "start_time": "2022-08-29T12:50:58.096Z"
   },
   {
    "duration": 238,
    "start_time": "2022-08-29T12:51:40.882Z"
   },
   {
    "duration": 207,
    "start_time": "2022-08-29T12:51:50.218Z"
   },
   {
    "duration": 204,
    "start_time": "2022-08-29T12:52:03.674Z"
   },
   {
    "duration": 489,
    "start_time": "2022-08-29T12:52:14.865Z"
   },
   {
    "duration": 2006,
    "start_time": "2022-08-29T12:52:15.356Z"
   },
   {
    "duration": 9,
    "start_time": "2022-08-29T12:52:17.363Z"
   },
   {
    "duration": 11,
    "start_time": "2022-08-29T12:52:17.374Z"
   },
   {
    "duration": 9,
    "start_time": "2022-08-29T12:52:17.387Z"
   },
   {
    "duration": 16,
    "start_time": "2022-08-29T12:52:17.397Z"
   },
   {
    "duration": 7,
    "start_time": "2022-08-29T12:52:17.415Z"
   },
   {
    "duration": 30,
    "start_time": "2022-08-29T12:52:17.423Z"
   },
   {
    "duration": 10,
    "start_time": "2022-08-29T12:52:17.454Z"
   },
   {
    "duration": 12,
    "start_time": "2022-08-29T12:52:17.466Z"
   },
   {
    "duration": 9,
    "start_time": "2022-08-29T12:52:17.479Z"
   },
   {
    "duration": 43,
    "start_time": "2022-08-29T12:52:17.490Z"
   },
   {
    "duration": 14,
    "start_time": "2022-08-29T12:52:17.535Z"
   },
   {
    "duration": 9,
    "start_time": "2022-08-29T12:52:17.551Z"
   },
   {
    "duration": 9,
    "start_time": "2022-08-29T12:52:17.561Z"
   },
   {
    "duration": 292,
    "start_time": "2022-08-29T12:52:17.572Z"
   },
   {
    "duration": 4,
    "start_time": "2022-08-29T12:52:17.866Z"
   },
   {
    "duration": 10,
    "start_time": "2022-08-29T12:52:17.871Z"
   },
   {
    "duration": 213,
    "start_time": "2022-08-29T12:52:48.324Z"
   },
   {
    "duration": 285,
    "start_time": "2022-08-29T12:52:59.645Z"
   },
   {
    "duration": 257,
    "start_time": "2022-08-29T12:55:29.178Z"
   },
   {
    "duration": 192,
    "start_time": "2022-08-29T12:57:51.852Z"
   },
   {
    "duration": 190,
    "start_time": "2022-08-29T12:57:54.649Z"
   },
   {
    "duration": 271,
    "start_time": "2022-08-29T12:58:06.126Z"
   },
   {
    "duration": 543,
    "start_time": "2022-08-29T12:58:30.008Z"
   },
   {
    "duration": 2012,
    "start_time": "2022-08-29T12:58:30.553Z"
   },
   {
    "duration": 7,
    "start_time": "2022-08-29T12:58:32.567Z"
   },
   {
    "duration": 11,
    "start_time": "2022-08-29T12:58:32.576Z"
   },
   {
    "duration": 7,
    "start_time": "2022-08-29T12:58:32.588Z"
   },
   {
    "duration": 20,
    "start_time": "2022-08-29T12:58:32.596Z"
   },
   {
    "duration": 6,
    "start_time": "2022-08-29T12:58:32.617Z"
   },
   {
    "duration": 28,
    "start_time": "2022-08-29T12:58:32.625Z"
   },
   {
    "duration": 10,
    "start_time": "2022-08-29T12:58:32.654Z"
   },
   {
    "duration": 10,
    "start_time": "2022-08-29T12:58:32.666Z"
   },
   {
    "duration": 9,
    "start_time": "2022-08-29T12:58:32.677Z"
   },
   {
    "duration": 13,
    "start_time": "2022-08-29T12:58:32.688Z"
   },
   {
    "duration": 31,
    "start_time": "2022-08-29T12:58:32.702Z"
   },
   {
    "duration": 8,
    "start_time": "2022-08-29T12:58:32.734Z"
   },
   {
    "duration": 11,
    "start_time": "2022-08-29T12:58:32.743Z"
   },
   {
    "duration": 201,
    "start_time": "2022-08-29T12:58:32.755Z"
   },
   {
    "duration": 3,
    "start_time": "2022-08-29T12:58:32.958Z"
   },
   {
    "duration": 9,
    "start_time": "2022-08-29T12:58:32.962Z"
   },
   {
    "duration": 241,
    "start_time": "2022-08-29T13:02:26.190Z"
   },
   {
    "duration": 262,
    "start_time": "2022-08-29T13:02:34.878Z"
   },
   {
    "duration": 198,
    "start_time": "2022-08-29T13:02:52.136Z"
   },
   {
    "duration": 516,
    "start_time": "2022-08-29T13:02:57.565Z"
   },
   {
    "duration": 1901,
    "start_time": "2022-08-29T13:02:58.083Z"
   },
   {
    "duration": 8,
    "start_time": "2022-08-29T13:02:59.985Z"
   },
   {
    "duration": 12,
    "start_time": "2022-08-29T13:02:59.995Z"
   },
   {
    "duration": 7,
    "start_time": "2022-08-29T13:03:00.009Z"
   },
   {
    "duration": 13,
    "start_time": "2022-08-29T13:03:00.017Z"
   },
   {
    "duration": 7,
    "start_time": "2022-08-29T13:03:00.032Z"
   },
   {
    "duration": 24,
    "start_time": "2022-08-29T13:03:00.041Z"
   },
   {
    "duration": 10,
    "start_time": "2022-08-29T13:03:00.066Z"
   },
   {
    "duration": 11,
    "start_time": "2022-08-29T13:03:00.078Z"
   },
   {
    "duration": 16,
    "start_time": "2022-08-29T13:03:00.090Z"
   },
   {
    "duration": 29,
    "start_time": "2022-08-29T13:03:00.107Z"
   },
   {
    "duration": 13,
    "start_time": "2022-08-29T13:03:00.137Z"
   },
   {
    "duration": 8,
    "start_time": "2022-08-29T13:03:00.151Z"
   },
   {
    "duration": 4,
    "start_time": "2022-08-29T13:03:00.161Z"
   },
   {
    "duration": 227,
    "start_time": "2022-08-29T13:03:00.167Z"
   },
   {
    "duration": 4,
    "start_time": "2022-08-29T13:03:00.395Z"
   },
   {
    "duration": 12,
    "start_time": "2022-08-29T13:03:00.401Z"
   },
   {
    "duration": 5,
    "start_time": "2022-08-29T13:03:21.028Z"
   },
   {
    "duration": 37,
    "start_time": "2022-08-29T13:04:25.581Z"
   },
   {
    "duration": 13,
    "start_time": "2022-08-29T13:04:46.419Z"
   },
   {
    "duration": 5,
    "start_time": "2022-08-29T13:11:03.476Z"
   },
   {
    "duration": 71,
    "start_time": "2022-08-29T13:13:06.129Z"
   },
   {
    "duration": 10,
    "start_time": "2022-08-29T13:13:18.647Z"
   },
   {
    "duration": 6,
    "start_time": "2022-08-29T13:13:36.267Z"
   },
   {
    "duration": 7,
    "start_time": "2022-08-29T13:13:48.182Z"
   },
   {
    "duration": 5,
    "start_time": "2022-08-29T13:14:02.691Z"
   },
   {
    "duration": 6,
    "start_time": "2022-08-29T13:15:29.686Z"
   },
   {
    "duration": 9,
    "start_time": "2022-08-29T13:16:25.220Z"
   },
   {
    "duration": 20,
    "start_time": "2022-08-29T13:16:34.139Z"
   },
   {
    "duration": 9,
    "start_time": "2022-08-29T13:24:10.148Z"
   },
   {
    "duration": 533,
    "start_time": "2022-08-29T13:24:15.225Z"
   },
   {
    "duration": 2158,
    "start_time": "2022-08-29T13:24:15.760Z"
   },
   {
    "duration": 10,
    "start_time": "2022-08-29T13:24:17.920Z"
   },
   {
    "duration": 18,
    "start_time": "2022-08-29T13:24:17.932Z"
   },
   {
    "duration": 9,
    "start_time": "2022-08-29T13:24:17.953Z"
   },
   {
    "duration": 22,
    "start_time": "2022-08-29T13:24:17.965Z"
   },
   {
    "duration": 26,
    "start_time": "2022-08-29T13:24:17.988Z"
   },
   {
    "duration": 26,
    "start_time": "2022-08-29T13:24:18.015Z"
   },
   {
    "duration": 14,
    "start_time": "2022-08-29T13:24:18.043Z"
   },
   {
    "duration": 17,
    "start_time": "2022-08-29T13:24:18.059Z"
   },
   {
    "duration": 15,
    "start_time": "2022-08-29T13:24:18.078Z"
   },
   {
    "duration": 38,
    "start_time": "2022-08-29T13:24:18.095Z"
   },
   {
    "duration": 15,
    "start_time": "2022-08-29T13:24:18.135Z"
   },
   {
    "duration": 9,
    "start_time": "2022-08-29T13:24:18.153Z"
   },
   {
    "duration": 6,
    "start_time": "2022-08-29T13:24:18.163Z"
   },
   {
    "duration": 252,
    "start_time": "2022-08-29T13:24:18.171Z"
   },
   {
    "duration": 9,
    "start_time": "2022-08-29T13:24:18.425Z"
   },
   {
    "duration": 14,
    "start_time": "2022-08-29T13:24:18.436Z"
   },
   {
    "duration": 10,
    "start_time": "2022-08-29T13:24:28.200Z"
   },
   {
    "duration": 500,
    "start_time": "2022-08-29T13:44:00.086Z"
   },
   {
    "duration": 1977,
    "start_time": "2022-08-29T13:44:00.588Z"
   },
   {
    "duration": 9,
    "start_time": "2022-08-29T13:44:02.567Z"
   },
   {
    "duration": 11,
    "start_time": "2022-08-29T13:44:02.577Z"
   },
   {
    "duration": 7,
    "start_time": "2022-08-29T13:44:02.591Z"
   },
   {
    "duration": 10,
    "start_time": "2022-08-29T13:44:02.600Z"
   },
   {
    "duration": 8,
    "start_time": "2022-08-29T13:44:02.630Z"
   },
   {
    "duration": 20,
    "start_time": "2022-08-29T13:44:02.639Z"
   },
   {
    "duration": 11,
    "start_time": "2022-08-29T13:44:02.661Z"
   },
   {
    "duration": 11,
    "start_time": "2022-08-29T13:44:02.673Z"
   },
   {
    "duration": 9,
    "start_time": "2022-08-29T13:44:02.686Z"
   },
   {
    "duration": 45,
    "start_time": "2022-08-29T13:44:02.696Z"
   },
   {
    "duration": 13,
    "start_time": "2022-08-29T13:44:02.742Z"
   },
   {
    "duration": 8,
    "start_time": "2022-08-29T13:44:02.758Z"
   },
   {
    "duration": 5,
    "start_time": "2022-08-29T13:44:02.767Z"
   },
   {
    "duration": 237,
    "start_time": "2022-08-29T13:44:02.773Z"
   },
   {
    "duration": 5,
    "start_time": "2022-08-29T13:44:03.012Z"
   },
   {
    "duration": 18,
    "start_time": "2022-08-29T13:44:03.018Z"
   },
   {
    "duration": 10,
    "start_time": "2022-08-29T13:44:27.550Z"
   },
   {
    "duration": 11,
    "start_time": "2022-08-29T13:44:52.550Z"
   },
   {
    "duration": 11,
    "start_time": "2022-08-29T13:52:56.868Z"
   },
   {
    "duration": 14,
    "start_time": "2022-08-29T15:40:56.656Z"
   },
   {
    "duration": 35,
    "start_time": "2022-08-29T15:52:19.582Z"
   },
   {
    "duration": 33,
    "start_time": "2022-08-29T15:55:02.064Z"
   },
   {
    "duration": 35,
    "start_time": "2022-08-29T15:55:40.028Z"
   },
   {
    "duration": 33,
    "start_time": "2022-08-29T15:57:12.565Z"
   },
   {
    "duration": 29,
    "start_time": "2022-08-29T15:58:00.834Z"
   },
   {
    "duration": 33,
    "start_time": "2022-08-29T15:58:40.483Z"
   },
   {
    "duration": 35,
    "start_time": "2022-08-29T15:59:06.991Z"
   },
   {
    "duration": 31,
    "start_time": "2022-08-29T15:59:39.922Z"
   },
   {
    "duration": 45,
    "start_time": "2022-08-29T16:01:28.296Z"
   },
   {
    "duration": 29,
    "start_time": "2022-08-29T16:01:42.635Z"
   },
   {
    "duration": 43,
    "start_time": "2022-08-29T16:01:48.756Z"
   },
   {
    "duration": 29,
    "start_time": "2022-08-29T16:01:58.100Z"
   },
   {
    "duration": 35,
    "start_time": "2022-08-29T16:02:04.406Z"
   },
   {
    "duration": 31,
    "start_time": "2022-08-29T16:02:20.502Z"
   },
   {
    "duration": 50,
    "start_time": "2022-08-29T16:02:32.883Z"
   },
   {
    "duration": 47,
    "start_time": "2022-08-29T16:02:40.282Z"
   },
   {
    "duration": 49,
    "start_time": "2022-08-29T16:02:46.923Z"
   },
   {
    "duration": 53,
    "start_time": "2022-08-29T16:02:50.607Z"
   },
   {
    "duration": 52,
    "start_time": "2022-08-29T16:02:55.426Z"
   },
   {
    "duration": 31,
    "start_time": "2022-08-29T16:02:59.542Z"
   },
   {
    "duration": 28,
    "start_time": "2022-08-29T16:03:07.229Z"
   },
   {
    "duration": 30,
    "start_time": "2022-08-29T16:03:12.343Z"
   },
   {
    "duration": 29,
    "start_time": "2022-08-29T16:03:15.891Z"
   },
   {
    "duration": 29,
    "start_time": "2022-08-29T16:03:20.604Z"
   },
   {
    "duration": 29,
    "start_time": "2022-08-29T16:03:24.587Z"
   },
   {
    "duration": 40,
    "start_time": "2022-08-29T16:03:27.885Z"
   },
   {
    "duration": 30,
    "start_time": "2022-08-29T16:03:31.721Z"
   },
   {
    "duration": 29,
    "start_time": "2022-08-29T16:03:36.446Z"
   },
   {
    "duration": 28,
    "start_time": "2022-08-29T16:03:40.738Z"
   },
   {
    "duration": 30,
    "start_time": "2022-08-29T16:03:45.950Z"
   },
   {
    "duration": 30,
    "start_time": "2022-08-29T16:03:50.140Z"
   },
   {
    "duration": 28,
    "start_time": "2022-08-29T16:03:56.837Z"
   },
   {
    "duration": 31,
    "start_time": "2022-08-29T16:04:01.519Z"
   },
   {
    "duration": 30,
    "start_time": "2022-08-29T16:04:12.938Z"
   },
   {
    "duration": 39,
    "start_time": "2022-08-29T16:04:23.522Z"
   },
   {
    "duration": 94,
    "start_time": "2022-08-29T16:05:55.119Z"
   },
   {
    "duration": 40,
    "start_time": "2022-08-29T16:06:03.162Z"
   },
   {
    "duration": 3,
    "start_time": "2022-08-29T16:06:16.472Z"
   },
   {
    "duration": 204,
    "start_time": "2022-08-29T16:06:23.705Z"
   },
   {
    "duration": 4,
    "start_time": "2022-08-29T16:06:32.347Z"
   },
   {
    "duration": 14,
    "start_time": "2022-08-29T16:06:52.766Z"
   },
   {
    "duration": 544,
    "start_time": "2022-08-29T16:07:00.314Z"
   },
   {
    "duration": 2053,
    "start_time": "2022-08-29T16:07:00.861Z"
   },
   {
    "duration": 8,
    "start_time": "2022-08-29T16:07:02.915Z"
   },
   {
    "duration": 18,
    "start_time": "2022-08-29T16:07:02.924Z"
   },
   {
    "duration": 8,
    "start_time": "2022-08-29T16:07:02.944Z"
   },
   {
    "duration": 11,
    "start_time": "2022-08-29T16:07:02.953Z"
   },
   {
    "duration": 8,
    "start_time": "2022-08-29T16:07:02.966Z"
   },
   {
    "duration": 21,
    "start_time": "2022-08-29T16:07:02.975Z"
   },
   {
    "duration": 39,
    "start_time": "2022-08-29T16:07:02.999Z"
   },
   {
    "duration": 11,
    "start_time": "2022-08-29T16:07:03.042Z"
   },
   {
    "duration": 12,
    "start_time": "2022-08-29T16:07:03.055Z"
   },
   {
    "duration": 14,
    "start_time": "2022-08-29T16:07:03.068Z"
   },
   {
    "duration": 14,
    "start_time": "2022-08-29T16:07:03.083Z"
   },
   {
    "duration": 59,
    "start_time": "2022-08-29T16:07:03.099Z"
   },
   {
    "duration": 3,
    "start_time": "2022-08-29T16:07:03.159Z"
   },
   {
    "duration": 226,
    "start_time": "2022-08-29T16:07:03.164Z"
   },
   {
    "duration": 6,
    "start_time": "2022-08-29T16:07:03.391Z"
   },
   {
    "duration": 12,
    "start_time": "2022-08-29T16:07:03.398Z"
   },
   {
    "duration": 4,
    "start_time": "2022-08-29T16:07:03.412Z"
   },
   {
    "duration": 8,
    "start_time": "2022-08-29T16:12:39.345Z"
   },
   {
    "duration": 79,
    "start_time": "2022-08-29T16:16:01.996Z"
   },
   {
    "duration": 539,
    "start_time": "2022-08-29T16:16:15.600Z"
   },
   {
    "duration": 2193,
    "start_time": "2022-08-29T16:16:16.141Z"
   },
   {
    "duration": 11,
    "start_time": "2022-08-29T16:16:18.336Z"
   },
   {
    "duration": 17,
    "start_time": "2022-08-29T16:16:18.350Z"
   },
   {
    "duration": 9,
    "start_time": "2022-08-29T16:16:18.369Z"
   },
   {
    "duration": 12,
    "start_time": "2022-08-29T16:16:18.380Z"
   },
   {
    "duration": 41,
    "start_time": "2022-08-29T16:16:18.394Z"
   },
   {
    "duration": 23,
    "start_time": "2022-08-29T16:16:18.436Z"
   },
   {
    "duration": 11,
    "start_time": "2022-08-29T16:16:18.461Z"
   },
   {
    "duration": 12,
    "start_time": "2022-08-29T16:16:18.474Z"
   },
   {
    "duration": 10,
    "start_time": "2022-08-29T16:16:18.487Z"
   },
   {
    "duration": 41,
    "start_time": "2022-08-29T16:16:18.498Z"
   },
   {
    "duration": 15,
    "start_time": "2022-08-29T16:16:18.541Z"
   },
   {
    "duration": 29,
    "start_time": "2022-08-29T16:16:18.558Z"
   },
   {
    "duration": 5,
    "start_time": "2022-08-29T16:16:18.589Z"
   },
   {
    "duration": 247,
    "start_time": "2022-08-29T16:16:18.596Z"
   },
   {
    "duration": 6,
    "start_time": "2022-08-29T16:16:18.844Z"
   },
   {
    "duration": 11,
    "start_time": "2022-08-29T16:16:18.852Z"
   },
   {
    "duration": 756,
    "start_time": "2022-08-29T16:16:18.865Z"
   },
   {
    "duration": 560,
    "start_time": "2022-08-29T16:16:46.329Z"
   },
   {
    "duration": 572,
    "start_time": "2022-08-29T16:16:55.978Z"
   },
   {
    "duration": 15,
    "start_time": "2022-08-29T16:20:37.010Z"
   },
   {
    "duration": 9,
    "start_time": "2022-08-29T16:20:43.421Z"
   },
   {
    "duration": 44,
    "start_time": "2022-08-29T16:20:56.287Z"
   },
   {
    "duration": 42,
    "start_time": "2022-08-29T16:21:09.657Z"
   },
   {
    "duration": 47,
    "start_time": "2022-08-29T16:21:12.203Z"
   },
   {
    "duration": 47,
    "start_time": "2022-08-29T16:21:21.740Z"
   },
   {
    "duration": 257,
    "start_time": "2022-08-29T16:28:05.257Z"
   },
   {
    "duration": 356,
    "start_time": "2022-08-29T16:28:16.819Z"
   },
   {
    "duration": 245,
    "start_time": "2022-08-29T16:28:54.269Z"
   },
   {
    "duration": 15,
    "start_time": "2022-08-29T16:30:19.767Z"
   },
   {
    "duration": 290,
    "start_time": "2022-08-29T16:30:21.063Z"
   },
   {
    "duration": 4,
    "start_time": "2022-08-29T16:36:50.121Z"
   },
   {
    "duration": 4,
    "start_time": "2022-08-29T16:36:58.385Z"
   },
   {
    "duration": 39,
    "start_time": "2022-08-29T16:37:02.594Z"
   },
   {
    "duration": 43,
    "start_time": "2022-08-29T16:37:19.817Z"
   },
   {
    "duration": 13,
    "start_time": "2022-08-29T16:38:16.416Z"
   },
   {
    "duration": 8,
    "start_time": "2022-08-29T16:38:22.688Z"
   },
   {
    "duration": 3,
    "start_time": "2022-08-29T16:38:32.290Z"
   },
   {
    "duration": 75,
    "start_time": "2022-08-29T16:38:35.211Z"
   },
   {
    "duration": 9,
    "start_time": "2022-08-29T16:38:44.580Z"
   },
   {
    "duration": 39,
    "start_time": "2022-08-29T16:39:39.370Z"
   },
   {
    "duration": 13,
    "start_time": "2022-08-29T16:39:58.490Z"
   },
   {
    "duration": 40,
    "start_time": "2022-08-29T16:40:12.109Z"
   },
   {
    "duration": 38,
    "start_time": "2022-08-29T16:49:14.119Z"
   },
   {
    "duration": 38,
    "start_time": "2022-08-29T16:49:28.300Z"
   },
   {
    "duration": 230,
    "start_time": "2022-08-29T16:51:34.774Z"
   },
   {
    "duration": 219,
    "start_time": "2022-08-29T16:51:40.622Z"
   },
   {
    "duration": 148,
    "start_time": "2022-08-29T16:51:49.220Z"
   },
   {
    "duration": 230,
    "start_time": "2022-08-29T16:51:52.295Z"
   },
   {
    "duration": 133,
    "start_time": "2022-08-29T16:51:57.044Z"
   },
   {
    "duration": 242,
    "start_time": "2022-08-29T16:52:28.342Z"
   },
   {
    "duration": 165,
    "start_time": "2022-08-29T16:52:35.566Z"
   },
   {
    "duration": 172,
    "start_time": "2022-08-29T16:58:36.619Z"
   },
   {
    "duration": 176,
    "start_time": "2022-08-29T16:59:24.166Z"
   },
   {
    "duration": 195,
    "start_time": "2022-08-29T16:59:57.268Z"
   },
   {
    "duration": 190,
    "start_time": "2022-08-29T17:00:03.365Z"
   },
   {
    "duration": 181,
    "start_time": "2022-08-29T17:00:10.985Z"
   },
   {
    "duration": 6,
    "start_time": "2022-08-29T17:01:29.717Z"
   },
   {
    "duration": 14,
    "start_time": "2022-08-29T17:03:05.495Z"
   },
   {
    "duration": 19,
    "start_time": "2022-08-29T17:03:49.623Z"
   },
   {
    "duration": 20,
    "start_time": "2022-08-29T17:06:20.064Z"
   },
   {
    "duration": 9,
    "start_time": "2022-08-29T17:07:16.788Z"
   },
   {
    "duration": 199,
    "start_time": "2022-08-29T17:09:49.534Z"
   },
   {
    "duration": 372,
    "start_time": "2022-08-29T17:09:52.542Z"
   },
   {
    "duration": 245,
    "start_time": "2022-08-29T17:10:12.768Z"
   },
   {
    "duration": 173,
    "start_time": "2022-08-29T17:11:20.944Z"
   },
   {
    "duration": 188,
    "start_time": "2022-08-29T17:11:50.767Z"
   },
   {
    "duration": 217,
    "start_time": "2022-08-29T17:18:41.118Z"
   },
   {
    "duration": 259,
    "start_time": "2022-08-29T17:19:09.688Z"
   },
   {
    "duration": 212,
    "start_time": "2022-08-29T17:19:52.295Z"
   },
   {
    "duration": 8,
    "start_time": "2022-08-29T17:21:54.300Z"
   },
   {
    "duration": 3,
    "start_time": "2022-08-29T17:22:07.397Z"
   },
   {
    "duration": 11,
    "start_time": "2022-08-29T17:22:18.860Z"
   },
   {
    "duration": 11,
    "start_time": "2022-08-29T17:22:21.580Z"
   },
   {
    "duration": 6,
    "start_time": "2022-08-29T17:22:28.104Z"
   },
   {
    "duration": 518,
    "start_time": "2022-08-29T17:23:03.804Z"
   },
   {
    "duration": 1958,
    "start_time": "2022-08-29T17:23:04.324Z"
   },
   {
    "duration": 9,
    "start_time": "2022-08-29T17:23:06.284Z"
   },
   {
    "duration": 11,
    "start_time": "2022-08-29T17:23:06.296Z"
   },
   {
    "duration": 8,
    "start_time": "2022-08-29T17:23:06.309Z"
   },
   {
    "duration": 11,
    "start_time": "2022-08-29T17:23:06.319Z"
   },
   {
    "duration": 18,
    "start_time": "2022-08-29T17:23:06.331Z"
   },
   {
    "duration": 23,
    "start_time": "2022-08-29T17:23:06.350Z"
   },
   {
    "duration": 14,
    "start_time": "2022-08-29T17:23:06.374Z"
   },
   {
    "duration": 12,
    "start_time": "2022-08-29T17:23:06.390Z"
   },
   {
    "duration": 33,
    "start_time": "2022-08-29T17:23:06.404Z"
   },
   {
    "duration": 19,
    "start_time": "2022-08-29T17:23:06.439Z"
   },
   {
    "duration": 14,
    "start_time": "2022-08-29T17:23:06.460Z"
   },
   {
    "duration": 30,
    "start_time": "2022-08-29T17:23:06.475Z"
   },
   {
    "duration": 27,
    "start_time": "2022-08-29T17:23:06.507Z"
   },
   {
    "duration": 239,
    "start_time": "2022-08-29T17:23:06.536Z"
   },
   {
    "duration": 5,
    "start_time": "2022-08-29T17:23:06.777Z"
   },
   {
    "duration": 13,
    "start_time": "2022-08-29T17:23:06.784Z"
   },
   {
    "duration": 8,
    "start_time": "2022-08-29T17:23:06.799Z"
   },
   {
    "duration": 24,
    "start_time": "2022-08-29T17:23:06.808Z"
   },
   {
    "duration": 13,
    "start_time": "2022-08-29T17:23:06.834Z"
   },
   {
    "duration": 274,
    "start_time": "2022-08-29T17:23:06.849Z"
   },
   {
    "duration": 46,
    "start_time": "2022-08-29T17:23:07.124Z"
   },
   {
    "duration": 266,
    "start_time": "2022-08-29T17:23:07.171Z"
   },
   {
    "duration": 242,
    "start_time": "2022-08-29T17:23:07.439Z"
   },
   {
    "duration": 9,
    "start_time": "2022-08-29T17:23:47.139Z"
   },
   {
    "duration": 27,
    "start_time": "2022-08-29T17:25:17.638Z"
   },
   {
    "duration": 74,
    "start_time": "2022-08-29T17:25:41.832Z"
   },
   {
    "duration": 16,
    "start_time": "2022-08-29T17:25:50.890Z"
   },
   {
    "duration": 21,
    "start_time": "2022-08-29T17:26:30.522Z"
   },
   {
    "duration": 14,
    "start_time": "2022-08-29T17:26:41.400Z"
   },
   {
    "duration": 85,
    "start_time": "2022-08-29T17:29:18.417Z"
   },
   {
    "duration": 14,
    "start_time": "2022-08-29T17:48:57.457Z"
   },
   {
    "duration": 24,
    "start_time": "2022-08-29T17:49:31.429Z"
   },
   {
    "duration": 105,
    "start_time": "2022-08-29T17:49:44.940Z"
   },
   {
    "duration": 15,
    "start_time": "2022-08-29T17:49:52.781Z"
   },
   {
    "duration": 198,
    "start_time": "2022-08-29T17:50:43.764Z"
   },
   {
    "duration": 192,
    "start_time": "2022-08-29T17:51:23.908Z"
   },
   {
    "duration": 208,
    "start_time": "2022-08-29T17:51:57.247Z"
   },
   {
    "duration": 211,
    "start_time": "2022-08-29T17:53:10.846Z"
   },
   {
    "duration": 215,
    "start_time": "2022-08-29T17:53:25.098Z"
   },
   {
    "duration": 585,
    "start_time": "2022-08-30T12:55:46.997Z"
   },
   {
    "duration": 2025,
    "start_time": "2022-08-30T12:55:47.584Z"
   },
   {
    "duration": 7,
    "start_time": "2022-08-30T12:55:49.610Z"
   },
   {
    "duration": 10,
    "start_time": "2022-08-30T12:55:49.619Z"
   },
   {
    "duration": 7,
    "start_time": "2022-08-30T12:55:49.630Z"
   },
   {
    "duration": 9,
    "start_time": "2022-08-30T12:55:49.638Z"
   },
   {
    "duration": 6,
    "start_time": "2022-08-30T12:55:49.648Z"
   },
   {
    "duration": 20,
    "start_time": "2022-08-30T12:55:49.656Z"
   },
   {
    "duration": 10,
    "start_time": "2022-08-30T12:55:49.677Z"
   },
   {
    "duration": 10,
    "start_time": "2022-08-30T12:55:49.689Z"
   },
   {
    "duration": 7,
    "start_time": "2022-08-30T12:55:49.701Z"
   },
   {
    "duration": 14,
    "start_time": "2022-08-30T12:55:49.710Z"
   },
   {
    "duration": 39,
    "start_time": "2022-08-30T12:55:49.726Z"
   },
   {
    "duration": 27,
    "start_time": "2022-08-30T12:55:49.766Z"
   },
   {
    "duration": 3,
    "start_time": "2022-08-30T12:55:49.794Z"
   },
   {
    "duration": 217,
    "start_time": "2022-08-30T12:55:49.798Z"
   },
   {
    "duration": 6,
    "start_time": "2022-08-30T12:55:50.016Z"
   },
   {
    "duration": 11,
    "start_time": "2022-08-30T12:55:50.023Z"
   },
   {
    "duration": 20,
    "start_time": "2022-08-30T12:55:50.035Z"
   },
   {
    "duration": 13,
    "start_time": "2022-08-30T12:55:50.056Z"
   },
   {
    "duration": 12,
    "start_time": "2022-08-30T12:55:50.070Z"
   },
   {
    "duration": 316,
    "start_time": "2022-08-30T12:55:50.083Z"
   },
   {
    "duration": 43,
    "start_time": "2022-08-30T12:55:50.401Z"
   },
   {
    "duration": 191,
    "start_time": "2022-08-30T12:55:50.445Z"
   },
   {
    "duration": 186,
    "start_time": "2022-08-30T12:55:50.637Z"
   },
   {
    "duration": 170,
    "start_time": "2022-08-30T12:56:23.188Z"
   },
   {
    "duration": 186,
    "start_time": "2022-08-30T12:56:41.137Z"
   },
   {
    "duration": 172,
    "start_time": "2022-08-30T12:56:46.825Z"
   },
   {
    "duration": 185,
    "start_time": "2022-08-30T12:57:53.124Z"
   },
   {
    "duration": 15,
    "start_time": "2022-08-30T13:00:47.254Z"
   },
   {
    "duration": 16,
    "start_time": "2022-08-30T13:02:57.602Z"
   },
   {
    "duration": 18,
    "start_time": "2022-08-30T13:03:08.847Z"
   },
   {
    "duration": 13,
    "start_time": "2022-08-30T13:03:16.717Z"
   },
   {
    "duration": 11,
    "start_time": "2022-08-30T13:03:25.005Z"
   },
   {
    "duration": 12,
    "start_time": "2022-08-30T13:03:29.916Z"
   },
   {
    "duration": 71,
    "start_time": "2022-08-30T13:04:01.952Z"
   },
   {
    "duration": 12,
    "start_time": "2022-08-30T13:04:24.829Z"
   },
   {
    "duration": 13,
    "start_time": "2022-08-30T13:07:02.263Z"
   },
   {
    "duration": 14,
    "start_time": "2022-08-30T13:07:52.634Z"
   },
   {
    "duration": 17,
    "start_time": "2022-08-30T13:09:12.608Z"
   },
   {
    "duration": 513,
    "start_time": "2022-08-30T13:09:19.245Z"
   },
   {
    "duration": 1953,
    "start_time": "2022-08-30T13:09:19.760Z"
   },
   {
    "duration": 9,
    "start_time": "2022-08-30T13:09:21.714Z"
   },
   {
    "duration": 18,
    "start_time": "2022-08-30T13:09:21.724Z"
   },
   {
    "duration": 14,
    "start_time": "2022-08-30T13:09:21.743Z"
   },
   {
    "duration": 16,
    "start_time": "2022-08-30T13:09:21.758Z"
   },
   {
    "duration": 6,
    "start_time": "2022-08-30T13:09:21.776Z"
   },
   {
    "duration": 39,
    "start_time": "2022-08-30T13:09:21.784Z"
   },
   {
    "duration": 10,
    "start_time": "2022-08-30T13:09:21.824Z"
   },
   {
    "duration": 31,
    "start_time": "2022-08-30T13:09:21.836Z"
   },
   {
    "duration": 26,
    "start_time": "2022-08-30T13:09:21.869Z"
   },
   {
    "duration": 22,
    "start_time": "2022-08-30T13:09:21.897Z"
   },
   {
    "duration": 17,
    "start_time": "2022-08-30T13:09:21.920Z"
   },
   {
    "duration": 34,
    "start_time": "2022-08-30T13:09:21.939Z"
   },
   {
    "duration": 4,
    "start_time": "2022-08-30T13:09:21.974Z"
   },
   {
    "duration": 210,
    "start_time": "2022-08-30T13:09:21.980Z"
   },
   {
    "duration": 5,
    "start_time": "2022-08-30T13:09:22.191Z"
   },
   {
    "duration": 28,
    "start_time": "2022-08-30T13:09:22.198Z"
   },
   {
    "duration": 29,
    "start_time": "2022-08-30T13:09:22.227Z"
   },
   {
    "duration": 41,
    "start_time": "2022-08-30T13:09:22.257Z"
   },
   {
    "duration": 24,
    "start_time": "2022-08-30T13:09:22.299Z"
   },
   {
    "duration": 32,
    "start_time": "2022-08-30T13:09:22.324Z"
   },
   {
    "duration": 248,
    "start_time": "2022-08-30T13:09:22.358Z"
   },
   {
    "duration": 38,
    "start_time": "2022-08-30T13:09:22.607Z"
   },
   {
    "duration": 240,
    "start_time": "2022-08-30T13:09:22.647Z"
   },
   {
    "duration": 201,
    "start_time": "2022-08-30T13:09:22.888Z"
   },
   {
    "duration": 207,
    "start_time": "2022-08-30T13:09:23.090Z"
   },
   {
    "duration": 173,
    "start_time": "2022-08-30T13:09:47.795Z"
   },
   {
    "duration": 189,
    "start_time": "2022-08-30T13:10:08.525Z"
   },
   {
    "duration": 196,
    "start_time": "2022-08-30T13:10:20.803Z"
   },
   {
    "duration": 181,
    "start_time": "2022-08-30T13:10:28.320Z"
   },
   {
    "duration": 239,
    "start_time": "2022-08-30T13:10:36.192Z"
   },
   {
    "duration": 247,
    "start_time": "2022-08-30T13:10:44.289Z"
   },
   {
    "duration": 350,
    "start_time": "2022-08-30T13:10:53.816Z"
   },
   {
    "duration": 285,
    "start_time": "2022-08-30T13:11:50.559Z"
   },
   {
    "duration": 260,
    "start_time": "2022-08-30T13:12:42.856Z"
   },
   {
    "duration": 257,
    "start_time": "2022-08-30T13:14:02.803Z"
   },
   {
    "duration": 223,
    "start_time": "2022-08-30T13:17:42.772Z"
   },
   {
    "duration": 345,
    "start_time": "2022-08-30T13:18:37.438Z"
   },
   {
    "duration": 145,
    "start_time": "2022-08-30T13:18:49.314Z"
   },
   {
    "duration": 148,
    "start_time": "2022-08-30T13:18:56.745Z"
   },
   {
    "duration": 444,
    "start_time": "2022-08-30T13:19:48.509Z"
   },
   {
    "duration": 1891,
    "start_time": "2022-08-30T13:19:48.954Z"
   },
   {
    "duration": 8,
    "start_time": "2022-08-30T13:19:50.847Z"
   },
   {
    "duration": 12,
    "start_time": "2022-08-30T13:19:50.856Z"
   },
   {
    "duration": 6,
    "start_time": "2022-08-30T13:19:50.870Z"
   },
   {
    "duration": 8,
    "start_time": "2022-08-30T13:19:50.878Z"
   },
   {
    "duration": 6,
    "start_time": "2022-08-30T13:19:50.888Z"
   },
   {
    "duration": 21,
    "start_time": "2022-08-30T13:19:50.895Z"
   },
   {
    "duration": 9,
    "start_time": "2022-08-30T13:19:50.918Z"
   },
   {
    "duration": 33,
    "start_time": "2022-08-30T13:19:50.930Z"
   },
   {
    "duration": 8,
    "start_time": "2022-08-30T13:19:50.965Z"
   },
   {
    "duration": 15,
    "start_time": "2022-08-30T13:19:50.974Z"
   },
   {
    "duration": 14,
    "start_time": "2022-08-30T13:19:50.991Z"
   },
   {
    "duration": 52,
    "start_time": "2022-08-30T13:19:51.007Z"
   },
   {
    "duration": 3,
    "start_time": "2022-08-30T13:19:51.061Z"
   },
   {
    "duration": 210,
    "start_time": "2022-08-30T13:19:51.065Z"
   },
   {
    "duration": 6,
    "start_time": "2022-08-30T13:19:51.276Z"
   },
   {
    "duration": 12,
    "start_time": "2022-08-30T13:19:51.283Z"
   },
   {
    "duration": 7,
    "start_time": "2022-08-30T13:19:51.296Z"
   },
   {
    "duration": 14,
    "start_time": "2022-08-30T13:19:51.304Z"
   },
   {
    "duration": 38,
    "start_time": "2022-08-30T13:19:51.320Z"
   },
   {
    "duration": 12,
    "start_time": "2022-08-30T13:19:51.360Z"
   },
   {
    "duration": 247,
    "start_time": "2022-08-30T13:19:51.373Z"
   },
   {
    "duration": 40,
    "start_time": "2022-08-30T13:19:51.622Z"
   },
   {
    "duration": 223,
    "start_time": "2022-08-30T13:19:51.663Z"
   },
   {
    "duration": 177,
    "start_time": "2022-08-30T13:19:51.888Z"
   },
   {
    "duration": 241,
    "start_time": "2022-08-30T13:19:52.066Z"
   },
   {
    "duration": 142,
    "start_time": "2022-08-30T13:19:52.309Z"
   },
   {
    "duration": 139,
    "start_time": "2022-08-30T13:21:25.381Z"
   },
   {
    "duration": 131,
    "start_time": "2022-08-30T13:21:33.868Z"
   },
   {
    "duration": 245,
    "start_time": "2022-08-30T13:21:39.563Z"
   },
   {
    "duration": 224,
    "start_time": "2022-08-30T13:21:51.014Z"
   },
   {
    "duration": 297,
    "start_time": "2022-08-30T13:22:03.132Z"
   },
   {
    "duration": 3,
    "start_time": "2022-08-30T13:22:19.153Z"
   },
   {
    "duration": 3,
    "start_time": "2022-08-30T13:22:33.769Z"
   },
   {
    "duration": 234,
    "start_time": "2022-08-30T13:22:36.054Z"
   },
   {
    "duration": 267,
    "start_time": "2022-08-30T13:22:50.595Z"
   },
   {
    "duration": 223,
    "start_time": "2022-08-30T13:23:10.822Z"
   },
   {
    "duration": 83,
    "start_time": "2022-08-30T13:23:22.943Z"
   },
   {
    "duration": 231,
    "start_time": "2022-08-30T13:23:29.458Z"
   },
   {
    "duration": 324,
    "start_time": "2022-08-30T13:24:38.363Z"
   },
   {
    "duration": 245,
    "start_time": "2022-08-30T13:25:16.168Z"
   },
   {
    "duration": 225,
    "start_time": "2022-08-30T13:28:31.388Z"
   },
   {
    "duration": 222,
    "start_time": "2022-08-30T13:28:38.506Z"
   },
   {
    "duration": 221,
    "start_time": "2022-08-30T13:28:41.815Z"
   },
   {
    "duration": 72,
    "start_time": "2022-08-30T13:28:54.324Z"
   },
   {
    "duration": 238,
    "start_time": "2022-08-30T13:29:01.518Z"
   },
   {
    "duration": 364,
    "start_time": "2022-08-30T13:29:07.876Z"
   },
   {
    "duration": 143,
    "start_time": "2022-08-30T13:29:22.860Z"
   },
   {
    "duration": 131,
    "start_time": "2022-08-30T13:29:28.103Z"
   },
   {
    "duration": 121,
    "start_time": "2022-08-30T13:29:37.721Z"
   },
   {
    "duration": 177,
    "start_time": "2022-08-30T13:29:42.715Z"
   },
   {
    "duration": 165,
    "start_time": "2022-08-30T13:29:47.252Z"
   },
   {
    "duration": 2294,
    "start_time": "2022-08-30T13:31:42.267Z"
   },
   {
    "duration": 187,
    "start_time": "2022-08-30T13:31:52.861Z"
   },
   {
    "duration": 124,
    "start_time": "2022-08-30T13:32:19.018Z"
   },
   {
    "duration": 124,
    "start_time": "2022-08-30T13:32:45.551Z"
   },
   {
    "duration": 467,
    "start_time": "2022-08-30T13:32:57.606Z"
   },
   {
    "duration": 1871,
    "start_time": "2022-08-30T13:32:58.075Z"
   },
   {
    "duration": 8,
    "start_time": "2022-08-30T13:32:59.947Z"
   },
   {
    "duration": 11,
    "start_time": "2022-08-30T13:32:59.956Z"
   },
   {
    "duration": 6,
    "start_time": "2022-08-30T13:32:59.968Z"
   },
   {
    "duration": 8,
    "start_time": "2022-08-30T13:32:59.976Z"
   },
   {
    "duration": 6,
    "start_time": "2022-08-30T13:32:59.985Z"
   },
   {
    "duration": 18,
    "start_time": "2022-08-30T13:32:59.992Z"
   },
   {
    "duration": 9,
    "start_time": "2022-08-30T13:33:00.011Z"
   },
   {
    "duration": 39,
    "start_time": "2022-08-30T13:33:00.021Z"
   },
   {
    "duration": 9,
    "start_time": "2022-08-30T13:33:00.061Z"
   },
   {
    "duration": 14,
    "start_time": "2022-08-30T13:33:00.071Z"
   },
   {
    "duration": 12,
    "start_time": "2022-08-30T13:33:00.087Z"
   },
   {
    "duration": 26,
    "start_time": "2022-08-30T13:33:00.101Z"
   },
   {
    "duration": 26,
    "start_time": "2022-08-30T13:33:00.129Z"
   },
   {
    "duration": 209,
    "start_time": "2022-08-30T13:33:00.157Z"
   },
   {
    "duration": 5,
    "start_time": "2022-08-30T13:33:00.367Z"
   },
   {
    "duration": 21,
    "start_time": "2022-08-30T13:33:00.373Z"
   },
   {
    "duration": 17,
    "start_time": "2022-08-30T13:33:00.395Z"
   },
   {
    "duration": 32,
    "start_time": "2022-08-30T13:33:00.414Z"
   },
   {
    "duration": 27,
    "start_time": "2022-08-30T13:33:00.448Z"
   },
   {
    "duration": 12,
    "start_time": "2022-08-30T13:33:00.476Z"
   },
   {
    "duration": 232,
    "start_time": "2022-08-30T13:33:00.490Z"
   },
   {
    "duration": 48,
    "start_time": "2022-08-30T13:33:00.723Z"
   },
   {
    "duration": 240,
    "start_time": "2022-08-30T13:33:00.772Z"
   },
   {
    "duration": 185,
    "start_time": "2022-08-30T13:33:01.014Z"
   },
   {
    "duration": 245,
    "start_time": "2022-08-30T13:33:01.200Z"
   },
   {
    "duration": 240,
    "start_time": "2022-08-30T13:33:01.447Z"
   },
   {
    "duration": 139,
    "start_time": "2022-08-30T13:33:01.688Z"
   },
   {
    "duration": 120,
    "start_time": "2022-08-30T13:33:01.829Z"
   },
   {
    "duration": 533,
    "start_time": "2022-08-30T13:38:45.943Z"
   },
   {
    "duration": 2163,
    "start_time": "2022-08-30T13:38:46.478Z"
   },
   {
    "duration": 11,
    "start_time": "2022-08-30T13:38:48.644Z"
   },
   {
    "duration": 14,
    "start_time": "2022-08-30T13:38:48.658Z"
   },
   {
    "duration": 9,
    "start_time": "2022-08-30T13:38:48.675Z"
   },
   {
    "duration": 11,
    "start_time": "2022-08-30T13:38:48.685Z"
   },
   {
    "duration": 8,
    "start_time": "2022-08-30T13:38:48.697Z"
   },
   {
    "duration": 48,
    "start_time": "2022-08-30T13:38:48.707Z"
   },
   {
    "duration": 13,
    "start_time": "2022-08-30T13:38:48.758Z"
   },
   {
    "duration": 15,
    "start_time": "2022-08-30T13:38:48.775Z"
   },
   {
    "duration": 9,
    "start_time": "2022-08-30T13:38:48.792Z"
   },
   {
    "duration": 22,
    "start_time": "2022-08-30T13:38:48.802Z"
   },
   {
    "duration": 48,
    "start_time": "2022-08-30T13:38:48.826Z"
   },
   {
    "duration": 41,
    "start_time": "2022-08-30T13:38:48.877Z"
   },
   {
    "duration": 3,
    "start_time": "2022-08-30T13:38:48.920Z"
   },
   {
    "duration": 251,
    "start_time": "2022-08-30T13:38:48.924Z"
   },
   {
    "duration": 6,
    "start_time": "2022-08-30T13:38:49.177Z"
   },
   {
    "duration": 22,
    "start_time": "2022-08-30T13:38:49.184Z"
   },
   {
    "duration": 9,
    "start_time": "2022-08-30T13:38:49.209Z"
   },
   {
    "duration": 39,
    "start_time": "2022-08-30T13:38:49.220Z"
   },
   {
    "duration": 23,
    "start_time": "2022-08-30T13:38:49.260Z"
   },
   {
    "duration": 15,
    "start_time": "2022-08-30T13:38:49.286Z"
   },
   {
    "duration": 255,
    "start_time": "2022-08-30T13:38:49.302Z"
   },
   {
    "duration": 48,
    "start_time": "2022-08-30T13:38:49.559Z"
   },
   {
    "duration": 265,
    "start_time": "2022-08-30T13:38:49.609Z"
   },
   {
    "duration": 231,
    "start_time": "2022-08-30T13:38:49.877Z"
   },
   {
    "duration": 259,
    "start_time": "2022-08-30T13:38:50.110Z"
   },
   {
    "duration": 255,
    "start_time": "2022-08-30T13:38:50.371Z"
   },
   {
    "duration": 175,
    "start_time": "2022-08-30T13:38:50.628Z"
   },
   {
    "duration": 143,
    "start_time": "2022-08-30T13:38:50.805Z"
   },
   {
    "duration": 3,
    "start_time": "2022-08-30T13:39:22.953Z"
   },
   {
    "duration": 224,
    "start_time": "2022-08-30T13:39:25.519Z"
   },
   {
    "duration": 5,
    "start_time": "2022-08-30T13:39:29.188Z"
   },
   {
    "duration": 209,
    "start_time": "2022-08-30T13:41:11.205Z"
   },
   {
    "duration": 224,
    "start_time": "2022-08-30T13:41:19.803Z"
   },
   {
    "duration": 239,
    "start_time": "2022-08-30T13:41:33.678Z"
   },
   {
    "duration": 242,
    "start_time": "2022-08-30T13:41:41.292Z"
   },
   {
    "duration": 221,
    "start_time": "2022-08-30T13:41:48.648Z"
   },
   {
    "duration": 259,
    "start_time": "2022-08-30T13:41:56.546Z"
   },
   {
    "duration": 73,
    "start_time": "2022-08-30T13:45:05.787Z"
   },
   {
    "duration": 73,
    "start_time": "2022-08-30T13:45:14.064Z"
   },
   {
    "duration": 84,
    "start_time": "2022-08-30T13:45:23.904Z"
   },
   {
    "duration": 75,
    "start_time": "2022-08-30T13:45:29.958Z"
   },
   {
    "duration": 78,
    "start_time": "2022-08-30T13:45:48.646Z"
   },
   {
    "duration": 255806,
    "start_time": "2022-08-30T13:45:52.847Z"
   },
   {
    "duration": 288,
    "start_time": "2022-08-30T13:54:59.476Z"
   },
   {
    "duration": 238,
    "start_time": "2022-08-30T13:55:14.719Z"
   },
   {
    "duration": 279,
    "start_time": "2022-08-30T13:55:25.796Z"
   },
   {
    "duration": 246,
    "start_time": "2022-08-30T13:56:42.652Z"
   },
   {
    "duration": 303,
    "start_time": "2022-08-30T13:57:21.515Z"
   },
   {
    "duration": 241,
    "start_time": "2022-08-30T13:57:48.399Z"
   },
   {
    "duration": 217,
    "start_time": "2022-08-30T13:58:00.107Z"
   },
   {
    "duration": 240,
    "start_time": "2022-08-30T13:58:07.490Z"
   },
   {
    "duration": 142,
    "start_time": "2022-08-30T13:58:25.098Z"
   },
   {
    "duration": 237,
    "start_time": "2022-08-30T13:58:29.825Z"
   },
   {
    "duration": 237,
    "start_time": "2022-08-30T14:00:02.324Z"
   },
   {
    "duration": 288,
    "start_time": "2022-08-30T14:00:07.943Z"
   },
   {
    "duration": 289,
    "start_time": "2022-08-30T14:00:13.336Z"
   },
   {
    "duration": 45,
    "start_time": "2022-08-30T14:08:08.987Z"
   },
   {
    "duration": 11,
    "start_time": "2022-08-30T14:08:17.685Z"
   },
   {
    "duration": 489,
    "start_time": "2022-08-30T14:08:32.389Z"
   },
   {
    "duration": 2010,
    "start_time": "2022-08-30T14:08:32.879Z"
   },
   {
    "duration": 7,
    "start_time": "2022-08-30T14:08:34.891Z"
   },
   {
    "duration": 12,
    "start_time": "2022-08-30T14:08:34.900Z"
   },
   {
    "duration": 6,
    "start_time": "2022-08-30T14:08:34.913Z"
   },
   {
    "duration": 10,
    "start_time": "2022-08-30T14:08:34.921Z"
   },
   {
    "duration": 6,
    "start_time": "2022-08-30T14:08:34.932Z"
   },
   {
    "duration": 24,
    "start_time": "2022-08-30T14:08:34.939Z"
   },
   {
    "duration": 10,
    "start_time": "2022-08-30T14:08:34.965Z"
   },
   {
    "duration": 10,
    "start_time": "2022-08-30T14:08:34.978Z"
   },
   {
    "duration": 9,
    "start_time": "2022-08-30T14:08:34.990Z"
   },
   {
    "duration": 17,
    "start_time": "2022-08-30T14:08:35.000Z"
   },
   {
    "duration": 46,
    "start_time": "2022-08-30T14:08:35.019Z"
   },
   {
    "duration": 28,
    "start_time": "2022-08-30T14:08:35.066Z"
   },
   {
    "duration": 3,
    "start_time": "2022-08-30T14:08:35.096Z"
   },
   {
    "duration": 231,
    "start_time": "2022-08-30T14:08:35.100Z"
   },
   {
    "duration": 5,
    "start_time": "2022-08-30T14:08:35.333Z"
   },
   {
    "duration": 18,
    "start_time": "2022-08-30T14:08:35.339Z"
   },
   {
    "duration": 7,
    "start_time": "2022-08-30T14:08:35.358Z"
   },
   {
    "duration": 16,
    "start_time": "2022-08-30T14:08:35.366Z"
   },
   {
    "duration": 15,
    "start_time": "2022-08-30T14:08:35.383Z"
   },
   {
    "duration": 12,
    "start_time": "2022-08-30T14:08:35.399Z"
   },
   {
    "duration": 266,
    "start_time": "2022-08-30T14:08:35.413Z"
   },
   {
    "duration": 40,
    "start_time": "2022-08-30T14:08:35.681Z"
   },
   {
    "duration": 243,
    "start_time": "2022-08-30T14:08:35.723Z"
   },
   {
    "duration": 195,
    "start_time": "2022-08-30T14:08:35.968Z"
   },
   {
    "duration": 271,
    "start_time": "2022-08-30T14:08:36.165Z"
   },
   {
    "duration": 268,
    "start_time": "2022-08-30T14:08:36.439Z"
   },
   {
    "duration": 165,
    "start_time": "2022-08-30T14:08:36.709Z"
   },
   {
    "duration": 241,
    "start_time": "2022-08-30T14:08:36.875Z"
   },
   {
    "duration": 149,
    "start_time": "2022-08-30T14:09:43.094Z"
   },
   {
    "duration": 161,
    "start_time": "2022-08-30T14:10:20.707Z"
   },
   {
    "duration": 241,
    "start_time": "2022-08-30T14:10:31.271Z"
   },
   {
    "duration": 165,
    "start_time": "2022-08-30T14:10:38.946Z"
   },
   {
    "duration": 247,
    "start_time": "2022-08-30T14:19:46.314Z"
   },
   {
    "duration": 148,
    "start_time": "2022-08-30T14:20:16.050Z"
   },
   {
    "duration": 220,
    "start_time": "2022-08-30T14:21:35.365Z"
   },
   {
    "duration": 218,
    "start_time": "2022-08-30T14:21:57.792Z"
   },
   {
    "duration": 231,
    "start_time": "2022-08-30T14:23:54.844Z"
   },
   {
    "duration": 330,
    "start_time": "2022-08-30T14:24:02.568Z"
   },
   {
    "duration": 227,
    "start_time": "2022-08-30T14:24:16.082Z"
   },
   {
    "duration": 239,
    "start_time": "2022-08-30T14:24:24.255Z"
   },
   {
    "duration": 240,
    "start_time": "2022-08-30T14:25:28.838Z"
   },
   {
    "duration": 161,
    "start_time": "2022-08-30T14:25:43.165Z"
   },
   {
    "duration": 157,
    "start_time": "2022-08-30T14:25:49.433Z"
   },
   {
    "duration": 157,
    "start_time": "2022-08-30T14:27:10.709Z"
   },
   {
    "duration": 260,
    "start_time": "2022-08-30T14:31:43.596Z"
   },
   {
    "duration": 140,
    "start_time": "2022-08-30T14:31:49.013Z"
   },
   {
    "duration": 131,
    "start_time": "2022-08-30T14:31:59.333Z"
   },
   {
    "duration": 107,
    "start_time": "2022-08-30T14:32:04.224Z"
   },
   {
    "duration": 143,
    "start_time": "2022-08-30T14:32:07.736Z"
   },
   {
    "duration": 125,
    "start_time": "2022-08-30T14:32:10.630Z"
   },
   {
    "duration": 132,
    "start_time": "2022-08-30T14:32:15.033Z"
   },
   {
    "duration": 143,
    "start_time": "2022-08-30T14:32:18.348Z"
   },
   {
    "duration": 156,
    "start_time": "2022-08-30T14:32:21.614Z"
   },
   {
    "duration": 146,
    "start_time": "2022-08-30T14:32:24.273Z"
   },
   {
    "duration": 149,
    "start_time": "2022-08-30T14:32:27.439Z"
   },
   {
    "duration": 139,
    "start_time": "2022-08-30T14:32:31.602Z"
   },
   {
    "duration": 132,
    "start_time": "2022-08-30T14:32:39.666Z"
   },
   {
    "duration": 210,
    "start_time": "2022-08-30T14:32:44.321Z"
   },
   {
    "duration": 125,
    "start_time": "2022-08-30T14:32:55.453Z"
   },
   {
    "duration": 126,
    "start_time": "2022-08-30T14:41:12.118Z"
   },
   {
    "duration": 148,
    "start_time": "2022-08-30T14:41:17.864Z"
   },
   {
    "duration": 150,
    "start_time": "2022-08-30T14:41:30.378Z"
   },
   {
    "duration": 160,
    "start_time": "2022-08-30T14:44:22.621Z"
   },
   {
    "duration": 149,
    "start_time": "2022-08-30T14:44:58.075Z"
   },
   {
    "duration": 162,
    "start_time": "2022-08-30T14:45:03.895Z"
   },
   {
    "duration": 240,
    "start_time": "2022-08-30T14:45:12.438Z"
   },
   {
    "duration": 22,
    "start_time": "2022-08-30T14:48:17.026Z"
   },
   {
    "duration": 104,
    "start_time": "2022-08-30T14:48:34.924Z"
   },
   {
    "duration": 10,
    "start_time": "2022-08-30T14:49:08.869Z"
   },
   {
    "duration": 20,
    "start_time": "2022-08-30T14:50:46.742Z"
   },
   {
    "duration": 322,
    "start_time": "2022-08-30T14:50:59.862Z"
   },
   {
    "duration": 246,
    "start_time": "2022-08-30T14:51:57.678Z"
   },
   {
    "duration": 249,
    "start_time": "2022-08-30T14:53:15.359Z"
   },
   {
    "duration": 163,
    "start_time": "2022-08-30T14:54:48.679Z"
   },
   {
    "duration": 102,
    "start_time": "2022-08-30T14:55:10.716Z"
   },
   {
    "duration": 236,
    "start_time": "2022-08-30T14:56:59.966Z"
   },
   {
    "duration": 250,
    "start_time": "2022-08-30T14:57:38.013Z"
   },
   {
    "duration": 386,
    "start_time": "2022-08-30T14:59:47.391Z"
   },
   {
    "duration": 173,
    "start_time": "2022-08-30T15:04:59.257Z"
   },
   {
    "duration": 125,
    "start_time": "2022-08-30T15:05:05.964Z"
   },
   {
    "duration": 227,
    "start_time": "2022-08-30T15:05:10.784Z"
   },
   {
    "duration": 124,
    "start_time": "2022-08-30T15:05:16.777Z"
   },
   {
    "duration": 242,
    "start_time": "2022-08-30T15:05:26.678Z"
   },
   {
    "duration": 215,
    "start_time": "2022-08-30T15:05:40.758Z"
   },
   {
    "duration": 318,
    "start_time": "2022-08-30T15:06:38.969Z"
   },
   {
    "duration": 238,
    "start_time": "2022-08-30T15:06:49.278Z"
   },
   {
    "duration": 315,
    "start_time": "2022-08-30T15:07:47.252Z"
   },
   {
    "duration": 235,
    "start_time": "2022-08-30T15:07:58.367Z"
   },
   {
    "duration": 256,
    "start_time": "2022-08-30T15:08:42.154Z"
   },
   {
    "duration": 464,
    "start_time": "2022-08-30T15:12:42.616Z"
   },
   {
    "duration": 268,
    "start_time": "2022-08-30T15:12:55.295Z"
   },
   {
    "duration": 263,
    "start_time": "2022-08-30T15:13:04.020Z"
   },
   {
    "duration": 302,
    "start_time": "2022-08-30T15:14:14.904Z"
   },
   {
    "duration": 274,
    "start_time": "2022-08-30T15:14:25.170Z"
   },
   {
    "duration": 164,
    "start_time": "2022-08-30T15:14:39.115Z"
   },
   {
    "duration": 285,
    "start_time": "2022-08-30T15:14:54.561Z"
   },
   {
    "duration": 195,
    "start_time": "2022-08-30T15:15:07.901Z"
   },
   {
    "duration": 170,
    "start_time": "2022-08-30T15:15:18.407Z"
   },
   {
    "duration": 174,
    "start_time": "2022-08-30T15:16:07.685Z"
   },
   {
    "duration": 162,
    "start_time": "2022-08-30T15:17:59.726Z"
   },
   {
    "duration": 168,
    "start_time": "2022-08-30T15:20:51.507Z"
   },
   {
    "duration": 164,
    "start_time": "2022-08-30T15:26:08.490Z"
   },
   {
    "duration": 167,
    "start_time": "2022-08-30T15:26:15.644Z"
   },
   {
    "duration": 157,
    "start_time": "2022-08-30T15:26:34.123Z"
   },
   {
    "duration": 139,
    "start_time": "2022-08-30T15:31:30.041Z"
   },
   {
    "duration": 70,
    "start_time": "2022-08-30T15:31:39.843Z"
   },
   {
    "duration": 156,
    "start_time": "2022-08-30T15:31:46.310Z"
   },
   {
    "duration": 335,
    "start_time": "2022-08-30T15:31:58.238Z"
   },
   {
    "duration": 247,
    "start_time": "2022-08-30T15:32:04.428Z"
   },
   {
    "duration": 228,
    "start_time": "2022-08-30T15:32:11.841Z"
   },
   {
    "duration": 140,
    "start_time": "2022-08-30T15:32:33.504Z"
   },
   {
    "duration": 256,
    "start_time": "2022-08-30T15:32:36.131Z"
   },
   {
    "duration": 247,
    "start_time": "2022-08-30T15:38:21.398Z"
   },
   {
    "duration": 358,
    "start_time": "2022-08-30T15:39:50.158Z"
   },
   {
    "duration": 252,
    "start_time": "2022-08-30T15:40:02.070Z"
   },
   {
    "duration": 254,
    "start_time": "2022-08-30T15:43:02.903Z"
   },
   {
    "duration": 243,
    "start_time": "2022-08-30T15:43:16.868Z"
   },
   {
    "duration": 9,
    "start_time": "2022-08-30T15:49:58.752Z"
   },
   {
    "duration": 52,
    "start_time": "2022-08-31T17:08:47.628Z"
   },
   {
    "duration": 725,
    "start_time": "2022-08-31T17:08:52.250Z"
   },
   {
    "duration": 2282,
    "start_time": "2022-08-31T17:08:52.977Z"
   },
   {
    "duration": 8,
    "start_time": "2022-08-31T17:08:55.260Z"
   },
   {
    "duration": 12,
    "start_time": "2022-08-31T17:08:55.270Z"
   },
   {
    "duration": 9,
    "start_time": "2022-08-31T17:08:55.283Z"
   },
   {
    "duration": 11,
    "start_time": "2022-08-31T17:08:55.294Z"
   },
   {
    "duration": 6,
    "start_time": "2022-08-31T17:08:55.307Z"
   },
   {
    "duration": 21,
    "start_time": "2022-08-31T17:08:55.315Z"
   },
   {
    "duration": 10,
    "start_time": "2022-08-31T17:08:55.337Z"
   },
   {
    "duration": 11,
    "start_time": "2022-08-31T17:08:55.350Z"
   },
   {
    "duration": 37,
    "start_time": "2022-08-31T17:08:55.363Z"
   },
   {
    "duration": 16,
    "start_time": "2022-08-31T17:08:55.402Z"
   },
   {
    "duration": 17,
    "start_time": "2022-08-31T17:08:55.419Z"
   },
   {
    "duration": 28,
    "start_time": "2022-08-31T17:08:55.438Z"
   },
   {
    "duration": 4,
    "start_time": "2022-08-31T17:08:55.467Z"
   },
   {
    "duration": 237,
    "start_time": "2022-08-31T17:08:55.500Z"
   },
   {
    "duration": 7,
    "start_time": "2022-08-31T17:08:55.739Z"
   },
   {
    "duration": 44,
    "start_time": "2022-08-31T17:08:55.748Z"
   },
   {
    "duration": 14,
    "start_time": "2022-08-31T17:08:55.794Z"
   },
   {
    "duration": 28,
    "start_time": "2022-08-31T17:08:55.810Z"
   },
   {
    "duration": 20,
    "start_time": "2022-08-31T17:08:55.839Z"
   },
   {
    "duration": 17,
    "start_time": "2022-08-31T17:08:55.861Z"
   },
   {
    "duration": 33,
    "start_time": "2022-08-31T17:08:55.880Z"
   },
   {
    "duration": 356,
    "start_time": "2022-08-31T17:08:55.915Z"
   },
   {
    "duration": 46,
    "start_time": "2022-08-31T17:08:56.272Z"
   },
   {
    "duration": 208,
    "start_time": "2022-08-31T17:08:56.320Z"
   },
   {
    "duration": 195,
    "start_time": "2022-08-31T17:08:56.529Z"
   },
   {
    "duration": 268,
    "start_time": "2022-08-31T17:08:56.727Z"
   },
   {
    "duration": 253,
    "start_time": "2022-08-31T17:08:57.000Z"
   },
   {
    "duration": 163,
    "start_time": "2022-08-31T17:08:57.255Z"
   },
   {
    "duration": 239,
    "start_time": "2022-08-31T17:08:57.420Z"
   },
   {
    "duration": 185,
    "start_time": "2022-08-31T17:08:57.661Z"
   },
   {
    "duration": 218,
    "start_time": "2022-08-31T17:08:57.847Z"
   },
   {
    "duration": 256,
    "start_time": "2022-08-31T17:08:58.067Z"
   },
   {
    "duration": 251,
    "start_time": "2022-08-31T17:08:58.325Z"
   },
   {
    "duration": 229,
    "start_time": "2022-08-31T17:08:58.578Z"
   },
   {
    "duration": 270,
    "start_time": "2022-08-31T17:08:58.809Z"
   },
   {
    "duration": 174,
    "start_time": "2022-08-31T17:08:59.081Z"
   },
   {
    "duration": 362,
    "start_time": "2022-08-31T17:08:59.256Z"
   },
   {
    "duration": 20,
    "start_time": "2022-08-31T17:08:59.619Z"
   },
   {
    "duration": 27,
    "start_time": "2022-08-31T17:11:32.633Z"
   },
   {
    "duration": 26,
    "start_time": "2022-08-31T17:11:39.559Z"
   },
   {
    "duration": 20,
    "start_time": "2022-08-31T17:12:00.990Z"
   },
   {
    "duration": 25,
    "start_time": "2022-08-31T17:14:57.555Z"
   },
   {
    "duration": 17,
    "start_time": "2022-08-31T17:15:25.751Z"
   },
   {
    "duration": 25,
    "start_time": "2022-08-31T17:17:04.079Z"
   },
   {
    "duration": 20,
    "start_time": "2022-08-31T17:17:32.900Z"
   },
   {
    "duration": 18,
    "start_time": "2022-08-31T17:18:43.343Z"
   },
   {
    "duration": 892,
    "start_time": "2022-08-31T17:22:02.831Z"
   },
   {
    "duration": 762,
    "start_time": "2022-08-31T17:22:37.100Z"
   },
   {
    "duration": 497,
    "start_time": "2022-08-31T17:25:11.952Z"
   },
   {
    "duration": 2092,
    "start_time": "2022-08-31T17:25:12.451Z"
   },
   {
    "duration": 8,
    "start_time": "2022-08-31T17:25:14.547Z"
   },
   {
    "duration": 14,
    "start_time": "2022-08-31T17:25:14.557Z"
   },
   {
    "duration": 7,
    "start_time": "2022-08-31T17:25:14.573Z"
   },
   {
    "duration": 18,
    "start_time": "2022-08-31T17:25:14.582Z"
   },
   {
    "duration": 7,
    "start_time": "2022-08-31T17:25:14.601Z"
   },
   {
    "duration": 22,
    "start_time": "2022-08-31T17:25:14.610Z"
   },
   {
    "duration": 13,
    "start_time": "2022-08-31T17:25:14.634Z"
   },
   {
    "duration": 12,
    "start_time": "2022-08-31T17:25:14.649Z"
   },
   {
    "duration": 44,
    "start_time": "2022-08-31T17:25:14.663Z"
   },
   {
    "duration": 16,
    "start_time": "2022-08-31T17:25:14.709Z"
   },
   {
    "duration": 15,
    "start_time": "2022-08-31T17:25:14.726Z"
   },
   {
    "duration": 30,
    "start_time": "2022-08-31T17:25:14.743Z"
   },
   {
    "duration": 28,
    "start_time": "2022-08-31T17:25:14.775Z"
   },
   {
    "duration": 242,
    "start_time": "2022-08-31T17:25:14.804Z"
   },
   {
    "duration": 6,
    "start_time": "2022-08-31T17:25:15.048Z"
   },
   {
    "duration": 25,
    "start_time": "2022-08-31T17:25:15.056Z"
   },
   {
    "duration": 9,
    "start_time": "2022-08-31T17:25:15.084Z"
   },
   {
    "duration": 18,
    "start_time": "2022-08-31T17:25:15.100Z"
   },
   {
    "duration": 18,
    "start_time": "2022-08-31T17:25:15.120Z"
   },
   {
    "duration": 16,
    "start_time": "2022-08-31T17:25:15.139Z"
   },
   {
    "duration": 44,
    "start_time": "2022-08-31T17:25:15.156Z"
   },
   {
    "duration": 253,
    "start_time": "2022-08-31T17:25:15.202Z"
   },
   {
    "duration": 48,
    "start_time": "2022-08-31T17:25:15.457Z"
   },
   {
    "duration": 265,
    "start_time": "2022-08-31T17:25:15.507Z"
   },
   {
    "duration": 201,
    "start_time": "2022-08-31T17:25:15.775Z"
   },
   {
    "duration": 288,
    "start_time": "2022-08-31T17:25:15.977Z"
   },
   {
    "duration": 269,
    "start_time": "2022-08-31T17:25:16.267Z"
   },
   {
    "duration": 169,
    "start_time": "2022-08-31T17:25:16.538Z"
   },
   {
    "duration": 251,
    "start_time": "2022-08-31T17:25:16.709Z"
   },
   {
    "duration": 189,
    "start_time": "2022-08-31T17:25:16.962Z"
   },
   {
    "duration": 129,
    "start_time": "2022-08-31T17:25:17.152Z"
   },
   {
    "duration": 402,
    "start_time": "2022-08-31T17:25:17.282Z"
   },
   {
    "duration": 249,
    "start_time": "2022-08-31T17:25:17.686Z"
   },
   {
    "duration": 222,
    "start_time": "2022-08-31T17:25:17.936Z"
   },
   {
    "duration": 262,
    "start_time": "2022-08-31T17:25:18.160Z"
   },
   {
    "duration": 167,
    "start_time": "2022-08-31T17:25:18.424Z"
   },
   {
    "duration": 247,
    "start_time": "2022-08-31T17:25:18.593Z"
   },
   {
    "duration": 21,
    "start_time": "2022-08-31T17:25:18.842Z"
   },
   {
    "duration": 820,
    "start_time": "2022-08-31T17:25:18.865Z"
   },
   {
    "duration": 926,
    "start_time": "2022-08-31T17:27:30.221Z"
   },
   {
    "duration": 846,
    "start_time": "2022-08-31T17:28:31.663Z"
   },
   {
    "duration": 773,
    "start_time": "2022-08-31T17:29:03.920Z"
   },
   {
    "duration": 29,
    "start_time": "2022-08-31T17:30:44.196Z"
   },
   {
    "duration": 19,
    "start_time": "2022-08-31T17:31:05.336Z"
   },
   {
    "duration": 840,
    "start_time": "2022-08-31T17:31:08.600Z"
   },
   {
    "duration": 1097,
    "start_time": "2022-08-31T17:31:48.793Z"
   },
   {
    "duration": 1196,
    "start_time": "2022-08-31T17:32:12.430Z"
   },
   {
    "duration": 52,
    "start_time": "2022-08-31T17:37:14.715Z"
   },
   {
    "duration": 1264,
    "start_time": "2022-08-31T17:37:52.820Z"
   },
   {
    "duration": 18,
    "start_time": "2022-08-31T17:39:44.021Z"
   },
   {
    "duration": 737,
    "start_time": "2022-08-31T17:39:46.537Z"
   },
   {
    "duration": 16,
    "start_time": "2022-08-31T17:41:04.428Z"
   },
   {
    "duration": 1155,
    "start_time": "2022-08-31T17:41:07.635Z"
   },
   {
    "duration": 887,
    "start_time": "2022-08-31T17:41:30.754Z"
   },
   {
    "duration": 834,
    "start_time": "2022-08-31T17:44:33.206Z"
   },
   {
    "duration": 712,
    "start_time": "2022-08-31T17:45:45.277Z"
   },
   {
    "duration": 851,
    "start_time": "2022-08-31T17:46:00.166Z"
   },
   {
    "duration": 1084,
    "start_time": "2022-08-31T17:49:29.360Z"
   },
   {
    "duration": 13,
    "start_time": "2022-08-31T17:53:02.112Z"
   },
   {
    "duration": 17,
    "start_time": "2022-08-31T17:53:23.421Z"
   },
   {
    "duration": 936,
    "start_time": "2022-08-31T17:53:28.001Z"
   },
   {
    "duration": 815,
    "start_time": "2022-08-31T17:54:48.842Z"
   },
   {
    "duration": 17,
    "start_time": "2022-08-31T17:54:59.302Z"
   },
   {
    "duration": 23,
    "start_time": "2022-08-31T17:55:40.872Z"
   },
   {
    "duration": 18,
    "start_time": "2022-08-31T17:55:48.436Z"
   },
   {
    "duration": 876,
    "start_time": "2022-08-31T17:56:50.671Z"
   },
   {
    "duration": 10,
    "start_time": "2022-08-31T18:02:54.428Z"
   },
   {
    "duration": 14,
    "start_time": "2022-08-31T18:03:00.097Z"
   },
   {
    "duration": 17,
    "start_time": "2022-08-31T18:09:30.566Z"
   },
   {
    "duration": 12,
    "start_time": "2022-08-31T18:09:39.047Z"
   },
   {
    "duration": 19,
    "start_time": "2022-08-31T18:11:58.174Z"
   },
   {
    "duration": 37,
    "start_time": "2022-08-31T18:17:09.879Z"
   },
   {
    "duration": 30,
    "start_time": "2022-08-31T18:17:32.193Z"
   },
   {
    "duration": 30,
    "start_time": "2022-08-31T18:17:52.152Z"
   },
   {
    "duration": 32,
    "start_time": "2022-08-31T18:18:25.799Z"
   },
   {
    "duration": 27,
    "start_time": "2022-08-31T18:18:32.107Z"
   },
   {
    "duration": 39,
    "start_time": "2022-08-31T18:18:45.717Z"
   },
   {
    "duration": 44,
    "start_time": "2022-08-31T18:19:23.901Z"
   },
   {
    "duration": 37,
    "start_time": "2022-08-31T18:20:01.398Z"
   },
   {
    "duration": 36,
    "start_time": "2022-08-31T18:20:07.795Z"
   },
   {
    "duration": 33,
    "start_time": "2022-08-31T18:20:35.928Z"
   },
   {
    "duration": 17,
    "start_time": "2022-08-31T18:21:30.943Z"
   },
   {
    "duration": 1304,
    "start_time": "2022-08-31T18:22:14.111Z"
   },
   {
    "duration": 1436,
    "start_time": "2022-08-31T18:22:26.083Z"
   },
   {
    "duration": 1408,
    "start_time": "2022-08-31T18:22:56.324Z"
   },
   {
    "duration": 13,
    "start_time": "2022-08-31T18:26:31.544Z"
   },
   {
    "duration": 236,
    "start_time": "2022-08-31T18:28:11.543Z"
   },
   {
    "duration": 11,
    "start_time": "2022-08-31T18:28:27.760Z"
   },
   {
    "duration": 14,
    "start_time": "2022-08-31T18:30:08.191Z"
   },
   {
    "duration": 15,
    "start_time": "2022-08-31T18:30:16.405Z"
   },
   {
    "duration": 482,
    "start_time": "2022-08-31T18:30:30.156Z"
   },
   {
    "duration": 2155,
    "start_time": "2022-08-31T18:30:30.640Z"
   },
   {
    "duration": 8,
    "start_time": "2022-08-31T18:30:32.797Z"
   },
   {
    "duration": 16,
    "start_time": "2022-08-31T18:30:32.807Z"
   },
   {
    "duration": 8,
    "start_time": "2022-08-31T18:30:32.825Z"
   },
   {
    "duration": 14,
    "start_time": "2022-08-31T18:30:32.834Z"
   },
   {
    "duration": 45,
    "start_time": "2022-08-31T18:30:32.849Z"
   },
   {
    "duration": 32,
    "start_time": "2022-08-31T18:30:32.895Z"
   },
   {
    "duration": 14,
    "start_time": "2022-08-31T18:30:32.929Z"
   },
   {
    "duration": 16,
    "start_time": "2022-08-31T18:30:32.946Z"
   },
   {
    "duration": 14,
    "start_time": "2022-08-31T18:30:32.964Z"
   },
   {
    "duration": 34,
    "start_time": "2022-08-31T18:30:32.981Z"
   },
   {
    "duration": 20,
    "start_time": "2022-08-31T18:30:33.017Z"
   },
   {
    "duration": 29,
    "start_time": "2022-08-31T18:30:33.039Z"
   },
   {
    "duration": 4,
    "start_time": "2022-08-31T18:30:33.070Z"
   },
   {
    "duration": 236,
    "start_time": "2022-08-31T18:30:33.076Z"
   },
   {
    "duration": 6,
    "start_time": "2022-08-31T18:30:33.314Z"
   },
   {
    "duration": 14,
    "start_time": "2022-08-31T18:30:33.322Z"
   },
   {
    "duration": 8,
    "start_time": "2022-08-31T18:30:33.337Z"
   },
   {
    "duration": 15,
    "start_time": "2022-08-31T18:30:33.347Z"
   },
   {
    "duration": 49,
    "start_time": "2022-08-31T18:30:33.364Z"
   },
   {
    "duration": 15,
    "start_time": "2022-08-31T18:30:33.415Z"
   },
   {
    "duration": 13,
    "start_time": "2022-08-31T18:30:33.432Z"
   },
   {
    "duration": 270,
    "start_time": "2022-08-31T18:30:33.446Z"
   },
   {
    "duration": 43,
    "start_time": "2022-08-31T18:30:33.718Z"
   },
   {
    "duration": 282,
    "start_time": "2022-08-31T18:30:33.762Z"
   },
   {
    "duration": 195,
    "start_time": "2022-08-31T18:30:34.045Z"
   },
   {
    "duration": 279,
    "start_time": "2022-08-31T18:30:34.245Z"
   },
   {
    "duration": 261,
    "start_time": "2022-08-31T18:30:34.526Z"
   },
   {
    "duration": 167,
    "start_time": "2022-08-31T18:30:34.790Z"
   },
   {
    "duration": 266,
    "start_time": "2022-08-31T18:30:34.959Z"
   },
   {
    "duration": 188,
    "start_time": "2022-08-31T18:30:35.227Z"
   },
   {
    "duration": 131,
    "start_time": "2022-08-31T18:30:35.417Z"
   },
   {
    "duration": 386,
    "start_time": "2022-08-31T18:30:35.551Z"
   },
   {
    "duration": 272,
    "start_time": "2022-08-31T18:30:35.940Z"
   },
   {
    "duration": 237,
    "start_time": "2022-08-31T18:30:36.213Z"
   },
   {
    "duration": 266,
    "start_time": "2022-08-31T18:30:36.451Z"
   },
   {
    "duration": 172,
    "start_time": "2022-08-31T18:30:36.719Z"
   },
   {
    "duration": 258,
    "start_time": "2022-08-31T18:30:36.892Z"
   },
   {
    "duration": 14,
    "start_time": "2022-08-31T18:30:37.152Z"
   },
   {
    "duration": 87,
    "start_time": "2022-08-31T18:30:37.168Z"
   },
   {
    "duration": 0,
    "start_time": "2022-08-31T18:30:37.257Z"
   },
   {
    "duration": 0,
    "start_time": "2022-08-31T18:30:37.258Z"
   },
   {
    "duration": 1,
    "start_time": "2022-08-31T18:30:37.259Z"
   },
   {
    "duration": 12,
    "start_time": "2022-08-31T18:31:36.074Z"
   },
   {
    "duration": 11,
    "start_time": "2022-08-31T18:31:45.528Z"
   },
   {
    "duration": 12,
    "start_time": "2022-08-31T18:31:47.806Z"
   },
   {
    "duration": 52,
    "start_time": "2022-08-31T18:32:42.828Z"
   },
   {
    "duration": 14,
    "start_time": "2022-08-31T18:32:53.901Z"
   },
   {
    "duration": 20,
    "start_time": "2022-08-31T18:33:16.339Z"
   },
   {
    "duration": 21,
    "start_time": "2022-08-31T18:33:30.069Z"
   },
   {
    "duration": 14,
    "start_time": "2022-08-31T18:33:40.347Z"
   },
   {
    "duration": 121,
    "start_time": "2022-08-31T18:33:57.806Z"
   },
   {
    "duration": 14,
    "start_time": "2022-08-31T18:34:15.830Z"
   },
   {
    "duration": 10,
    "start_time": "2022-08-31T18:34:32.150Z"
   },
   {
    "duration": 12,
    "start_time": "2022-08-31T18:34:34.171Z"
   },
   {
    "duration": 14,
    "start_time": "2022-08-31T18:34:56.006Z"
   },
   {
    "duration": 14,
    "start_time": "2022-08-31T18:35:02.209Z"
   },
   {
    "duration": 13,
    "start_time": "2022-08-31T18:35:30.538Z"
   },
   {
    "duration": 16,
    "start_time": "2022-08-31T18:36:47.051Z"
   },
   {
    "duration": 15,
    "start_time": "2022-08-31T18:37:36.094Z"
   },
   {
    "duration": 18,
    "start_time": "2022-08-31T18:38:05.144Z"
   },
   {
    "duration": 157,
    "start_time": "2022-08-31T18:38:29.871Z"
   },
   {
    "duration": 9,
    "start_time": "2022-08-31T18:39:10.994Z"
   },
   {
    "duration": 255,
    "start_time": "2022-08-31T18:39:29.258Z"
   },
   {
    "duration": 9,
    "start_time": "2022-08-31T18:39:32.842Z"
   },
   {
    "duration": 12,
    "start_time": "2022-08-31T18:39:46.564Z"
   },
   {
    "duration": 52,
    "start_time": "2022-08-31T18:39:58.116Z"
   },
   {
    "duration": 162,
    "start_time": "2022-08-31T18:40:04.912Z"
   },
   {
    "duration": 134,
    "start_time": "2022-08-31T18:40:47.095Z"
   },
   {
    "duration": 1492,
    "start_time": "2022-08-31T18:41:08.090Z"
   },
   {
    "duration": 68,
    "start_time": "2022-08-31T18:43:35.976Z"
   },
   {
    "duration": 22,
    "start_time": "2022-08-31T18:43:43.706Z"
   },
   {
    "duration": 39,
    "start_time": "2022-08-31T18:44:22.629Z"
   },
   {
    "duration": 44,
    "start_time": "2022-08-31T18:45:26.982Z"
   },
   {
    "duration": 54,
    "start_time": "2022-08-31T18:45:50.733Z"
   },
   {
    "duration": 18,
    "start_time": "2022-08-31T18:46:04.041Z"
   },
   {
    "duration": 26,
    "start_time": "2022-08-31T18:48:44.134Z"
   },
   {
    "duration": 15,
    "start_time": "2022-08-31T18:49:12.731Z"
   },
   {
    "duration": 19,
    "start_time": "2022-08-31T18:49:25.153Z"
   },
   {
    "duration": 22,
    "start_time": "2022-08-31T18:50:17.998Z"
   },
   {
    "duration": 20,
    "start_time": "2022-08-31T18:50:43.136Z"
   },
   {
    "duration": 56,
    "start_time": "2022-08-31T18:52:58.222Z"
   },
   {
    "duration": 847,
    "start_time": "2022-08-31T18:53:05.185Z"
   },
   {
    "duration": 21,
    "start_time": "2022-08-31T18:55:47.819Z"
   },
   {
    "duration": 22,
    "start_time": "2022-08-31T18:55:58.720Z"
   },
   {
    "duration": 20,
    "start_time": "2022-08-31T18:56:21.230Z"
   },
   {
    "duration": 24,
    "start_time": "2022-08-31T18:56:39.150Z"
   },
   {
    "duration": 996,
    "start_time": "2022-08-31T18:59:10.177Z"
   },
   {
    "duration": 716,
    "start_time": "2022-08-31T19:00:30.399Z"
   },
   {
    "duration": 1174,
    "start_time": "2022-08-31T19:00:49.159Z"
   },
   {
    "duration": 539,
    "start_time": "2022-08-31T19:01:56.611Z"
   },
   {
    "duration": 429,
    "start_time": "2022-08-31T19:02:02.196Z"
   },
   {
    "duration": 890,
    "start_time": "2022-08-31T19:02:10.461Z"
   },
   {
    "duration": 936,
    "start_time": "2022-08-31T19:02:25.094Z"
   },
   {
    "duration": 23,
    "start_time": "2022-08-31T19:03:05.412Z"
   },
   {
    "duration": 790,
    "start_time": "2022-08-31T19:03:48.393Z"
   },
   {
    "duration": 22,
    "start_time": "2022-08-31T19:07:03.351Z"
   },
   {
    "duration": 58,
    "start_time": "2022-08-31T19:08:14.290Z"
   },
   {
    "duration": 52,
    "start_time": "2022-08-31T19:08:22.498Z"
   },
   {
    "duration": 160,
    "start_time": "2022-08-31T19:08:27.398Z"
   },
   {
    "duration": 109,
    "start_time": "2022-08-31T19:08:45.626Z"
   },
   {
    "duration": 320,
    "start_time": "2022-08-31T19:08:56.884Z"
   },
   {
    "duration": 19,
    "start_time": "2022-08-31T19:10:32.031Z"
   },
   {
    "duration": 280,
    "start_time": "2022-08-31T19:10:36.765Z"
   },
   {
    "duration": 55,
    "start_time": "2022-08-31T19:10:45.544Z"
   },
   {
    "duration": 60,
    "start_time": "2022-08-31T19:10:50.022Z"
   },
   {
    "duration": 62,
    "start_time": "2022-08-31T19:10:57.355Z"
   },
   {
    "duration": 67,
    "start_time": "2022-08-31T19:11:02.435Z"
   },
   {
    "duration": 73,
    "start_time": "2022-08-31T19:11:07.922Z"
   },
   {
    "duration": 80,
    "start_time": "2022-08-31T19:11:10.609Z"
   },
   {
    "duration": 63,
    "start_time": "2022-08-31T19:11:17.193Z"
   },
   {
    "duration": 292,
    "start_time": "2022-08-31T19:11:49.976Z"
   },
   {
    "duration": 20369,
    "start_time": "2022-08-31T19:14:52.123Z"
   },
   {
    "duration": 153,
    "start_time": "2022-08-31T19:15:38.822Z"
   },
   {
    "duration": 240,
    "start_time": "2022-08-31T19:15:52.308Z"
   },
   {
    "duration": 277,
    "start_time": "2022-08-31T19:16:16.115Z"
   },
   {
    "duration": 271,
    "start_time": "2022-08-31T19:16:34.329Z"
   },
   {
    "duration": 17,
    "start_time": "2022-08-31T19:17:05.682Z"
   },
   {
    "duration": 250,
    "start_time": "2022-08-31T19:17:19.085Z"
   },
   {
    "duration": 265,
    "start_time": "2022-08-31T19:18:50.063Z"
   },
   {
    "duration": 257,
    "start_time": "2022-08-31T19:19:00.292Z"
   },
   {
    "duration": 495,
    "start_time": "2022-08-31T19:19:58.478Z"
   },
   {
    "duration": 17,
    "start_time": "2022-08-31T19:20:50.132Z"
   },
   {
    "duration": 16,
    "start_time": "2022-08-31T19:21:00.278Z"
   },
   {
    "duration": 18,
    "start_time": "2022-08-31T19:22:09.347Z"
   },
   {
    "duration": 1994,
    "start_time": "2022-08-31T19:23:16.155Z"
   },
   {
    "duration": 941,
    "start_time": "2022-08-31T19:23:29.017Z"
   },
   {
    "duration": 285,
    "start_time": "2022-08-31T19:23:43.084Z"
   },
   {
    "duration": 17,
    "start_time": "2022-08-31T19:25:04.651Z"
   },
   {
    "duration": 17,
    "start_time": "2022-08-31T19:25:09.814Z"
   },
   {
    "duration": 557,
    "start_time": "2022-08-31T19:27:01.176Z"
   },
   {
    "duration": 14373,
    "start_time": "2022-08-31T19:27:14.738Z"
   },
   {
    "duration": 13784,
    "start_time": "2022-08-31T19:28:21.042Z"
   },
   {
    "duration": 12,
    "start_time": "2022-08-31T19:28:42.041Z"
   },
   {
    "duration": 552,
    "start_time": "2022-08-31T19:28:57.585Z"
   },
   {
    "duration": 2111,
    "start_time": "2022-08-31T19:28:58.139Z"
   },
   {
    "duration": 8,
    "start_time": "2022-08-31T19:29:00.253Z"
   },
   {
    "duration": 22,
    "start_time": "2022-08-31T19:29:00.263Z"
   },
   {
    "duration": 21,
    "start_time": "2022-08-31T19:29:00.287Z"
   },
   {
    "duration": 19,
    "start_time": "2022-08-31T19:29:00.310Z"
   },
   {
    "duration": 27,
    "start_time": "2022-08-31T19:29:00.331Z"
   },
   {
    "duration": 29,
    "start_time": "2022-08-31T19:29:00.360Z"
   },
   {
    "duration": 11,
    "start_time": "2022-08-31T19:29:00.391Z"
   },
   {
    "duration": 23,
    "start_time": "2022-08-31T19:29:00.405Z"
   },
   {
    "duration": 19,
    "start_time": "2022-08-31T19:29:00.430Z"
   },
   {
    "duration": 21,
    "start_time": "2022-08-31T19:29:00.451Z"
   },
   {
    "duration": 20,
    "start_time": "2022-08-31T19:29:00.474Z"
   },
   {
    "duration": 48,
    "start_time": "2022-08-31T19:29:00.496Z"
   },
   {
    "duration": 21,
    "start_time": "2022-08-31T19:29:00.546Z"
   },
   {
    "duration": 254,
    "start_time": "2022-08-31T19:29:00.569Z"
   },
   {
    "duration": 5,
    "start_time": "2022-08-31T19:29:00.825Z"
   },
   {
    "duration": 33,
    "start_time": "2022-08-31T19:29:00.832Z"
   },
   {
    "duration": 19,
    "start_time": "2022-08-31T19:29:00.867Z"
   },
   {
    "duration": 26,
    "start_time": "2022-08-31T19:29:00.888Z"
   },
   {
    "duration": 16,
    "start_time": "2022-08-31T19:29:00.915Z"
   },
   {
    "duration": 16,
    "start_time": "2022-08-31T19:29:00.933Z"
   },
   {
    "duration": 15,
    "start_time": "2022-08-31T19:29:00.951Z"
   },
   {
    "duration": 306,
    "start_time": "2022-08-31T19:29:00.969Z"
   },
   {
    "duration": 45,
    "start_time": "2022-08-31T19:29:01.277Z"
   },
   {
    "duration": 326,
    "start_time": "2022-08-31T19:29:01.324Z"
   },
   {
    "duration": 213,
    "start_time": "2022-08-31T19:29:01.652Z"
   },
   {
    "duration": 308,
    "start_time": "2022-08-31T19:29:01.870Z"
   },
   {
    "duration": 273,
    "start_time": "2022-08-31T19:29:02.180Z"
   },
   {
    "duration": 175,
    "start_time": "2022-08-31T19:29:02.454Z"
   },
   {
    "duration": 244,
    "start_time": "2022-08-31T19:29:02.631Z"
   },
   {
    "duration": 203,
    "start_time": "2022-08-31T19:29:02.877Z"
   },
   {
    "duration": 123,
    "start_time": "2022-08-31T19:29:03.082Z"
   },
   {
    "duration": 378,
    "start_time": "2022-08-31T19:29:03.207Z"
   },
   {
    "duration": 243,
    "start_time": "2022-08-31T19:29:03.587Z"
   },
   {
    "duration": 250,
    "start_time": "2022-08-31T19:29:03.832Z"
   },
   {
    "duration": 267,
    "start_time": "2022-08-31T19:29:04.083Z"
   },
   {
    "duration": 167,
    "start_time": "2022-08-31T19:29:04.352Z"
   },
   {
    "duration": 253,
    "start_time": "2022-08-31T19:29:04.521Z"
   },
   {
    "duration": 1760,
    "start_time": "2022-08-31T19:29:04.775Z"
   },
   {
    "duration": 0,
    "start_time": "2022-08-31T19:29:06.537Z"
   },
   {
    "duration": 0,
    "start_time": "2022-08-31T19:29:06.539Z"
   },
   {
    "duration": 0,
    "start_time": "2022-08-31T19:29:06.540Z"
   },
   {
    "duration": 0,
    "start_time": "2022-08-31T19:29:06.542Z"
   },
   {
    "duration": 0,
    "start_time": "2022-08-31T19:29:06.543Z"
   },
   {
    "duration": 0,
    "start_time": "2022-08-31T19:29:06.545Z"
   },
   {
    "duration": 22,
    "start_time": "2022-08-31T19:29:21.702Z"
   },
   {
    "duration": 15,
    "start_time": "2022-08-31T19:29:25.008Z"
   },
   {
    "duration": 5605,
    "start_time": "2022-08-31T19:29:34.031Z"
   },
   {
    "duration": 1074,
    "start_time": "2022-08-31T19:30:14.560Z"
   },
   {
    "duration": 1485,
    "start_time": "2022-08-31T19:31:12.459Z"
   },
   {
    "duration": 199,
    "start_time": "2022-08-31T19:31:25.621Z"
   },
   {
    "duration": 27189,
    "start_time": "2022-08-31T19:31:51.656Z"
   },
   {
    "duration": 20,
    "start_time": "2022-08-31T19:32:26.725Z"
   },
   {
    "duration": 32,
    "start_time": "2022-08-31T19:32:34.456Z"
   },
   {
    "duration": 282,
    "start_time": "2022-08-31T19:32:37.221Z"
   },
   {
    "duration": 43953,
    "start_time": "2022-08-31T19:33:35.343Z"
   },
   {
    "duration": 25361,
    "start_time": "2022-08-31T19:52:27.216Z"
   },
   {
    "duration": 24180,
    "start_time": "2022-08-31T19:52:52.579Z"
   },
   {
    "duration": 18,
    "start_time": "2022-08-31T19:53:54.428Z"
   },
   {
    "duration": 24323,
    "start_time": "2022-08-31T19:55:21.878Z"
   },
   {
    "duration": 166,
    "start_time": "2022-08-31T19:56:42.682Z"
   },
   {
    "duration": 15,
    "start_time": "2022-08-31T19:56:58.449Z"
   },
   {
    "duration": 148,
    "start_time": "2022-08-31T19:57:23.600Z"
   },
   {
    "duration": 140,
    "start_time": "2022-08-31T19:58:05.930Z"
   },
   {
    "duration": 49,
    "start_time": "2022-08-31T19:58:59.416Z"
   },
   {
    "duration": 116,
    "start_time": "2022-08-31T20:00:31.940Z"
   },
   {
    "duration": 142,
    "start_time": "2022-08-31T20:00:35.261Z"
   },
   {
    "duration": 17,
    "start_time": "2022-08-31T20:00:51.220Z"
   },
   {
    "duration": 23,
    "start_time": "2022-08-31T20:01:28.583Z"
   },
   {
    "duration": 16,
    "start_time": "2022-08-31T20:01:35.967Z"
   },
   {
    "duration": 153,
    "start_time": "2022-08-31T20:02:13.700Z"
   },
   {
    "duration": 16,
    "start_time": "2022-08-31T20:02:28.359Z"
   },
   {
    "duration": 153,
    "start_time": "2022-08-31T20:04:18.290Z"
   },
   {
    "duration": 168,
    "start_time": "2022-08-31T20:04:51.104Z"
   },
   {
    "duration": 157,
    "start_time": "2022-08-31T20:05:22.262Z"
   },
   {
    "duration": 166,
    "start_time": "2022-08-31T20:05:28.960Z"
   },
   {
    "duration": 152,
    "start_time": "2022-08-31T20:09:35.256Z"
   },
   {
    "duration": 18,
    "start_time": "2022-08-31T20:09:39.259Z"
   },
   {
    "duration": 808,
    "start_time": "2022-09-01T07:36:19.675Z"
   },
   {
    "duration": 556,
    "start_time": "2022-09-01T07:36:26.894Z"
   },
   {
    "duration": 2202,
    "start_time": "2022-09-01T07:36:27.452Z"
   },
   {
    "duration": 9,
    "start_time": "2022-09-01T07:36:29.656Z"
   },
   {
    "duration": 18,
    "start_time": "2022-09-01T07:36:29.667Z"
   },
   {
    "duration": 9,
    "start_time": "2022-09-01T07:36:29.688Z"
   },
   {
    "duration": 15,
    "start_time": "2022-09-01T07:36:29.699Z"
   },
   {
    "duration": 7,
    "start_time": "2022-09-01T07:36:29.715Z"
   },
   {
    "duration": 29,
    "start_time": "2022-09-01T07:36:29.723Z"
   },
   {
    "duration": 10,
    "start_time": "2022-09-01T07:36:29.753Z"
   },
   {
    "duration": 12,
    "start_time": "2022-09-01T07:36:29.764Z"
   },
   {
    "duration": 9,
    "start_time": "2022-09-01T07:36:29.777Z"
   },
   {
    "duration": 31,
    "start_time": "2022-09-01T07:36:29.788Z"
   },
   {
    "duration": 14,
    "start_time": "2022-09-01T07:36:29.820Z"
   },
   {
    "duration": 28,
    "start_time": "2022-09-01T07:36:29.836Z"
   },
   {
    "duration": 7,
    "start_time": "2022-09-01T07:36:29.865Z"
   },
   {
    "duration": 243,
    "start_time": "2022-09-01T07:36:29.874Z"
   },
   {
    "duration": 6,
    "start_time": "2022-09-01T07:36:30.118Z"
   },
   {
    "duration": 14,
    "start_time": "2022-09-01T07:36:30.126Z"
   },
   {
    "duration": 8,
    "start_time": "2022-09-01T07:36:30.141Z"
   },
   {
    "duration": 31,
    "start_time": "2022-09-01T07:36:30.151Z"
   },
   {
    "duration": 28,
    "start_time": "2022-09-01T07:36:30.184Z"
   },
   {
    "duration": 14,
    "start_time": "2022-09-01T07:36:30.213Z"
   },
   {
    "duration": 44,
    "start_time": "2022-09-01T07:36:30.228Z"
   },
   {
    "duration": 304,
    "start_time": "2022-09-01T07:36:30.273Z"
   },
   {
    "duration": 49,
    "start_time": "2022-09-01T07:36:30.579Z"
   },
   {
    "duration": 179,
    "start_time": "2022-09-01T07:36:30.630Z"
   },
   {
    "duration": 182,
    "start_time": "2022-09-01T07:36:30.811Z"
   },
   {
    "duration": 256,
    "start_time": "2022-09-01T07:36:30.994Z"
   },
   {
    "duration": 247,
    "start_time": "2022-09-01T07:36:31.252Z"
   },
   {
    "duration": 158,
    "start_time": "2022-09-01T07:36:31.501Z"
   },
   {
    "duration": 238,
    "start_time": "2022-09-01T07:36:31.661Z"
   },
   {
    "duration": 171,
    "start_time": "2022-09-01T07:36:31.901Z"
   },
   {
    "duration": 207,
    "start_time": "2022-09-01T07:36:32.073Z"
   },
   {
    "duration": 236,
    "start_time": "2022-09-01T07:36:32.282Z"
   },
   {
    "duration": 231,
    "start_time": "2022-09-01T07:36:32.520Z"
   },
   {
    "duration": 211,
    "start_time": "2022-09-01T07:36:32.752Z"
   },
   {
    "duration": 248,
    "start_time": "2022-09-01T07:36:32.964Z"
   },
   {
    "duration": 162,
    "start_time": "2022-09-01T07:36:33.213Z"
   },
   {
    "duration": 315,
    "start_time": "2022-09-01T07:36:33.377Z"
   },
   {
    "duration": 27,
    "start_time": "2022-09-01T07:36:33.694Z"
   },
   {
    "duration": 147,
    "start_time": "2022-09-01T07:36:33.725Z"
   },
   {
    "duration": 19,
    "start_time": "2022-09-01T07:36:33.873Z"
   },
   {
    "duration": 157,
    "start_time": "2022-09-01T07:36:33.894Z"
   },
   {
    "duration": 21,
    "start_time": "2022-09-01T07:36:34.053Z"
   },
   {
    "duration": 287,
    "start_time": "2022-09-01T07:36:34.076Z"
   },
   {
    "duration": 16,
    "start_time": "2022-09-01T07:49:11.655Z"
   },
   {
    "duration": 145,
    "start_time": "2022-09-01T07:49:40.313Z"
   },
   {
    "duration": 156,
    "start_time": "2022-09-01T07:50:11.523Z"
   },
   {
    "duration": 13,
    "start_time": "2022-09-01T08:00:34.971Z"
   },
   {
    "duration": 122,
    "start_time": "2022-09-01T08:00:58.758Z"
   },
   {
    "duration": 2043,
    "start_time": "2022-09-01T08:03:26.281Z"
   },
   {
    "duration": 1251,
    "start_time": "2022-09-01T08:04:22.177Z"
   },
   {
    "duration": 2089,
    "start_time": "2022-09-01T08:04:53.535Z"
   },
   {
    "duration": 18,
    "start_time": "2022-09-01T08:05:50.489Z"
   },
   {
    "duration": 2573,
    "start_time": "2022-09-01T08:10:16.062Z"
   },
   {
    "duration": 21,
    "start_time": "2022-09-01T08:10:38.964Z"
   },
   {
    "duration": 17,
    "start_time": "2022-09-01T08:11:11.225Z"
   },
   {
    "duration": 138,
    "start_time": "2022-09-01T08:12:38.127Z"
   },
   {
    "duration": 128,
    "start_time": "2022-09-01T08:13:55.426Z"
   },
   {
    "duration": 1804,
    "start_time": "2022-09-01T08:16:01.382Z"
   },
   {
    "duration": 74,
    "start_time": "2022-09-01T08:17:09.412Z"
   },
   {
    "duration": 21,
    "start_time": "2022-09-01T08:17:14.238Z"
   },
   {
    "duration": 84,
    "start_time": "2022-09-01T08:17:25.204Z"
   },
   {
    "duration": 136,
    "start_time": "2022-09-01T08:17:29.555Z"
   },
   {
    "duration": 133,
    "start_time": "2022-09-01T08:17:58.150Z"
   },
   {
    "duration": 131,
    "start_time": "2022-09-01T08:19:49.684Z"
   },
   {
    "duration": 115,
    "start_time": "2022-09-01T08:20:12.803Z"
   },
   {
    "duration": 136,
    "start_time": "2022-09-01T08:20:17.704Z"
   },
   {
    "duration": 122,
    "start_time": "2022-09-01T08:23:25.154Z"
   },
   {
    "duration": 129,
    "start_time": "2022-09-01T08:23:46.210Z"
   },
   {
    "duration": 132,
    "start_time": "2022-09-01T08:24:12.722Z"
   },
   {
    "duration": 147,
    "start_time": "2022-09-01T08:24:57.467Z"
   },
   {
    "duration": 128,
    "start_time": "2022-09-01T08:29:11.897Z"
   },
   {
    "duration": 134,
    "start_time": "2022-09-01T08:29:32.911Z"
   },
   {
    "duration": 117,
    "start_time": "2022-09-01T08:29:47.094Z"
   },
   {
    "duration": 13,
    "start_time": "2022-09-01T08:40:25.293Z"
   },
   {
    "duration": 136,
    "start_time": "2022-09-01T08:41:56.166Z"
   },
   {
    "duration": 15,
    "start_time": "2022-09-01T08:42:38.298Z"
   },
   {
    "duration": 35,
    "start_time": "2022-09-01T08:43:43.322Z"
   },
   {
    "duration": 352,
    "start_time": "2022-09-01T08:47:44.857Z"
   },
   {
    "duration": 462,
    "start_time": "2022-09-01T08:48:07.274Z"
   },
   {
    "duration": 423,
    "start_time": "2022-09-01T08:58:26.793Z"
   },
   {
    "duration": 8,
    "start_time": "2022-09-01T09:19:21.209Z"
   },
   {
    "duration": 7,
    "start_time": "2022-09-01T09:19:30.570Z"
   },
   {
    "duration": 18,
    "start_time": "2022-09-01T09:21:24.936Z"
   },
   {
    "duration": 6,
    "start_time": "2022-09-01T09:24:46.639Z"
   },
   {
    "duration": 7,
    "start_time": "2022-09-01T09:24:54.602Z"
   },
   {
    "duration": 8,
    "start_time": "2022-09-01T09:26:51.218Z"
   },
   {
    "duration": 11,
    "start_time": "2022-09-01T09:28:06.999Z"
   },
   {
    "duration": 36,
    "start_time": "2022-09-01T09:40:30.969Z"
   },
   {
    "duration": 16,
    "start_time": "2022-09-01T09:50:30.999Z"
   },
   {
    "duration": 37,
    "start_time": "2022-09-01T09:50:48.482Z"
   },
   {
    "duration": 32,
    "start_time": "2022-09-01T09:53:14.251Z"
   },
   {
    "duration": 20,
    "start_time": "2022-09-01T09:57:29.313Z"
   },
   {
    "duration": 21,
    "start_time": "2022-09-01T10:01:13.571Z"
   },
   {
    "duration": 144,
    "start_time": "2022-09-01T10:11:33.371Z"
   },
   {
    "duration": 166,
    "start_time": "2022-09-01T10:12:05.771Z"
   },
   {
    "duration": 178,
    "start_time": "2022-09-01T10:12:17.386Z"
   },
   {
    "duration": 178,
    "start_time": "2022-09-01T10:18:42.575Z"
   },
   {
    "duration": 16,
    "start_time": "2022-09-01T10:19:22.514Z"
   },
   {
    "duration": 33,
    "start_time": "2022-09-01T10:23:24.108Z"
   },
   {
    "duration": 36,
    "start_time": "2022-09-01T10:23:47.534Z"
   },
   {
    "duration": 44,
    "start_time": "2022-09-01T10:23:58.865Z"
   },
   {
    "duration": 16,
    "start_time": "2022-09-01T10:24:51.618Z"
   },
   {
    "duration": 18,
    "start_time": "2022-09-01T10:25:21.456Z"
   },
   {
    "duration": 17,
    "start_time": "2022-09-01T10:25:26.357Z"
   },
   {
    "duration": 17,
    "start_time": "2022-09-01T10:25:35.326Z"
   },
   {
    "duration": 12,
    "start_time": "2022-09-01T10:25:47.017Z"
   },
   {
    "duration": 16,
    "start_time": "2022-09-01T10:25:58.182Z"
   },
   {
    "duration": 12,
    "start_time": "2022-09-01T10:27:43.012Z"
   },
   {
    "duration": 17,
    "start_time": "2022-09-01T10:27:52.063Z"
   },
   {
    "duration": 12,
    "start_time": "2022-09-01T10:29:35.695Z"
   },
   {
    "duration": 16,
    "start_time": "2022-09-01T10:29:38.371Z"
   },
   {
    "duration": 15,
    "start_time": "2022-09-01T10:29:57.897Z"
   },
   {
    "duration": 17,
    "start_time": "2022-09-01T10:37:20.583Z"
   },
   {
    "duration": 11,
    "start_time": "2022-09-01T10:37:31.033Z"
   },
   {
    "duration": 973,
    "start_time": "2022-09-01T10:38:33.573Z"
   },
   {
    "duration": 162,
    "start_time": "2022-09-01T10:39:10.953Z"
   },
   {
    "duration": 5777,
    "start_time": "2022-09-01T10:39:21.911Z"
   },
   {
    "duration": 5900,
    "start_time": "2022-09-01T10:41:56.758Z"
   },
   {
    "duration": 193,
    "start_time": "2022-09-01T10:43:20.760Z"
   },
   {
    "duration": 5,
    "start_time": "2022-09-01T10:46:15.238Z"
   },
   {
    "duration": 6,
    "start_time": "2022-09-01T10:46:28.650Z"
   },
   {
    "duration": 4,
    "start_time": "2022-09-01T10:48:01.278Z"
   },
   {
    "duration": 4,
    "start_time": "2022-09-01T10:48:09.578Z"
   },
   {
    "duration": 430,
    "start_time": "2022-09-01T10:48:47.510Z"
   },
   {
    "duration": 472,
    "start_time": "2022-09-01T10:48:56.312Z"
   },
   {
    "duration": 608,
    "start_time": "2022-09-01T10:49:05.113Z"
   },
   {
    "duration": 475,
    "start_time": "2022-09-01T10:49:19.082Z"
   },
   {
    "duration": 64,
    "start_time": "2022-09-01T10:49:30.856Z"
   },
   {
    "duration": 130,
    "start_time": "2022-09-01T10:49:37.156Z"
   },
   {
    "duration": 52,
    "start_time": "2022-09-01T10:49:47.439Z"
   },
   {
    "duration": 95,
    "start_time": "2022-09-01T10:49:55.959Z"
   },
   {
    "duration": 34,
    "start_time": "2022-09-01T10:49:56.073Z"
   },
   {
    "duration": 195,
    "start_time": "2022-09-01T10:59:11.549Z"
   },
   {
    "duration": 30,
    "start_time": "2022-09-01T11:03:39.077Z"
   },
   {
    "duration": 30,
    "start_time": "2022-09-01T11:03:50.517Z"
   },
   {
    "duration": 42,
    "start_time": "2022-09-01T11:04:27.389Z"
   },
   {
    "duration": 32,
    "start_time": "2022-09-01T11:04:48.646Z"
   },
   {
    "duration": 33,
    "start_time": "2022-09-01T11:05:08.976Z"
   },
   {
    "duration": 23,
    "start_time": "2022-09-01T11:05:41.678Z"
   },
   {
    "duration": 29,
    "start_time": "2022-09-01T11:07:10.487Z"
   },
   {
    "duration": 38,
    "start_time": "2022-09-01T11:07:27.609Z"
   },
   {
    "duration": 570,
    "start_time": "2022-09-01T11:07:56.825Z"
   },
   {
    "duration": 2175,
    "start_time": "2022-09-01T11:07:57.399Z"
   },
   {
    "duration": 9,
    "start_time": "2022-09-01T11:07:59.576Z"
   },
   {
    "duration": 14,
    "start_time": "2022-09-01T11:07:59.586Z"
   },
   {
    "duration": 9,
    "start_time": "2022-09-01T11:07:59.601Z"
   },
   {
    "duration": 11,
    "start_time": "2022-09-01T11:07:59.611Z"
   },
   {
    "duration": 7,
    "start_time": "2022-09-01T11:07:59.624Z"
   },
   {
    "duration": 42,
    "start_time": "2022-09-01T11:07:59.633Z"
   },
   {
    "duration": 16,
    "start_time": "2022-09-01T11:07:59.677Z"
   },
   {
    "duration": 19,
    "start_time": "2022-09-01T11:07:59.696Z"
   },
   {
    "duration": 10,
    "start_time": "2022-09-01T11:07:59.717Z"
   },
   {
    "duration": 21,
    "start_time": "2022-09-01T11:07:59.729Z"
   },
   {
    "duration": 13,
    "start_time": "2022-09-01T11:07:59.752Z"
   },
   {
    "duration": 49,
    "start_time": "2022-09-01T11:07:59.767Z"
   },
   {
    "duration": 8,
    "start_time": "2022-09-01T11:07:59.818Z"
   },
   {
    "duration": 233,
    "start_time": "2022-09-01T11:07:59.828Z"
   },
   {
    "duration": 6,
    "start_time": "2022-09-01T11:08:00.063Z"
   },
   {
    "duration": 28,
    "start_time": "2022-09-01T11:08:00.071Z"
   },
   {
    "duration": 15,
    "start_time": "2022-09-01T11:08:00.100Z"
   },
   {
    "duration": 35,
    "start_time": "2022-09-01T11:08:00.117Z"
   },
   {
    "duration": 20,
    "start_time": "2022-09-01T11:08:00.154Z"
   },
   {
    "duration": 34,
    "start_time": "2022-09-01T11:08:00.175Z"
   },
   {
    "duration": 14,
    "start_time": "2022-09-01T11:08:00.211Z"
   },
   {
    "duration": 271,
    "start_time": "2022-09-01T11:08:00.227Z"
   },
   {
    "duration": 47,
    "start_time": "2022-09-01T11:08:00.500Z"
   },
   {
    "duration": 258,
    "start_time": "2022-09-01T11:08:00.549Z"
   },
   {
    "duration": 202,
    "start_time": "2022-09-01T11:08:00.809Z"
   },
   {
    "duration": 286,
    "start_time": "2022-09-01T11:08:01.015Z"
   },
   {
    "duration": 281,
    "start_time": "2022-09-01T11:08:01.303Z"
   },
   {
    "duration": 177,
    "start_time": "2022-09-01T11:08:01.585Z"
   },
   {
    "duration": 249,
    "start_time": "2022-09-01T11:08:01.764Z"
   },
   {
    "duration": 210,
    "start_time": "2022-09-01T11:08:02.015Z"
   },
   {
    "duration": 129,
    "start_time": "2022-09-01T11:08:02.226Z"
   },
   {
    "duration": 340,
    "start_time": "2022-09-01T11:08:02.357Z"
   },
   {
    "duration": 256,
    "start_time": "2022-09-01T11:08:02.699Z"
   },
   {
    "duration": 228,
    "start_time": "2022-09-01T11:08:02.957Z"
   },
   {
    "duration": 273,
    "start_time": "2022-09-01T11:08:03.187Z"
   },
   {
    "duration": 168,
    "start_time": "2022-09-01T11:08:03.462Z"
   },
   {
    "duration": 267,
    "start_time": "2022-09-01T11:08:03.631Z"
   },
   {
    "duration": 24,
    "start_time": "2022-09-01T11:08:03.899Z"
   },
   {
    "duration": 244,
    "start_time": "2022-09-01T11:08:03.925Z"
   },
   {
    "duration": 20,
    "start_time": "2022-09-01T11:08:04.170Z"
   },
   {
    "duration": 149,
    "start_time": "2022-09-01T11:08:04.191Z"
   },
   {
    "duration": 15,
    "start_time": "2022-09-01T11:08:04.341Z"
   },
   {
    "duration": 154,
    "start_time": "2022-09-01T11:08:04.357Z"
   },
   {
    "duration": 12,
    "start_time": "2022-09-01T11:08:04.513Z"
   },
   {
    "duration": 128,
    "start_time": "2022-09-01T11:08:04.526Z"
   },
   {
    "duration": 12,
    "start_time": "2022-09-01T11:08:04.656Z"
   },
   {
    "duration": 130,
    "start_time": "2022-09-01T11:08:04.669Z"
   },
   {
    "duration": 34,
    "start_time": "2022-09-01T11:08:04.801Z"
   },
   {
    "duration": 414,
    "start_time": "2022-09-01T11:08:04.837Z"
   },
   {
    "duration": 219,
    "start_time": "2022-09-01T11:08:05.253Z"
   },
   {
    "duration": 110,
    "start_time": "2022-09-01T11:08:05.474Z"
   },
   {
    "duration": 0,
    "start_time": "2022-09-01T11:08:05.586Z"
   },
   {
    "duration": 0,
    "start_time": "2022-09-01T11:08:05.588Z"
   },
   {
    "duration": 9,
    "start_time": "2022-09-01T11:08:49.626Z"
   },
   {
    "duration": 39,
    "start_time": "2022-09-01T11:08:57.778Z"
   },
   {
    "duration": 38,
    "start_time": "2022-09-01T11:09:37.971Z"
   },
   {
    "duration": 39,
    "start_time": "2022-09-01T11:10:08.994Z"
   },
   {
    "duration": 14,
    "start_time": "2022-09-01T11:10:33.155Z"
   },
   {
    "duration": 41,
    "start_time": "2022-09-01T11:10:40.372Z"
   },
   {
    "duration": 16,
    "start_time": "2022-09-01T11:11:03.419Z"
   },
   {
    "duration": 36,
    "start_time": "2022-09-01T11:11:15.167Z"
   },
   {
    "duration": 41,
    "start_time": "2022-09-01T11:12:08.944Z"
   },
   {
    "duration": 23,
    "start_time": "2022-09-01T11:12:35.157Z"
   },
   {
    "duration": 537,
    "start_time": "2022-09-01T11:12:59.576Z"
   },
   {
    "duration": 2143,
    "start_time": "2022-09-01T11:13:00.115Z"
   },
   {
    "duration": 8,
    "start_time": "2022-09-01T11:13:02.260Z"
   },
   {
    "duration": 14,
    "start_time": "2022-09-01T11:13:02.270Z"
   },
   {
    "duration": 7,
    "start_time": "2022-09-01T11:13:02.286Z"
   },
   {
    "duration": 21,
    "start_time": "2022-09-01T11:13:02.295Z"
   },
   {
    "duration": 8,
    "start_time": "2022-09-01T11:13:02.318Z"
   },
   {
    "duration": 29,
    "start_time": "2022-09-01T11:13:02.327Z"
   },
   {
    "duration": 12,
    "start_time": "2022-09-01T11:13:02.357Z"
   },
   {
    "duration": 15,
    "start_time": "2022-09-01T11:13:02.371Z"
   },
   {
    "duration": 28,
    "start_time": "2022-09-01T11:13:02.387Z"
   },
   {
    "duration": 16,
    "start_time": "2022-09-01T11:13:02.417Z"
   },
   {
    "duration": 16,
    "start_time": "2022-09-01T11:13:02.435Z"
   },
   {
    "duration": 29,
    "start_time": "2022-09-01T11:13:02.453Z"
   },
   {
    "duration": 27,
    "start_time": "2022-09-01T11:13:02.484Z"
   },
   {
    "duration": 227,
    "start_time": "2022-09-01T11:13:02.512Z"
   },
   {
    "duration": 6,
    "start_time": "2022-09-01T11:13:02.741Z"
   },
   {
    "duration": 14,
    "start_time": "2022-09-01T11:13:02.748Z"
   },
   {
    "duration": 8,
    "start_time": "2022-09-01T11:13:02.763Z"
   },
   {
    "duration": 26,
    "start_time": "2022-09-01T11:13:02.772Z"
   },
   {
    "duration": 17,
    "start_time": "2022-09-01T11:13:02.810Z"
   },
   {
    "duration": 14,
    "start_time": "2022-09-01T11:13:02.829Z"
   },
   {
    "duration": 13,
    "start_time": "2022-09-01T11:13:02.844Z"
   },
   {
    "duration": 267,
    "start_time": "2022-09-01T11:13:02.858Z"
   },
   {
    "duration": 42,
    "start_time": "2022-09-01T11:13:03.126Z"
   },
   {
    "duration": 256,
    "start_time": "2022-09-01T11:13:03.170Z"
   },
   {
    "duration": 188,
    "start_time": "2022-09-01T11:13:03.428Z"
   },
   {
    "duration": 259,
    "start_time": "2022-09-01T11:13:03.619Z"
   },
   {
    "duration": 261,
    "start_time": "2022-09-01T11:13:03.879Z"
   },
   {
    "duration": 157,
    "start_time": "2022-09-01T11:13:04.142Z"
   },
   {
    "duration": 239,
    "start_time": "2022-09-01T11:13:04.300Z"
   },
   {
    "duration": 191,
    "start_time": "2022-09-01T11:13:04.540Z"
   },
   {
    "duration": 143,
    "start_time": "2022-09-01T11:13:04.733Z"
   },
   {
    "duration": 370,
    "start_time": "2022-09-01T11:13:04.878Z"
   },
   {
    "duration": 243,
    "start_time": "2022-09-01T11:13:05.249Z"
   },
   {
    "duration": 226,
    "start_time": "2022-09-01T11:13:05.494Z"
   },
   {
    "duration": 288,
    "start_time": "2022-09-01T11:13:05.722Z"
   },
   {
    "duration": 182,
    "start_time": "2022-09-01T11:13:06.012Z"
   },
   {
    "duration": 234,
    "start_time": "2022-09-01T11:13:06.196Z"
   },
   {
    "duration": 20,
    "start_time": "2022-09-01T11:13:06.431Z"
   },
   {
    "duration": 250,
    "start_time": "2022-09-01T11:13:06.453Z"
   },
   {
    "duration": 19,
    "start_time": "2022-09-01T11:13:06.708Z"
   },
   {
    "duration": 154,
    "start_time": "2022-09-01T11:13:06.729Z"
   },
   {
    "duration": 24,
    "start_time": "2022-09-01T11:13:06.885Z"
   },
   {
    "duration": 146,
    "start_time": "2022-09-01T11:13:06.911Z"
   },
   {
    "duration": 13,
    "start_time": "2022-09-01T11:13:07.058Z"
   },
   {
    "duration": 138,
    "start_time": "2022-09-01T11:13:07.073Z"
   },
   {
    "duration": 15,
    "start_time": "2022-09-01T11:13:07.213Z"
   },
   {
    "duration": 131,
    "start_time": "2022-09-01T11:13:07.229Z"
   },
   {
    "duration": 49,
    "start_time": "2022-09-01T11:13:07.362Z"
   },
   {
    "duration": 470,
    "start_time": "2022-09-01T11:13:07.413Z"
   },
   {
    "duration": 198,
    "start_time": "2022-09-01T11:13:07.885Z"
   },
   {
    "duration": 83,
    "start_time": "2022-09-01T11:13:08.085Z"
   },
   {
    "duration": 0,
    "start_time": "2022-09-01T11:13:08.170Z"
   },
   {
    "duration": 0,
    "start_time": "2022-09-01T11:13:08.171Z"
   },
   {
    "duration": 22,
    "start_time": "2022-09-01T11:13:31.602Z"
   },
   {
    "duration": 43,
    "start_time": "2022-09-01T11:18:25.011Z"
   },
   {
    "duration": 32,
    "start_time": "2022-09-01T11:18:47.218Z"
   },
   {
    "duration": 57,
    "start_time": "2022-09-01T11:23:07.170Z"
   },
   {
    "duration": 48,
    "start_time": "2022-09-01T11:25:00.777Z"
   },
   {
    "duration": 44,
    "start_time": "2022-09-01T11:25:18.894Z"
   },
   {
    "duration": 44,
    "start_time": "2022-09-01T11:25:46.765Z"
   },
   {
    "duration": 43,
    "start_time": "2022-09-01T11:25:56.775Z"
   },
   {
    "duration": 16,
    "start_time": "2022-09-01T11:40:38.756Z"
   },
   {
    "duration": 22,
    "start_time": "2022-09-01T11:41:00.393Z"
   },
   {
    "duration": 19,
    "start_time": "2022-09-01T11:41:49.315Z"
   },
   {
    "duration": 20,
    "start_time": "2022-09-01T11:41:54.535Z"
   },
   {
    "duration": 29,
    "start_time": "2022-09-01T11:42:07.142Z"
   },
   {
    "duration": 46,
    "start_time": "2022-09-01T11:42:33.099Z"
   },
   {
    "duration": 24,
    "start_time": "2022-09-01T11:42:58.663Z"
   },
   {
    "duration": 25,
    "start_time": "2022-09-01T11:43:02.291Z"
   },
   {
    "duration": 47,
    "start_time": "2022-09-01T16:28:21.350Z"
   },
   {
    "duration": 9,
    "start_time": "2022-09-01T16:28:43.255Z"
   },
   {
    "duration": 831,
    "start_time": "2022-09-01T16:28:53.380Z"
   },
   {
    "duration": 2445,
    "start_time": "2022-09-01T16:28:54.213Z"
   },
   {
    "duration": 11,
    "start_time": "2022-09-01T16:28:56.661Z"
   },
   {
    "duration": 18,
    "start_time": "2022-09-01T16:28:56.674Z"
   },
   {
    "duration": 11,
    "start_time": "2022-09-01T16:28:56.695Z"
   },
   {
    "duration": 12,
    "start_time": "2022-09-01T16:28:56.708Z"
   },
   {
    "duration": 7,
    "start_time": "2022-09-01T16:28:56.722Z"
   },
   {
    "duration": 20,
    "start_time": "2022-09-01T16:28:56.730Z"
   },
   {
    "duration": 10,
    "start_time": "2022-09-01T16:28:56.751Z"
   },
   {
    "duration": 16,
    "start_time": "2022-09-01T16:28:56.788Z"
   },
   {
    "duration": 18,
    "start_time": "2022-09-01T16:28:56.806Z"
   },
   {
    "duration": 23,
    "start_time": "2022-09-01T16:28:56.826Z"
   },
   {
    "duration": 43,
    "start_time": "2022-09-01T16:28:56.851Z"
   },
   {
    "duration": 34,
    "start_time": "2022-09-01T16:28:56.895Z"
   },
   {
    "duration": 4,
    "start_time": "2022-09-01T16:28:56.931Z"
   },
   {
    "duration": 247,
    "start_time": "2022-09-01T16:28:56.937Z"
   },
   {
    "duration": 8,
    "start_time": "2022-09-01T16:28:57.186Z"
   },
   {
    "duration": 17,
    "start_time": "2022-09-01T16:28:57.198Z"
   },
   {
    "duration": 9,
    "start_time": "2022-09-01T16:28:57.217Z"
   },
   {
    "duration": 15,
    "start_time": "2022-09-01T16:28:57.229Z"
   },
   {
    "duration": 16,
    "start_time": "2022-09-01T16:28:57.245Z"
   },
   {
    "duration": 23,
    "start_time": "2022-09-01T16:28:57.287Z"
   },
   {
    "duration": 13,
    "start_time": "2022-09-01T16:28:57.312Z"
   },
   {
    "duration": 352,
    "start_time": "2022-09-01T16:28:57.327Z"
   },
   {
    "duration": 47,
    "start_time": "2022-09-01T16:28:57.681Z"
   },
   {
    "duration": 196,
    "start_time": "2022-09-01T16:28:57.730Z"
   },
   {
    "duration": 209,
    "start_time": "2022-09-01T16:28:57.928Z"
   },
   {
    "duration": 292,
    "start_time": "2022-09-01T16:28:58.140Z"
   },
   {
    "duration": 278,
    "start_time": "2022-09-01T16:28:58.434Z"
   },
   {
    "duration": 183,
    "start_time": "2022-09-01T16:28:58.714Z"
   },
   {
    "duration": 275,
    "start_time": "2022-09-01T16:28:58.899Z"
   },
   {
    "duration": 196,
    "start_time": "2022-09-01T16:28:59.176Z"
   },
   {
    "duration": 228,
    "start_time": "2022-09-01T16:28:59.374Z"
   },
   {
    "duration": 267,
    "start_time": "2022-09-01T16:28:59.603Z"
   },
   {
    "duration": 309,
    "start_time": "2022-09-01T16:28:59.872Z"
   },
   {
    "duration": 363,
    "start_time": "2022-09-01T16:29:00.183Z"
   },
   {
    "duration": 324,
    "start_time": "2022-09-01T16:29:00.548Z"
   },
   {
    "duration": 187,
    "start_time": "2022-09-01T16:29:00.874Z"
   },
   {
    "duration": 394,
    "start_time": "2022-09-01T16:29:01.062Z"
   },
   {
    "duration": 41,
    "start_time": "2022-09-01T16:29:01.458Z"
   },
   {
    "duration": 189,
    "start_time": "2022-09-01T16:29:01.503Z"
   },
   {
    "duration": 20,
    "start_time": "2022-09-01T16:29:01.697Z"
   },
   {
    "duration": 189,
    "start_time": "2022-09-01T16:29:01.719Z"
   },
   {
    "duration": 16,
    "start_time": "2022-09-01T16:29:01.910Z"
   },
   {
    "duration": 183,
    "start_time": "2022-09-01T16:29:01.928Z"
   },
   {
    "duration": 14,
    "start_time": "2022-09-01T16:29:02.113Z"
   },
   {
    "duration": 197,
    "start_time": "2022-09-01T16:29:02.129Z"
   },
   {
    "duration": 18,
    "start_time": "2022-09-01T16:29:02.328Z"
   },
   {
    "duration": 174,
    "start_time": "2022-09-01T16:29:02.348Z"
   },
   {
    "duration": 42,
    "start_time": "2022-09-01T16:29:02.524Z"
   },
   {
    "duration": 466,
    "start_time": "2022-09-01T16:29:02.567Z"
   },
   {
    "duration": 227,
    "start_time": "2022-09-01T16:29:03.035Z"
   },
   {
    "duration": 54,
    "start_time": "2022-09-01T16:29:03.264Z"
   },
   {
    "duration": 108,
    "start_time": "2022-09-01T16:29:03.320Z"
   },
   {
    "duration": 0,
    "start_time": "2022-09-01T16:29:03.430Z"
   },
   {
    "duration": 0,
    "start_time": "2022-09-01T16:29:03.431Z"
   },
   {
    "duration": 25,
    "start_time": "2022-09-01T16:29:38.908Z"
   },
   {
    "duration": 32,
    "start_time": "2022-09-01T16:29:56.902Z"
   },
   {
    "duration": 307,
    "start_time": "2022-09-01T16:58:25.046Z"
   },
   {
    "duration": 370,
    "start_time": "2022-09-01T16:59:05.194Z"
   },
   {
    "duration": 569,
    "start_time": "2022-09-01T17:50:21.398Z"
   },
   {
    "duration": 2353,
    "start_time": "2022-09-01T17:50:21.968Z"
   },
   {
    "duration": 11,
    "start_time": "2022-09-01T17:50:24.323Z"
   },
   {
    "duration": 11,
    "start_time": "2022-09-01T17:50:24.335Z"
   },
   {
    "duration": 9,
    "start_time": "2022-09-01T17:50:24.348Z"
   },
   {
    "duration": 10,
    "start_time": "2022-09-01T17:50:24.359Z"
   },
   {
    "duration": 7,
    "start_time": "2022-09-01T17:50:24.371Z"
   },
   {
    "duration": 25,
    "start_time": "2022-09-01T17:50:24.388Z"
   },
   {
    "duration": 28,
    "start_time": "2022-09-01T17:50:24.414Z"
   },
   {
    "duration": 13,
    "start_time": "2022-09-01T17:50:24.443Z"
   },
   {
    "duration": 13,
    "start_time": "2022-09-01T17:50:24.458Z"
   },
   {
    "duration": 46,
    "start_time": "2022-09-01T17:50:24.473Z"
   },
   {
    "duration": 17,
    "start_time": "2022-09-01T17:50:24.520Z"
   },
   {
    "duration": 28,
    "start_time": "2022-09-01T17:50:24.540Z"
   },
   {
    "duration": 9,
    "start_time": "2022-09-01T17:50:24.570Z"
   },
   {
    "duration": 272,
    "start_time": "2022-09-01T17:50:24.580Z"
   },
   {
    "duration": 6,
    "start_time": "2022-09-01T17:50:24.853Z"
   },
   {
    "duration": 12,
    "start_time": "2022-09-01T17:50:24.861Z"
   },
   {
    "duration": 15,
    "start_time": "2022-09-01T17:50:24.874Z"
   },
   {
    "duration": 31,
    "start_time": "2022-09-01T17:50:24.895Z"
   },
   {
    "duration": 18,
    "start_time": "2022-09-01T17:50:24.928Z"
   },
   {
    "duration": 13,
    "start_time": "2022-09-01T17:50:24.948Z"
   },
   {
    "duration": 12,
    "start_time": "2022-09-01T17:50:24.962Z"
   },
   {
    "duration": 308,
    "start_time": "2022-09-01T17:50:24.975Z"
   },
   {
    "duration": 54,
    "start_time": "2022-09-01T17:50:25.285Z"
   },
   {
    "duration": 268,
    "start_time": "2022-09-01T17:50:25.341Z"
   },
   {
    "duration": 215,
    "start_time": "2022-09-01T17:50:25.616Z"
   },
   {
    "duration": 327,
    "start_time": "2022-09-01T17:50:25.833Z"
   },
   {
    "duration": 346,
    "start_time": "2022-09-01T17:50:26.161Z"
   },
   {
    "duration": 202,
    "start_time": "2022-09-01T17:50:26.510Z"
   },
   {
    "duration": 279,
    "start_time": "2022-09-01T17:50:26.714Z"
   },
   {
    "duration": 216,
    "start_time": "2022-09-01T17:50:26.996Z"
   },
   {
    "duration": 131,
    "start_time": "2022-09-01T17:50:27.214Z"
   },
   {
    "duration": 422,
    "start_time": "2022-09-01T17:50:27.347Z"
   },
   {
    "duration": 294,
    "start_time": "2022-09-01T17:50:27.770Z"
   },
   {
    "duration": 267,
    "start_time": "2022-09-01T17:50:28.066Z"
   },
   {
    "duration": 293,
    "start_time": "2022-09-01T17:50:28.335Z"
   },
   {
    "duration": 195,
    "start_time": "2022-09-01T17:50:28.630Z"
   },
   {
    "duration": 278,
    "start_time": "2022-09-01T17:50:28.827Z"
   },
   {
    "duration": 29,
    "start_time": "2022-09-01T17:50:29.107Z"
   },
   {
    "duration": 256,
    "start_time": "2022-09-01T17:50:29.140Z"
   },
   {
    "duration": 25,
    "start_time": "2022-09-01T17:50:29.403Z"
   },
   {
    "duration": 150,
    "start_time": "2022-09-01T17:50:29.430Z"
   },
   {
    "duration": 16,
    "start_time": "2022-09-01T17:50:29.588Z"
   },
   {
    "duration": 178,
    "start_time": "2022-09-01T17:50:29.605Z"
   },
   {
    "duration": 33,
    "start_time": "2022-09-01T17:50:29.784Z"
   },
   {
    "duration": 148,
    "start_time": "2022-09-01T17:50:29.820Z"
   },
   {
    "duration": 43,
    "start_time": "2022-09-01T17:50:29.970Z"
   },
   {
    "duration": 144,
    "start_time": "2022-09-01T17:50:30.015Z"
   },
   {
    "duration": 54,
    "start_time": "2022-09-01T17:50:30.161Z"
   },
   {
    "duration": 436,
    "start_time": "2022-09-01T17:50:30.216Z"
   },
   {
    "duration": 225,
    "start_time": "2022-09-01T17:50:30.653Z"
   },
   {
    "duration": 59,
    "start_time": "2022-09-01T17:50:30.879Z"
   },
   {
    "duration": 57,
    "start_time": "2022-09-01T17:50:30.939Z"
   },
   {
    "duration": 60,
    "start_time": "2022-09-01T17:50:30.999Z"
   },
   {
    "duration": 308,
    "start_time": "2022-09-01T17:50:31.061Z"
   },
   {
    "duration": 368,
    "start_time": "2022-09-01T18:34:18.244Z"
   },
   {
    "duration": 309,
    "start_time": "2022-09-01T18:34:36.448Z"
   },
   {
    "duration": 255,
    "start_time": "2022-09-01T18:35:32.473Z"
   },
   {
    "duration": 357,
    "start_time": "2022-09-01T18:36:00.322Z"
   },
   {
    "duration": 869,
    "start_time": "2022-09-01T20:23:23.814Z"
   },
   {
    "duration": 2371,
    "start_time": "2022-09-01T20:23:24.685Z"
   },
   {
    "duration": 2646,
    "start_time": "2022-09-01T20:23:27.057Z"
   },
   {
    "duration": 9,
    "start_time": "2022-09-01T20:23:29.705Z"
   },
   {
    "duration": 15,
    "start_time": "2022-09-01T20:23:29.716Z"
   },
   {
    "duration": 64,
    "start_time": "2022-09-01T20:23:29.732Z"
   },
   {
    "duration": 15,
    "start_time": "2022-09-01T20:23:29.801Z"
   },
   {
    "duration": 7,
    "start_time": "2022-09-01T20:23:29.818Z"
   },
   {
    "duration": 70,
    "start_time": "2022-09-01T20:23:29.827Z"
   },
   {
    "duration": 14,
    "start_time": "2022-09-01T20:23:29.903Z"
   },
   {
    "duration": 67,
    "start_time": "2022-09-01T20:23:29.919Z"
   },
   {
    "duration": 19,
    "start_time": "2022-09-01T20:23:29.988Z"
   },
   {
    "duration": 87,
    "start_time": "2022-09-01T20:23:30.009Z"
   },
   {
    "duration": 23,
    "start_time": "2022-09-01T20:23:30.098Z"
   },
   {
    "duration": 96,
    "start_time": "2022-09-01T20:23:30.123Z"
   },
   {
    "duration": 11,
    "start_time": "2022-09-01T20:23:30.221Z"
   },
   {
    "duration": 605,
    "start_time": "2022-09-01T20:23:30.234Z"
   },
   {
    "duration": 6,
    "start_time": "2022-09-01T20:23:30.840Z"
   },
   {
    "duration": 16,
    "start_time": "2022-09-01T20:23:30.848Z"
   },
   {
    "duration": 35,
    "start_time": "2022-09-01T20:23:30.866Z"
   },
   {
    "duration": 35,
    "start_time": "2022-09-01T20:23:30.902Z"
   },
   {
    "duration": 21,
    "start_time": "2022-09-01T20:23:30.939Z"
   },
   {
    "duration": 17,
    "start_time": "2022-09-01T20:23:30.962Z"
   },
   {
    "duration": 21,
    "start_time": "2022-09-01T20:23:30.989Z"
   },
   {
    "duration": 281,
    "start_time": "2022-09-01T20:23:31.011Z"
   },
   {
    "duration": 50,
    "start_time": "2022-09-01T20:23:31.293Z"
   },
   {
    "duration": 381,
    "start_time": "2022-09-01T20:23:31.344Z"
   },
   {
    "duration": 500,
    "start_time": "2022-09-01T20:23:31.729Z"
   },
   {
    "duration": 919,
    "start_time": "2022-09-01T20:23:32.285Z"
   },
   {
    "duration": 432,
    "start_time": "2022-09-01T20:23:33.206Z"
   },
   {
    "duration": 183,
    "start_time": "2022-09-01T20:23:33.640Z"
   },
   {
    "duration": 285,
    "start_time": "2022-09-01T20:23:33.825Z"
   },
   {
    "duration": 191,
    "start_time": "2022-09-01T20:23:34.112Z"
   },
   {
    "duration": 152,
    "start_time": "2022-09-01T20:23:34.304Z"
   },
   {
    "duration": 351,
    "start_time": "2022-09-01T20:23:34.458Z"
   },
   {
    "duration": 393,
    "start_time": "2022-09-01T20:23:34.811Z"
   },
   {
    "duration": 250,
    "start_time": "2022-09-01T20:23:35.206Z"
   },
   {
    "duration": 296,
    "start_time": "2022-09-01T20:23:35.458Z"
   },
   {
    "duration": 208,
    "start_time": "2022-09-01T20:23:35.756Z"
   },
   {
    "duration": 312,
    "start_time": "2022-09-01T20:23:35.966Z"
   },
   {
    "duration": 32,
    "start_time": "2022-09-01T20:23:36.285Z"
   },
   {
    "duration": 176,
    "start_time": "2022-09-01T20:23:36.319Z"
   },
   {
    "duration": 19,
    "start_time": "2022-09-01T20:23:36.497Z"
   },
   {
    "duration": 284,
    "start_time": "2022-09-01T20:23:36.518Z"
   },
   {
    "duration": 15,
    "start_time": "2022-09-01T20:23:36.804Z"
   },
   {
    "duration": 669,
    "start_time": "2022-09-01T20:23:36.821Z"
   },
   {
    "duration": 17,
    "start_time": "2022-09-01T20:23:37.492Z"
   },
   {
    "duration": 304,
    "start_time": "2022-09-01T20:23:37.510Z"
   },
   {
    "duration": 72,
    "start_time": "2022-09-01T20:23:37.816Z"
   },
   {
    "duration": 307,
    "start_time": "2022-09-01T20:23:37.889Z"
   },
   {
    "duration": 95,
    "start_time": "2022-09-01T20:23:38.198Z"
   },
   {
    "duration": 737,
    "start_time": "2022-09-01T20:23:38.299Z"
   },
   {
    "duration": 264,
    "start_time": "2022-09-01T20:23:39.038Z"
   },
   {
    "duration": 46,
    "start_time": "2022-09-01T20:23:39.304Z"
   },
   {
    "duration": 50,
    "start_time": "2022-09-01T20:23:39.351Z"
   },
   {
    "duration": 29,
    "start_time": "2022-09-01T20:23:39.403Z"
   },
   {
    "duration": 340,
    "start_time": "2022-09-01T20:23:39.434Z"
   },
   {
    "duration": 48,
    "start_time": "2022-09-02T09:24:17.135Z"
   },
   {
    "duration": 53,
    "start_time": "2022-09-02T09:24:21.288Z"
   },
   {
    "duration": 397,
    "start_time": "2022-09-02T09:24:26.615Z"
   },
   {
    "duration": 326,
    "start_time": "2022-09-02T09:24:28.246Z"
   },
   {
    "duration": 99,
    "start_time": "2022-09-02T09:25:22.999Z"
   },
   {
    "duration": 130,
    "start_time": "2022-09-02T09:25:30.059Z"
   },
   {
    "duration": 118,
    "start_time": "2022-09-02T09:25:50.428Z"
   },
   {
    "duration": 13,
    "start_time": "2022-09-02T09:33:59.231Z"
   },
   {
    "duration": 13,
    "start_time": "2022-09-02T09:35:46.557Z"
   },
   {
    "duration": 386,
    "start_time": "2022-09-02T09:39:56.016Z"
   },
   {
    "duration": 132,
    "start_time": "2022-09-02T09:39:56.404Z"
   },
   {
    "duration": 2236,
    "start_time": "2022-09-02T09:39:56.538Z"
   },
   {
    "duration": 1751,
    "start_time": "2022-09-02T09:39:58.776Z"
   },
   {
    "duration": 9,
    "start_time": "2022-09-02T09:40:00.529Z"
   },
   {
    "duration": 17,
    "start_time": "2022-09-02T09:40:00.539Z"
   },
   {
    "duration": 34,
    "start_time": "2022-09-02T09:40:00.558Z"
   },
   {
    "duration": 27,
    "start_time": "2022-09-02T09:40:00.594Z"
   },
   {
    "duration": 20,
    "start_time": "2022-09-02T09:40:00.622Z"
   },
   {
    "duration": 32,
    "start_time": "2022-09-02T09:40:00.644Z"
   },
   {
    "duration": 13,
    "start_time": "2022-09-02T09:40:00.678Z"
   },
   {
    "duration": 25,
    "start_time": "2022-09-02T09:40:00.693Z"
   },
   {
    "duration": 53,
    "start_time": "2022-09-02T09:40:00.720Z"
   },
   {
    "duration": 64,
    "start_time": "2022-09-02T09:40:00.774Z"
   },
   {
    "duration": 24,
    "start_time": "2022-09-02T09:40:00.839Z"
   },
   {
    "duration": 33,
    "start_time": "2022-09-02T09:40:00.865Z"
   },
   {
    "duration": 5,
    "start_time": "2022-09-02T09:40:00.899Z"
   },
   {
    "duration": 214,
    "start_time": "2022-09-02T09:40:00.905Z"
   },
   {
    "duration": 6,
    "start_time": "2022-09-02T09:40:01.120Z"
   },
   {
    "duration": 68,
    "start_time": "2022-09-02T09:40:01.127Z"
   },
   {
    "duration": 44,
    "start_time": "2022-09-02T09:40:01.197Z"
   },
   {
    "duration": 21,
    "start_time": "2022-09-02T09:40:01.242Z"
   },
   {
    "duration": 16,
    "start_time": "2022-09-02T09:40:01.265Z"
   },
   {
    "duration": 20,
    "start_time": "2022-09-02T09:40:01.282Z"
   },
   {
    "duration": 48,
    "start_time": "2022-09-02T09:40:01.304Z"
   },
   {
    "duration": 322,
    "start_time": "2022-09-02T09:40:01.353Z"
   },
   {
    "duration": 60,
    "start_time": "2022-09-02T09:40:01.676Z"
   },
   {
    "duration": 238,
    "start_time": "2022-09-02T09:40:01.740Z"
   },
   {
    "duration": 299,
    "start_time": "2022-09-02T09:40:01.980Z"
   },
   {
    "duration": 246,
    "start_time": "2022-09-02T09:40:02.281Z"
   },
   {
    "duration": 262,
    "start_time": "2022-09-02T09:40:02.529Z"
   },
   {
    "duration": 166,
    "start_time": "2022-09-02T09:40:02.793Z"
   },
   {
    "duration": 248,
    "start_time": "2022-09-02T09:40:02.961Z"
   },
   {
    "duration": 182,
    "start_time": "2022-09-02T09:40:03.210Z"
   },
   {
    "duration": 123,
    "start_time": "2022-09-02T09:40:03.394Z"
   },
   {
    "duration": 348,
    "start_time": "2022-09-02T09:40:03.518Z"
   },
   {
    "duration": 285,
    "start_time": "2022-09-02T09:40:03.868Z"
   },
   {
    "duration": 229,
    "start_time": "2022-09-02T09:40:04.155Z"
   },
   {
    "duration": 250,
    "start_time": "2022-09-02T09:40:04.385Z"
   },
   {
    "duration": 171,
    "start_time": "2022-09-02T09:40:04.637Z"
   },
   {
    "duration": 243,
    "start_time": "2022-09-02T09:40:04.809Z"
   },
   {
    "duration": 19,
    "start_time": "2022-09-02T09:40:05.053Z"
   },
   {
    "duration": 154,
    "start_time": "2022-09-02T09:40:05.073Z"
   },
   {
    "duration": 19,
    "start_time": "2022-09-02T09:40:05.229Z"
   },
   {
    "duration": 246,
    "start_time": "2022-09-02T09:40:05.250Z"
   },
   {
    "duration": 18,
    "start_time": "2022-09-02T09:40:05.497Z"
   },
   {
    "duration": 143,
    "start_time": "2022-09-02T09:40:05.516Z"
   },
   {
    "duration": 14,
    "start_time": "2022-09-02T09:40:05.660Z"
   },
   {
    "duration": 148,
    "start_time": "2022-09-02T09:40:05.675Z"
   },
   {
    "duration": 14,
    "start_time": "2022-09-02T09:40:05.825Z"
   },
   {
    "duration": 150,
    "start_time": "2022-09-02T09:40:05.841Z"
   },
   {
    "duration": 49,
    "start_time": "2022-09-02T09:40:05.993Z"
   },
   {
    "duration": 793,
    "start_time": "2022-09-02T09:40:06.045Z"
   },
   {
    "duration": 383,
    "start_time": "2022-09-02T09:40:06.840Z"
   },
   {
    "duration": 110,
    "start_time": "2022-09-02T09:40:07.225Z"
   },
   {
    "duration": 83,
    "start_time": "2022-09-02T09:40:07.337Z"
   },
   {
    "duration": 25,
    "start_time": "2022-09-02T09:40:07.423Z"
   },
   {
    "duration": 509,
    "start_time": "2022-09-02T09:40:07.449Z"
   },
   {
    "duration": 18,
    "start_time": "2022-09-02T09:41:28.716Z"
   },
   {
    "duration": 370,
    "start_time": "2022-09-02T09:41:39.362Z"
   },
   {
    "duration": 129,
    "start_time": "2022-09-02T09:41:39.734Z"
   },
   {
    "duration": 2106,
    "start_time": "2022-09-02T09:41:39.864Z"
   },
   {
    "duration": 1829,
    "start_time": "2022-09-02T09:41:41.973Z"
   },
   {
    "duration": 11,
    "start_time": "2022-09-02T09:41:43.803Z"
   },
   {
    "duration": 9,
    "start_time": "2022-09-02T09:41:43.816Z"
   },
   {
    "duration": 8,
    "start_time": "2022-09-02T09:41:43.827Z"
   },
   {
    "duration": 11,
    "start_time": "2022-09-02T09:41:43.836Z"
   },
   {
    "duration": 6,
    "start_time": "2022-09-02T09:41:43.849Z"
   },
   {
    "duration": 64,
    "start_time": "2022-09-02T09:41:43.858Z"
   },
   {
    "duration": 11,
    "start_time": "2022-09-02T09:41:43.923Z"
   },
   {
    "duration": 11,
    "start_time": "2022-09-02T09:41:43.935Z"
   },
   {
    "duration": 9,
    "start_time": "2022-09-02T09:41:43.947Z"
   },
   {
    "duration": 60,
    "start_time": "2022-09-02T09:41:43.958Z"
   },
   {
    "duration": 16,
    "start_time": "2022-09-02T09:41:44.020Z"
   },
   {
    "duration": 36,
    "start_time": "2022-09-02T09:41:44.037Z"
   },
   {
    "duration": 3,
    "start_time": "2022-09-02T09:41:44.075Z"
   },
   {
    "duration": 247,
    "start_time": "2022-09-02T09:41:44.079Z"
   },
   {
    "duration": 6,
    "start_time": "2022-09-02T09:41:44.327Z"
   },
   {
    "duration": 30,
    "start_time": "2022-09-02T09:41:44.334Z"
   },
   {
    "duration": 8,
    "start_time": "2022-09-02T09:41:44.366Z"
   },
   {
    "duration": 24,
    "start_time": "2022-09-02T09:41:44.376Z"
   },
   {
    "duration": 17,
    "start_time": "2022-09-02T09:41:44.401Z"
   },
   {
    "duration": 14,
    "start_time": "2022-09-02T09:41:44.419Z"
   },
   {
    "duration": 15,
    "start_time": "2022-09-02T09:41:44.434Z"
   },
   {
    "duration": 284,
    "start_time": "2022-09-02T09:41:44.451Z"
   },
   {
    "duration": 95,
    "start_time": "2022-09-02T09:41:44.737Z"
   },
   {
    "duration": 378,
    "start_time": "2022-09-02T09:41:44.836Z"
   },
   {
    "duration": 337,
    "start_time": "2022-09-02T09:41:45.215Z"
   },
   {
    "duration": 779,
    "start_time": "2022-09-02T09:41:45.554Z"
   },
   {
    "duration": 281,
    "start_time": "2022-09-02T09:41:46.335Z"
   },
   {
    "duration": 164,
    "start_time": "2022-09-02T09:41:46.617Z"
   },
   {
    "duration": 243,
    "start_time": "2022-09-02T09:41:46.783Z"
   },
   {
    "duration": 181,
    "start_time": "2022-09-02T09:41:47.028Z"
   },
   {
    "duration": 127,
    "start_time": "2022-09-02T09:41:47.210Z"
   },
   {
    "duration": 332,
    "start_time": "2022-09-02T09:41:47.338Z"
   },
   {
    "duration": 331,
    "start_time": "2022-09-02T09:41:47.671Z"
   },
   {
    "duration": 228,
    "start_time": "2022-09-02T09:41:48.003Z"
   },
   {
    "duration": 258,
    "start_time": "2022-09-02T09:41:48.233Z"
   },
   {
    "duration": 161,
    "start_time": "2022-09-02T09:41:48.492Z"
   },
   {
    "duration": 255,
    "start_time": "2022-09-02T09:41:48.654Z"
   },
   {
    "duration": 17,
    "start_time": "2022-09-02T09:41:48.911Z"
   },
   {
    "duration": 149,
    "start_time": "2022-09-02T09:41:48.929Z"
   },
   {
    "duration": 16,
    "start_time": "2022-09-02T09:41:49.079Z"
   },
   {
    "duration": 150,
    "start_time": "2022-09-02T09:41:49.096Z"
   },
   {
    "duration": 14,
    "start_time": "2022-09-02T09:41:49.248Z"
   },
   {
    "duration": 232,
    "start_time": "2022-09-02T09:41:49.263Z"
   },
   {
    "duration": 20,
    "start_time": "2022-09-02T09:41:49.496Z"
   },
   {
    "duration": 134,
    "start_time": "2022-09-02T09:41:49.518Z"
   },
   {
    "duration": 13,
    "start_time": "2022-09-02T09:41:49.654Z"
   },
   {
    "duration": 125,
    "start_time": "2022-09-02T09:41:49.669Z"
   },
   {
    "duration": 32,
    "start_time": "2022-09-02T09:41:49.796Z"
   },
   {
    "duration": 407,
    "start_time": "2022-09-02T09:41:49.830Z"
   },
   {
    "duration": 195,
    "start_time": "2022-09-02T09:41:50.238Z"
   },
   {
    "duration": 42,
    "start_time": "2022-09-02T09:41:50.435Z"
   },
   {
    "duration": 37,
    "start_time": "2022-09-02T09:41:50.478Z"
   },
   {
    "duration": 21,
    "start_time": "2022-09-02T09:41:50.516Z"
   },
   {
    "duration": 285,
    "start_time": "2022-09-02T09:41:50.538Z"
   },
   {
    "duration": 5,
    "start_time": "2022-09-02T09:49:14.231Z"
   },
   {
    "duration": 5,
    "start_time": "2022-09-02T09:49:19.846Z"
   },
   {
    "duration": 109,
    "start_time": "2022-09-02T09:49:28.188Z"
   },
   {
    "duration": 17,
    "start_time": "2022-09-02T09:49:37.224Z"
   },
   {
    "duration": 370,
    "start_time": "2022-09-02T09:49:48.653Z"
   },
   {
    "duration": 137,
    "start_time": "2022-09-02T09:49:49.025Z"
   },
   {
    "duration": 2607,
    "start_time": "2022-09-02T09:49:49.163Z"
   },
   {
    "duration": 2144,
    "start_time": "2022-09-02T09:49:51.810Z"
   },
   {
    "duration": 8,
    "start_time": "2022-09-02T09:49:53.955Z"
   },
   {
    "duration": 21,
    "start_time": "2022-09-02T09:49:53.965Z"
   },
   {
    "duration": 16,
    "start_time": "2022-09-02T09:49:53.988Z"
   },
   {
    "duration": 14,
    "start_time": "2022-09-02T09:49:54.006Z"
   },
   {
    "duration": 12,
    "start_time": "2022-09-02T09:49:54.021Z"
   },
   {
    "duration": 27,
    "start_time": "2022-09-02T09:49:54.035Z"
   },
   {
    "duration": 10,
    "start_time": "2022-09-02T09:49:54.064Z"
   },
   {
    "duration": 19,
    "start_time": "2022-09-02T09:49:54.075Z"
   },
   {
    "duration": 17,
    "start_time": "2022-09-02T09:49:54.096Z"
   },
   {
    "duration": 26,
    "start_time": "2022-09-02T09:49:54.115Z"
   },
   {
    "duration": 30,
    "start_time": "2022-09-02T09:49:54.142Z"
   },
   {
    "duration": 30,
    "start_time": "2022-09-02T09:49:54.174Z"
   },
   {
    "duration": 3,
    "start_time": "2022-09-02T09:49:54.206Z"
   },
   {
    "duration": 222,
    "start_time": "2022-09-02T09:49:54.211Z"
   },
   {
    "duration": 6,
    "start_time": "2022-09-02T09:49:54.434Z"
   },
   {
    "duration": 26,
    "start_time": "2022-09-02T09:49:54.442Z"
   },
   {
    "duration": 11,
    "start_time": "2022-09-02T09:49:54.470Z"
   },
   {
    "duration": 20,
    "start_time": "2022-09-02T09:49:54.483Z"
   },
   {
    "duration": 17,
    "start_time": "2022-09-02T09:49:54.505Z"
   },
   {
    "duration": 18,
    "start_time": "2022-09-02T09:49:54.524Z"
   },
   {
    "duration": 12,
    "start_time": "2022-09-02T09:49:54.544Z"
   },
   {
    "duration": 258,
    "start_time": "2022-09-02T09:49:54.557Z"
   },
   {
    "duration": 37,
    "start_time": "2022-09-02T09:49:54.817Z"
   },
   {
    "duration": 183,
    "start_time": "2022-09-02T09:49:54.857Z"
   },
   {
    "duration": 207,
    "start_time": "2022-09-02T09:49:55.042Z"
   },
   {
    "duration": 374,
    "start_time": "2022-09-02T09:49:55.251Z"
   },
   {
    "duration": 272,
    "start_time": "2022-09-02T09:49:55.627Z"
   },
   {
    "duration": 195,
    "start_time": "2022-09-02T09:49:55.901Z"
   },
   {
    "duration": 261,
    "start_time": "2022-09-02T09:49:56.098Z"
   },
   {
    "duration": 179,
    "start_time": "2022-09-02T09:49:56.360Z"
   },
   {
    "duration": 122,
    "start_time": "2022-09-02T09:49:56.541Z"
   },
   {
    "duration": 256,
    "start_time": "2022-09-02T09:49:56.664Z"
   },
   {
    "duration": 392,
    "start_time": "2022-09-02T09:49:56.922Z"
   },
   {
    "duration": 286,
    "start_time": "2022-09-02T09:49:57.316Z"
   },
   {
    "duration": 281,
    "start_time": "2022-09-02T09:49:57.604Z"
   },
   {
    "duration": 193,
    "start_time": "2022-09-02T09:49:57.887Z"
   },
   {
    "duration": 264,
    "start_time": "2022-09-02T09:49:58.082Z"
   },
   {
    "duration": 17,
    "start_time": "2022-09-02T09:49:58.348Z"
   },
   {
    "duration": 156,
    "start_time": "2022-09-02T09:49:58.367Z"
   },
   {
    "duration": 17,
    "start_time": "2022-09-02T09:49:58.525Z"
   },
   {
    "duration": 170,
    "start_time": "2022-09-02T09:49:58.543Z"
   },
   {
    "duration": 14,
    "start_time": "2022-09-02T09:49:58.715Z"
   },
   {
    "duration": 498,
    "start_time": "2022-09-02T09:49:58.730Z"
   },
   {
    "duration": 11,
    "start_time": "2022-09-02T09:49:59.230Z"
   },
   {
    "duration": 277,
    "start_time": "2022-09-02T09:49:59.243Z"
   },
   {
    "duration": 13,
    "start_time": "2022-09-02T09:49:59.522Z"
   },
   {
    "duration": 274,
    "start_time": "2022-09-02T09:49:59.537Z"
   },
   {
    "duration": 31,
    "start_time": "2022-09-02T09:49:59.813Z"
   },
   {
    "duration": 745,
    "start_time": "2022-09-02T09:49:59.845Z"
   },
   {
    "duration": 207,
    "start_time": "2022-09-02T09:50:00.591Z"
   },
   {
    "duration": 49,
    "start_time": "2022-09-02T09:50:00.800Z"
   },
   {
    "duration": 23,
    "start_time": "2022-09-02T09:50:00.850Z"
   },
   {
    "duration": 40,
    "start_time": "2022-09-02T09:50:00.875Z"
   },
   {
    "duration": 283,
    "start_time": "2022-09-02T09:50:00.916Z"
   },
   {
    "duration": 16,
    "start_time": "2022-09-02T09:50:23.984Z"
   },
   {
    "duration": 362,
    "start_time": "2022-09-02T09:50:33.865Z"
   },
   {
    "duration": 142,
    "start_time": "2022-09-02T09:50:34.229Z"
   },
   {
    "duration": 2157,
    "start_time": "2022-09-02T09:50:34.373Z"
   },
   {
    "duration": 1898,
    "start_time": "2022-09-02T09:50:36.532Z"
   },
   {
    "duration": 9,
    "start_time": "2022-09-02T09:50:38.431Z"
   },
   {
    "duration": 25,
    "start_time": "2022-09-02T09:50:38.442Z"
   },
   {
    "duration": 29,
    "start_time": "2022-09-02T09:50:38.469Z"
   },
   {
    "duration": 15,
    "start_time": "2022-09-02T09:50:38.499Z"
   },
   {
    "duration": 11,
    "start_time": "2022-09-02T09:50:38.515Z"
   },
   {
    "duration": 35,
    "start_time": "2022-09-02T09:50:38.528Z"
   },
   {
    "duration": 12,
    "start_time": "2022-09-02T09:50:38.565Z"
   },
   {
    "duration": 19,
    "start_time": "2022-09-02T09:50:38.578Z"
   },
   {
    "duration": 12,
    "start_time": "2022-09-02T09:50:38.598Z"
   },
   {
    "duration": 16,
    "start_time": "2022-09-02T09:50:38.612Z"
   },
   {
    "duration": 15,
    "start_time": "2022-09-02T09:50:38.630Z"
   },
   {
    "duration": 32,
    "start_time": "2022-09-02T09:50:38.647Z"
   },
   {
    "duration": 29,
    "start_time": "2022-09-02T09:50:38.681Z"
   },
   {
    "duration": 230,
    "start_time": "2022-09-02T09:50:38.711Z"
   },
   {
    "duration": 6,
    "start_time": "2022-09-02T09:50:38.943Z"
   },
   {
    "duration": 16,
    "start_time": "2022-09-02T09:50:38.950Z"
   },
   {
    "duration": 7,
    "start_time": "2022-09-02T09:50:38.968Z"
   },
   {
    "duration": 35,
    "start_time": "2022-09-02T09:50:38.977Z"
   },
   {
    "duration": 17,
    "start_time": "2022-09-02T09:50:39.014Z"
   },
   {
    "duration": 15,
    "start_time": "2022-09-02T09:50:39.033Z"
   },
   {
    "duration": 12,
    "start_time": "2022-09-02T09:50:39.050Z"
   },
   {
    "duration": 270,
    "start_time": "2022-09-02T09:50:39.064Z"
   },
   {
    "duration": 41,
    "start_time": "2022-09-02T09:50:39.336Z"
   },
   {
    "duration": 197,
    "start_time": "2022-09-02T09:50:39.381Z"
   },
   {
    "duration": 211,
    "start_time": "2022-09-02T09:50:39.580Z"
   },
   {
    "duration": 389,
    "start_time": "2022-09-02T09:50:39.793Z"
   },
   {
    "duration": 287,
    "start_time": "2022-09-02T09:50:40.183Z"
   },
   {
    "duration": 176,
    "start_time": "2022-09-02T09:50:40.472Z"
   },
   {
    "duration": 246,
    "start_time": "2022-09-02T09:50:40.650Z"
   },
   {
    "duration": 179,
    "start_time": "2022-09-02T09:50:40.899Z"
   },
   {
    "duration": 122,
    "start_time": "2022-09-02T09:50:41.080Z"
   },
   {
    "duration": 260,
    "start_time": "2022-09-02T09:50:41.204Z"
   },
   {
    "duration": 652,
    "start_time": "2022-09-02T09:50:41.465Z"
   },
   {
    "duration": 434,
    "start_time": "2022-09-02T09:50:42.118Z"
   },
   {
    "duration": 568,
    "start_time": "2022-09-02T09:50:42.553Z"
   },
   {
    "duration": 228,
    "start_time": "2022-09-02T09:50:43.123Z"
   },
   {
    "duration": 259,
    "start_time": "2022-09-02T09:50:43.353Z"
   },
   {
    "duration": 19,
    "start_time": "2022-09-02T09:50:43.613Z"
   },
   {
    "duration": 161,
    "start_time": "2022-09-02T09:50:43.634Z"
   },
   {
    "duration": 28,
    "start_time": "2022-09-02T09:50:43.796Z"
   },
   {
    "duration": 163,
    "start_time": "2022-09-02T09:50:43.825Z"
   },
   {
    "duration": 28,
    "start_time": "2022-09-02T09:50:43.990Z"
   },
   {
    "duration": 273,
    "start_time": "2022-09-02T09:50:44.020Z"
   },
   {
    "duration": 16,
    "start_time": "2022-09-02T09:50:44.295Z"
   },
   {
    "duration": 136,
    "start_time": "2022-09-02T09:50:44.313Z"
   },
   {
    "duration": 14,
    "start_time": "2022-09-02T09:50:44.450Z"
   },
   {
    "duration": 124,
    "start_time": "2022-09-02T09:50:44.465Z"
   },
   {
    "duration": 45,
    "start_time": "2022-09-02T09:50:44.591Z"
   },
   {
    "duration": 429,
    "start_time": "2022-09-02T09:50:44.638Z"
   },
   {
    "duration": 202,
    "start_time": "2022-09-02T09:50:45.069Z"
   },
   {
    "duration": 52,
    "start_time": "2022-09-02T09:50:45.272Z"
   },
   {
    "duration": 22,
    "start_time": "2022-09-02T09:50:45.326Z"
   },
   {
    "duration": 23,
    "start_time": "2022-09-02T09:50:45.349Z"
   },
   {
    "duration": 310,
    "start_time": "2022-09-02T09:50:45.374Z"
   },
   {
    "duration": 2684,
    "start_time": "2022-09-02T09:53:07.704Z"
   },
   {
    "duration": 63,
    "start_time": "2022-09-02T10:00:07.147Z"
   },
   {
    "duration": 273,
    "start_time": "2022-09-02T10:00:13.258Z"
   },
   {
    "duration": 403,
    "start_time": "2022-09-02T10:01:29.324Z"
   },
   {
    "duration": 233,
    "start_time": "2022-09-02T10:01:54.417Z"
   },
   {
    "duration": 247,
    "start_time": "2022-09-02T10:02:01.168Z"
   },
   {
    "duration": 375,
    "start_time": "2022-09-02T10:03:28.614Z"
   },
   {
    "duration": 226,
    "start_time": "2022-09-02T10:04:05.333Z"
   },
   {
    "duration": 373,
    "start_time": "2022-09-02T10:04:14.670Z"
   },
   {
    "duration": 260,
    "start_time": "2022-09-02T10:04:42.083Z"
   },
   {
    "duration": 296,
    "start_time": "2022-09-02T10:05:01.634Z"
   },
   {
    "duration": 242,
    "start_time": "2022-09-02T10:05:10.943Z"
   },
   {
    "duration": 242,
    "start_time": "2022-09-02T10:05:14.745Z"
   },
   {
    "duration": 190,
    "start_time": "2022-09-02T10:06:06.466Z"
   },
   {
    "duration": 375,
    "start_time": "2022-09-02T10:06:09.813Z"
   },
   {
    "duration": 260,
    "start_time": "2022-09-02T10:09:20.244Z"
   },
   {
    "duration": 247,
    "start_time": "2022-09-02T10:09:25.480Z"
   },
   {
    "duration": 236,
    "start_time": "2022-09-02T10:09:40.723Z"
   },
   {
    "duration": 227,
    "start_time": "2022-09-02T10:09:44.338Z"
   },
   {
    "duration": 416,
    "start_time": "2022-09-02T10:10:10.212Z"
   },
   {
    "duration": 256,
    "start_time": "2022-09-02T10:10:13.753Z"
   },
   {
    "duration": 255,
    "start_time": "2022-09-02T10:10:17.560Z"
   },
   {
    "duration": 265,
    "start_time": "2022-09-02T10:10:23.255Z"
   },
   {
    "duration": 253,
    "start_time": "2022-09-02T10:10:26.706Z"
   },
   {
    "duration": 269,
    "start_time": "2022-09-02T10:10:29.975Z"
   },
   {
    "duration": 406,
    "start_time": "2022-09-02T10:10:33.433Z"
   },
   {
    "duration": 116,
    "start_time": "2022-09-02T10:13:35.337Z"
   },
   {
    "duration": 18,
    "start_time": "2022-09-02T10:13:50.401Z"
   },
   {
    "duration": 65,
    "start_time": "2022-09-02T10:14:29.235Z"
   },
   {
    "duration": 1122,
    "start_time": "2022-09-02T10:14:36.333Z"
   },
   {
    "duration": 14,
    "start_time": "2022-09-02T10:29:53.236Z"
   },
   {
    "duration": 1373,
    "start_time": "2022-09-02T10:30:04.391Z"
   },
   {
    "duration": 44,
    "start_time": "2022-09-02T10:31:01.006Z"
   },
   {
    "duration": 122,
    "start_time": "2022-09-02T10:31:09.095Z"
   },
   {
    "duration": 113,
    "start_time": "2022-09-02T10:31:25.477Z"
   },
   {
    "duration": 498,
    "start_time": "2022-09-02T10:55:12.731Z"
   },
   {
    "duration": 16,
    "start_time": "2022-09-02T10:57:03.421Z"
   },
   {
    "duration": 120,
    "start_time": "2022-09-02T10:57:15.687Z"
   },
   {
    "duration": 108,
    "start_time": "2022-09-02T10:57:19.743Z"
   },
   {
    "duration": 9,
    "start_time": "2022-09-02T11:20:45.505Z"
   },
   {
    "duration": 30,
    "start_time": "2022-09-02T11:20:53.325Z"
   },
   {
    "duration": 10,
    "start_time": "2022-09-02T11:21:10.556Z"
   },
   {
    "duration": 9,
    "start_time": "2022-09-02T11:28:09.439Z"
   },
   {
    "duration": 14,
    "start_time": "2022-09-02T11:28:19.528Z"
   },
   {
    "duration": 12,
    "start_time": "2022-09-02T11:29:01.529Z"
   },
   {
    "duration": 139,
    "start_time": "2022-09-02T11:29:09.354Z"
   },
   {
    "duration": 196,
    "start_time": "2022-09-02T11:31:34.735Z"
   },
   {
    "duration": 185,
    "start_time": "2022-09-02T11:31:42.982Z"
   },
   {
    "duration": 152,
    "start_time": "2022-09-02T11:37:36.797Z"
   },
   {
    "duration": 130,
    "start_time": "2022-09-02T11:39:04.847Z"
   },
   {
    "duration": 316,
    "start_time": "2022-09-02T11:39:15.639Z"
   },
   {
    "duration": 16,
    "start_time": "2022-09-02T11:43:58.538Z"
   },
   {
    "duration": 127,
    "start_time": "2022-09-02T11:44:13.382Z"
   },
   {
    "duration": 144,
    "start_time": "2022-09-02T11:44:19.422Z"
   },
   {
    "duration": 130,
    "start_time": "2022-09-02T11:44:40.500Z"
   },
   {
    "duration": 128,
    "start_time": "2022-09-02T11:44:45.745Z"
   },
   {
    "duration": 13,
    "start_time": "2022-09-02T11:47:47.758Z"
   },
   {
    "duration": 17,
    "start_time": "2022-09-02T11:48:11.991Z"
   },
   {
    "duration": 12,
    "start_time": "2022-09-02T11:48:17.845Z"
   },
   {
    "duration": 12,
    "start_time": "2022-09-02T11:49:35.648Z"
   },
   {
    "duration": 385,
    "start_time": "2022-09-02T11:49:44.124Z"
   },
   {
    "duration": 128,
    "start_time": "2022-09-02T11:49:44.510Z"
   },
   {
    "duration": 2086,
    "start_time": "2022-09-02T11:49:44.640Z"
   },
   {
    "duration": 1853,
    "start_time": "2022-09-02T11:49:46.728Z"
   },
   {
    "duration": 8,
    "start_time": "2022-09-02T11:49:48.582Z"
   },
   {
    "duration": 23,
    "start_time": "2022-09-02T11:49:48.592Z"
   },
   {
    "duration": 8,
    "start_time": "2022-09-02T11:49:48.616Z"
   },
   {
    "duration": 11,
    "start_time": "2022-09-02T11:49:48.625Z"
   },
   {
    "duration": 7,
    "start_time": "2022-09-02T11:49:48.638Z"
   },
   {
    "duration": 17,
    "start_time": "2022-09-02T11:49:48.647Z"
   },
   {
    "duration": 10,
    "start_time": "2022-09-02T11:49:48.665Z"
   },
   {
    "duration": 42,
    "start_time": "2022-09-02T11:49:48.676Z"
   },
   {
    "duration": 9,
    "start_time": "2022-09-02T11:49:48.720Z"
   },
   {
    "duration": 26,
    "start_time": "2022-09-02T11:49:48.730Z"
   },
   {
    "duration": 16,
    "start_time": "2022-09-02T11:49:48.758Z"
   },
   {
    "duration": 48,
    "start_time": "2022-09-02T11:49:48.776Z"
   },
   {
    "duration": 11,
    "start_time": "2022-09-02T11:49:48.826Z"
   },
   {
    "duration": 225,
    "start_time": "2022-09-02T11:49:48.839Z"
   },
   {
    "duration": 5,
    "start_time": "2022-09-02T11:49:49.066Z"
   },
   {
    "duration": 14,
    "start_time": "2022-09-02T11:49:49.073Z"
   },
   {
    "duration": 23,
    "start_time": "2022-09-02T11:49:49.088Z"
   },
   {
    "duration": 15,
    "start_time": "2022-09-02T11:49:49.113Z"
   },
   {
    "duration": 17,
    "start_time": "2022-09-02T11:49:49.130Z"
   },
   {
    "duration": 14,
    "start_time": "2022-09-02T11:49:49.149Z"
   },
   {
    "duration": 49,
    "start_time": "2022-09-02T11:49:49.164Z"
   },
   {
    "duration": 236,
    "start_time": "2022-09-02T11:49:49.215Z"
   },
   {
    "duration": 39,
    "start_time": "2022-09-02T11:49:49.453Z"
   },
   {
    "duration": 171,
    "start_time": "2022-09-02T11:49:49.508Z"
   },
   {
    "duration": 195,
    "start_time": "2022-09-02T11:49:49.680Z"
   },
   {
    "duration": 358,
    "start_time": "2022-09-02T11:49:49.877Z"
   },
   {
    "duration": 249,
    "start_time": "2022-09-02T11:49:50.236Z"
   },
   {
    "duration": 243,
    "start_time": "2022-09-02T11:49:50.486Z"
   },
   {
    "duration": 153,
    "start_time": "2022-09-02T11:49:50.730Z"
   },
   {
    "duration": 243,
    "start_time": "2022-09-02T11:49:50.884Z"
   },
   {
    "duration": 182,
    "start_time": "2022-09-02T11:49:51.128Z"
   },
   {
    "duration": 116,
    "start_time": "2022-09-02T11:49:51.312Z"
   },
   {
    "duration": 328,
    "start_time": "2022-09-02T11:49:51.430Z"
   },
   {
    "duration": 239,
    "start_time": "2022-09-02T11:49:51.760Z"
   },
   {
    "duration": 224,
    "start_time": "2022-09-02T11:49:52.008Z"
   },
   {
    "duration": 249,
    "start_time": "2022-09-02T11:49:52.233Z"
   },
   {
    "duration": 171,
    "start_time": "2022-09-02T11:49:52.484Z"
   },
   {
    "duration": 242,
    "start_time": "2022-09-02T11:49:52.656Z"
   },
   {
    "duration": 26,
    "start_time": "2022-09-02T11:49:52.899Z"
   },
   {
    "duration": 12,
    "start_time": "2022-09-02T11:49:52.926Z"
   },
   {
    "duration": 505,
    "start_time": "2022-09-02T11:49:52.939Z"
   },
   {
    "duration": 136,
    "start_time": "2022-09-02T11:49:53.446Z"
   },
   {
    "duration": 16,
    "start_time": "2022-09-02T11:49:53.584Z"
   },
   {
    "duration": 158,
    "start_time": "2022-09-02T11:49:53.609Z"
   },
   {
    "duration": 12,
    "start_time": "2022-09-02T11:49:53.768Z"
   },
   {
    "duration": 27,
    "start_time": "2022-09-02T11:49:53.782Z"
   },
   {
    "duration": 151,
    "start_time": "2022-09-02T11:49:53.810Z"
   },
   {
    "duration": 13,
    "start_time": "2022-09-02T11:49:53.962Z"
   },
   {
    "duration": 150,
    "start_time": "2022-09-02T11:49:53.977Z"
   },
   {
    "duration": 15,
    "start_time": "2022-09-02T11:49:54.129Z"
   },
   {
    "duration": 204,
    "start_time": "2022-09-02T11:49:54.146Z"
   },
   {
    "duration": 32,
    "start_time": "2022-09-02T11:49:54.352Z"
   },
   {
    "duration": 409,
    "start_time": "2022-09-02T11:49:54.386Z"
   },
   {
    "duration": 197,
    "start_time": "2022-09-02T11:49:54.797Z"
   },
   {
    "duration": 48,
    "start_time": "2022-09-02T11:49:54.995Z"
   },
   {
    "duration": 20,
    "start_time": "2022-09-02T11:49:55.044Z"
   },
   {
    "duration": 27,
    "start_time": "2022-09-02T11:49:55.065Z"
   },
   {
    "duration": 280,
    "start_time": "2022-09-02T11:49:55.094Z"
   },
   {
    "duration": 12,
    "start_time": "2022-09-02T11:50:12.114Z"
   },
   {
    "duration": 124,
    "start_time": "2022-09-02T11:51:57.231Z"
   },
   {
    "duration": 130,
    "start_time": "2022-09-02T11:52:12.302Z"
   },
   {
    "duration": 126,
    "start_time": "2022-09-02T11:59:56.764Z"
   },
   {
    "duration": 142,
    "start_time": "2022-09-02T12:00:03.913Z"
   },
   {
    "duration": 128,
    "start_time": "2022-09-02T12:00:50.956Z"
   },
   {
    "duration": 236,
    "start_time": "2022-09-02T12:00:57.261Z"
   },
   {
    "duration": 306,
    "start_time": "2022-09-02T12:01:11.241Z"
   },
   {
    "duration": 227,
    "start_time": "2022-09-02T12:01:24.905Z"
   },
   {
    "duration": 278,
    "start_time": "2022-09-02T12:01:32.976Z"
   },
   {
    "duration": 236,
    "start_time": "2022-09-02T12:01:41.814Z"
   },
   {
    "duration": 495,
    "start_time": "2022-09-02T12:01:47.279Z"
   },
   {
    "duration": 250,
    "start_time": "2022-09-02T12:01:54.454Z"
   },
   {
    "duration": 236,
    "start_time": "2022-09-02T12:02:03.477Z"
   },
   {
    "duration": 179,
    "start_time": "2022-09-02T12:02:17.751Z"
   },
   {
    "duration": 154,
    "start_time": "2022-09-02T12:02:33.846Z"
   },
   {
    "duration": 159,
    "start_time": "2022-09-02T12:02:44.443Z"
   },
   {
    "duration": 176,
    "start_time": "2022-09-02T12:02:50.182Z"
   },
   {
    "duration": 183,
    "start_time": "2022-09-02T12:02:53.220Z"
   },
   {
    "duration": 199,
    "start_time": "2022-09-02T12:02:59.694Z"
   },
   {
    "duration": 205,
    "start_time": "2022-09-02T12:03:05.422Z"
   },
   {
    "duration": 158,
    "start_time": "2022-09-02T12:03:18.128Z"
   },
   {
    "duration": 253,
    "start_time": "2022-09-02T12:03:30.531Z"
   },
   {
    "duration": 170,
    "start_time": "2022-09-02T12:03:34.727Z"
   },
   {
    "duration": 175,
    "start_time": "2022-09-02T12:03:39.490Z"
   },
   {
    "duration": 178,
    "start_time": "2022-09-02T12:03:44.075Z"
   },
   {
    "duration": 67,
    "start_time": "2022-09-02T12:04:44.895Z"
   },
   {
    "duration": 205,
    "start_time": "2022-09-02T12:04:49.543Z"
   },
   {
    "duration": 182,
    "start_time": "2022-09-02T12:04:55.473Z"
   },
   {
    "duration": 190,
    "start_time": "2022-09-02T12:05:01.899Z"
   },
   {
    "duration": 183,
    "start_time": "2022-09-02T12:05:14.053Z"
   },
   {
    "duration": 184,
    "start_time": "2022-09-02T12:05:23.630Z"
   },
   {
    "duration": 160,
    "start_time": "2022-09-02T12:05:36.835Z"
   },
   {
    "duration": 947,
    "start_time": "2022-09-02T12:07:10.832Z"
   },
   {
    "duration": 1088,
    "start_time": "2022-09-02T12:07:19.578Z"
   },
   {
    "duration": 373,
    "start_time": "2022-09-02T12:07:49.738Z"
   },
   {
    "duration": 132,
    "start_time": "2022-09-02T12:07:50.113Z"
   },
   {
    "duration": 1972,
    "start_time": "2022-09-02T12:07:50.246Z"
   },
   {
    "duration": 1813,
    "start_time": "2022-09-02T12:07:52.220Z"
   },
   {
    "duration": 8,
    "start_time": "2022-09-02T12:07:54.034Z"
   },
   {
    "duration": 20,
    "start_time": "2022-09-02T12:07:54.043Z"
   },
   {
    "duration": 21,
    "start_time": "2022-09-02T12:07:54.064Z"
   },
   {
    "duration": 17,
    "start_time": "2022-09-02T12:07:54.086Z"
   },
   {
    "duration": 17,
    "start_time": "2022-09-02T12:07:54.104Z"
   },
   {
    "duration": 31,
    "start_time": "2022-09-02T12:07:54.123Z"
   },
   {
    "duration": 12,
    "start_time": "2022-09-02T12:07:54.156Z"
   },
   {
    "duration": 29,
    "start_time": "2022-09-02T12:07:54.169Z"
   },
   {
    "duration": 29,
    "start_time": "2022-09-02T12:07:54.199Z"
   },
   {
    "duration": 23,
    "start_time": "2022-09-02T12:07:54.230Z"
   },
   {
    "duration": 22,
    "start_time": "2022-09-02T12:07:54.254Z"
   },
   {
    "duration": 52,
    "start_time": "2022-09-02T12:07:54.278Z"
   },
   {
    "duration": 9,
    "start_time": "2022-09-02T12:07:54.331Z"
   },
   {
    "duration": 213,
    "start_time": "2022-09-02T12:07:54.342Z"
   },
   {
    "duration": 6,
    "start_time": "2022-09-02T12:07:54.556Z"
   },
   {
    "duration": 29,
    "start_time": "2022-09-02T12:07:54.563Z"
   },
   {
    "duration": 22,
    "start_time": "2022-09-02T12:07:54.593Z"
   },
   {
    "duration": 25,
    "start_time": "2022-09-02T12:07:54.617Z"
   },
   {
    "duration": 16,
    "start_time": "2022-09-02T12:07:54.644Z"
   },
   {
    "duration": 25,
    "start_time": "2022-09-02T12:07:54.662Z"
   },
   {
    "duration": 13,
    "start_time": "2022-09-02T12:07:54.689Z"
   },
   {
    "duration": 248,
    "start_time": "2022-09-02T12:07:54.708Z"
   },
   {
    "duration": 38,
    "start_time": "2022-09-02T12:07:54.958Z"
   },
   {
    "duration": 174,
    "start_time": "2022-09-02T12:07:55.008Z"
   },
   {
    "duration": 200,
    "start_time": "2022-09-02T12:07:55.183Z"
   },
   {
    "duration": 326,
    "start_time": "2022-09-02T12:07:55.385Z"
   },
   {
    "duration": 272,
    "start_time": "2022-09-02T12:07:55.713Z"
   },
   {
    "duration": 259,
    "start_time": "2022-09-02T12:07:55.987Z"
   },
   {
    "duration": 159,
    "start_time": "2022-09-02T12:07:56.248Z"
   },
   {
    "duration": 243,
    "start_time": "2022-09-02T12:07:56.409Z"
   },
   {
    "duration": 172,
    "start_time": "2022-09-02T12:07:56.654Z"
   },
   {
    "duration": 116,
    "start_time": "2022-09-02T12:07:56.828Z"
   },
   {
    "duration": 353,
    "start_time": "2022-09-02T12:07:56.945Z"
   },
   {
    "duration": 273,
    "start_time": "2022-09-02T12:07:57.300Z"
   },
   {
    "duration": 235,
    "start_time": "2022-09-02T12:07:57.575Z"
   },
   {
    "duration": 255,
    "start_time": "2022-09-02T12:07:57.812Z"
   },
   {
    "duration": 161,
    "start_time": "2022-09-02T12:07:58.069Z"
   },
   {
    "duration": 240,
    "start_time": "2022-09-02T12:07:58.232Z"
   },
   {
    "duration": 18,
    "start_time": "2022-09-02T12:07:58.474Z"
   },
   {
    "duration": 23,
    "start_time": "2022-09-02T12:07:58.494Z"
   },
   {
    "duration": 799,
    "start_time": "2022-09-02T12:07:58.518Z"
   },
   {
    "duration": 232,
    "start_time": "2022-09-02T12:07:59.318Z"
   },
   {
    "duration": 70,
    "start_time": "2022-09-02T12:07:59.551Z"
   },
   {
    "duration": 309,
    "start_time": "2022-09-02T12:07:59.622Z"
   },
   {
    "duration": 9,
    "start_time": "2022-09-02T12:07:59.932Z"
   },
   {
    "duration": 1852,
    "start_time": "2022-09-02T12:07:59.943Z"
   },
   {
    "duration": 0,
    "start_time": "2022-09-02T12:08:01.797Z"
   },
   {
    "duration": 0,
    "start_time": "2022-09-02T12:08:01.809Z"
   },
   {
    "duration": 0,
    "start_time": "2022-09-02T12:08:01.811Z"
   },
   {
    "duration": 0,
    "start_time": "2022-09-02T12:08:01.812Z"
   },
   {
    "duration": 0,
    "start_time": "2022-09-02T12:08:01.813Z"
   },
   {
    "duration": 0,
    "start_time": "2022-09-02T12:08:01.814Z"
   },
   {
    "duration": 0,
    "start_time": "2022-09-02T12:08:01.814Z"
   },
   {
    "duration": 0,
    "start_time": "2022-09-02T12:08:01.815Z"
   },
   {
    "duration": 0,
    "start_time": "2022-09-02T12:08:01.817Z"
   },
   {
    "duration": 0,
    "start_time": "2022-09-02T12:08:01.818Z"
   },
   {
    "duration": 0,
    "start_time": "2022-09-02T12:08:01.818Z"
   },
   {
    "duration": 0,
    "start_time": "2022-09-02T12:08:01.819Z"
   },
   {
    "duration": 0,
    "start_time": "2022-09-02T12:08:01.820Z"
   },
   {
    "duration": 1062,
    "start_time": "2022-09-02T12:09:30.268Z"
   },
   {
    "duration": 14,
    "start_time": "2022-09-02T12:10:16.026Z"
   },
   {
    "duration": 242,
    "start_time": "2022-09-02T12:10:19.070Z"
   },
   {
    "duration": 11,
    "start_time": "2022-09-02T12:11:08.489Z"
   },
   {
    "duration": 1358,
    "start_time": "2022-09-02T12:11:49.128Z"
   },
   {
    "duration": 164,
    "start_time": "2022-09-02T12:14:47.975Z"
   },
   {
    "duration": 183,
    "start_time": "2022-09-02T12:15:40.276Z"
   },
   {
    "duration": 179,
    "start_time": "2022-09-02T12:16:03.666Z"
   },
   {
    "duration": 168,
    "start_time": "2022-09-02T12:16:28.366Z"
   },
   {
    "duration": 171,
    "start_time": "2022-09-02T12:16:47.036Z"
   },
   {
    "duration": 408,
    "start_time": "2022-09-02T12:16:55.636Z"
   },
   {
    "duration": 131,
    "start_time": "2022-09-02T12:16:56.047Z"
   },
   {
    "duration": 2075,
    "start_time": "2022-09-02T12:16:56.179Z"
   },
   {
    "duration": 1783,
    "start_time": "2022-09-02T12:16:58.256Z"
   },
   {
    "duration": 8,
    "start_time": "2022-09-02T12:17:00.041Z"
   },
   {
    "duration": 18,
    "start_time": "2022-09-02T12:17:00.051Z"
   },
   {
    "duration": 34,
    "start_time": "2022-09-02T12:17:00.071Z"
   },
   {
    "duration": 17,
    "start_time": "2022-09-02T12:17:00.107Z"
   },
   {
    "duration": 32,
    "start_time": "2022-09-02T12:17:00.126Z"
   },
   {
    "duration": 43,
    "start_time": "2022-09-02T12:17:00.160Z"
   },
   {
    "duration": 22,
    "start_time": "2022-09-02T12:17:00.205Z"
   },
   {
    "duration": 24,
    "start_time": "2022-09-02T12:17:00.229Z"
   },
   {
    "duration": 20,
    "start_time": "2022-09-02T12:17:00.255Z"
   },
   {
    "duration": 49,
    "start_time": "2022-09-02T12:17:00.277Z"
   },
   {
    "duration": 44,
    "start_time": "2022-09-02T12:17:00.327Z"
   },
   {
    "duration": 44,
    "start_time": "2022-09-02T12:17:00.373Z"
   },
   {
    "duration": 20,
    "start_time": "2022-09-02T12:17:00.419Z"
   },
   {
    "duration": 241,
    "start_time": "2022-09-02T12:17:00.440Z"
   },
   {
    "duration": 6,
    "start_time": "2022-09-02T12:17:00.683Z"
   },
   {
    "duration": 21,
    "start_time": "2022-09-02T12:17:00.690Z"
   },
   {
    "duration": 31,
    "start_time": "2022-09-02T12:17:00.713Z"
   },
   {
    "duration": 25,
    "start_time": "2022-09-02T12:17:00.746Z"
   },
   {
    "duration": 24,
    "start_time": "2022-09-02T12:17:00.773Z"
   },
   {
    "duration": 18,
    "start_time": "2022-09-02T12:17:00.799Z"
   },
   {
    "duration": 16,
    "start_time": "2022-09-02T12:17:00.819Z"
   },
   {
    "duration": 253,
    "start_time": "2022-09-02T12:17:00.836Z"
   },
   {
    "duration": 41,
    "start_time": "2022-09-02T12:17:01.091Z"
   },
   {
    "duration": 184,
    "start_time": "2022-09-02T12:17:01.136Z"
   },
   {
    "duration": 191,
    "start_time": "2022-09-02T12:17:01.322Z"
   },
   {
    "duration": 383,
    "start_time": "2022-09-02T12:17:01.515Z"
   },
   {
    "duration": 269,
    "start_time": "2022-09-02T12:17:01.900Z"
   },
   {
    "duration": 248,
    "start_time": "2022-09-02T12:17:02.170Z"
   },
   {
    "duration": 154,
    "start_time": "2022-09-02T12:17:02.420Z"
   },
   {
    "duration": 251,
    "start_time": "2022-09-02T12:17:02.576Z"
   },
   {
    "duration": 200,
    "start_time": "2022-09-02T12:17:02.829Z"
   },
   {
    "duration": 125,
    "start_time": "2022-09-02T12:17:03.031Z"
   },
   {
    "duration": 357,
    "start_time": "2022-09-02T12:17:03.158Z"
   },
   {
    "duration": 270,
    "start_time": "2022-09-02T12:17:03.517Z"
   },
   {
    "duration": 246,
    "start_time": "2022-09-02T12:17:03.789Z"
   },
   {
    "duration": 264,
    "start_time": "2022-09-02T12:17:04.037Z"
   },
   {
    "duration": 164,
    "start_time": "2022-09-02T12:17:04.303Z"
   },
   {
    "duration": 251,
    "start_time": "2022-09-02T12:17:04.470Z"
   },
   {
    "duration": 19,
    "start_time": "2022-09-02T12:17:04.722Z"
   },
   {
    "duration": 23,
    "start_time": "2022-09-02T12:17:04.743Z"
   },
   {
    "duration": 567,
    "start_time": "2022-09-02T12:17:04.768Z"
   },
   {
    "duration": 141,
    "start_time": "2022-09-02T12:17:05.336Z"
   },
   {
    "duration": 17,
    "start_time": "2022-09-02T12:17:05.479Z"
   },
   {
    "duration": 176,
    "start_time": "2022-09-02T12:17:05.498Z"
   },
   {
    "duration": 9,
    "start_time": "2022-09-02T12:17:05.676Z"
   },
   {
    "duration": 1158,
    "start_time": "2022-09-02T12:17:05.687Z"
   },
   {
    "duration": 0,
    "start_time": "2022-09-02T12:17:06.846Z"
   },
   {
    "duration": 0,
    "start_time": "2022-09-02T12:17:06.848Z"
   },
   {
    "duration": 0,
    "start_time": "2022-09-02T12:17:06.849Z"
   },
   {
    "duration": 0,
    "start_time": "2022-09-02T12:17:06.850Z"
   },
   {
    "duration": 0,
    "start_time": "2022-09-02T12:17:06.851Z"
   },
   {
    "duration": 0,
    "start_time": "2022-09-02T12:17:06.852Z"
   },
   {
    "duration": 0,
    "start_time": "2022-09-02T12:17:06.852Z"
   },
   {
    "duration": 0,
    "start_time": "2022-09-02T12:17:06.853Z"
   },
   {
    "duration": 0,
    "start_time": "2022-09-02T12:17:06.854Z"
   },
   {
    "duration": 0,
    "start_time": "2022-09-02T12:17:06.855Z"
   },
   {
    "duration": 0,
    "start_time": "2022-09-02T12:17:06.856Z"
   },
   {
    "duration": 0,
    "start_time": "2022-09-02T12:17:06.857Z"
   },
   {
    "duration": 0,
    "start_time": "2022-09-02T12:17:06.858Z"
   },
   {
    "duration": 0,
    "start_time": "2022-09-02T12:17:06.859Z"
   },
   {
    "duration": 0,
    "start_time": "2022-09-02T12:17:06.860Z"
   },
   {
    "duration": 14,
    "start_time": "2022-09-02T12:17:32.934Z"
   },
   {
    "duration": 172,
    "start_time": "2022-09-02T12:17:36.425Z"
   },
   {
    "duration": 9,
    "start_time": "2022-09-02T12:17:39.469Z"
   },
   {
    "duration": 250,
    "start_time": "2022-09-02T12:17:44.850Z"
   },
   {
    "duration": 175,
    "start_time": "2022-09-02T12:19:28.730Z"
   },
   {
    "duration": 223,
    "start_time": "2022-09-02T12:20:14.086Z"
   },
   {
    "duration": 323,
    "start_time": "2022-09-02T12:20:36.520Z"
   },
   {
    "duration": 430,
    "start_time": "2022-09-02T12:20:52.414Z"
   },
   {
    "duration": 51,
    "start_time": "2022-09-02T12:21:24.754Z"
   },
   {
    "duration": 57,
    "start_time": "2022-09-02T12:21:31.824Z"
   },
   {
    "duration": 526,
    "start_time": "2022-09-02T12:21:43.239Z"
   },
   {
    "duration": 1053,
    "start_time": "2022-09-02T12:24:15.216Z"
   },
   {
    "duration": 12,
    "start_time": "2022-09-02T12:24:31.683Z"
   },
   {
    "duration": 1076,
    "start_time": "2022-09-02T12:24:33.352Z"
   },
   {
    "duration": 160,
    "start_time": "2022-09-02T12:25:59.202Z"
   },
   {
    "duration": 148,
    "start_time": "2022-09-02T12:26:02.385Z"
   },
   {
    "duration": 151,
    "start_time": "2022-09-02T12:26:05.996Z"
   },
   {
    "duration": 156,
    "start_time": "2022-09-02T12:26:10.159Z"
   },
   {
    "duration": 44,
    "start_time": "2022-09-02T14:00:42.454Z"
   },
   {
    "duration": 416,
    "start_time": "2022-09-02T14:00:53.773Z"
   },
   {
    "duration": 350,
    "start_time": "2022-09-02T14:00:54.191Z"
   },
   {
    "duration": 2174,
    "start_time": "2022-09-02T14:00:54.544Z"
   },
   {
    "duration": 1846,
    "start_time": "2022-09-02T14:00:56.719Z"
   },
   {
    "duration": 15,
    "start_time": "2022-09-02T14:00:58.567Z"
   },
   {
    "duration": 25,
    "start_time": "2022-09-02T14:00:58.584Z"
   },
   {
    "duration": 10,
    "start_time": "2022-09-02T14:00:58.611Z"
   },
   {
    "duration": 15,
    "start_time": "2022-09-02T14:00:58.622Z"
   },
   {
    "duration": 7,
    "start_time": "2022-09-02T14:00:58.640Z"
   },
   {
    "duration": 21,
    "start_time": "2022-09-02T14:00:58.649Z"
   },
   {
    "duration": 10,
    "start_time": "2022-09-02T14:00:58.671Z"
   },
   {
    "duration": 32,
    "start_time": "2022-09-02T14:00:58.682Z"
   },
   {
    "duration": 9,
    "start_time": "2022-09-02T14:00:58.715Z"
   },
   {
    "duration": 14,
    "start_time": "2022-09-02T14:00:58.726Z"
   },
   {
    "duration": 13,
    "start_time": "2022-09-02T14:00:58.741Z"
   },
   {
    "duration": 57,
    "start_time": "2022-09-02T14:00:58.755Z"
   },
   {
    "duration": 3,
    "start_time": "2022-09-02T14:00:58.814Z"
   },
   {
    "duration": 218,
    "start_time": "2022-09-02T14:00:58.819Z"
   },
   {
    "duration": 5,
    "start_time": "2022-09-02T14:00:59.039Z"
   },
   {
    "duration": 13,
    "start_time": "2022-09-02T14:00:59.046Z"
   },
   {
    "duration": 10,
    "start_time": "2022-09-02T14:00:59.061Z"
   },
   {
    "duration": 16,
    "start_time": "2022-09-02T14:00:59.073Z"
   },
   {
    "duration": 17,
    "start_time": "2022-09-02T14:00:59.108Z"
   },
   {
    "duration": 15,
    "start_time": "2022-09-02T14:00:59.126Z"
   },
   {
    "duration": 12,
    "start_time": "2022-09-02T14:00:59.142Z"
   },
   {
    "duration": 260,
    "start_time": "2022-09-02T14:00:59.156Z"
   },
   {
    "duration": 39,
    "start_time": "2022-09-02T14:00:59.419Z"
   },
   {
    "duration": 175,
    "start_time": "2022-09-02T14:00:59.459Z"
   },
   {
    "duration": 266,
    "start_time": "2022-09-02T14:00:59.636Z"
   },
   {
    "duration": 257,
    "start_time": "2022-09-02T14:00:59.908Z"
   },
   {
    "duration": 253,
    "start_time": "2022-09-02T14:01:00.167Z"
   },
   {
    "duration": 255,
    "start_time": "2022-09-02T14:01:00.421Z"
   },
   {
    "duration": 167,
    "start_time": "2022-09-02T14:01:00.678Z"
   },
   {
    "duration": 241,
    "start_time": "2022-09-02T14:01:00.847Z"
   },
   {
    "duration": 179,
    "start_time": "2022-09-02T14:01:01.090Z"
   },
   {
    "duration": 198,
    "start_time": "2022-09-02T14:01:01.271Z"
   },
   {
    "duration": 262,
    "start_time": "2022-09-02T14:01:01.471Z"
   },
   {
    "duration": 255,
    "start_time": "2022-09-02T14:01:01.735Z"
   },
   {
    "duration": 267,
    "start_time": "2022-09-02T14:01:01.991Z"
   },
   {
    "duration": 254,
    "start_time": "2022-09-02T14:01:02.259Z"
   },
   {
    "duration": 166,
    "start_time": "2022-09-02T14:01:02.515Z"
   },
   {
    "duration": 346,
    "start_time": "2022-09-02T14:01:02.683Z"
   },
   {
    "duration": 19,
    "start_time": "2022-09-02T14:01:03.031Z"
   },
   {
    "duration": 11,
    "start_time": "2022-09-02T14:01:03.052Z"
   },
   {
    "duration": 482,
    "start_time": "2022-09-02T14:01:03.064Z"
   },
   {
    "duration": 149,
    "start_time": "2022-09-02T14:01:03.548Z"
   },
   {
    "duration": 30,
    "start_time": "2022-09-02T14:01:03.700Z"
   },
   {
    "duration": 172,
    "start_time": "2022-09-02T14:01:03.732Z"
   },
   {
    "duration": 13,
    "start_time": "2022-09-02T14:01:03.908Z"
   },
   {
    "duration": 164,
    "start_time": "2022-09-02T14:01:03.922Z"
   },
   {
    "duration": 21,
    "start_time": "2022-09-02T14:01:04.088Z"
   },
   {
    "duration": 288,
    "start_time": "2022-09-02T14:01:04.110Z"
   },
   {
    "duration": 15,
    "start_time": "2022-09-02T14:01:04.400Z"
   },
   {
    "duration": 1038,
    "start_time": "2022-09-02T14:01:04.416Z"
   },
   {
    "duration": 0,
    "start_time": "2022-09-02T14:01:05.456Z"
   },
   {
    "duration": 0,
    "start_time": "2022-09-02T14:01:05.456Z"
   },
   {
    "duration": 0,
    "start_time": "2022-09-02T14:01:05.458Z"
   },
   {
    "duration": 0,
    "start_time": "2022-09-02T14:01:05.459Z"
   },
   {
    "duration": 0,
    "start_time": "2022-09-02T14:01:05.460Z"
   },
   {
    "duration": 0,
    "start_time": "2022-09-02T14:01:05.461Z"
   },
   {
    "duration": 0,
    "start_time": "2022-09-02T14:01:05.462Z"
   },
   {
    "duration": 0,
    "start_time": "2022-09-02T14:01:05.463Z"
   },
   {
    "duration": 0,
    "start_time": "2022-09-02T14:01:05.464Z"
   },
   {
    "duration": 0,
    "start_time": "2022-09-02T14:01:05.465Z"
   },
   {
    "duration": 0,
    "start_time": "2022-09-02T14:01:05.466Z"
   },
   {
    "duration": 9,
    "start_time": "2022-09-02T14:01:38.930Z"
   },
   {
    "duration": 178,
    "start_time": "2022-09-02T14:06:52.399Z"
   },
   {
    "duration": 7253,
    "start_time": "2022-09-02T14:07:15.161Z"
   },
   {
    "duration": 10,
    "start_time": "2022-09-02T14:09:15.846Z"
   },
   {
    "duration": 10,
    "start_time": "2022-09-02T14:09:40.414Z"
   },
   {
    "duration": 3,
    "start_time": "2022-09-02T14:09:45.171Z"
   },
   {
    "duration": 167,
    "start_time": "2022-09-02T14:09:46.800Z"
   },
   {
    "duration": 149,
    "start_time": "2022-09-02T14:10:13.955Z"
   },
   {
    "duration": 155,
    "start_time": "2022-09-02T14:11:21.475Z"
   },
   {
    "duration": 292,
    "start_time": "2022-09-02T14:11:25.702Z"
   },
   {
    "duration": 13,
    "start_time": "2022-09-02T14:13:46.496Z"
   },
   {
    "duration": 172,
    "start_time": "2022-09-02T14:14:01.119Z"
   },
   {
    "duration": 17,
    "start_time": "2022-09-02T14:15:46.412Z"
   },
   {
    "duration": 15,
    "start_time": "2022-09-02T14:15:51.761Z"
   },
   {
    "duration": 16,
    "start_time": "2022-09-02T14:16:03.940Z"
   },
   {
    "duration": 159,
    "start_time": "2022-09-02T14:16:37.953Z"
   },
   {
    "duration": 160,
    "start_time": "2022-09-02T14:17:35.528Z"
   },
   {
    "duration": 167,
    "start_time": "2022-09-02T14:17:49.146Z"
   },
   {
    "duration": 178,
    "start_time": "2022-09-02T14:18:33.195Z"
   },
   {
    "duration": 11,
    "start_time": "2022-09-02T14:22:24.720Z"
   },
   {
    "duration": 9,
    "start_time": "2022-09-02T14:23:09.500Z"
   },
   {
    "duration": 16,
    "start_time": "2022-09-02T14:23:36.642Z"
   },
   {
    "duration": 13672,
    "start_time": "2022-09-02T14:24:36.638Z"
   },
   {
    "duration": 407,
    "start_time": "2022-09-02T14:25:13.473Z"
   },
   {
    "duration": 175,
    "start_time": "2022-09-02T14:27:01.185Z"
   },
   {
    "duration": 169,
    "start_time": "2022-09-02T14:27:06.536Z"
   },
   {
    "duration": 434,
    "start_time": "2022-09-02T14:27:29.848Z"
   },
   {
    "duration": 180,
    "start_time": "2022-09-02T14:28:51.616Z"
   },
   {
    "duration": 221,
    "start_time": "2022-09-02T14:29:17.324Z"
   },
   {
    "duration": 574,
    "start_time": "2022-09-02T14:29:30.606Z"
   },
   {
    "duration": 169,
    "start_time": "2022-09-02T14:29:36.571Z"
   },
   {
    "duration": 421,
    "start_time": "2022-09-02T14:29:54.450Z"
   },
   {
    "duration": 451,
    "start_time": "2022-09-02T14:30:00.822Z"
   },
   {
    "duration": 475,
    "start_time": "2022-09-02T14:30:05.847Z"
   },
   {
    "duration": 401,
    "start_time": "2022-09-02T14:30:10.874Z"
   },
   {
    "duration": 186,
    "start_time": "2022-09-02T14:30:15.679Z"
   },
   {
    "duration": 465,
    "start_time": "2022-09-02T14:30:37.185Z"
   },
   {
    "duration": 405,
    "start_time": "2022-09-02T14:30:43.276Z"
   },
   {
    "duration": 431,
    "start_time": "2022-09-02T14:30:51.554Z"
   },
   {
    "duration": 171,
    "start_time": "2022-09-02T14:31:00.290Z"
   },
   {
    "duration": 433,
    "start_time": "2022-09-02T14:31:15.945Z"
   },
   {
    "duration": 446,
    "start_time": "2022-09-02T14:31:30.192Z"
   },
   {
    "duration": 426,
    "start_time": "2022-09-02T14:31:33.564Z"
   },
   {
    "duration": 436,
    "start_time": "2022-09-02T14:31:40.853Z"
   },
   {
    "duration": 468,
    "start_time": "2022-09-02T14:32:00.104Z"
   },
   {
    "duration": 10,
    "start_time": "2022-09-02T14:34:58.678Z"
   },
   {
    "duration": 10,
    "start_time": "2022-09-02T14:35:18.572Z"
   },
   {
    "duration": 17,
    "start_time": "2022-09-02T14:35:43.955Z"
   },
   {
    "duration": 10,
    "start_time": "2022-09-02T14:35:51.786Z"
   },
   {
    "duration": 10,
    "start_time": "2022-09-02T14:36:06.626Z"
   },
   {
    "duration": 10,
    "start_time": "2022-09-02T14:36:54.642Z"
   },
   {
    "duration": 9,
    "start_time": "2022-09-02T14:38:24.341Z"
   },
   {
    "duration": 1056,
    "start_time": "2022-09-02T14:38:28.575Z"
   },
   {
    "duration": 10,
    "start_time": "2022-09-02T14:38:55.906Z"
   },
   {
    "duration": 182,
    "start_time": "2022-09-02T14:39:04.477Z"
   },
   {
    "duration": 404,
    "start_time": "2022-09-02T14:39:24.339Z"
   },
   {
    "duration": 181,
    "start_time": "2022-09-02T14:39:38.995Z"
   },
   {
    "duration": 187,
    "start_time": "2022-09-02T14:39:57.486Z"
   },
   {
    "duration": 439,
    "start_time": "2022-09-02T14:40:29.445Z"
   },
   {
    "duration": 470,
    "start_time": "2022-09-02T14:40:39.711Z"
   },
   {
    "duration": 211,
    "start_time": "2022-09-02T14:40:50.692Z"
   },
   {
    "duration": 457,
    "start_time": "2022-09-02T14:41:10.337Z"
   },
   {
    "duration": 456,
    "start_time": "2022-09-02T14:41:20.084Z"
   },
   {
    "duration": 476,
    "start_time": "2022-09-02T14:41:26.972Z"
   },
   {
    "duration": 185,
    "start_time": "2022-09-02T14:41:30.837Z"
   },
   {
    "duration": 446,
    "start_time": "2022-09-02T14:41:50.148Z"
   },
   {
    "duration": 453,
    "start_time": "2022-09-02T14:41:59.729Z"
   },
   {
    "duration": 502,
    "start_time": "2022-09-02T14:42:05.083Z"
   },
   {
    "duration": 474,
    "start_time": "2022-09-02T14:42:23.719Z"
   },
   {
    "duration": 200,
    "start_time": "2022-09-02T14:43:45.336Z"
   },
   {
    "duration": 40,
    "start_time": "2022-09-02T14:43:55.073Z"
   },
   {
    "duration": 21,
    "start_time": "2022-09-02T14:43:58.925Z"
   },
   {
    "duration": 7,
    "start_time": "2022-09-02T15:27:29.862Z"
   },
   {
    "duration": 411,
    "start_time": "2022-09-02T15:27:38.791Z"
   },
   {
    "duration": 128,
    "start_time": "2022-09-02T15:27:39.205Z"
   },
   {
    "duration": 2064,
    "start_time": "2022-09-02T15:27:39.334Z"
   },
   {
    "duration": 1760,
    "start_time": "2022-09-02T15:27:41.400Z"
   },
   {
    "duration": 8,
    "start_time": "2022-09-02T15:27:43.162Z"
   },
   {
    "duration": 12,
    "start_time": "2022-09-02T15:27:43.172Z"
   },
   {
    "duration": 29,
    "start_time": "2022-09-02T15:27:43.185Z"
   },
   {
    "duration": 16,
    "start_time": "2022-09-02T15:27:43.215Z"
   },
   {
    "duration": 7,
    "start_time": "2022-09-02T15:27:43.232Z"
   },
   {
    "duration": 20,
    "start_time": "2022-09-02T15:27:43.241Z"
   },
   {
    "duration": 11,
    "start_time": "2022-09-02T15:27:43.262Z"
   },
   {
    "duration": 39,
    "start_time": "2022-09-02T15:27:43.274Z"
   },
   {
    "duration": 13,
    "start_time": "2022-09-02T15:27:43.315Z"
   },
   {
    "duration": 17,
    "start_time": "2022-09-02T15:27:43.329Z"
   },
   {
    "duration": 13,
    "start_time": "2022-09-02T15:27:43.348Z"
   },
   {
    "duration": 51,
    "start_time": "2022-09-02T15:27:43.362Z"
   },
   {
    "duration": 4,
    "start_time": "2022-09-02T15:27:43.415Z"
   },
   {
    "duration": 216,
    "start_time": "2022-09-02T15:27:43.420Z"
   },
   {
    "duration": 5,
    "start_time": "2022-09-02T15:27:43.638Z"
   },
   {
    "duration": 19,
    "start_time": "2022-09-02T15:27:43.644Z"
   },
   {
    "duration": 8,
    "start_time": "2022-09-02T15:27:43.664Z"
   },
   {
    "duration": 35,
    "start_time": "2022-09-02T15:27:43.674Z"
   },
   {
    "duration": 17,
    "start_time": "2022-09-02T15:27:43.711Z"
   },
   {
    "duration": 13,
    "start_time": "2022-09-02T15:27:43.730Z"
   },
   {
    "duration": 12,
    "start_time": "2022-09-02T15:27:43.745Z"
   },
   {
    "duration": 278,
    "start_time": "2022-09-02T15:27:43.758Z"
   },
   {
    "duration": 40,
    "start_time": "2022-09-02T15:27:44.038Z"
   },
   {
    "duration": 197,
    "start_time": "2022-09-02T15:27:44.082Z"
   },
   {
    "duration": 200,
    "start_time": "2022-09-02T15:27:44.280Z"
   },
   {
    "duration": 334,
    "start_time": "2022-09-02T15:27:44.482Z"
   },
   {
    "duration": 247,
    "start_time": "2022-09-02T15:27:44.818Z"
   },
   {
    "duration": 261,
    "start_time": "2022-09-02T15:27:45.067Z"
   },
   {
    "duration": 151,
    "start_time": "2022-09-02T15:27:45.330Z"
   },
   {
    "duration": 242,
    "start_time": "2022-09-02T15:27:45.483Z"
   },
   {
    "duration": 179,
    "start_time": "2022-09-02T15:27:45.726Z"
   },
   {
    "duration": 140,
    "start_time": "2022-09-02T15:27:45.907Z"
   },
   {
    "duration": 329,
    "start_time": "2022-09-02T15:27:46.049Z"
   },
   {
    "duration": 242,
    "start_time": "2022-09-02T15:27:46.380Z"
   },
   {
    "duration": 228,
    "start_time": "2022-09-02T15:27:46.623Z"
   },
   {
    "duration": 245,
    "start_time": "2022-09-02T15:27:46.853Z"
   },
   {
    "duration": 197,
    "start_time": "2022-09-02T15:27:47.099Z"
   },
   {
    "duration": 280,
    "start_time": "2022-09-02T15:27:47.299Z"
   },
   {
    "duration": 12,
    "start_time": "2022-09-02T15:27:47.581Z"
   },
   {
    "duration": 9,
    "start_time": "2022-09-02T15:27:47.594Z"
   },
   {
    "duration": 627,
    "start_time": "2022-09-02T15:27:47.609Z"
   },
   {
    "duration": 302,
    "start_time": "2022-09-02T15:27:48.237Z"
   },
   {
    "duration": 11,
    "start_time": "2022-09-02T15:27:48.541Z"
   },
   {
    "duration": 325,
    "start_time": "2022-09-02T15:27:48.609Z"
   },
   {
    "duration": 9,
    "start_time": "2022-09-02T15:27:48.935Z"
   },
   {
    "duration": 193,
    "start_time": "2022-09-02T15:27:48.946Z"
   },
   {
    "duration": 0,
    "start_time": "2022-09-02T15:27:49.140Z"
   },
   {
    "duration": 0,
    "start_time": "2022-09-02T15:27:49.141Z"
   },
   {
    "duration": 0,
    "start_time": "2022-09-02T15:27:49.143Z"
   },
   {
    "duration": 0,
    "start_time": "2022-09-02T15:27:49.144Z"
   },
   {
    "duration": 0,
    "start_time": "2022-09-02T15:27:49.145Z"
   },
   {
    "duration": 0,
    "start_time": "2022-09-02T15:27:49.146Z"
   },
   {
    "duration": 0,
    "start_time": "2022-09-02T15:27:49.147Z"
   },
   {
    "duration": 0,
    "start_time": "2022-09-02T15:27:49.149Z"
   },
   {
    "duration": 0,
    "start_time": "2022-09-02T15:27:49.150Z"
   },
   {
    "duration": 0,
    "start_time": "2022-09-02T15:27:49.151Z"
   },
   {
    "duration": 0,
    "start_time": "2022-09-02T15:27:49.153Z"
   },
   {
    "duration": 0,
    "start_time": "2022-09-02T15:27:49.210Z"
   },
   {
    "duration": 0,
    "start_time": "2022-09-02T15:27:49.211Z"
   },
   {
    "duration": 0,
    "start_time": "2022-09-02T15:27:49.212Z"
   },
   {
    "duration": 0,
    "start_time": "2022-09-02T15:27:49.215Z"
   },
   {
    "duration": 50,
    "start_time": "2022-09-02T15:32:42.063Z"
   },
   {
    "duration": 6,
    "start_time": "2022-09-02T15:32:52.890Z"
   },
   {
    "duration": 8,
    "start_time": "2022-09-02T15:33:09.528Z"
   },
   {
    "duration": 99,
    "start_time": "2022-09-02T15:33:23.485Z"
   },
   {
    "duration": 13,
    "start_time": "2022-09-02T15:33:28.059Z"
   },
   {
    "duration": 12,
    "start_time": "2022-09-02T15:33:35.588Z"
   },
   {
    "duration": 11,
    "start_time": "2022-09-02T15:33:38.919Z"
   },
   {
    "duration": 6,
    "start_time": "2022-09-02T15:38:53.442Z"
   },
   {
    "duration": 14,
    "start_time": "2022-09-02T15:39:45.180Z"
   },
   {
    "duration": 399,
    "start_time": "2022-09-02T15:39:55.751Z"
   },
   {
    "duration": 149,
    "start_time": "2022-09-02T15:39:56.152Z"
   },
   {
    "duration": 2219,
    "start_time": "2022-09-02T15:39:56.303Z"
   },
   {
    "duration": 2784,
    "start_time": "2022-09-02T15:39:58.525Z"
   },
   {
    "duration": 13,
    "start_time": "2022-09-02T15:40:01.312Z"
   },
   {
    "duration": 34,
    "start_time": "2022-09-02T15:40:01.327Z"
   },
   {
    "duration": 50,
    "start_time": "2022-09-02T15:40:01.363Z"
   },
   {
    "duration": 115,
    "start_time": "2022-09-02T15:40:01.415Z"
   },
   {
    "duration": 0,
    "start_time": "2022-09-02T15:40:01.535Z"
   },
   {
    "duration": 0,
    "start_time": "2022-09-02T15:40:01.537Z"
   },
   {
    "duration": 0,
    "start_time": "2022-09-02T15:40:01.538Z"
   },
   {
    "duration": 0,
    "start_time": "2022-09-02T15:40:01.540Z"
   },
   {
    "duration": 0,
    "start_time": "2022-09-02T15:40:01.541Z"
   },
   {
    "duration": 0,
    "start_time": "2022-09-02T15:40:01.543Z"
   },
   {
    "duration": 0,
    "start_time": "2022-09-02T15:40:01.543Z"
   },
   {
    "duration": 0,
    "start_time": "2022-09-02T15:40:01.545Z"
   },
   {
    "duration": 0,
    "start_time": "2022-09-02T15:40:01.546Z"
   },
   {
    "duration": 0,
    "start_time": "2022-09-02T15:40:01.548Z"
   },
   {
    "duration": 0,
    "start_time": "2022-09-02T15:40:01.549Z"
   },
   {
    "duration": 0,
    "start_time": "2022-09-02T15:40:01.550Z"
   },
   {
    "duration": 0,
    "start_time": "2022-09-02T15:40:01.551Z"
   },
   {
    "duration": 0,
    "start_time": "2022-09-02T15:40:01.552Z"
   },
   {
    "duration": 0,
    "start_time": "2022-09-02T15:40:01.554Z"
   },
   {
    "duration": 0,
    "start_time": "2022-09-02T15:40:01.555Z"
   },
   {
    "duration": 0,
    "start_time": "2022-09-02T15:40:01.557Z"
   },
   {
    "duration": 0,
    "start_time": "2022-09-02T15:40:01.558Z"
   },
   {
    "duration": 0,
    "start_time": "2022-09-02T15:40:01.559Z"
   },
   {
    "duration": 0,
    "start_time": "2022-09-02T15:40:01.561Z"
   },
   {
    "duration": 0,
    "start_time": "2022-09-02T15:40:01.609Z"
   },
   {
    "duration": 0,
    "start_time": "2022-09-02T15:40:01.611Z"
   },
   {
    "duration": 0,
    "start_time": "2022-09-02T15:40:01.612Z"
   },
   {
    "duration": 0,
    "start_time": "2022-09-02T15:40:01.614Z"
   },
   {
    "duration": 0,
    "start_time": "2022-09-02T15:40:01.615Z"
   },
   {
    "duration": 0,
    "start_time": "2022-09-02T15:40:01.617Z"
   },
   {
    "duration": 0,
    "start_time": "2022-09-02T15:40:01.618Z"
   },
   {
    "duration": 0,
    "start_time": "2022-09-02T15:40:01.619Z"
   },
   {
    "duration": 0,
    "start_time": "2022-09-02T15:40:01.620Z"
   },
   {
    "duration": 0,
    "start_time": "2022-09-02T15:40:01.622Z"
   },
   {
    "duration": 1,
    "start_time": "2022-09-02T15:40:01.623Z"
   },
   {
    "duration": 0,
    "start_time": "2022-09-02T15:40:01.625Z"
   },
   {
    "duration": 0,
    "start_time": "2022-09-02T15:40:01.626Z"
   },
   {
    "duration": 0,
    "start_time": "2022-09-02T15:40:01.628Z"
   },
   {
    "duration": 0,
    "start_time": "2022-09-02T15:40:01.629Z"
   },
   {
    "duration": 0,
    "start_time": "2022-09-02T15:40:01.631Z"
   },
   {
    "duration": 0,
    "start_time": "2022-09-02T15:40:01.633Z"
   },
   {
    "duration": 0,
    "start_time": "2022-09-02T15:40:01.634Z"
   },
   {
    "duration": 0,
    "start_time": "2022-09-02T15:40:01.636Z"
   },
   {
    "duration": 0,
    "start_time": "2022-09-02T15:40:01.638Z"
   },
   {
    "duration": 0,
    "start_time": "2022-09-02T15:40:01.640Z"
   },
   {
    "duration": 0,
    "start_time": "2022-09-02T15:40:01.641Z"
   },
   {
    "duration": 0,
    "start_time": "2022-09-02T15:40:01.643Z"
   },
   {
    "duration": 0,
    "start_time": "2022-09-02T15:40:01.645Z"
   },
   {
    "duration": 0,
    "start_time": "2022-09-02T15:40:01.648Z"
   },
   {
    "duration": 0,
    "start_time": "2022-09-02T15:40:01.710Z"
   },
   {
    "duration": 0,
    "start_time": "2022-09-02T15:40:01.712Z"
   },
   {
    "duration": 0,
    "start_time": "2022-09-02T15:40:01.714Z"
   },
   {
    "duration": 0,
    "start_time": "2022-09-02T15:40:01.715Z"
   },
   {
    "duration": 0,
    "start_time": "2022-09-02T15:40:01.717Z"
   },
   {
    "duration": 0,
    "start_time": "2022-09-02T15:40:01.718Z"
   },
   {
    "duration": 0,
    "start_time": "2022-09-02T15:40:01.719Z"
   },
   {
    "duration": 0,
    "start_time": "2022-09-02T15:40:01.720Z"
   },
   {
    "duration": 0,
    "start_time": "2022-09-02T15:40:01.721Z"
   },
   {
    "duration": 0,
    "start_time": "2022-09-02T15:40:01.723Z"
   },
   {
    "duration": 0,
    "start_time": "2022-09-02T15:40:01.725Z"
   },
   {
    "duration": 0,
    "start_time": "2022-09-02T15:40:01.726Z"
   },
   {
    "duration": 14,
    "start_time": "2022-09-02T15:40:12.691Z"
   },
   {
    "duration": 8,
    "start_time": "2022-09-02T15:40:34.875Z"
   },
   {
    "duration": 353,
    "start_time": "2022-09-02T16:43:59.359Z"
   },
   {
    "duration": 132,
    "start_time": "2022-09-02T16:43:59.715Z"
   },
   {
    "duration": 2086,
    "start_time": "2022-09-02T16:43:59.848Z"
   },
   {
    "duration": 1872,
    "start_time": "2022-09-02T16:44:01.937Z"
   },
   {
    "duration": 9,
    "start_time": "2022-09-02T16:44:03.810Z"
   },
   {
    "duration": 10,
    "start_time": "2022-09-02T16:44:03.821Z"
   },
   {
    "duration": 9,
    "start_time": "2022-09-02T16:44:03.832Z"
   },
   {
    "duration": 11,
    "start_time": "2022-09-02T16:44:03.842Z"
   },
   {
    "duration": 16,
    "start_time": "2022-09-02T16:44:03.854Z"
   },
   {
    "duration": 54,
    "start_time": "2022-09-02T16:44:03.872Z"
   },
   {
    "duration": 11,
    "start_time": "2022-09-02T16:44:03.928Z"
   },
   {
    "duration": 21,
    "start_time": "2022-09-02T16:44:03.941Z"
   },
   {
    "duration": 10,
    "start_time": "2022-09-02T16:44:03.964Z"
   },
   {
    "duration": 38,
    "start_time": "2022-09-02T16:44:03.976Z"
   },
   {
    "duration": 16,
    "start_time": "2022-09-02T16:44:04.016Z"
   },
   {
    "duration": 31,
    "start_time": "2022-09-02T16:44:04.034Z"
   },
   {
    "duration": 4,
    "start_time": "2022-09-02T16:44:04.066Z"
   },
   {
    "duration": 246,
    "start_time": "2022-09-02T16:44:04.072Z"
   },
   {
    "duration": 7,
    "start_time": "2022-09-02T16:44:04.320Z"
   },
   {
    "duration": 20,
    "start_time": "2022-09-02T16:44:04.328Z"
   },
   {
    "duration": 8,
    "start_time": "2022-09-02T16:44:04.350Z"
   },
   {
    "duration": 14,
    "start_time": "2022-09-02T16:44:04.360Z"
   },
   {
    "duration": 45,
    "start_time": "2022-09-02T16:44:04.375Z"
   },
   {
    "duration": 14,
    "start_time": "2022-09-02T16:44:04.422Z"
   },
   {
    "duration": 12,
    "start_time": "2022-09-02T16:44:04.438Z"
   },
   {
    "duration": 265,
    "start_time": "2022-09-02T16:44:04.451Z"
   },
   {
    "duration": 38,
    "start_time": "2022-09-02T16:44:04.717Z"
   },
   {
    "duration": 185,
    "start_time": "2022-09-02T16:44:04.759Z"
   },
   {
    "duration": 190,
    "start_time": "2022-09-02T16:44:04.945Z"
   },
   {
    "duration": 347,
    "start_time": "2022-09-02T16:44:05.136Z"
   },
   {
    "duration": 289,
    "start_time": "2022-09-02T16:44:05.485Z"
   },
   {
    "duration": 308,
    "start_time": "2022-09-02T16:44:05.776Z"
   },
   {
    "duration": 170,
    "start_time": "2022-09-02T16:44:06.086Z"
   },
   {
    "duration": 243,
    "start_time": "2022-09-02T16:44:06.258Z"
   },
   {
    "duration": 178,
    "start_time": "2022-09-02T16:44:06.503Z"
   },
   {
    "duration": 117,
    "start_time": "2022-09-02T16:44:06.682Z"
   },
   {
    "duration": 323,
    "start_time": "2022-09-02T16:44:06.808Z"
   },
   {
    "duration": 321,
    "start_time": "2022-09-02T16:44:07.132Z"
   },
   {
    "duration": 232,
    "start_time": "2022-09-02T16:44:07.455Z"
   },
   {
    "duration": 274,
    "start_time": "2022-09-02T16:44:07.689Z"
   },
   {
    "duration": 167,
    "start_time": "2022-09-02T16:44:07.964Z"
   },
   {
    "duration": 251,
    "start_time": "2022-09-02T16:44:08.133Z"
   },
   {
    "duration": 26,
    "start_time": "2022-09-02T16:44:08.386Z"
   },
   {
    "duration": 9,
    "start_time": "2022-09-02T16:44:08.414Z"
   },
   {
    "duration": 516,
    "start_time": "2022-09-02T16:44:08.425Z"
   },
   {
    "duration": 147,
    "start_time": "2022-09-02T16:44:08.942Z"
   },
   {
    "duration": 23,
    "start_time": "2022-09-02T16:44:09.091Z"
   },
   {
    "duration": 181,
    "start_time": "2022-09-02T16:44:09.115Z"
   },
   {
    "duration": 13,
    "start_time": "2022-09-02T16:44:09.298Z"
   },
   {
    "duration": 106,
    "start_time": "2022-09-02T16:44:09.313Z"
   },
   {
    "duration": 0,
    "start_time": "2022-09-02T16:44:09.420Z"
   },
   {
    "duration": 0,
    "start_time": "2022-09-02T16:44:09.422Z"
   },
   {
    "duration": 0,
    "start_time": "2022-09-02T16:44:09.423Z"
   },
   {
    "duration": 0,
    "start_time": "2022-09-02T16:44:09.424Z"
   },
   {
    "duration": 1,
    "start_time": "2022-09-02T16:44:09.425Z"
   },
   {
    "duration": 0,
    "start_time": "2022-09-02T16:44:09.427Z"
   },
   {
    "duration": 0,
    "start_time": "2022-09-02T16:44:09.428Z"
   },
   {
    "duration": 0,
    "start_time": "2022-09-02T16:44:09.429Z"
   },
   {
    "duration": 0,
    "start_time": "2022-09-02T16:44:09.429Z"
   },
   {
    "duration": 0,
    "start_time": "2022-09-02T16:44:09.431Z"
   },
   {
    "duration": 0,
    "start_time": "2022-09-02T16:44:09.431Z"
   },
   {
    "duration": 0,
    "start_time": "2022-09-02T16:44:09.432Z"
   },
   {
    "duration": 0,
    "start_time": "2022-09-02T16:44:09.433Z"
   },
   {
    "duration": 0,
    "start_time": "2022-09-02T16:44:09.434Z"
   },
   {
    "duration": 0,
    "start_time": "2022-09-02T16:44:09.435Z"
   },
   {
    "duration": 175,
    "start_time": "2022-09-02T16:47:05.314Z"
   },
   {
    "duration": 506,
    "start_time": "2022-09-02T16:47:13.218Z"
   },
   {
    "duration": 10,
    "start_time": "2022-09-02T16:47:28.423Z"
   },
   {
    "duration": 10,
    "start_time": "2022-09-02T16:47:33.581Z"
   },
   {
    "duration": 182,
    "start_time": "2022-09-02T16:47:35.621Z"
   },
   {
    "duration": 10,
    "start_time": "2022-09-02T16:47:37.955Z"
   },
   {
    "duration": 14,
    "start_time": "2022-09-02T16:47:45.877Z"
   },
   {
    "duration": 512,
    "start_time": "2022-09-02T16:47:47.336Z"
   },
   {
    "duration": 15,
    "start_time": "2022-09-02T16:48:04.950Z"
   },
   {
    "duration": 182,
    "start_time": "2022-09-02T16:48:07.173Z"
   },
   {
    "duration": 14,
    "start_time": "2022-09-02T16:48:09.957Z"
   },
   {
    "duration": 134,
    "start_time": "2022-09-02T16:48:12.516Z"
   },
   {
    "duration": 31,
    "start_time": "2022-09-02T16:48:16.934Z"
   },
   {
    "duration": 457,
    "start_time": "2022-09-02T16:48:20.362Z"
   },
   {
    "duration": 201,
    "start_time": "2022-09-02T16:48:26.222Z"
   },
   {
    "duration": 43,
    "start_time": "2022-09-02T16:48:32.472Z"
   },
   {
    "duration": 24,
    "start_time": "2022-09-02T16:48:35.644Z"
   },
   {
    "duration": 425,
    "start_time": "2022-09-02T16:48:39.944Z"
   },
   {
    "duration": 152,
    "start_time": "2022-09-02T16:48:40.371Z"
   },
   {
    "duration": 2035,
    "start_time": "2022-09-02T16:48:40.527Z"
   },
   {
    "duration": 1872,
    "start_time": "2022-09-02T16:48:42.563Z"
   },
   {
    "duration": 8,
    "start_time": "2022-09-02T16:48:44.437Z"
   },
   {
    "duration": 13,
    "start_time": "2022-09-02T16:48:44.447Z"
   },
   {
    "duration": 8,
    "start_time": "2022-09-02T16:48:44.462Z"
   },
   {
    "duration": 158,
    "start_time": "2022-09-02T16:48:44.471Z"
   },
   {
    "duration": 57,
    "start_time": "2022-09-02T16:48:44.631Z"
   },
   {
    "duration": 21,
    "start_time": "2022-09-02T16:48:44.690Z"
   },
   {
    "duration": 11,
    "start_time": "2022-09-02T16:48:44.713Z"
   },
   {
    "duration": 18,
    "start_time": "2022-09-02T16:48:44.725Z"
   },
   {
    "duration": 9,
    "start_time": "2022-09-02T16:48:44.746Z"
   },
   {
    "duration": 16,
    "start_time": "2022-09-02T16:48:44.757Z"
   },
   {
    "duration": 39,
    "start_time": "2022-09-02T16:48:44.774Z"
   },
   {
    "duration": 30,
    "start_time": "2022-09-02T16:48:44.815Z"
   },
   {
    "duration": 7,
    "start_time": "2022-09-02T16:48:44.847Z"
   },
   {
    "duration": 239,
    "start_time": "2022-09-02T16:48:44.855Z"
   },
   {
    "duration": 6,
    "start_time": "2022-09-02T16:48:45.096Z"
   },
   {
    "duration": 24,
    "start_time": "2022-09-02T16:48:45.103Z"
   },
   {
    "duration": 7,
    "start_time": "2022-09-02T16:48:45.128Z"
   },
   {
    "duration": 17,
    "start_time": "2022-09-02T16:48:45.136Z"
   },
   {
    "duration": 18,
    "start_time": "2022-09-02T16:48:45.154Z"
   },
   {
    "duration": 41,
    "start_time": "2022-09-02T16:48:45.174Z"
   },
   {
    "duration": 13,
    "start_time": "2022-09-02T16:48:45.217Z"
   },
   {
    "duration": 252,
    "start_time": "2022-09-02T16:48:45.232Z"
   },
   {
    "duration": 44,
    "start_time": "2022-09-02T16:48:45.488Z"
   },
   {
    "duration": 184,
    "start_time": "2022-09-02T16:48:45.533Z"
   },
   {
    "duration": 211,
    "start_time": "2022-09-02T16:48:45.719Z"
   },
   {
    "duration": 398,
    "start_time": "2022-09-02T16:48:45.932Z"
   },
   {
    "duration": 243,
    "start_time": "2022-09-02T16:48:46.332Z"
   },
   {
    "duration": 244,
    "start_time": "2022-09-02T16:48:46.577Z"
   },
   {
    "duration": 176,
    "start_time": "2022-09-02T16:48:46.823Z"
   },
   {
    "duration": 278,
    "start_time": "2022-09-02T16:48:47.001Z"
   },
   {
    "duration": 233,
    "start_time": "2022-09-02T16:48:47.282Z"
   },
   {
    "duration": 139,
    "start_time": "2022-09-02T16:48:47.517Z"
   },
   {
    "duration": 339,
    "start_time": "2022-09-02T16:48:47.658Z"
   },
   {
    "duration": 253,
    "start_time": "2022-09-02T16:48:47.998Z"
   },
   {
    "duration": 240,
    "start_time": "2022-09-02T16:48:48.253Z"
   },
   {
    "duration": 272,
    "start_time": "2022-09-02T16:48:48.494Z"
   },
   {
    "duration": 165,
    "start_time": "2022-09-02T16:48:48.767Z"
   },
   {
    "duration": 234,
    "start_time": "2022-09-02T16:48:48.933Z"
   },
   {
    "duration": 13,
    "start_time": "2022-09-02T16:48:49.169Z"
   },
   {
    "duration": 27,
    "start_time": "2022-09-02T16:48:49.183Z"
   },
   {
    "duration": 542,
    "start_time": "2022-09-02T16:48:49.212Z"
   },
   {
    "duration": 143,
    "start_time": "2022-09-02T16:48:49.756Z"
   },
   {
    "duration": 18,
    "start_time": "2022-09-02T16:48:49.900Z"
   },
   {
    "duration": 184,
    "start_time": "2022-09-02T16:48:49.919Z"
   },
   {
    "duration": 9,
    "start_time": "2022-09-02T16:48:50.108Z"
   },
   {
    "duration": 457,
    "start_time": "2022-09-02T16:48:50.119Z"
   },
   {
    "duration": 9,
    "start_time": "2022-09-02T16:48:50.578Z"
   },
   {
    "duration": 267,
    "start_time": "2022-09-02T16:48:50.588Z"
   },
   {
    "duration": 9,
    "start_time": "2022-09-02T16:48:50.857Z"
   },
   {
    "duration": 442,
    "start_time": "2022-09-02T16:48:50.867Z"
   },
   {
    "duration": 13,
    "start_time": "2022-09-02T16:48:51.311Z"
   },
   {
    "duration": 162,
    "start_time": "2022-09-02T16:48:51.326Z"
   },
   {
    "duration": 21,
    "start_time": "2022-09-02T16:48:51.490Z"
   },
   {
    "duration": 137,
    "start_time": "2022-09-02T16:48:51.512Z"
   },
   {
    "duration": 31,
    "start_time": "2022-09-02T16:48:51.651Z"
   },
   {
    "duration": 476,
    "start_time": "2022-09-02T16:48:51.686Z"
   },
   {
    "duration": 216,
    "start_time": "2022-09-02T16:48:52.163Z"
   },
   {
    "duration": 48,
    "start_time": "2022-09-02T16:48:52.381Z"
   },
   {
    "duration": 21,
    "start_time": "2022-09-02T16:48:52.430Z"
   },
   {
    "duration": 21,
    "start_time": "2022-09-02T16:48:52.452Z"
   },
   {
    "duration": 345,
    "start_time": "2022-09-02T16:48:52.475Z"
   },
   {
    "duration": 375,
    "start_time": "2022-09-02T16:49:36.298Z"
   },
   {
    "duration": 408,
    "start_time": "2022-09-02T18:11:45.026Z"
   },
   {
    "duration": 129,
    "start_time": "2022-09-02T18:11:45.436Z"
   },
   {
    "duration": 1918,
    "start_time": "2022-09-02T18:11:45.567Z"
   },
   {
    "duration": 1683,
    "start_time": "2022-09-02T18:11:47.486Z"
   },
   {
    "duration": 7,
    "start_time": "2022-09-02T18:11:49.171Z"
   },
   {
    "duration": 25,
    "start_time": "2022-09-02T18:11:49.180Z"
   },
   {
    "duration": 12,
    "start_time": "2022-09-02T18:11:49.207Z"
   },
   {
    "duration": 13,
    "start_time": "2022-09-02T18:11:49.221Z"
   },
   {
    "duration": 7,
    "start_time": "2022-09-02T18:11:49.236Z"
   },
   {
    "duration": 18,
    "start_time": "2022-09-02T18:11:49.245Z"
   },
   {
    "duration": 35,
    "start_time": "2022-09-02T18:11:49.264Z"
   },
   {
    "duration": 12,
    "start_time": "2022-09-02T18:11:49.301Z"
   },
   {
    "duration": 12,
    "start_time": "2022-09-02T18:11:49.314Z"
   },
   {
    "duration": 14,
    "start_time": "2022-09-02T18:11:49.329Z"
   },
   {
    "duration": 13,
    "start_time": "2022-09-02T18:11:49.345Z"
   },
   {
    "duration": 62,
    "start_time": "2022-09-02T18:11:49.360Z"
   },
   {
    "duration": 4,
    "start_time": "2022-09-02T18:11:49.423Z"
   },
   {
    "duration": 242,
    "start_time": "2022-09-02T18:11:49.428Z"
   },
   {
    "duration": 6,
    "start_time": "2022-09-02T18:11:49.672Z"
   },
   {
    "duration": 24,
    "start_time": "2022-09-02T18:11:49.680Z"
   },
   {
    "duration": 6,
    "start_time": "2022-09-02T18:11:49.706Z"
   },
   {
    "duration": 14,
    "start_time": "2022-09-02T18:11:49.714Z"
   },
   {
    "duration": 18,
    "start_time": "2022-09-02T18:11:49.730Z"
   },
   {
    "duration": 48,
    "start_time": "2022-09-02T18:11:49.750Z"
   },
   {
    "duration": 11,
    "start_time": "2022-09-02T18:11:49.800Z"
   },
   {
    "duration": 276,
    "start_time": "2022-09-02T18:11:49.812Z"
   },
   {
    "duration": 39,
    "start_time": "2022-09-02T18:11:50.090Z"
   },
   {
    "duration": 170,
    "start_time": "2022-09-02T18:11:50.130Z"
   },
   {
    "duration": 186,
    "start_time": "2022-09-02T18:11:50.302Z"
   },
   {
    "duration": 357,
    "start_time": "2022-09-02T18:11:50.489Z"
   },
   {
    "duration": 252,
    "start_time": "2022-09-02T18:11:50.848Z"
   },
   {
    "duration": 228,
    "start_time": "2022-09-02T18:11:51.102Z"
   },
   {
    "duration": 151,
    "start_time": "2022-09-02T18:11:51.331Z"
   },
   {
    "duration": 240,
    "start_time": "2022-09-02T18:11:51.484Z"
   },
   {
    "duration": 191,
    "start_time": "2022-09-02T18:11:51.726Z"
   },
   {
    "duration": 121,
    "start_time": "2022-09-02T18:11:51.919Z"
   },
   {
    "duration": 293,
    "start_time": "2022-09-02T18:11:52.042Z"
   },
   {
    "duration": 225,
    "start_time": "2022-09-02T18:11:52.336Z"
   },
   {
    "duration": 208,
    "start_time": "2022-09-02T18:11:52.563Z"
   },
   {
    "duration": 243,
    "start_time": "2022-09-02T18:11:52.772Z"
   },
   {
    "duration": 163,
    "start_time": "2022-09-02T18:11:53.020Z"
   },
   {
    "duration": 223,
    "start_time": "2022-09-02T18:11:53.185Z"
   },
   {
    "duration": 12,
    "start_time": "2022-09-02T18:11:53.409Z"
   },
   {
    "duration": 8,
    "start_time": "2022-09-02T18:11:53.422Z"
   },
   {
    "duration": 548,
    "start_time": "2022-09-02T18:11:53.432Z"
   },
   {
    "duration": 149,
    "start_time": "2022-09-02T18:11:53.982Z"
   },
   {
    "duration": 11,
    "start_time": "2022-09-02T18:11:54.133Z"
   },
   {
    "duration": 192,
    "start_time": "2022-09-02T18:11:54.145Z"
   },
   {
    "duration": 10,
    "start_time": "2022-09-02T18:11:54.338Z"
   },
   {
    "duration": 527,
    "start_time": "2022-09-02T18:11:54.349Z"
   },
   {
    "duration": 9,
    "start_time": "2022-09-02T18:11:54.877Z"
   },
   {
    "duration": 259,
    "start_time": "2022-09-02T18:11:54.898Z"
   },
   {
    "duration": 12,
    "start_time": "2022-09-02T18:11:55.159Z"
   },
   {
    "duration": 477,
    "start_time": "2022-09-02T18:11:55.173Z"
   },
   {
    "duration": 11,
    "start_time": "2022-09-02T18:11:55.652Z"
   },
   {
    "duration": 163,
    "start_time": "2022-09-02T18:11:55.664Z"
   },
   {
    "duration": 13,
    "start_time": "2022-09-02T18:11:55.828Z"
   },
   {
    "duration": 169,
    "start_time": "2022-09-02T18:11:55.842Z"
   },
   {
    "duration": 33,
    "start_time": "2022-09-02T18:11:56.014Z"
   },
   {
    "duration": 487,
    "start_time": "2022-09-02T18:11:56.049Z"
   },
   {
    "duration": 216,
    "start_time": "2022-09-02T18:11:56.538Z"
   },
   {
    "duration": 56,
    "start_time": "2022-09-02T18:11:56.756Z"
   },
   {
    "duration": 24,
    "start_time": "2022-09-02T18:11:56.813Z"
   },
   {
    "duration": 24,
    "start_time": "2022-09-02T18:11:56.838Z"
   },
   {
    "duration": 356,
    "start_time": "2022-09-02T18:11:56.864Z"
   },
   {
    "duration": 49,
    "start_time": "2022-09-02T18:52:10.597Z"
   },
   {
    "duration": 2,
    "start_time": "2022-09-02T18:52:33.097Z"
   },
   {
    "duration": 452,
    "start_time": "2022-09-02T18:53:18.712Z"
   },
   {
    "duration": 365,
    "start_time": "2022-09-02T18:53:19.166Z"
   },
   {
    "duration": 2485,
    "start_time": "2022-09-02T18:53:19.532Z"
   },
   {
    "duration": 2044,
    "start_time": "2022-09-02T18:53:22.021Z"
   },
   {
    "duration": 11,
    "start_time": "2022-09-02T18:53:24.067Z"
   },
   {
    "duration": 30,
    "start_time": "2022-09-02T18:53:24.080Z"
   },
   {
    "duration": 15,
    "start_time": "2022-09-02T18:53:24.112Z"
   },
   {
    "duration": 19,
    "start_time": "2022-09-02T18:53:24.129Z"
   },
   {
    "duration": 31,
    "start_time": "2022-09-02T18:53:24.150Z"
   },
   {
    "duration": 51,
    "start_time": "2022-09-02T18:53:24.185Z"
   },
   {
    "duration": 28,
    "start_time": "2022-09-02T18:53:24.238Z"
   },
   {
    "duration": 24,
    "start_time": "2022-09-02T18:53:24.268Z"
   },
   {
    "duration": 19,
    "start_time": "2022-09-02T18:53:24.294Z"
   },
   {
    "duration": 31,
    "start_time": "2022-09-02T18:53:24.315Z"
   },
   {
    "duration": 16,
    "start_time": "2022-09-02T18:53:24.348Z"
   },
   {
    "duration": 41,
    "start_time": "2022-09-02T18:53:24.366Z"
   },
   {
    "duration": 4,
    "start_time": "2022-09-02T18:53:24.410Z"
   },
   {
    "duration": 262,
    "start_time": "2022-09-02T18:53:24.415Z"
   },
   {
    "duration": 6,
    "start_time": "2022-09-02T18:53:24.679Z"
   },
   {
    "duration": 33,
    "start_time": "2022-09-02T18:53:24.687Z"
   },
   {
    "duration": 20,
    "start_time": "2022-09-02T18:53:24.722Z"
   },
   {
    "duration": 17,
    "start_time": "2022-09-02T18:53:24.743Z"
   },
   {
    "duration": 33,
    "start_time": "2022-09-02T18:53:24.762Z"
   },
   {
    "duration": 44,
    "start_time": "2022-09-02T18:53:24.797Z"
   },
   {
    "duration": 31,
    "start_time": "2022-09-02T18:53:24.843Z"
   },
   {
    "duration": 290,
    "start_time": "2022-09-02T18:53:24.875Z"
   },
   {
    "duration": 43,
    "start_time": "2022-09-02T18:53:25.167Z"
   },
   {
    "duration": 202,
    "start_time": "2022-09-02T18:53:25.214Z"
   },
   {
    "duration": 303,
    "start_time": "2022-09-02T18:53:25.417Z"
   },
   {
    "duration": 304,
    "start_time": "2022-09-02T18:53:25.721Z"
   },
   {
    "duration": 288,
    "start_time": "2022-09-02T18:53:26.027Z"
   },
   {
    "duration": 290,
    "start_time": "2022-09-02T18:53:26.317Z"
   },
   {
    "duration": 176,
    "start_time": "2022-09-02T18:53:26.609Z"
   },
   {
    "duration": 276,
    "start_time": "2022-09-02T18:53:26.787Z"
   },
   {
    "duration": 217,
    "start_time": "2022-09-02T18:53:27.064Z"
   },
   {
    "duration": 226,
    "start_time": "2022-09-02T18:53:27.284Z"
   },
   {
    "duration": 285,
    "start_time": "2022-09-02T18:53:27.512Z"
   },
   {
    "duration": 281,
    "start_time": "2022-09-02T18:53:27.799Z"
   },
   {
    "duration": 258,
    "start_time": "2022-09-02T18:53:28.082Z"
   },
   {
    "duration": 296,
    "start_time": "2022-09-02T18:53:28.342Z"
   },
   {
    "duration": 190,
    "start_time": "2022-09-02T18:53:28.640Z"
   },
   {
    "duration": 429,
    "start_time": "2022-09-02T18:53:28.832Z"
   },
   {
    "duration": 13,
    "start_time": "2022-09-02T18:53:29.264Z"
   },
   {
    "duration": 26,
    "start_time": "2022-09-02T18:53:29.279Z"
   },
   {
    "duration": 452,
    "start_time": "2022-09-02T18:53:29.306Z"
   },
   {
    "duration": 160,
    "start_time": "2022-09-02T18:53:29.760Z"
   },
   {
    "duration": 106,
    "start_time": "2022-09-02T18:53:29.921Z"
   },
   {
    "duration": 0,
    "start_time": "2022-09-02T18:53:30.028Z"
   },
   {
    "duration": 0,
    "start_time": "2022-09-02T18:53:30.029Z"
   },
   {
    "duration": 0,
    "start_time": "2022-09-02T18:53:30.031Z"
   },
   {
    "duration": 0,
    "start_time": "2022-09-02T18:53:30.032Z"
   },
   {
    "duration": 0,
    "start_time": "2022-09-02T18:53:30.033Z"
   },
   {
    "duration": 0,
    "start_time": "2022-09-02T18:53:30.034Z"
   },
   {
    "duration": 0,
    "start_time": "2022-09-02T18:53:30.035Z"
   },
   {
    "duration": 0,
    "start_time": "2022-09-02T18:53:30.036Z"
   },
   {
    "duration": 0,
    "start_time": "2022-09-02T18:53:30.038Z"
   },
   {
    "duration": 0,
    "start_time": "2022-09-02T18:53:30.039Z"
   },
   {
    "duration": 0,
    "start_time": "2022-09-02T18:53:30.040Z"
   },
   {
    "duration": 0,
    "start_time": "2022-09-02T18:53:30.041Z"
   },
   {
    "duration": 0,
    "start_time": "2022-09-02T18:53:30.042Z"
   },
   {
    "duration": 0,
    "start_time": "2022-09-02T18:53:30.043Z"
   },
   {
    "duration": 0,
    "start_time": "2022-09-02T18:53:30.044Z"
   },
   {
    "duration": 0,
    "start_time": "2022-09-02T18:53:30.045Z"
   },
   {
    "duration": 1,
    "start_time": "2022-09-02T18:53:30.046Z"
   },
   {
    "duration": 0,
    "start_time": "2022-09-02T18:53:30.048Z"
   },
   {
    "duration": 11,
    "start_time": "2022-09-02T18:56:33.540Z"
   },
   {
    "duration": 13,
    "start_time": "2022-09-02T18:56:40.810Z"
   },
   {
    "duration": 10,
    "start_time": "2022-09-02T18:56:44.002Z"
   },
   {
    "duration": 563,
    "start_time": "2022-09-02T18:56:46.366Z"
   },
   {
    "duration": 16,
    "start_time": "2022-09-02T18:57:28.517Z"
   },
   {
    "duration": 15,
    "start_time": "2022-09-02T18:57:31.861Z"
   },
   {
    "duration": 224,
    "start_time": "2022-09-02T18:57:34.595Z"
   },
   {
    "duration": 43,
    "start_time": "2022-09-02T18:57:37.438Z"
   },
   {
    "duration": 499,
    "start_time": "2022-09-02T18:57:40.566Z"
   },
   {
    "duration": 245,
    "start_time": "2022-09-02T18:57:44.240Z"
   },
   {
    "duration": 46,
    "start_time": "2022-09-02T18:57:46.898Z"
   },
   {
    "duration": 423,
    "start_time": "2022-09-02T19:00:19.001Z"
   },
   {
    "duration": 142,
    "start_time": "2022-09-02T19:00:19.426Z"
   },
   {
    "duration": 2335,
    "start_time": "2022-09-02T19:00:19.570Z"
   },
   {
    "duration": 2079,
    "start_time": "2022-09-02T19:00:21.908Z"
   },
   {
    "duration": 16,
    "start_time": "2022-09-02T19:00:23.988Z"
   },
   {
    "duration": 17,
    "start_time": "2022-09-02T19:00:24.005Z"
   },
   {
    "duration": 8,
    "start_time": "2022-09-02T19:00:24.024Z"
   },
   {
    "duration": 14,
    "start_time": "2022-09-02T19:00:24.034Z"
   },
   {
    "duration": 9,
    "start_time": "2022-09-02T19:00:24.049Z"
   },
   {
    "duration": 48,
    "start_time": "2022-09-02T19:00:24.061Z"
   },
   {
    "duration": 12,
    "start_time": "2022-09-02T19:00:24.111Z"
   },
   {
    "duration": 19,
    "start_time": "2022-09-02T19:00:24.124Z"
   },
   {
    "duration": 17,
    "start_time": "2022-09-02T19:00:24.145Z"
   },
   {
    "duration": 20,
    "start_time": "2022-09-02T19:00:24.164Z"
   },
   {
    "duration": 32,
    "start_time": "2022-09-02T19:00:24.186Z"
   },
   {
    "duration": 34,
    "start_time": "2022-09-02T19:00:24.220Z"
   },
   {
    "duration": 4,
    "start_time": "2022-09-02T19:00:24.256Z"
   },
   {
    "duration": 274,
    "start_time": "2022-09-02T19:00:24.262Z"
   },
   {
    "duration": 6,
    "start_time": "2022-09-02T19:00:24.538Z"
   },
   {
    "duration": 14,
    "start_time": "2022-09-02T19:00:24.545Z"
   },
   {
    "duration": 11,
    "start_time": "2022-09-02T19:00:24.561Z"
   },
   {
    "duration": 37,
    "start_time": "2022-09-02T19:00:24.574Z"
   },
   {
    "duration": 19,
    "start_time": "2022-09-02T19:00:24.613Z"
   },
   {
    "duration": 16,
    "start_time": "2022-09-02T19:00:24.634Z"
   },
   {
    "duration": 15,
    "start_time": "2022-09-02T19:00:24.651Z"
   },
   {
    "duration": 308,
    "start_time": "2022-09-02T19:00:24.668Z"
   },
   {
    "duration": 51,
    "start_time": "2022-09-02T19:00:24.978Z"
   },
   {
    "duration": 215,
    "start_time": "2022-09-02T19:00:25.032Z"
   },
   {
    "duration": 227,
    "start_time": "2022-09-02T19:00:25.249Z"
   },
   {
    "duration": 401,
    "start_time": "2022-09-02T19:00:25.477Z"
   },
   {
    "duration": 288,
    "start_time": "2022-09-02T19:00:25.879Z"
   },
   {
    "duration": 300,
    "start_time": "2022-09-02T19:00:26.169Z"
   },
   {
    "duration": 186,
    "start_time": "2022-09-02T19:00:26.471Z"
   },
   {
    "duration": 282,
    "start_time": "2022-09-02T19:00:26.659Z"
   },
   {
    "duration": 209,
    "start_time": "2022-09-02T19:00:26.942Z"
   },
   {
    "duration": 131,
    "start_time": "2022-09-02T19:00:27.154Z"
   },
   {
    "duration": 402,
    "start_time": "2022-09-02T19:00:27.287Z"
   },
   {
    "duration": 286,
    "start_time": "2022-09-02T19:00:27.691Z"
   },
   {
    "duration": 275,
    "start_time": "2022-09-02T19:00:27.979Z"
   },
   {
    "duration": 352,
    "start_time": "2022-09-02T19:00:28.256Z"
   },
   {
    "duration": 204,
    "start_time": "2022-09-02T19:00:28.610Z"
   },
   {
    "duration": 363,
    "start_time": "2022-09-02T19:00:28.816Z"
   },
   {
    "duration": 22,
    "start_time": "2022-09-02T19:00:29.181Z"
   },
   {
    "duration": 11,
    "start_time": "2022-09-02T19:00:29.204Z"
   },
   {
    "duration": 536,
    "start_time": "2022-09-02T19:00:29.216Z"
   },
   {
    "duration": 163,
    "start_time": "2022-09-02T19:00:29.754Z"
   },
   {
    "duration": 11,
    "start_time": "2022-09-02T19:00:29.919Z"
   },
   {
    "duration": 2,
    "start_time": "2022-09-02T19:00:29.932Z"
   },
   {
    "duration": 12,
    "start_time": "2022-09-02T19:00:29.936Z"
   },
   {
    "duration": 504,
    "start_time": "2022-09-02T19:00:29.949Z"
   },
   {
    "duration": 10,
    "start_time": "2022-09-02T19:00:30.454Z"
   },
   {
    "duration": 225,
    "start_time": "2022-09-02T19:00:30.466Z"
   },
   {
    "duration": 17,
    "start_time": "2022-09-02T19:00:30.692Z"
   },
   {
    "duration": 599,
    "start_time": "2022-09-02T19:00:30.710Z"
   },
   {
    "duration": 16,
    "start_time": "2022-09-02T19:00:31.311Z"
   },
   {
    "duration": 201,
    "start_time": "2022-09-02T19:00:31.329Z"
   },
   {
    "duration": 16,
    "start_time": "2022-09-02T19:00:31.531Z"
   },
   {
    "duration": 151,
    "start_time": "2022-09-02T19:00:31.548Z"
   },
   {
    "duration": 35,
    "start_time": "2022-09-02T19:00:31.701Z"
   },
   {
    "duration": 538,
    "start_time": "2022-09-02T19:00:31.738Z"
   },
   {
    "duration": 264,
    "start_time": "2022-09-02T19:00:32.278Z"
   },
   {
    "duration": 46,
    "start_time": "2022-09-02T19:00:32.544Z"
   },
   {
    "duration": 23,
    "start_time": "2022-09-02T19:00:32.602Z"
   },
   {
    "duration": 36,
    "start_time": "2022-09-02T19:00:32.627Z"
   },
   {
    "duration": 370,
    "start_time": "2022-09-02T19:00:32.665Z"
   },
   {
    "duration": 3,
    "start_time": "2022-09-02T19:02:12.485Z"
   }
  ],
  "kernelspec": {
   "display_name": "Python 3 (ipykernel)",
   "language": "python",
   "name": "python3"
  },
  "language_info": {
   "codemirror_mode": {
    "name": "ipython",
    "version": 3
   },
   "file_extension": ".py",
   "mimetype": "text/x-python",
   "name": "python",
   "nbconvert_exporter": "python",
   "pygments_lexer": "ipython3",
   "version": "3.9.12"
  },
  "toc": {
   "base_numbering": 1,
   "nav_menu": {},
   "number_sections": true,
   "sideBar": true,
   "skip_h1_title": true,
   "title_cell": "Table of Contents",
   "title_sidebar": "Contents",
   "toc_cell": false,
   "toc_position": {
    "height": "calc(100% - 180px)",
    "left": "10px",
    "top": "150px",
    "width": "265.188px"
   },
   "toc_section_display": true,
   "toc_window_display": true
  }
 },
 "nbformat": 4,
 "nbformat_minor": 2
}
